{
 "cells": [
  {
   "cell_type": "code",
   "execution_count": 2,
   "metadata": {},
   "outputs": [
    {
     "name": "stdout",
     "output_type": "stream",
     "text": [
      "enter a value23\n",
      "enter b value45\n",
      "False\n",
      "True\n",
      "b is big\n",
      "thankyou use me again\n"
     ]
    }
   ],
   "source": [
    "a = raw_input(\"enter a value\")\n",
    "b = raw_input(\"enter b value\")\n",
    "print \"a>b\",a>b\n",
    "print \"b>a\",b>a\n",
    "if a>b:\n",
    "    print \"a is big\"\n",
    "if b>a:\n",
    "    print \"b is big\"\n",
    "print \"thankyou use me again\""
   ]
  },
  {
   "cell_type": "code",
   "execution_count": 7,
   "metadata": {},
   "outputs": [
    {
     "name": "stdout",
     "output_type": "stream",
     "text": [
      "enter your age11\n",
      "sorry! you are not eligible for voting in INDIA\n",
      "thank you!\n"
     ]
    }
   ],
   "source": [
    "#take an age from the user and check whether user is eligible do vote or not\n",
    "a = input(\"enter your age\")\n",
    "if a >= 18:\n",
    "    print \"yes, you are eligible to do vote in INDIA\"\n",
    "if a < 18:\n",
    "    print \"sorry! you are not eligible for voting in INDIA\"\n",
    "    \n",
    "print \"thank you!\"\n"
   ]
  },
  {
   "cell_type": "code",
   "execution_count": 9,
   "metadata": {},
   "outputs": [
    {
     "name": "stdout",
     "output_type": "stream",
     "text": [
      "enter your age11\n",
      "sorry! you are not eligible for voting in INDIA\n",
      "thank you!\n"
     ]
    }
   ],
   "source": [
    "#take an age from the user and check whether user is eligible do vote or not\n",
    "a = raw_input(\"enter your age\")\n",
    "if int(a) >= 18:\n",
    "    print \"yes, you are eligible to do vote in INDIA\"\n",
    "if int(a) < 18:\n",
    "    print \"sorry! you are not eligible for voting in INDIA\"\n",
    "    \n",
    "print \"thank you!\"\n"
   ]
  },
  {
   "cell_type": "markdown",
   "metadata": {},
   "source": [
    "# using if else\n",
    "\n"
   ]
  },
  {
   "cell_type": "code",
   "execution_count": 10,
   "metadata": {},
   "outputs": [
    {
     "name": "stdout",
     "output_type": "stream",
     "text": [
      "enter your age45\n",
      "yes, you are eligible to do vote in INDIA\n",
      "thank you!\n"
     ]
    }
   ],
   "source": [
    "#take an age from the user and check whether user is eligible do vote or not\n",
    "a = input(\"enter your age\")age\n",
    "if a >= 18:\n",
    "    print \"yes, you are eligible to do vote in INDIA\"\n",
    "else:\n",
    "    print \"sorry! you are not eligible for voting in INDIA\"\n",
    "    \n",
    "print \"thank you!\"\n"
   ]
  },
  {
   "cell_type": "markdown",
   "metadata": {},
   "source": [
    "## string is always greater than integer\n"
   ]
  },
  {
   "cell_type": "code",
   "execution_count": 11,
   "metadata": {},
   "outputs": [
    {
     "data": {
      "text/plain": [
       "True"
      ]
     },
     "execution_count": 11,
     "metadata": {},
     "output_type": "execute_result"
    }
   ],
   "source": [
    "\"12\" > 12222222222222222245"
   ]
  },
  {
   "cell_type": "code",
   "execution_count": 12,
   "metadata": {},
   "outputs": [],
   "source": [
    "#you are running an marriage bureau site basis on the age give that user is eligible for marriage or not"
   ]
  },
  {
   "cell_type": "code",
   "execution_count": 35,
   "metadata": {},
   "outputs": [
    {
     "name": "stdout",
     "output_type": "stream",
     "text": [
      "enter your age34\n",
      "enter your gender M/FF\n",
      "fine you are eligible for marriage!\n",
      "happy! marriage life\n"
     ]
    }
   ],
   "source": [
    "age = input(\"enter your age\")\n",
    "gender = raw_input(\"enter your gender M/F\")\n",
    "if gender == 'M' and age >= 22:\n",
    "    print(\"fine! you are eligible for marriage\")\n",
    "else:\n",
    "    if age >= 18:\n",
    "        print \"fine you are eligible for marriage!\"\n",
    "print \"happy! marriage life\""
   ]
  },
  {
   "cell_type": "code",
   "execution_count": 14,
   "metadata": {},
   "outputs": [
    {
     "name": "stdout",
     "output_type": "stream",
     "text": [
      "enter 1st no12\n",
      "enter 2nd no13\n",
      "enter 3rd no14\n",
      "c is greater of 3nos\n"
     ]
    }
   ],
   "source": [
    "# a,b,c take 3 input from user and check wheteher which  no is greater of all.\n",
    "\n",
    "a = input(\"enter 1st no\")\n",
    "b = input(\"enter 2nd no\")\n",
    "c = input(\"enter 3rd no\")\n",
    "if a>b:\n",
    "    if a>c:\n",
    "        print \"a is greater of 3nos\"\n",
    "    else:\n",
    "        print \"c is greater of 3nos\"\n",
    "else:\n",
    "    if b>c:\n",
    "        print \"b is greater of 3nos\"\n",
    "    else:\n",
    "        print \"c is greater of 3nos\"\n"
   ]
  },
  {
   "cell_type": "code",
   "execution_count": 23,
   "metadata": {},
   "outputs": [
    {
     "name": "stdout",
     "output_type": "stream",
     "text": [
      "enter 1st no23\n",
      "enter 2nd no45\n",
      "enter 3rd no67\n",
      "c is big\n",
      "thank you!\n"
     ]
    }
   ],
   "source": [
    "#without using nested if else\n",
    "#==================================================================================================\n",
    "a = raw_input(\"enter 1st no\")\n",
    "b = raw_input(\"enter 2nd no\")\n",
    "c = raw_input(\"enter 3rd no\")\n",
    "a = int(a)\n",
    "b = int(b)\n",
    "c = int(c)\n",
    "if a>b and a>c:\n",
    "    print \"a is greater\"\n",
    "\n",
    "if b>a and b>c:\n",
    "    print \"b is big\"\n",
    "\n",
    "if c>a and c>b:\n",
    "    print \"c is big\"\n",
    "print \"thank you!\"\n"
   ]
  },
  {
   "cell_type": "code",
   "execution_count": 24,
   "metadata": {},
   "outputs": [
    {
     "name": "stdout",
     "output_type": "stream",
     "text": [
      "enter 1st no11\n",
      "enter 2nd no11\n",
      "enter 3rd no11\n",
      "all three nos are equal\n",
      "thank you!\n"
     ]
    }
   ],
   "source": [
    "# using elif else\n",
    "#==================================================================================================\n",
    "a = raw_input(\"enter 1st no\")\n",
    "b = raw_input(\"enter 2nd no\")\n",
    "c = raw_input(\"enter 3rd no\")\n",
    "a = int(a)\n",
    "b = int(b)\n",
    "c = int(c)\n",
    "if a>b and a>c:\n",
    "    print \"a is greater\"\n",
    "\n",
    "elif b>a and b>c:\n",
    "    print \"b is big\"\n",
    "\n",
    "elif c>a and c>b:\n",
    "    print \"c is big\"\n",
    "else:\n",
    "    print \"all three nos are equal\"\n",
    "\n",
    "print \"thank you!\"\n"
   ]
  },
  {
   "cell_type": "code",
   "execution_count": null,
   "metadata": {},
   "outputs": [],
   "source": [
    "#question\n",
    "age = input(\"enter your age\")\n",
    "\n",
    "if "
   ]
  },
  {
   "cell_type": "code",
   "execution_count": 33,
   "metadata": {},
   "outputs": [
    {
     "name": "stdout",
     "output_type": "stream",
     "text": [
      " operating systems:\n",
      "\t1.windows\n",
      "\t2.android\n",
      "\t3.mac\n",
      "enter your option as 1/2/3:2\n",
      "go to second floor and buy android mobiles \n",
      "thankyou! for visiting\n"
     ]
    }
   ],
   "source": [
    "#using elif\n",
    "\n",
    "print \" operating systems:\\n\\t1.windows\\n\\t2.android\\n\\t3.mac\"\n",
    "option = input(\"enter your option as 1/2/3:\")\n",
    "if option == 1:\n",
    "    print \"go to first floor and buy windows laptop or mobile \"\n",
    "elif option == 2:\n",
    "    print \"go to second floor and buy android mobiles \"\n",
    "elif option == 3:\n",
    "    print \"go to third floor and buy iphones ipods or mac \"\n",
    "else:\n",
    "    print \"there is only three floors,please select 1,2,3 only\"\n",
    "print \"thankyou! for visiting\"\n",
    "\n",
    "               "
   ]
  },
  {
   "cell_type": "code",
   "execution_count": 3,
   "metadata": {},
   "outputs": [
    {
     "name": "stdout",
     "output_type": "stream",
     "text": [
      " operating systems:\n",
      "\t1.windows\n",
      "\t2.android\n",
      "\t3.mac\n",
      "enter your option as 1/2/3:-1\n",
      "there is only three floors,please select 1,2,3 only\n",
      "thankyou! for visiting\n"
     ]
    }
   ],
   "source": [
    "# using only if condition:\n",
    "print \" operating systems:\\n\\t1.windows\\n\\t2.android\\n\\t3.mac\"\n",
    "option = raw_input(\"enter your option as 1/2/3:\")\n",
    "if option == '1':\n",
    "    print \"go to first floor and buy windows laptop or mobile \"\n",
    "elif option == '2':\n",
    "    print \"go to second floor and buy android mobiles \"\n",
    "elif option == '3':\n",
    "    print \"go to third floor and buy iphones ipods or mac \"\n",
    "else:\n",
    "    print \"there is only three floors,please select 1,2,3 only\"\n",
    "print \"thankyou! for visiting\"\n",
    "\n"
   ]
  },
  {
   "cell_type": "code",
   "execution_count": 7,
   "metadata": {},
   "outputs": [
    {
     "name": "stdout",
     "output_type": "stream",
     "text": [
      " operating systems:\n",
      "\t1.windows\n",
      "\t2.android\n",
      "\t3.mac\n",
      "enter your option as 1/2/3:4\n",
      "there is only three floors,please select 1,2,3 only\n",
      "thankyou! for visiting\n"
     ]
    }
   ],
   "source": [
    "# using only if condition:\n",
    "print \" operating systems:\\n\\t1.windows\\n\\t2.android\\n\\t3.mac\"\n",
    "option = int(raw_input(\"enter your option as 1/2/3:\"))\n",
    "if option == '1':\n",
    "    print \"go to first floor and buy windows laptop or mobile \"\n",
    "if option == '2':\n",
    "    print \"go to second floor and buy android mobiles \"\n",
    "if option == '3':\n",
    "    print \"go to third floor and buy iphones ipods or mac \"\n",
    "if option >3 or option <1:\n",
    "    print \"there is only three floors,please select 1,2,3 only\"\n",
    "print \"thankyou! for visiting\"\n",
    "\n"
   ]
  },
  {
   "cell_type": "markdown",
   "metadata": {},
   "source": [
    "## using only if condition makes our code time taking so we avoid using if codition and start using if elif which is less time taking and we use it for good coding"
   ]
  },
  {
   "cell_type": "code",
   "execution_count": 10,
   "metadata": {},
   "outputs": [
    {
     "name": "stdout",
     "output_type": "stream",
     "text": [
      " operating systems:\n",
      "\t1.windows\n",
      "\t2.android\n",
      "\t3.mac\n",
      "enter your option as 1/2/3:4\n",
      "4\n",
      "there is only three floors,please select 1,2,3 only\n",
      "thankyou! for visiting\n"
     ]
    }
   ],
   "source": [
    "# using  if elif  condition:\n",
    "print \" operating systems:\\n\\t1.windows\\n\\t2.android\\n\\t3.mac\"\n",
    "option = raw_input(\"enter your option as 1/2/3:\")\n",
    "\n",
    "if option == '1':\n",
    "    print \"go to first floor and buy windows laptop or mobile \"\n",
    "elif option == '2':\n",
    "    print \"go to second floor and buy android mobiles \"\n",
    "elif option == '3':\n",
    "    print \"go to third floor and buy iphones ipods or mac \"\n",
    "else:\n",
    "    print \"there is only three floors,please select 1,2,3 only\"\n",
    "print \"thankyou! for visiting\"\n",
    "\n"
   ]
  },
  {
   "cell_type": "markdown",
   "metadata": {},
   "source": [
    "# we need to avoid \n"
   ]
  },
  {
   "cell_type": "code",
   "execution_count": null,
   "metadata": {},
   "outputs": [],
   "source": [
    "Jupyter Notebook\n",
    "assignment3 (conditional statements)\n",
    "Last Checkpoint: 10 hours ago\n",
    "(autosaved)\n",
    "Current Kernel Logo\n",
    "Python 2 \n",
    "File\n",
    "Edit\n",
    "View\n",
    "Insert\n",
    "Cell\n",
    "Kernel\n",
    "Widgets\n",
    "Help\n",
    "\n",
    "Conditional statements\n",
    "\n",
    "Take number from the user decide whether it is even or odd. take number from the user decide whether it is positive number or negative number take a string from the user print the length. if the user not given anything then show an error message code to perform mathematical operations. take two numbers from the user: 1. add, 2. sub, 3. mul, 4.div, 5.quit\n",
    "\n",
    "show the menu:\n",
    "   1. kids\n",
    "   2. Men's\n",
    "   3. Women's\n",
    "Show the corresponding message based on the selection. Mention error message if he enter >3. Take an age from the user: and mention that what he can do in india. \"\"\" Eligibility:\n",
    "Theatre: 5\n",
    "Voting system: 18\n",
    "Marriage in india: 23\n",
    "For govt jobs: 18\n",
    "For driving licence: 18 Enter an option: Enter an age: \"\"\" write a program to chek given substring is there in actual string or not? (search should be case insensitive) Take three numbers from the user and decide which is big Take age and gender from the user and decide whether he is eligible for marriage in India or not. Age criteria: men age>22, women>18 Take an age and gender from the user: and mention that what he/she can do in india. \"\"\" Eligibility:\n",
    "Theatre: 5 for men 7 for women\n",
    "Voting system: 18 for men and women\n",
    "Marriage in india: 23 for men and for women >28\n",
    "For govt jobs: 18 for men and women\n",
    "For driving licence: 18 for men and women Enter an option: Enter an age: \"\"\" operating systems: 1.windows 2.android 3.mac Enter an option:\n",
    "If the user enters 1 then show \"Goto first floor and buy windows laptop or mobile\" If the user enters 2 then show \"Goto second floor and buy adroid mobiles\" If the user enters 3 then show \"Goto third floor and buy mac laptop or iphones\" If the user enters other than 1 or 2 or 3 then show \"There is only three floors, please select 1 or 2 or 3\"\n",
    "\n",
    "\n",
    "number = raw_input(\"enter the number to check whether no is odd or even:\")\n",
    "number = int(number)\n",
    "if (number % 2) == 0:\n",
    "    print \"number is even %d\"%(number)\n",
    "else:\n",
    "    print \"no %d is odd \"%(number)\n",
    "enter the number to check whether no is odd or even:25\n",
    "no 25 is odd \n",
    "Q-> 2\n",
    "take number from the user decide whether it is positive number or negative number\n",
    "\n",
    "\n",
    "number = raw_input(\"enter the number to check whether no is positive or negative:\")\n",
    "number = int(number)\n",
    "if number  > 0:\n",
    "    print \"number is positive %d\"%(number)\n",
    "elif number < 0:\n",
    "    print \"no %d is negative \"%(number)\n",
    "else:\n",
    "    print \"no is zero which is neither negative nor positve\"\n",
    "enter the number to check whether no is positive or negative:0\n",
    "no is zero which is neither negative nor positve\n",
    "Q-> 3\n",
    "take a string from the user print the length if the user not given anything then show an error message\n",
    "\n",
    "\n",
    "string = raw_input(\"enter the string to print length:\")\n",
    "​\n",
    "print \"the length of string is %s\"%(len(string))\n",
    "​\n",
    "enter the string to print length:wwwwwwwwwwwwwwwww\n",
    "the length of string is 17\n",
    "Q ->\n",
    "code to perform mathematical operations. take two numbers from the user: 1. add, 2. sub, 3. mul, 4.div, 5.quit\n",
    "\n",
    "\n",
    "print(\"\\t1.add:\\n\\t2.sub\\n\\t3.mul\\n\\t4.div\\n\\tquit\")\n",
    "choice = input(\"enter your choice for above operations:\")\n",
    "if choice == 1:\n",
    "    number1 = input(\"enter 1st no\")\n",
    "    number2 = input(\"enter 2nd no\")\n",
    "    print \"the addition of two nos is %d\"%(number1 + number2)\n",
    "elif choice == 2:\n",
    "    number1 = input(\"enter 1st no\")\n",
    "    number2 = input(\"enter 2nd no\")\n",
    "    print \"the subtraction of two nos is %d\"%(number1 - number2)\n",
    "elif choice == 3:\n",
    "    number1 = input(\"enter 1st no\")\n",
    "    number2 = input(\"enter 2nd no\")\n",
    "    print \"the multiply of two nos is %d\"%(number1 * number2)\n",
    "elif choice == 4:\n",
    "    number1 = input(\"enter 1st no\")\n",
    "    number2 = input(\"enter 2nd no\")\n",
    "    print \"the division of two nos is %f\"%(number1 / number2)\n",
    "elif choice == 5:\n",
    "    exit()\n",
    "​\n",
    "\n",
    "# Q ->\n",
    "Take an age from the user: and mention that what he can do in india.\n",
    "\"\"\"\n",
    "Eligibility:\n",
    "        1. Theatre: 5\n",
    "        2. Voting system: 18\n",
    "        3. Marriage in india: 23\n",
    "        4. For govt jobs: 18\n",
    "     5. For driving licence: 18\n",
    "\n",
    ")\n",
    "print \"eligiblity:\\n1. Theatre: 5 for men and 7 for women\\n2. Voting system: 18 for men and women\\n3.\\\n",
    "Marriage in india: 23 in men and for women >21\\n4. For govt jobs:(min:18)\\n\\\n",
    "5. For driving licence: 18\"\n",
    "option = raw_input(\"enter your option from above list\")\n",
    "print (\"you choose %d\"%option)\n",
    "print \"Gender: \\n\\t 1.men\\n\\t2.women\"\n",
    "gender = raw_input(\"enter your gender either 1 or 2\")\n",
    "print (\"you choose %d\"%gender)\n",
    "age = int(raw_input(\"enter your age\"))\n",
    "print (\"your age is %d\"%age)\n",
    "if option == '1': \n",
    "    if gender == '1' and age >= 5:  \n",
    "        print \"you are eligible for theatre in india\"\n",
    "    else:\n",
    "        if age >= 7:\n",
    "            print \"you are eligible for theatre\"\n",
    "elif option == '2': \n",
    "    if (gender == '1'or gender == '2') and age >= 18:  \n",
    "        print \"you are eligible for voting in india\"\n",
    "    \n",
    "elif option == '3': \n",
    "    if (gender == '1' or gender =='2') and age >= 23:  \n",
    "        print \"you are eligible for marriage in india\"\n",
    "    \n",
    "elif option == '4': \n",
    "    if (gender == '1') and (age >= 18 and age <= 32): \n",
    "        print \"you are eligible for govt jobs in india\"\n",
    "    else:\n",
    "        if age >= 18 and age <= 34:\n",
    "            print \"you are eligible for govt jobs\"\n",
    "elif option == '5': \n",
    "    if (gender == '1'or gender == '2') and (age >= 18 and age <=60):\n",
    "        print \"you are eligible for driving license in india\"\n",
    "        \n",
    "else:\n",
    "    print \"you take wrong input\"\n",
    "​\n",
    "​\n",
    "​\n",
    "    \n",
    "eligiblity:\n",
    "1. Theatre: 5 for men and 7 for women\n",
    "2. Voting system: 18 for men and women\n",
    "3.Marriage in india: 23 in men and for women >21\n",
    "4. For govt jobs:(min:18)\n",
    "5. For driving licence: 18\n",
    "enter your option from above list2\n",
    "---------------------------------------------------------------------------\n",
    "TypeError                                 Traceback (most recent call last)\n",
    "<ipython-input-14-0b489d1c45fa> in <module>()\n",
    "      1 print \"eligiblity:\\n1. Theatre: 5 for men and 7 for women\\n2. Voting system: 18 for men and women\\n3.Marriage in india: 23 in men and for women >21\\n4. For govt jobs:(min:18)\\n5. For driving licence: 18\"\n",
    "      2 option = raw_input(\"enter your option from above list\")\n",
    "----> 3 print (\"you choose %d\"%option)\n",
    "      4 print \"Gender: \\n\\t 1.men\\n\\t2.women\"\n",
    "      5 gender = raw_input(\"enter your gender either 1 or 2\")\n",
    "\n",
    "TypeError: %d format: a number is required, not str\n",
    "\n",
    "\n",
    "age = input(\"enter your age\")\n",
    "gender = raw_input(\"enter your gender M/F\")\n",
    "if gender == 'M' and age >= 22:\n",
    "    print(\"fine! you are eligible for marriage\")\n",
    "else:\n",
    "    if age >= 18:\n",
    "        print \"fine you are eligible for marriage!\"\n",
    "print \"happy! marriage life\"\n",
    "\n",
    "# a,b,c take 3 input from user and check wheteher which  no is greater of all.\n",
    "​\n",
    "a = input(\"enter 1st no\")\n",
    "b = input(\"enter 2nd no\")\n",
    "c = input(\"enter 3rd no\")\n",
    "if a>b:\n",
    "    if a>c:\n",
    "        print \"a is greater of 3nos\"\n",
    "    else:\n",
    "        print \"c is greater of 3nos\"\n",
    "else:\n",
    "    if b>c:\n",
    "        print \"b is greater of 3nos\"\n",
    "    else:\n",
    "        print \"c is greater of 3nos\"\n",
    "​\n",
    "       \n",
    "\n",
    "# using only if condition:\n",
    "print \" operating systems:\\n\\t1.windows\\n\\t2.android\\n\\t3.mac\"\n",
    "option = raw_input(\"enter your option as 1/2/3:\")\n",
    "if option == '1':\n",
    "    print \"go to first floor and buy windows laptop or mobile \"\n",
    "if option == '2':\n",
    "    print \"go to second floor and buy android mobiles \"\n",
    "if option == '3':\n",
    "    print \"go to third floor and buy iphones ipods or mac \"\n",
    "if option != '1' and option != '2' and option != '3':\n",
    "    print \"there is only three floors,please select 1,2,3 only\"\n",
    "print \"thankyou! for visiting\"\n",
    "\n",
    "\n"
   ]
  }
 ],
 "metadata": {
  "kernelspec": {
   "display_name": "Python 2",
   "language": "python",
   "name": "python2"
  },
  "language_info": {
   "codemirror_mode": {
    "name": "ipython",
    "version": 2
   },
   "file_extension": ".py",
   "mimetype": "text/x-python",
   "name": "python",
   "nbconvert_exporter": "python",
   "pygments_lexer": "ipython2",
   "version": "2.7.15"
  }
 },
 "nbformat": 4,
 "nbformat_minor": 2
}
