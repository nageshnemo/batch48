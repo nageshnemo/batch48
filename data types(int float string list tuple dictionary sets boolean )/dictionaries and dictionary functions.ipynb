{
 "cells": [
  {
   "cell_type": "code",
   "execution_count": 5,
   "metadata": {},
   "outputs": [
    {
     "ename": "TypeError",
     "evalue": "unhashable type: 'list'",
     "output_type": "error",
     "traceback": [
      "\u001b[1;31m---------------------------------------------------------------------------\u001b[0m",
      "\u001b[1;31mTypeError\u001b[0m                                 Traceback (most recent call last)",
      "\u001b[1;32m<ipython-input-5-31907f4e23ec>\u001b[0m in \u001b[0;36m<module>\u001b[1;34m()\u001b[0m\n\u001b[1;32m----> 1\u001b[1;33m \u001b[0mdict\u001b[0m \u001b[1;33m=\u001b[0m \u001b[1;33m{\u001b[0m\u001b[1;36m1\u001b[0m\u001b[1;33m:\u001b[0m\u001b[1;36m2\u001b[0m\u001b[1;33m,\u001b[0m\u001b[1;36m3\u001b[0m\u001b[1;33m:\u001b[0m\u001b[1;36m4\u001b[0m\u001b[1;33m,\u001b[0m\u001b[1;36m5\u001b[0m\u001b[1;33m:\u001b[0m\u001b[1;36m6\u001b[0m\u001b[1;33m,\u001b[0m\u001b[1;34m\"ke\"\u001b[0m\u001b[1;33m:\u001b[0m\u001b[1;34m\"va\"\u001b[0m\u001b[1;33m,\u001b[0m\u001b[1;33m[\u001b[0m\u001b[1;36m1\u001b[0m\u001b[1;33m,\u001b[0m\u001b[1;36m2\u001b[0m\u001b[1;33m,\u001b[0m\u001b[1;36m3\u001b[0m\u001b[1;33m]\u001b[0m\u001b[1;33m:\u001b[0m\u001b[1;33m[\u001b[0m\u001b[1;36m1\u001b[0m\u001b[1;33m,\u001b[0m\u001b[1;36m3\u001b[0m\u001b[1;33m,\u001b[0m\u001b[1;36m4\u001b[0m\u001b[1;33m]\u001b[0m\u001b[1;33m}\u001b[0m\u001b[1;33m\u001b[0m\u001b[0m\n\u001b[0m\u001b[0;32m      2\u001b[0m \u001b[1;32mprint\u001b[0m \u001b[0mdict\u001b[0m \u001b[1;33m[\u001b[0m\u001b[1;36m1\u001b[0m\u001b[1;33m]\u001b[0m\u001b[1;33m\u001b[0m\u001b[0m\n\u001b[0;32m      3\u001b[0m \u001b[1;32mprint\u001b[0m \u001b[0mdict\u001b[0m \u001b[1;33m[\u001b[0m\u001b[1;34m\"ke\"\u001b[0m\u001b[1;33m]\u001b[0m\u001b[1;33m\u001b[0m\u001b[0m\n\u001b[0;32m      4\u001b[0m \u001b[1;32mprint\u001b[0m \u001b[0mdict\u001b[0m\u001b[1;33m[\u001b[0m\u001b[1;33m[\u001b[0m\u001b[1;36m1\u001b[0m\u001b[1;33m,\u001b[0m\u001b[1;36m2\u001b[0m\u001b[1;33m,\u001b[0m\u001b[1;36m3\u001b[0m\u001b[1;33m]\u001b[0m\u001b[1;33m]\u001b[0m\u001b[1;33m\u001b[0m\u001b[0m\n",
      "\u001b[1;31mTypeError\u001b[0m: unhashable type: 'list'"
     ]
    }
   ],
   "source": [
    "dict = {1:2,3:4,5:6,\"ke\":\"va\",[1,2,3]:[1,3,4]}\n",
    "print dict [1]\n",
    "print dict [\"ke\"]\n",
    "print dict[[1,2,3]]"
   ]
  },
  {
   "cell_type": "code",
   "execution_count": 6,
   "metadata": {},
   "outputs": [],
   "source": [
    "#we cannot use mutable type like list dictionary numpy array in  place of keys "
   ]
  },
  {
   "cell_type": "code",
   "execution_count": 8,
   "metadata": {},
   "outputs": [
    {
     "name": "stdout",
     "output_type": "stream",
     "text": [
      "{1: 20}\n"
     ]
    }
   ],
   "source": [
    "d = {1:10,1:20} # while storing if a same key  was there it can reinitialises that key and value\n",
    "\n",
    "print d \n"
   ]
  },
  {
   "cell_type": "code",
   "execution_count": 9,
   "metadata": {},
   "outputs": [],
   "source": [
    "# we cant do any arithmetic operation with dictionary"
   ]
  },
  {
   "cell_type": "code",
   "execution_count": 11,
   "metadata": {},
   "outputs": [
    {
     "ename": "SyntaxError",
     "evalue": "invalid syntax (<ipython-input-11-f70662ef1526>, line 1)",
     "output_type": "error",
     "traceback": [
      "\u001b[1;36m  File \u001b[1;32m\"<ipython-input-11-f70662ef1526>\"\u001b[1;36m, line \u001b[1;32m1\u001b[0m\n\u001b[1;33m    dict 1 = {1:2,4:5}\u001b[0m\n\u001b[1;37m         ^\u001b[0m\n\u001b[1;31mSyntaxError\u001b[0m\u001b[1;31m:\u001b[0m invalid syntax\n"
     ]
    }
   ],
   "source": [
    "dict 1 = {1:2,4:5}\n",
    "dict 2 = {1:10 ,4:15}\n",
    "\n",
    "\n",
    "print dict1 + dict2\n",
    "print dict1 - dict2\n",
    "print dict1 * dict2\n",
    "print dict1 / dict2"
   ]
  },
  {
   "cell_type": "code",
   "execution_count": 13,
   "metadata": {},
   "outputs": [
    {
     "data": {
      "text/plain": [
       "False"
      ]
     },
     "execution_count": 13,
     "metadata": {},
     "output_type": "execute_result"
    }
   ],
   "source": [
    "dict1 = {1:2,4:5}\n",
    "dict2 = {1:10,4:15}\n",
    "dict1 > dict2"
   ]
  },
  {
   "cell_type": "code",
   "execution_count": 16,
   "metadata": {},
   "outputs": [
    {
     "data": {
      "text/plain": [
       "True"
      ]
     },
     "execution_count": 16,
     "metadata": {},
     "output_type": "execute_result"
    }
   ],
   "source": [
    "dict1 = {1:2,4:5}\n",
    "dict2 = {1:2,4:5}\n",
    "dict1 >= dict2"
   ]
  },
  {
   "cell_type": "code",
   "execution_count": 15,
   "metadata": {},
   "outputs": [
    {
     "data": {
      "text/plain": [
       "False"
      ]
     },
     "execution_count": 15,
     "metadata": {},
     "output_type": "execute_result"
    }
   ],
   "source": [
    "1>1"
   ]
  },
  {
   "cell_type": "code",
   "execution_count": 17,
   "metadata": {},
   "outputs": [
    {
     "name": "stdout",
     "output_type": "stream",
     "text": [
      "k3\n",
      "k2\n",
      "k1\n"
     ]
    }
   ],
   "source": [
    "d =  {\"k1\":1,\"k2\":2,\"k3\":3}\n",
    "\n",
    "for i in d:\n",
    "    print i"
   ]
  },
  {
   "cell_type": "code",
   "execution_count": 18,
   "metadata": {},
   "outputs": [
    {
     "name": "stdout",
     "output_type": "stream",
     "text": [
      "k3 3\n",
      "k2 2\n",
      "k1 1\n"
     ]
    }
   ],
   "source": [
    "d =  {\"k1\":1,\"k2\":2,\"k3\":3}\n",
    "\n",
    "for i in d:\n",
    "    print i ,d[i]"
   ]
  },
  {
   "cell_type": "code",
   "execution_count": 19,
   "metadata": {},
   "outputs": [],
   "source": [
    "#take name age and salary from the user and put it in a dictionary"
   ]
  },
  {
   "cell_type": "code",
   "execution_count": null,
   "metadata": {},
   "outputs": [],
   "source": [
    "name = raw_input(\"enter name\")\n",
    "age = raw_input(\"enter age\")\n",
    "sal = raw_input(\"enter salary\")\n",
    "\n",
    "\n",
    "\n",
    "\n"
   ]
  },
  {
   "cell_type": "code",
   "execution_count": 2,
   "metadata": {},
   "outputs": [
    {
     "name": "stdout",
     "output_type": "stream",
     "text": [
      "enter namenagesh\n",
      "enter age18\n",
      "enter salary48000\n",
      "{'salary': '48000', 'age': '18', 'name': 'nagesh'}\n"
     ]
    }
   ],
   "source": [
    "name = raw_input(\"enter name\")\n",
    "age = raw_input(\"enter age\")\n",
    "sal = raw_input(\"enter salary\")\n",
    "\n",
    "dict = {\"name\":name,\"age\":age,\"salary\":sal}\n",
    "print dict"
   ]
  },
  {
   "cell_type": "code",
   "execution_count": 5,
   "metadata": {},
   "outputs": [
    {
     "name": "stdout",
     "output_type": "stream",
     "text": [
      "enter namesabs\n",
      "enter age43\n",
      "enter salary3446\n",
      "salary"
     ]
    },
    {
     "ename": "NameError",
     "evalue": "name 'd' is not defined",
     "output_type": "error",
     "traceback": [
      "\u001b[1;31m---------------------------------------------------------------------------\u001b[0m",
      "\u001b[1;31mNameError\u001b[0m                                 Traceback (most recent call last)",
      "\u001b[1;32m<ipython-input-5-f2aed2d0a76f>\u001b[0m in \u001b[0;36m<module>\u001b[1;34m()\u001b[0m\n\u001b[0;32m      6\u001b[0m \u001b[0mdict\u001b[0m \u001b[1;33m=\u001b[0m \u001b[1;33m{\u001b[0m\u001b[1;34m\"name\"\u001b[0m\u001b[1;33m:\u001b[0m\u001b[0mname\u001b[0m\u001b[1;33m,\u001b[0m\u001b[1;34m\"age\"\u001b[0m\u001b[1;33m:\u001b[0m\u001b[0mage\u001b[0m\u001b[1;33m,\u001b[0m\u001b[1;34m\"salary\"\u001b[0m\u001b[1;33m:\u001b[0m\u001b[0msal\u001b[0m\u001b[1;33m}\u001b[0m\u001b[1;33m\u001b[0m\u001b[0m\n\u001b[0;32m      7\u001b[0m \u001b[1;32mfor\u001b[0m \u001b[0mi\u001b[0m \u001b[1;32min\u001b[0m \u001b[0mdict\u001b[0m\u001b[1;33m:\u001b[0m\u001b[1;33m\u001b[0m\u001b[0m\n\u001b[1;32m----> 8\u001b[1;33m     \u001b[1;32mprint\u001b[0m \u001b[0mi\u001b[0m\u001b[1;33m,\u001b[0m\u001b[0md\u001b[0m\u001b[1;33m[\u001b[0m\u001b[0mi\u001b[0m\u001b[1;33m]\u001b[0m\u001b[1;33m\u001b[0m\u001b[0m\n\u001b[0m",
      "\u001b[1;31mNameError\u001b[0m: name 'd' is not defined"
     ]
    }
   ],
   "source": [
    "name = raw_input(\"enter name\")\n",
    "age = raw_input(\"enter age\")\n",
    "sal = raw_input(\"enter salary\")\n",
    "\n",
    "\n",
    "dict = {\"name\":name,\"age\":age,\"salary\":sal}\n",
    "for i in dict:\n",
    "    print i,dict[i]"
   ]
  },
  {
   "cell_type": "code",
   "execution_count": 9,
   "metadata": {},
   "outputs": [
    {
     "name": "stdout",
     "output_type": "stream",
     "text": [
      "[10, 'b', 'c', 'd']\n",
      "[10, 'b', 'c', 'd']\n"
     ]
    }
   ],
   "source": [
    "l = [\"a\",\"b\",\"c\",\"d\"]\n",
    "l1 = l\n",
    "l[0] = 10\n",
    "print  l \n",
    "print l1"
   ]
  },
  {
   "cell_type": "code",
   "execution_count": 10,
   "metadata": {},
   "outputs": [
    {
     "name": "stdout",
     "output_type": "stream",
     "text": [
      "['nagesh nemo', 'b', 'c', 'd']\n",
      "['nagesh nemo', 'b', 'c', 'd']\n"
     ]
    }
   ],
   "source": [
    "l1[0]=\"nagesh nemo\"\n",
    "print l \n",
    "print l1"
   ]
  },
  {
   "cell_type": "code",
   "execution_count": 11,
   "metadata": {},
   "outputs": [],
   "source": [
    "# if one variable is pointing to other then any change made i na any of the variable can affect both"
   ]
  },
  {
   "cell_type": "code",
   "execution_count": 16,
   "metadata": {},
   "outputs": [
    {
     "name": "stdout",
     "output_type": "stream",
     "text": [
      "['a', 'b', 'c', 'd']\n",
      "['a', 'b', 'c', 'd']\n",
      "['a', 'b', 'c', 'd']\n",
      "['a', 'b', 'c', 'd']\n",
      "after modyfying\n",
      "[10, 'b', 'c', 'd']\n",
      "[10, 'b', 'c', 'd']\n",
      "['a', 'b', 'c', 'd']\n",
      "['a', 'b', 'c', 'd']\n"
     ]
    }
   ],
   "source": [
    "l = [\"a\",\"b\",\"c\",\"d\"]\n",
    "l1 = l\n",
    "l2 = l[:]\n",
    "l3 = [\"a\",\"b\",\"c\",\"d\"]\n",
    "\n",
    "\n",
    "print l \n",
    "print l1\n",
    "print l2\n",
    "print l3\n",
    "\n",
    "\n",
    "l[0] = 10\n",
    "print \"after modyfying\"\n",
    "\n",
    "print l \n",
    "print l1\n",
    "print l2\n",
    "print l3\n",
    "\n",
    "\n",
    "\n",
    "\n"
   ]
  },
  {
   "cell_type": "code",
   "execution_count": 17,
   "metadata": {},
   "outputs": [
    {
     "name": "stdout",
     "output_type": "stream",
     "text": [
      "{'salary': '23455', 'age': 50, 'name': 'nagesh'}\n",
      "{'salary': '23455', 'age': '19', 'name': 'nagesh'}\n",
      "{'salary': '23455', 'age': 50, 'name': 'nagesh'}\n"
     ]
    }
   ],
   "source": [
    "d = {\"name\":\"nagesh\",\"age\":\"19\",\"salary\":\"23455\"}\n",
    "\n",
    "d1 = d.copy()\n",
    "d2 = d\n",
    "d[\"age\"]=50\n",
    "print d\n",
    "print d1\n",
    "print d2"
   ]
  },
  {
   "cell_type": "code",
   "execution_count": 18,
   "metadata": {},
   "outputs": [],
   "source": [
    "#  if we want affect we gor for d2 = d but for same copy we use copy fn "
   ]
  },
  {
   "cell_type": "code",
   "execution_count": null,
   "metadata": {},
   "outputs": [],
   "source": [
    "d = {\"name\":\"nagesh\",\"age\":\"19\",\"salary\":\"23455\"}\n",
    "\n",
    "print d[\"age\"]\n"
   ]
  },
  {
   "cell_type": "code",
   "execution_count": 19,
   "metadata": {},
   "outputs": [],
   "source": [
    "#update modifies the existing values"
   ]
  },
  {
   "cell_type": "code",
   "execution_count": 20,
   "metadata": {},
   "outputs": [],
   "source": [
    "#set default doesnt update"
   ]
  },
  {
   "cell_type": "code",
   "execution_count": 21,
   "metadata": {},
   "outputs": [],
   "source": [
    "# for pop it is compulsary  to add an key in parameeter default we cant able to use"
   ]
  },
  {
   "cell_type": "code",
   "execution_count": null,
   "metadata": {},
   "outputs": [],
   "source": []
  },
  {
   "cell_type": "code",
   "execution_count": null,
   "metadata": {},
   "outputs": [],
   "source": []
  },
  {
   "cell_type": "code",
   "execution_count": null,
   "metadata": {},
   "outputs": [],
   "source": []
  },
  {
   "cell_type": "code",
   "execution_count": null,
   "metadata": {},
   "outputs": [],
   "source": []
  },
  {
   "cell_type": "code",
   "execution_count": null,
   "metadata": {},
   "outputs": [],
   "source": []
  },
  {
   "cell_type": "code",
   "execution_count": 3,
   "metadata": {},
   "outputs": [],
   "source": [
    "# the ways to iterate through dictionary\n"
   ]
  },
  {
   "cell_type": "code",
   "execution_count": 4,
   "metadata": {},
   "outputs": [
    {
     "name": "stdout",
     "output_type": "stream",
     "text": [
      "k3\n",
      "k2\n",
      "k1\n"
     ]
    }
   ],
   "source": [
    "\n",
    "\n",
    "d =  {\"k1\":\"v1\",\"k2\":\"v2\",\"k3\":\"v3\"}\n",
    "\n",
    "for i in d:\n",
    "    print i"
   ]
  },
  {
   "cell_type": "code",
   "execution_count": 5,
   "metadata": {},
   "outputs": [
    {
     "name": "stdout",
     "output_type": "stream",
     "text": [
      "k3 v3\n",
      "k2 v2\n",
      "k1 v1\n"
     ]
    }
   ],
   "source": [
    "# we can also print values alonwith keys\n",
    "\n",
    "\n",
    "d =  {\"k1\":\"v1\",\"k2\":\"v2\",\"k3\":\"v3\"}\n",
    "\n",
    "for i in d:\n",
    "    print i,d[i]"
   ]
  },
  {
   "cell_type": "code",
   "execution_count": 6,
   "metadata": {},
   "outputs": [],
   "source": [
    "# the keys and values will be in any order python peopele also dont know which pattern they are printing"
   ]
  },
  {
   "cell_type": "code",
   "execution_count": 7,
   "metadata": {},
   "outputs": [
    {
     "data": {
      "text/plain": [
       "'v1'"
      ]
     },
     "execution_count": 7,
     "metadata": {},
     "output_type": "execute_result"
    }
   ],
   "source": [
    "d[\"k1\"]"
   ]
  },
  {
   "cell_type": "code",
   "execution_count": 8,
   "metadata": {},
   "outputs": [],
   "source": [
    "# we can also call by keys itself to get the value like we get through index"
   ]
  },
  {
   "cell_type": "code",
   "execution_count": 30,
   "metadata": {},
   "outputs": [
    {
     "name": "stdout",
     "output_type": "stream",
     "text": [
      "enter your name :nagesh \n",
      "enter your age :18\n",
      "enter your salary :10k\n",
      "{'salary': '10k', 'age': '18', 'name': 'nagesh '}\n"
     ]
    }
   ],
   "source": [
    "d = {}\n",
    "\n",
    "name = raw_input(\"enter your name :\")\n",
    "d[\"name\"] = name\n",
    "age = raw_input(\"enter your age :\")\n",
    "d[\"age\"] = age\n",
    "salary = raw_input(\"enter your salary :\")\n",
    "d[\"salary\"] = salary\n",
    "\n",
    "print d"
   ]
  },
  {
   "cell_type": "code",
   "execution_count": 31,
   "metadata": {},
   "outputs": [],
   "source": [
    "# we can also change the value of ditionary through keys because dictionary is mutable type \n"
   ]
  },
  {
   "cell_type": "code",
   "execution_count": 32,
   "metadata": {},
   "outputs": [],
   "source": [
    "d[\"age\"] = 50\n"
   ]
  },
  {
   "cell_type": "code",
   "execution_count": 33,
   "metadata": {},
   "outputs": [
    {
     "name": "stdout",
     "output_type": "stream",
     "text": [
      "{'salary': '10k', 'age': 50, 'name': 'nagesh '}\n"
     ]
    }
   ],
   "source": [
    "print d\n"
   ]
  },
  {
   "cell_type": "code",
   "execution_count": 34,
   "metadata": {},
   "outputs": [
    {
     "name": "stdout",
     "output_type": "stream",
     "text": [
      "{'salary': '10k', 'age': 50, 'name': 'nagesh '}\n"
     ]
    }
   ],
   "source": [
    "d1  = d\n",
    "\n",
    "\n",
    "print d1"
   ]
  },
  {
   "cell_type": "code",
   "execution_count": 35,
   "metadata": {},
   "outputs": [],
   "source": [
    "d1[\"salary\"] = 1000"
   ]
  },
  {
   "cell_type": "code",
   "execution_count": 38,
   "metadata": {},
   "outputs": [
    {
     "name": "stdout",
     "output_type": "stream",
     "text": [
      "{'salary': 1000, 'age': 50, 'name': 'nagesh '}\n",
      "{'salary': 1000, 'age': 50, 'name': 'nagesh '}\n"
     ]
    }
   ],
   "source": [
    "print d1\n",
    "print d"
   ]
  },
  {
   "cell_type": "code",
   "execution_count": 39,
   "metadata": {},
   "outputs": [],
   "source": [
    "# we modify d1 but the modofication will also be done in d because if we do d1 = d  both reference to same object \n",
    "# and  if we do chage in any of these two the effect will be shown in both of dictionaries as we see above\n",
    "\n",
    "# the same thing is done in list because list and dictionary both are mutable type "
   ]
  },
  {
   "cell_type": "code",
   "execution_count": null,
   "metadata": {},
   "outputs": [],
   "source": [
    "# we can also do same thing in list also0"
   ]
  },
  {
   "cell_type": "code",
   "execution_count": 40,
   "metadata": {},
   "outputs": [
    {
     "name": "stdout",
     "output_type": "stream",
     "text": [
      "[10, 'b', 'c', 'd']\n",
      "[10, 'b', 'c', 'd']\n"
     ]
    }
   ],
   "source": [
    "l=[\"a\",\"b\",\"c\",\"d\"]\n",
    "l1=l\n",
    "l[0]=10\n",
    "print l\n",
    "print l1"
   ]
  },
  {
   "cell_type": "code",
   "execution_count": 42,
   "metadata": {},
   "outputs": [
    {
     "name": "stdout",
     "output_type": "stream",
     "text": [
      "['a', 'b', 'c', 'd', 1000, 2000]\n",
      "['a', 'b', 'c', 'd', 1000, 2000]\n",
      "['a', 'b', 'c', 'd', 1000, 2000]\n",
      "['a', 'b', 'c', 'd', 1000, 2000]\n",
      "after modifying l[0]\n",
      "[10, 'b', 'c', 'd', 1000, 2000]\n",
      "[10, 'b', 'c', 'd', 1000, 2000]\n",
      "['a', 'b', 'c', 'd', 1000, 2000]\n",
      "['a', 'b', 'c', 'd', 1000, 2000]\n"
     ]
    }
   ],
   "source": [
    "l=[\"a\",\"b\",\"c\",\"d\",1000,2000]\n",
    "l1=l\n",
    "l2=l[:]    # copying all the data through indexing doesnt mean that both have the same reference\n",
    "l3=[\"a\",\"b\",\"c\",\"d\",1000,2000]\n",
    "print l\n",
    "print l1\n",
    "print l2\n",
    "print l3\n",
    "l[0]=10\n",
    "print \"after modifying l[0]\"   # this modification should only be seen in direct copy and source list only nt to l2 and l3\n",
    "print l\n",
    "print l1\n",
    "print l2\n",
    "print l3"
   ]
  },
  {
   "cell_type": "code",
   "execution_count": null,
   "metadata": {},
   "outputs": [],
   "source": []
  },
  {
   "cell_type": "code",
   "execution_count": 43,
   "metadata": {},
   "outputs": [
    {
     "name": "stdout",
     "output_type": "stream",
     "text": [
      "{'age': 50, 'name': 'anil', 'sal': '234567'}\n",
      "{'age': '23', 'name': 'anil', 'sal': '234567'}\n",
      "{'age': 50, 'name': 'anil', 'sal': '234567'}\n"
     ]
    }
   ],
   "source": [
    "d={'age': '23', 'name': 'anil', 'sal': '234567'}\n",
    "d1=d.copy()\n",
    "d2=d\n",
    "d[\"age\"]=50\n",
    "print d\n",
    "print d1\n",
    "print d2"
   ]
  },
  {
   "cell_type": "code",
   "execution_count": 50,
   "metadata": {},
   "outputs": [
    {
     "name": "stdout",
     "output_type": "stream",
     "text": [
      "23\n",
      "23\n",
      "None\n"
     ]
    },
    {
     "ename": "KeyError",
     "evalue": "'pan'",
     "output_type": "error",
     "traceback": [
      "\u001b[1;31m---------------------------------------------------------------------------\u001b[0m",
      "\u001b[1;31mKeyError\u001b[0m                                  Traceback (most recent call last)",
      "\u001b[1;32m<ipython-input-50-782c02b364df>\u001b[0m in \u001b[0;36m<module>\u001b[1;34m()\u001b[0m\n\u001b[0;32m      3\u001b[0m \u001b[1;32mprint\u001b[0m \u001b[0md\u001b[0m\u001b[1;33m.\u001b[0m\u001b[0mget\u001b[0m\u001b[1;33m(\u001b[0m\u001b[1;34m\"age\"\u001b[0m\u001b[1;33m)\u001b[0m\u001b[1;33m\u001b[0m\u001b[0m\n\u001b[0;32m      4\u001b[0m \u001b[1;32mprint\u001b[0m \u001b[0md\u001b[0m\u001b[1;33m.\u001b[0m\u001b[0mget\u001b[0m\u001b[1;33m(\u001b[0m\u001b[1;34m\"pan\"\u001b[0m\u001b[1;33m)\u001b[0m\u001b[1;33m\u001b[0m\u001b[0m\n\u001b[1;32m----> 5\u001b[1;33m \u001b[1;32mprint\u001b[0m \u001b[0md\u001b[0m\u001b[1;33m[\u001b[0m\u001b[1;34m\"pan\"\u001b[0m\u001b[1;33m]\u001b[0m\u001b[1;33m\u001b[0m\u001b[0m\n\u001b[0m\u001b[0;32m      6\u001b[0m \u001b[1;32mprint\u001b[0m \u001b[0md\u001b[0m\u001b[1;33m\u001b[0m\u001b[0m\n\u001b[0;32m      7\u001b[0m \u001b[1;33m\u001b[0m\u001b[0m\n",
      "\u001b[1;31mKeyError\u001b[0m: 'pan'"
     ]
    }
   ],
   "source": [
    "d={'age': '23', 'name': 'anil', 'sal': '234567'}\n",
    "print d[\"age\"]\n",
    "print d.get(\"age\")\n",
    "print d.get(\"pan\")\n",
    "print d[\"pan\"]\n",
    "print d\n",
    "\n",
    "\n",
    "# here d.get() is basically a fn used to grap the values through and most beautiful advantage of d.get is that it \n",
    "# never throws an error if that key is not present there"
   ]
  },
  {
   "cell_type": "code",
   "execution_count": 52,
   "metadata": {},
   "outputs": [
    {
     "data": {
      "text/plain": [
       "'336426030487'"
      ]
     },
     "execution_count": 52,
     "metadata": {},
     "output_type": "execute_result"
    }
   ],
   "source": [
    "d.get(\"aadhar\",\"336426030487\")"
   ]
  },
  {
   "cell_type": "code",
   "execution_count": 53,
   "metadata": {},
   "outputs": [],
   "source": [
    "# if we print d we get updated dictionary with aadhar"
   ]
  },
  {
   "cell_type": "code",
   "execution_count": 54,
   "metadata": {},
   "outputs": [
    {
     "name": "stdout",
     "output_type": "stream",
     "text": [
      "{'age': '23', 'name': 'anil', 'sal': '234567'}\n"
     ]
    }
   ],
   "source": [
    "print d"
   ]
  },
  {
   "cell_type": "code",
   "execution_count": 55,
   "metadata": {},
   "outputs": [
    {
     "name": "stdout",
     "output_type": "stream",
     "text": [
      "{'mobile': 9676622023L, 'age': 50, 'name': 'anil', 'sal': '234567'}\n",
      "None\n",
      "{'name': 'anil kumar', 'sal': '234567', 'mobile': 9676622023L, 'age': 60, 'pan': 'sdfsdewr'}\n"
     ]
    }
   ],
   "source": [
    "# there is one more function known as update function which is used to update the dictionary \n",
    "d={'age': '23', 'name': 'anil', 'sal': '234567'}\n",
    "d[\"age\"]=50\n",
    "d[\"mobile\"]=9676622023\n",
    "print d\n",
    "print d.update({\"age\":60,\"name\":\"anil kumar\",\"pan\":\"sdfsdewr\"})\n",
    "print d"
   ]
  },
  {
   "cell_type": "code",
   "execution_count": 56,
   "metadata": {},
   "outputs": [],
   "source": [
    "# on thing is so important that update fn doesnt return antything he only  modifies that existiing value"
   ]
  },
  {
   "cell_type": "code",
   "execution_count": 57,
   "metadata": {},
   "outputs": [
    {
     "ename": "TypeError",
     "evalue": "'NoneType' object is not iterable",
     "output_type": "error",
     "traceback": [
      "\u001b[1;31m---------------------------------------------------------------------------\u001b[0m",
      "\u001b[1;31mTypeError\u001b[0m                                 Traceback (most recent call last)",
      "\u001b[1;32m<ipython-input-57-cca967ed564e>\u001b[0m in \u001b[0;36m<module>\u001b[1;34m()\u001b[0m\n\u001b[0;32m      1\u001b[0m \u001b[0md\u001b[0m\u001b[1;33m=\u001b[0m\u001b[1;33m{\u001b[0m\u001b[1;34m'name'\u001b[0m\u001b[1;33m:\u001b[0m \u001b[1;34m'anil kumar'\u001b[0m\u001b[1;33m,\u001b[0m \u001b[1;34m'sal'\u001b[0m\u001b[1;33m:\u001b[0m \u001b[1;34m'234567'\u001b[0m\u001b[1;33m,\u001b[0m \u001b[1;34m'mobile'\u001b[0m\u001b[1;33m:\u001b[0m \u001b[1;36m9676622023\u001b[0m\u001b[1;33m,\u001b[0m \u001b[1;34m'age'\u001b[0m\u001b[1;33m:\u001b[0m \u001b[1;36m60\u001b[0m\u001b[1;33m,\u001b[0m \u001b[1;34m'pan'\u001b[0m\u001b[1;33m:\u001b[0m \u001b[1;34m'sdfsdewr'\u001b[0m\u001b[1;33m}\u001b[0m\u001b[1;33m\u001b[0m\u001b[0m\n\u001b[0;32m      2\u001b[0m \u001b[0md1\u001b[0m\u001b[1;33m=\u001b[0m\u001b[0md\u001b[0m\u001b[1;33m.\u001b[0m\u001b[0mupdate\u001b[0m\u001b[1;33m(\u001b[0m\u001b[1;33m{\u001b[0m\u001b[1;34m\"adhar\"\u001b[0m\u001b[1;33m:\u001b[0m\u001b[1;34m\"42r3rt32r\"\u001b[0m\u001b[1;33m}\u001b[0m\u001b[1;33m)\u001b[0m\u001b[1;33m\u001b[0m\u001b[0m\n\u001b[1;32m----> 3\u001b[1;33m \u001b[1;32mfor\u001b[0m \u001b[0mi\u001b[0m \u001b[1;32min\u001b[0m \u001b[0md1\u001b[0m\u001b[1;33m:\u001b[0m\u001b[1;33m\u001b[0m\u001b[0m\n\u001b[0m\u001b[0;32m      4\u001b[0m     \u001b[1;32mprint\u001b[0m \u001b[0mi\u001b[0m\u001b[1;33m\u001b[0m\u001b[0m\n",
      "\u001b[1;31mTypeError\u001b[0m: 'NoneType' object is not iterable"
     ]
    }
   ],
   "source": [
    "d={'name': 'anil kumar', 'sal': '234567', 'mobile': 9676622023, 'age': 60, 'pan': 'sdfsdewr'}\n",
    "d1=d.update({\"adhar\":\"42r3rt32r\"})\n",
    "for i in d1:\n",
    "    print i"
   ]
  },
  {
   "cell_type": "code",
   "execution_count": 58,
   "metadata": {},
   "outputs": [],
   "source": [
    "# we cant iterate over d1 because has nothing"
   ]
  },
  {
   "cell_type": "code",
   "execution_count": 59,
   "metadata": {},
   "outputs": [],
   "source": [
    "# but we can iterate ovr d"
   ]
  },
  {
   "cell_type": "code",
   "execution_count": 60,
   "metadata": {},
   "outputs": [
    {
     "name": "stdout",
     "output_type": "stream",
     "text": [
      "name\n",
      "sal\n",
      "mobile\n",
      "age\n",
      "pan\n",
      "adhar\n"
     ]
    }
   ],
   "source": [
    "d={'name': 'anil kumar', 'sal': '234567', 'mobile': 9676622023, 'age': 60, 'pan': 'sdfsdewr'}\n",
    "d1=d.update({\"adhar\":\"42r3rt32r\"})\n",
    "for i in d:\n",
    "    print i"
   ]
  },
  {
   "cell_type": "code",
   "execution_count": 61,
   "metadata": {},
   "outputs": [],
   "source": [
    "# set default "
   ]
  },
  {
   "cell_type": "code",
   "execution_count": 62,
   "metadata": {},
   "outputs": [],
   "source": [
    "# set default do same work as update but one big difference btn these two is that if there was key present in that \n",
    "# dictionary then setdefault do nothing to existing key values bt if there was not then make "
   ]
  },
  {
   "cell_type": "code",
   "execution_count": 63,
   "metadata": {},
   "outputs": [
    {
     "name": "stdout",
     "output_type": "stream",
     "text": [
      "{'mobile': 9676622023L, 'name': 'anil kumar', 'pan': 'dfdsf', 'sal': '234567'}\n"
     ]
    }
   ],
   "source": [
    "d={'name': 'anil kumar', 'sal': '234567', 'mobile': 9676622023}\n",
    "d.setdefault(\"pan\",\"dfdsf\")\n",
    "print d"
   ]
  },
  {
   "cell_type": "code",
   "execution_count": 64,
   "metadata": {},
   "outputs": [
    {
     "data": {
      "text/plain": [
       "'anil kumar'"
      ]
     },
     "execution_count": 64,
     "metadata": {},
     "output_type": "execute_result"
    }
   ],
   "source": [
    "d.setdefault(\"name\",\"nagesh\")"
   ]
  },
  {
   "cell_type": "code",
   "execution_count": 65,
   "metadata": {},
   "outputs": [
    {
     "name": "stdout",
     "output_type": "stream",
     "text": [
      "{'mobile': 9676622023L, 'name': 'anil kumar', 'pan': 'dfdsf', 'sal': '234567'}\n"
     ]
    }
   ],
   "source": [
    "print d"
   ]
  },
  {
   "cell_type": "code",
   "execution_count": 66,
   "metadata": {},
   "outputs": [],
   "source": [
    "#set default doesnt change that existing values"
   ]
  },
  {
   "cell_type": "code",
   "execution_count": 67,
   "metadata": {},
   "outputs": [
    {
     "name": "stdout",
     "output_type": "stream",
     "text": [
      "{'name': 'anil kumar', 'sal': '234567'}\n",
      "9676622023\n"
     ]
    }
   ],
   "source": [
    "d={'name': 'anil kumar', 'sal': '234567', 'mobile': 9676622023}\n",
    "d1=d.pop(\"mobile\")\n",
    "print d\n",
    "print d1\n"
   ]
  },
  {
   "cell_type": "code",
   "execution_count": 68,
   "metadata": {},
   "outputs": [],
   "source": [
    "# pop is another fn which is used to delete items pop return value of that item which is popped up"
   ]
  },
  {
   "cell_type": "code",
   "execution_count": null,
   "metadata": {},
   "outputs": [],
   "source": []
  },
  {
   "cell_type": "code",
   "execution_count": 69,
   "metadata": {},
   "outputs": [
    {
     "name": "stdout",
     "output_type": "stream",
     "text": [
      "{}\n",
      "{}\n"
     ]
    }
   ],
   "source": [
    "d={'name': 'anil kumar', 'sal': '234567', 'mobile': 9676622023}\n",
    "d1=d\n",
    "d.clear()\n",
    "print d\n",
    "print d1"
   ]
  },
  {
   "cell_type": "code",
   "execution_count": 70,
   "metadata": {},
   "outputs": [],
   "source": [
    "# we also have a clear fn which is used to clear all the items present in dictionary"
   ]
  },
  {
   "cell_type": "code",
   "execution_count": 71,
   "metadata": {},
   "outputs": [
    {
     "name": "stdout",
     "output_type": "stream",
     "text": [
      "{0: 'v1', 1: 'v1', 2: 'v1', 3: 'v1', 4: 'v1', 5: 'v1', 6: 'v1', 7: 'v1', 8: 'v1', 9: 'v1'}\n"
     ]
    }
   ],
   "source": [
    "d={}\n",
    "d1=d.fromkeys(range(10),\"v1\")\n",
    "print d1"
   ]
  },
  {
   "cell_type": "code",
   "execution_count": 72,
   "metadata": {},
   "outputs": [],
   "source": [
    "# from keys will do our work easier if we use this"
   ]
  },
  {
   "cell_type": "code",
   "execution_count": 73,
   "metadata": {},
   "outputs": [
    {
     "name": "stdout",
     "output_type": "stream",
     "text": [
      "True\n",
      "False\n"
     ]
    }
   ],
   "source": [
    "d={'name': 'anil kumar', 'sal': '234567', 'mobile': 9676622023}\n",
    "print d.has_key(\"name\")\n",
    "print d.has_key(\"pan\")"
   ]
  },
  {
   "cell_type": "code",
   "execution_count": 74,
   "metadata": {},
   "outputs": [],
   "source": [
    "### has_keys check for keys and return true if that key was there in d if not then false"
   ]
  },
  {
   "cell_type": "code",
   "execution_count": 75,
   "metadata": {},
   "outputs": [
    {
     "name": "stdout",
     "output_type": "stream",
     "text": [
      "[('mobile', 9676622023L), ('name', 'anil kumar'), ('sal', '234567')]\n",
      "['mobile', 'name', 'sal']\n",
      "[9676622023L, 'anil kumar', '234567']\n"
     ]
    }
   ],
   "source": [
    "d={'name': 'anil kumar', 'sal': '234567', 'mobile': 9676622023}\n",
    "print d.items()\n",
    "print d.keys()\n",
    "print d.values()"
   ]
  },
  {
   "cell_type": "code",
   "execution_count": 79,
   "metadata": {},
   "outputs": [
    {
     "name": "stdout",
     "output_type": "stream",
     "text": [
      "[('mobile', 9676622023L), ('name', 'anil kumar'), ('sal', '234567')]\n",
      "['mobile', 'name', 'sal']\n",
      "[9676622023L, 'anil kumar', '234567']\n",
      "the values are: [9676622023L, 'anil kumar', '234567']\n"
     ]
    }
   ],
   "source": [
    "d={'name': 'anil kumar', 'sal': '234567', 'mobile': 9676622023}\n",
    "print d.items()\n",
    "\n",
    "\n",
    "keys = d.keys()\n",
    "print keys\n",
    "\n",
    "\n",
    "print d.values()\n",
    "values= d.values()\n",
    "print \"the values are:\",values"
   ]
  },
  {
   "cell_type": "code",
   "execution_count": 80,
   "metadata": {},
   "outputs": [],
   "source": [
    "# we can also do this for loop"
   ]
  },
  {
   "cell_type": "code",
   "execution_count": 81,
   "metadata": {},
   "outputs": [
    {
     "name": "stdout",
     "output_type": "stream",
     "text": [
      "mobile 9676622023\n",
      "name anil kumar\n",
      "sal 234567\n"
     ]
    }
   ],
   "source": [
    "d={'name': 'anil kumar', 'sal': '234567', 'mobile': 9676622023}\n",
    "for k,v in d.items():\n",
    "    print k,v"
   ]
  },
  {
   "cell_type": "code",
   "execution_count": 4,
   "metadata": {},
   "outputs": [],
   "source": [
    "person = {'name': 'Phill'}\n",
    "\n",
    "salary = person.setdefault('salary')\n"
   ]
  },
  {
   "cell_type": "code",
   "execution_count": 2,
   "metadata": {},
   "outputs": [
    {
     "name": "stdout",
     "output_type": "stream",
     "text": [
      "{'salary': None, 'name': 'Phill'}\n"
     ]
    }
   ],
   "source": [
    "print person"
   ]
  },
  {
   "cell_type": "code",
   "execution_count": 7,
   "metadata": {},
   "outputs": [],
   "source": [
    " person.setdefault('salary', 22)\n"
   ]
  },
  {
   "cell_type": "code",
   "execution_count": 8,
   "metadata": {},
   "outputs": [
    {
     "name": "stdout",
     "output_type": "stream",
     "text": [
      "{'salary': None, 'age': 22, 'name': 'Phill'}\n"
     ]
    }
   ],
   "source": [
    "print person\n"
   ]
  },
  {
   "cell_type": "code",
   "execution_count": 11,
   "metadata": {},
   "outputs": [],
   "source": [
    "a = 10\n",
    "\n"
   ]
  },
  {
   "cell_type": "code",
   "execution_count": 12,
   "metadata": {},
   "outputs": [
    {
     "data": {
      "text/plain": [
       "139"
      ]
     },
     "execution_count": 12,
     "metadata": {},
     "output_type": "execute_result"
    }
   ],
   "source": [
    "import sys\n",
    "sys.getrefcount(a)"
   ]
  },
  {
   "cell_type": "code",
   "execution_count": 13,
   "metadata": {},
   "outputs": [],
   "source": [
    "nagesh = 334"
   ]
  },
  {
   "cell_type": "code",
   "execution_count": 14,
   "metadata": {},
   "outputs": [
    {
     "data": {
      "text/plain": [
       "139"
      ]
     },
     "execution_count": 14,
     "metadata": {},
     "output_type": "execute_result"
    }
   ],
   "source": [
    "sys.getrefcount(a)"
   ]
  },
  {
   "cell_type": "code",
   "execution_count": 22,
   "metadata": {},
   "outputs": [
    {
     "name": "stdout",
     "output_type": "stream",
     "text": [
      "6\n",
      "6\n"
     ]
    }
   ],
   "source": [
    "x = 6 \n",
    "y = 6\n",
    "print x\n",
    "print y"
   ]
  },
  {
   "cell_type": "code",
   "execution_count": 23,
   "metadata": {},
   "outputs": [
    {
     "name": "stdout",
     "output_type": "stream",
     "text": [
      "7\n",
      "6\n"
     ]
    }
   ],
   "source": [
    "x = x + 1\n",
    "print x\n",
    "print y"
   ]
  },
  {
   "cell_type": "code",
   "execution_count": 24,
   "metadata": {},
   "outputs": [],
   "source": [
    "z = 6"
   ]
  },
  {
   "cell_type": "code",
   "execution_count": 25,
   "metadata": {},
   "outputs": [
    {
     "name": "stdout",
     "output_type": "stream",
     "text": [
      "55469184\n",
      "55469184\n"
     ]
    }
   ],
   "source": [
    "print id(z)\n",
    "print id(y)\n"
   ]
  },
  {
   "cell_type": "code",
   "execution_count": null,
   "metadata": {},
   "outputs": [],
   "source": [
    "#python optimizes memory by giving reference to same object in "
   ]
  },
  {
   "cell_type": "code",
   "execution_count": 26,
   "metadata": {},
   "outputs": [],
   "source": [
    "l = [2,3,45,56]\n",
    "l1 = l\n",
    "\n"
   ]
  },
  {
   "cell_type": "code",
   "execution_count": 27,
   "metadata": {},
   "outputs": [
    {
     "name": "stdout",
     "output_type": "stream",
     "text": [
      "90677768\n",
      "90677768\n"
     ]
    }
   ],
   "source": [
    "print id(l)\n",
    "print id(l1)"
   ]
  },
  {
   "cell_type": "code",
   "execution_count": 28,
   "metadata": {},
   "outputs": [],
   "source": [
    "l[0] = 34"
   ]
  },
  {
   "cell_type": "code",
   "execution_count": 29,
   "metadata": {},
   "outputs": [
    {
     "name": "stdout",
     "output_type": "stream",
     "text": [
      "[34, 3, 45, 56]\n"
     ]
    }
   ],
   "source": [
    "print l1"
   ]
  },
  {
   "cell_type": "code",
   "execution_count": 30,
   "metadata": {},
   "outputs": [
    {
     "name": "stdout",
     "output_type": "stream",
     "text": [
      "[34, 3, 45, 56]\n"
     ]
    }
   ],
   "source": [
    "print l"
   ]
  },
  {
   "cell_type": "code",
   "execution_count": 31,
   "metadata": {},
   "outputs": [],
   "source": [
    "l = [12]"
   ]
  },
  {
   "cell_type": "code",
   "execution_count": 32,
   "metadata": {},
   "outputs": [
    {
     "name": "stdout",
     "output_type": "stream",
     "text": [
      "90678600\n"
     ]
    }
   ],
   "source": [
    "print id (l)"
   ]
  },
  {
   "cell_type": "code",
   "execution_count": 33,
   "metadata": {},
   "outputs": [
    {
     "name": "stdout",
     "output_type": "stream",
     "text": [
      "90677768\n"
     ]
    }
   ],
   "source": [
    "print id(l1)"
   ]
  },
  {
   "cell_type": "code",
   "execution_count": null,
   "metadata": {},
   "outputs": [],
   "source": []
  }
 ],
 "metadata": {
  "kernelspec": {
   "display_name": "Python 2",
   "language": "python",
   "name": "python2"
  },
  "language_info": {
   "codemirror_mode": {
    "name": "ipython",
    "version": 2
   },
   "file_extension": ".py",
   "mimetype": "text/x-python",
   "name": "python",
   "nbconvert_exporter": "python",
   "pygments_lexer": "ipython2",
   "version": "2.7.15"
  }
 },
 "nbformat": 4,
 "nbformat_minor": 2
}
