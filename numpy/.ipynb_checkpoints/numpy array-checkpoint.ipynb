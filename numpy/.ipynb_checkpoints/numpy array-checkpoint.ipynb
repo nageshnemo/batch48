{
 "cells": [
  {
   "cell_type": "markdown",
   "metadata": {},
   "source": [
    "# NUMPY ARRAY"
   ]
  },
  {
   "cell_type": "code",
   "execution_count": null,
   "metadata": {},
   "outputs": [],
   "source": [
    "# what is the difference between list and numpy arraay\n",
    "# why should i use numpy app development instead of list\n",
    "# numpy array formation from list and tuple\n",
    "# operations on numpy arrays\n",
    "# slicing in numpy array\n",
    "# difference between list slicing and np array slicing \n",
    "# arrays functions \n",
    "# np.arrange,vstack,hstack "
   ]
  }
 ],
 "metadata": {
  "kernelspec": {
   "display_name": "Python 2",
   "language": "python",
   "name": "python2"
  },
  "language_info": {
   "codemirror_mode": {
    "name": "ipython",
    "version": 2
   },
   "file_extension": ".py",
   "mimetype": "text/x-python",
   "name": "python",
   "nbconvert_exporter": "python",
   "pygments_lexer": "ipython2",
   "version": "2.7.15"
  }
 },
 "nbformat": 4,
 "nbformat_minor": 2
}
