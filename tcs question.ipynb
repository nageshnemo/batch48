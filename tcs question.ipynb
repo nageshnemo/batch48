{
 "cells": [
  {
   "cell_type": "code",
   "execution_count": 1,
   "metadata": {},
   "outputs": [],
   "source": [
    "# tcs question\n"
   ]
  },
  {
   "cell_type": "code",
   "execution_count": 6,
   "metadata": {},
   "outputs": [
    {
     "name": "stdout",
     "output_type": "stream",
     "text": [
      "2\n",
      "2\n"
     ]
    }
   ],
   "source": [
    "\n",
    "\n",
    "def prime(n):\n",
    "    for i in range (1,n + 1,1):\n",
    "        count = 0\n",
    "        for y in range(1,i+1,1): \n",
    "    \n",
    "            if i % y == 0:\n",
    "                count+=1\n",
    "                                       \n",
    "        if count ==2:\n",
    "            return count\n",
    "\n",
    "\n",
    "def fib(n):\n",
    "    if i == 1 or i ==2:\n",
    "        return 1\n",
    "    else:\n",
    "        return n-1 + n-2\n",
    "\n",
    "\n",
    "n = raw_input(\"enter a no\")\n",
    "for i in range(1,n):\n",
    "    if i % 2 == 0:\n",
    "        print \n",
    "\n",
    "\n",
    "\n",
    "\n",
    "\n",
    "\n",
    "\n",
    "\n",
    "\n",
    "\n",
    "\n",
    "\n",
    "\n",
    "\n",
    "\n",
    "\n",
    "\n",
    "\n"
   ]
  },
  {
   "cell_type": "code",
   "execution_count": 4,
   "metadata": {},
   "outputs": [
    {
     "name": "stdout",
     "output_type": "stream",
     "text": [
      "enter the no12\n",
      "[2, 3, 5, 7, 11]\n",
      "[1, 1, 2, 3, 5, 8, 13, 21, 34, 55, 89, 144]\n",
      "the required series which is mixture of prime and fibonacci is\n",
      "[1, 2, 1, 3, 2, 5, 3, 7, 5, 11, 8, 13, 21, 34, 55, 89, 144]\n"
     ]
    }
   ],
   "source": [
    "\"\"\"\n",
    "consider  the folowing series\n",
    "1,2,1,3,2,5,3,7,5,11,8,13,17\n",
    "\"\"\"\n",
    "l = []\n",
    "f = []\n",
    "\n",
    "n = int(raw_input(\"enter the no\"))\n",
    "for i in range (1,n + 1,1):\n",
    "    count = 0\n",
    "    for y in range(1,i+1,1): \n",
    "    \n",
    "        if i % y == 0:\n",
    "            count+=1\n",
    "                                       \n",
    "    if count ==2:\n",
    "        l.append(i)\n",
    "        \n",
    "        \n",
    "print l\n",
    "        \n",
    "a = 1\n",
    "b = 1\n",
    "for k in range (1,n + 1,1):\n",
    "    \n",
    "    if k == 1 or k == 2:\n",
    "        f.append(1)\n",
    "    else:\n",
    "        c = a + b\n",
    "        f.append(c)\n",
    "        a = b\n",
    "        b = c\n",
    "a = 1\n",
    "f = []\n",
    "b = 1\n",
    "for k in range (1,13,1):\n",
    "    \n",
    "    if k == 1 or k == 2:\n",
    "        f.append(1)\n",
    "    else:\n",
    "        c = a + b\n",
    "        f.append(c)\n",
    "        a = b\n",
    "        b = c\n",
    "        \n",
    "print f\n",
    "    \n",
    "    \n",
    "res = []\n",
    "\n",
    "length = len(f) + len(l)\n",
    "\n",
    "for i in range(n):\n",
    "    if i<length:\n",
    "        res.append(f[i])\n",
    "        if i<len(l):\n",
    "            res.append(l[i])\n",
    "        else:\n",
    "            continue\n",
    "    else:\n",
    "        break\n",
    "        \n",
    "print \"the required series which is mixture of prime and fibonacci is\"\n",
    "print res\n"
   ]
  },
  {
   "cell_type": "code",
   "execution_count": 30,
   "metadata": {},
   "outputs": [
    {
     "name": "stdout",
     "output_type": "stream",
     "text": [
      "13\n"
     ]
    }
   ],
   "source": [
    "def fib(n):\n",
    "    \n",
    "     if n == 1 or n == 2:\n",
    "        return 1 \n",
    "     else:\n",
    "        return fib(n-1) + fib(n-2)\n",
    "    \n",
    "    \n",
    "n = fib(7)\n",
    "print n"
   ]
  },
  {
   "cell_type": "code",
   "execution_count": 9,
   "metadata": {},
   "outputs": [
    {
     "name": "stdout",
     "output_type": "stream",
     "text": [
      "enter the  start value where you want to know the prime no23\n",
      "enter the end the value at which you want to know the prime no456\n",
      "23\n",
      "29\n",
      "31\n",
      "37\n",
      "41\n",
      "43\n",
      "47\n",
      "53\n",
      "59\n",
      "61\n",
      "67\n",
      "71\n",
      "73\n",
      "79\n",
      "83\n",
      "89\n",
      "97\n",
      "101\n",
      "103\n",
      "107\n",
      "109\n",
      "113\n",
      "127\n",
      "131\n",
      "137\n",
      "139\n",
      "149\n",
      "151\n",
      "157\n",
      "163\n",
      "167\n",
      "173\n",
      "179\n",
      "181\n",
      "191\n",
      "193\n",
      "197\n",
      "199\n",
      "211\n",
      "223\n",
      "227\n",
      "229\n",
      "233\n",
      "239\n",
      "241\n",
      "251\n",
      "257\n",
      "263\n",
      "269\n",
      "271\n",
      "277\n",
      "281\n",
      "283\n",
      "293\n",
      "307\n",
      "311\n",
      "313\n",
      "317\n",
      "331\n",
      "337\n",
      "347\n",
      "349\n",
      "353\n",
      "359\n",
      "367\n",
      "373\n",
      "379\n",
      "383\n",
      "389\n",
      "397\n",
      "401\n",
      "409\n",
      "419\n",
      "421\n",
      "431\n",
      "433\n",
      "439\n",
      "443\n",
      "449\n"
     ]
    }
   ],
   "source": [
    "\n",
    "\n",
    "\n",
    "\n",
    "for i in range (i,no + 1,1):\n",
    "    count = 0\n",
    "    for y in range(1,i+1,1): \n",
    "    \n",
    "        if i % y == 0:\n",
    "            count+=1\n",
    "                                       \n",
    "    if count ==2:\n",
    "        print  start"
   ]
  },
  {
   "cell_type": "code",
   "execution_count": 18,
   "metadata": {},
   "outputs": [
    {
     "name": "stdout",
     "output_type": "stream",
     "text": [
      "[1]\n"
     ]
    }
   ],
   "source": [
    "o = []\n",
    "o.append(1)\n",
    "print o"
   ]
  },
  {
   "cell_type": "code",
   "execution_count": 21,
   "metadata": {},
   "outputs": [
    {
     "name": "stdout",
     "output_type": "stream",
     "text": [
      "[1, 1, 2, 3, 5, 8, 13, 21, 34, 55, 89, 144]\n"
     ]
    }
   ],
   "source": []
  },
  {
   "cell_type": "code",
   "execution_count": 16,
   "metadata": {},
   "outputs": [
    {
     "name": "stdout",
     "output_type": "stream",
     "text": [
      "[3, 345]\n"
     ]
    }
   ],
   "source": [
    "n1 = [3,546,334,566]\n",
    "n2 = [235,566,7657,345]\n",
    "res = []\n",
    "res.append(n1[0])\n",
    "res.append(n2[3])\n",
    "print res"
   ]
  },
  {
   "cell_type": "code",
   "execution_count": 1,
   "metadata": {},
   "outputs": [
    {
     "name": "stdout",
     "output_type": "stream",
     "text": [
      "enter the no12\n",
      "[2, 3, 5, 7, 11]\n",
      "[1, 1, 2, 3, 5, 8, 13, 21, 34, 55, 89, 144]\n"
     ]
    }
   ],
   "source": [
    "\"\"\"\n",
    "consider  the folowing series\n",
    "1,2,1,3,2,5,3,7,5,11,8,13,17\n",
    "\"\"\"\n",
    "l = []\n",
    "f = []\n",
    "res = []\n",
    "\n",
    "n = int(raw_input(\"enter the no\"))\n",
    "for i in range (1,n + 1,1):\n",
    "    count = 0\n",
    "    for y in range(1,i+1,1): \n",
    "    \n",
    "        if i % y == 0:\n",
    "            count+=1\n",
    "                                       \n",
    "    if count ==2:\n",
    "        l.append(i)\n",
    "\n",
    "        \n",
    "print l\n",
    "        \n",
    "a = 1\n",
    "b = 1\n",
    "for k in range (1,n + 1,1):\n",
    "    \n",
    "    if k == 1 or k == 2:\n",
    "        f.append(1)\n",
    "    else:\n",
    "        c = a + b\n",
    "        f.append(c)\n",
    "        a = b\n",
    "        b = c\n",
    "a = 1\n",
    "f = []\n",
    "b = 1\n",
    "for k in range (1,13,1):\n",
    "    \n",
    "    if k == 1 or k == 2:\n",
    "        f.append(1)\n",
    "    else:\n",
    "        c = a + b\n",
    "        f.append(c)\n",
    "        a = b\n",
    "        b = c\n",
    "        \n",
    "print f\n",
    "    \n",
    "    \n",
    "res = []\n",
    "\n",
    "length = len(f) + len(l)\n",
    "n = 0\n"
   ]
  },
  {
   "cell_type": "code",
   "execution_count": null,
   "metadata": {},
   "outputs": [],
   "source": []
  },
  {
   "cell_type": "code",
   "execution_count": null,
   "metadata": {},
   "outputs": [
    {
     "name": "stdout",
     "output_type": "stream",
     "text": [
      "enter a number121\n"
     ]
    }
   ],
   "source": [
    "\"\"\"\n",
    "consider  the folowing series\n",
    "1,2,1,3,2,5,3,7,5,11,8,13,17\n",
    "\"\"\"\n",
    "\n",
    "\n",
    "num = int(raw_input(\"enter a number\"))\n",
    "list = [0,1]\n",
    "start = 2\n",
    "\n",
    "for i in range(num+1):\n",
    "    if i % 2 == 0:\n",
    "        while start >= 1:\n",
    "            count = 0\n",
    "            for y in range(1,start+1,1):      \n",
    "                if start % y == 0:\n",
    "                    count+=1\n",
    "                                    \n",
    "        if count ==2:\n",
    "            list.append(start)\n",
    "            start +=1\n",
    "            break\n",
    "        else:\n",
    "            start+=1\n",
    "        \n",
    "        \n",
    "     \n",
    "            \n",
    "    else:\n",
    "        continue\n",
    "        \n",
    "        \"\"\" \n",
    "        if i == 3:\n",
    "            list.append(list[0]+list[1])\n",
    "        else:\n",
    "            list.append(i)\n",
    "                                              \n",
    "         \"\"\"\n",
    "print list           \n",
    "       \n",
    "    "
   ]
  },
  {
   "cell_type": "code",
   "execution_count": null,
   "metadata": {},
   "outputs": [],
   "source": []
  },
  {
   "cell_type": "code",
   "execution_count": null,
   "metadata": {},
   "outputs": [],
   "source": [
    "count =0\n",
    "j=0\n",
    "while j<=prime:\n",
    "    j+=1\n",
    "    if prime % j == 0:\n",
    "        count +=1\n",
    "if count == 2:\n",
    "    my_list.append(prime)\n",
    "    print prime\n",
    "    break\n"
   ]
  },
  {
   "cell_type": "code",
   "execution_count": 16,
   "metadata": {},
   "outputs": [
    {
     "name": "stdout",
     "output_type": "stream",
     "text": [
      "None\n"
     ]
    }
   ],
   "source": [
    "list = [0,1,2,1,3]\n",
    "print list.append(list[4-2]+list[4-4])\n"
   ]
  },
  {
   "cell_type": "code",
   "execution_count": null,
   "metadata": {},
   "outputs": [],
   "source": []
  },
  {
   "cell_type": "code",
   "execution_count": 21,
   "metadata": {},
   "outputs": [
    {
     "name": "stdout",
     "output_type": "stream",
     "text": [
      "$$$$$$$$$$$$$$$$$$$$$$$$$$$$$$$$$$$$$$$$$$$$$$$$$$$$$$$$$$$$$$$$$$$$$$$$$$$$$$$$$$$$$$$$$$$$$$$$$$$$$$$$$$$$$$$$$$$$$$$$$$$$$$$$$$$$$$$$$$$$$$$$$$$$$$$$$$$$$$$$$$$$$$$$$$$$$$$$$$$$$$$$$$$$$$$$$$$$$$$$$$$$$$$$$$$$$$$$$$$$$$$$$$$$$$$$$$$$$$$$$$$$$$$$$$$$$$$$$$$$$$$$$$$$$$$$$$$$$$$$$$$$$$$$$$$$$$$$$$$$$$$$$$$$$$$$$$$$$$$$$$$$$$$$$$$$$$$$$$$$$$$$$$$$$$$$$$$$$$$$$$$$$$$$$$$$$$$$$$$$$$$$$$$$$$$$$$$$$$$$$$$$$$$$$$$$$$$$$$$$$$$$$$$$$$$$$$$$$$$$$$$$$$$$$$$$$$$$$$$$$$$$$$$$$$$$$$$$$$$$$$$$$$$$$$$$$$$$$$$$$$$$$$$$$$$$$$$$$$$$$$$$$$$$$$$$$$$$$$$$$$$$$$$$$$$$$$$$$$$$$$$$$$$$$$$$$$$$$$$$$$$$$$$$$$$$$$$$$$$$$$$$$$$$$$$$$$$$$$$$$$$$$$$$$$$$$$$$$$$$$$$$$$$$$$$$$$$$$$$$$$$$$$\n"
     ]
    }
   ],
   "source": [
    "print \"$\"* 666,"
   ]
  },
  {
   "cell_type": "code",
   "execution_count": 13,
   "metadata": {},
   "outputs": [
    {
     "name": "stdout",
     "output_type": "stream",
     "text": [
      "enter a number12\n",
      "[0, 1, 2, 1, 3, 2, 5, 3, 7, 5, 11, 8, 13]\n"
     ]
    }
   ],
   "source": [
    "n = int(raw_input(\"enter a number\"))\n",
    "l = [0,1]\n",
    "start =2\n",
    "for i in range(2,n+1):\n",
    "    if i % 2 == 0:\n",
    "\n",
    "        while start >= 1:\n",
    "            count = 0\n",
    "            for y in range(1,start+1,1):      \n",
    "                if start % y == 0:\n",
    "                    count+=1\n",
    "                                    \n",
    "            if count ==2:\n",
    "                l.append(start)\n",
    "                start +=1\n",
    "                break\n",
    "            else:\n",
    "                start+=1\n",
    "    else:\n",
    "        if i == 3:\n",
    "            l.append(l[0] + l[1])\n",
    "        else:\n",
    "            l.append(l[i-2]+l[i-4])\n",
    "        \n",
    "print l"
   ]
  },
  {
   "cell_type": "code",
   "execution_count": 3,
   "metadata": {},
   "outputs": [
    {
     "name": "stdout",
     "output_type": "stream",
     "text": [
      "1\n",
      "2\n"
     ]
    }
   ],
   "source": [
    "for i in range(1,2+1):\n",
    "    print i"
   ]
  },
  {
   "cell_type": "code",
   "execution_count": null,
   "metadata": {},
   "outputs": [],
   "source": []
  }
 ],
 "metadata": {
  "kernelspec": {
   "display_name": "Python 2",
   "language": "python",
   "name": "python2"
  },
  "language_info": {
   "codemirror_mode": {
    "name": "ipython",
    "version": 2
   },
   "file_extension": ".py",
   "mimetype": "text/x-python",
   "name": "python",
   "nbconvert_exporter": "python",
   "pygments_lexer": "ipython2",
   "version": "2.7.15"
  }
 },
 "nbformat": 4,
 "nbformat_minor": 2
}
