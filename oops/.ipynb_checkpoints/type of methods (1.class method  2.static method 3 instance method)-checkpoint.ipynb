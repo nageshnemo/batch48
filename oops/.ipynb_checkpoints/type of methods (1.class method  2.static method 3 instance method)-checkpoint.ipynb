{
 "cells": [
  {
   "cell_type": "code",
   "execution_count": 1,
   "metadata": {},
   "outputs": [],
   "source": [
    "# the method which we called throough instance is called instance method "
   ]
  },
  {
   "cell_type": "markdown",
   "metadata": {},
   "source": [
    "# three type of methods \n",
    "## 1.class method \n",
    "## 2. instance method \n",
    "## 3.static methods\n"
   ]
  },
  {
   "cell_type": "code",
   "execution_count": 8,
   "metadata": {},
   "outputs": [
    {
     "name": "stdout",
     "output_type": "stream",
     "text": [
      "o1 details <__main__.Emp instance at 0x0000000004972288> 77013640\n",
      "self.details: <__main__.Emp instance at 0x0000000004972288> 77013640\n"
     ]
    },
    {
     "data": {
      "text/plain": [
       "('anil', 23, 'naga raj')"
      ]
     },
     "execution_count": 8,
     "metadata": {},
     "output_type": "execute_result"
    }
   ],
   "source": [
    "class Emp:\n",
    "    \n",
    "    company = \"naga raj\"\n",
    "    \n",
    "    def __init__(self,name,age):\n",
    "        #instance method and constructor\n",
    "        self.name = name \n",
    "        self.age = age\n",
    "        \n",
    "        \n",
    "    def get(self):\n",
    "        #instance method\n",
    "        print \"self.details:\",self,id(self)\n",
    "        return self.name,self.age,self.company\n",
    "    #self.company is class attribute\n",
    "    # using self we can call both instance attributes aa\\nd class attributes\n",
    "    \n",
    "    @classmethod\n",
    "    \n",
    "    # scope is only acess class attributes not instance attributes\n",
    "\n",
    "    \n",
    "    def clm(cls):\n",
    "        print \"this is class method\"\n",
    "        print cls \n",
    "        print cls.company\n",
    "        # we can only acess class attributes not instance attributes\n",
    "        print \"end of class method\"\n",
    "        \n",
    "        \n",
    "    @staticmethod\n",
    "        \n",
    "    # scope is not for class and instance attributes both\n",
    "        \n",
    "    def sta(a,b):\n",
    "        print \"this is a static mehtod\"\n",
    "        print a \n",
    "        print b\n",
    "        print \"end of static method\"\n",
    "        \n",
    "        \n",
    "o1 = Emp(\"anil\",23)\n",
    "print\"o1 details\",o1,id(o1)\n",
    "o1.get()"
   ]
  },
  {
   "cell_type": "code",
   "execution_count": 13,
   "metadata": {},
   "outputs": [
    {
     "name": "stdout",
     "output_type": "stream",
     "text": [
      "o1 details <__main__.Emp instance at 0x0000000004A018C8> 77600968\n",
      "self.details: <__main__.Emp instance at 0x0000000004A018C8> 77600968\n",
      "**********\n",
      "Emp details __main__.Emp 79342088\n",
      "\n",
      "\n",
      "\n",
      "this is class method\n",
      "cls details __main__.Emp 79342088\n",
      "__main__.Emp\n",
      "naga raj\n",
      "end of class method\n",
      "\n",
      "\n",
      "\n",
      "this is class method\n",
      "cls details __main__.Emp 79342088\n",
      "__main__.Emp\n",
      "naga raj\n",
      "end of class method\n",
      "this is a static mehtod\n",
      "100\n",
      "200\n",
      "end of static method\n"
     ]
    }
   ],
   "source": [
    "class Emp:\n",
    "    \n",
    "    company = \"naga raj\"\n",
    "    \n",
    "    def __init__(self,name,age):\n",
    "        #instance method and constructor\n",
    "        self.name = name \n",
    "        self.age = age\n",
    "        \n",
    "        \n",
    "    def get(self):\n",
    "        #instance method\n",
    "        print \"self.details:\",self,id(self)\n",
    "        return self.name,self.age,self.company\n",
    "    #self.company is class attribute\n",
    "    # using self we can call both instance attributes aa\\nd class attributes\n",
    "    \n",
    "    @classmethod\n",
    "    \n",
    "    # scope is only acess class attributes not instance attributes\n",
    "\n",
    "    \n",
    "    def clm(cls):\n",
    "        print \"\\n\\n\"\n",
    "        print \"this is class method\"\n",
    "        print \"cls details\",cls,id(cls)\n",
    "        print cls \n",
    "        print cls.company\n",
    "        \n",
    "        # we can only acess class attributes not instance attributes\n",
    "        print \"end of class method\"\n",
    "        \n",
    "        \n",
    "    @staticmethod\n",
    "        \n",
    "    # scope is not for class and instance attributes both\n",
    "        \n",
    "    def sta(a,b):\n",
    "        print \"this is a static mehtod\"\n",
    "        print a \n",
    "        print b\n",
    "        print \"end of static method\"\n",
    "        \n",
    "        \n",
    "o1 = Emp(\"anil\",23)\n",
    "print\"o1 details\",o1,id(o1)\n",
    "o1.get()\n",
    "print \"*\" * 10\n",
    "\n",
    "print \"Emp details\",Emp,id(Emp)\n",
    "\n",
    "# we can also call class method through instance \n",
    "o1.clm()\n",
    "Emp.clm()\n",
    "\n",
    "# in this method call o1 is not passing it is passing Emp (class object ) internally because clm is a class method \n",
    "# we are getting cls.company because that is class object \n",
    "\n",
    "\n",
    "\n",
    "\n",
    "o1.sta(100,200)\n",
    "# in static method it doesnot pass anything neither instance and class object\n"
   ]
  },
  {
   "cell_type": "code",
   "execution_count": 23,
   "metadata": {},
   "outputs": [
    {
     "name": "stdout",
     "output_type": "stream",
     "text": [
      "o1 details <__main__.Emp instance at 0x00000000049723C8> 77013960\n",
      "self.details: <__main__.Emp instance at 0x00000000049723C8> 77013960\n",
      "**********\n",
      "Emp details __main__.Emp 76864776\n",
      "\n",
      "\n",
      "\n",
      "this is class method\n",
      "cls details __main__.Emp 76864776\n",
      "__main__.Emp\n",
      "naga raj\n",
      "end of class method\n",
      "this is a static mehtod\n",
      "100\n",
      "200\n",
      "end of static method\n",
      "\n",
      "\n",
      "\n",
      "this is class method\n",
      "cls details __main__.Emp 76864776\n",
      "__main__.Emp\n",
      "naga raj\n",
      "end of class method\n",
      "this is a static mehtod\n",
      "100\n",
      "3030\n",
      "end of static method\n"
     ]
    }
   ],
   "source": [
    "class Emp:\n",
    "    \n",
    "    company = \"naga raj\"\n",
    "    \n",
    "    def __init__(self,name,age):\n",
    "        #instance method and constructor\n",
    "        self.name = name \n",
    "        self.age = age\n",
    "        \n",
    "        \n",
    "    def get(self):\n",
    "        #instance method\n",
    "        print \"self.details:\",self,id(self)\n",
    "        return self.name,self.age,self.company\n",
    "    #self.company is class attribute\n",
    "    # using self we can call both instance attributes aa\\nd class attributes\n",
    "    \n",
    "    @classmethod\n",
    "    \n",
    "    # scope is only acess class attributes not instance attributes\n",
    "\n",
    "    \n",
    "    def clm(cls):\n",
    "        print \"\\n\\n\"\n",
    "        print \"this is class method\"\n",
    "        print \"cls details\",cls,id(cls)\n",
    "        print cls \n",
    "        print cls.company\n",
    "        \n",
    "        # we can only acess class attributes not instance attributes\n",
    "        print \"end of class method\"\n",
    "        \n",
    "        \n",
    "    @staticmethod\n",
    "        \n",
    "    # scope is not for class and instance attributes both\n",
    "        \n",
    "    def sta(a,b):\n",
    "        print \"this is a static mehtod\"\n",
    "        print a \n",
    "        print b\n",
    "        print \"end of static method\"\n",
    "        \n",
    "        \n",
    "o1 = Emp(\"anil\",23)\n",
    "print\"o1 details\",o1,id(o1)\n",
    "o1.get()\n",
    "print \"*\" * 10\n",
    "\n",
    "print \"Emp details\",Emp,id(Emp)\n",
    "\n",
    "# we can also call class method through instance \n",
    "o1.clm()\n",
    "\n",
    "# in this method call o1 is not passing it is passing Emp (class object ) internally because clm is a class method \n",
    "# we are getting cls.company because that is class object \n",
    "\n",
    "\n",
    "\n",
    "\n",
    "o1.sta(100,200)\n",
    "# in static method it doesnot pass anything neither instance and class object\n",
    "\n",
    "\n",
    "\n",
    "\n",
    "\n",
    "\n",
    "\n",
    "\n",
    "\n",
    "Emp.clm()\n",
    "Emp.sta(100,3030)\n",
    "# ther is no need to make instance to call class and static object"
   ]
  },
  {
   "cell_type": "code",
   "execution_count": 31,
   "metadata": {},
   "outputs": [
    {
     "name": "stdout",
     "output_type": "stream",
     "text": [
      "nag raj\n",
      "('nag raj', 'naga', 23)\n"
     ]
    }
   ],
   "source": [
    "class Emp1:\n",
    "    \n",
    "    company1 =  \"nag raj\"\n",
    "    \n",
    "    def __init__(self,name,age):\n",
    "        self.name = name \n",
    "        self.age = age\n",
    "        \n",
    "    @classmethod    \n",
    "    def get_company(self):\n",
    "        return self.company1\n",
    "        \n",
    "        \n",
    "    def get_emp(self):\n",
    "        return self.company1,self.name,self.age\n",
    "    \n",
    "    \n",
    "    \n",
    "o1 = Emp1(\"naga\",23)\n",
    "print o1.get_company()\n",
    "print o1.get_emp()"
   ]
  },
  {
   "cell_type": "code",
   "execution_count": 1,
   "metadata": {},
   "outputs": [
    {
     "name": "stdout",
     "output_type": "stream",
     "text": [
      "nag raj\n",
      "('nag raj', 'naga', 23)\n"
     ]
    }
   ],
   "source": [
    "class Emp1:\n",
    "    \n",
    "    company1 =  \"nag raj\"\n",
    "    \n",
    "    def __init__(self,name,age):\n",
    "        self.name = name \n",
    "        self.age = age\n",
    "        \n",
    "    @classmethod    \n",
    "    def get_company(cls):\n",
    "        return cls.company1\n",
    "        \n",
    "        \n",
    "    def get_emp(self):\n",
    "        return self.company1,self.name,self.age\n",
    "    \n",
    "    \n",
    "    \n",
    "o1 = Emp1(\"naga\",23)\n",
    "print o1.get_company()\n",
    "print o1.get_emp()\n",
    "\n",
    "\n",
    "# thing got common"
   ]
  },
  {
   "cell_type": "markdown",
   "metadata": {},
   "source": [
    "# let's take example to understand this concept :"
   ]
  },
  {
   "cell_type": "code",
   "execution_count": 5,
   "metadata": {},
   "outputs": [
    {
     "name": "stdout",
     "output_type": "stream",
     "text": [
      "230.0\n",
      "443.666666667\n"
     ]
    }
   ],
   "source": [
    "class student:\n",
    "    \n",
    "    school = \"Telusko\"   # static variable or class variable \n",
    "    \n",
    "    \n",
    "    def __init__(self,m1,m2,m3):\n",
    "        self.m1 = m1\n",
    "        self.m2 = m2\n",
    "        self.m3 = m3 \n",
    "        # m1,m2 and m3 are basically a instance variable \n",
    "        \n",
    "        \n",
    "    def avg(self):\n",
    "        return (self.m1 +self.m2 + self.m3)/3.0\n",
    "        # this method is basically a instance variable because we are passing self here and self belongs to instance\n",
    "        \n",
    "        \n",
    "        \n",
    "        \n",
    "    \n",
    "        \n",
    "        \n",
    "        \n",
    "s1 = student(34,567,89)\n",
    "s2 = student(324,573,434)\n",
    "\n",
    "\n",
    "print s1.avg()\n",
    "print s2.avg()\n",
    "\n",
    "\n",
    "\n",
    "# in this we talk about instance method"
   ]
  },
  {
   "cell_type": "code",
   "execution_count": 7,
   "metadata": {},
   "outputs": [
    {
     "data": {
      "text/plain": [
       "'\\nif we are working with instance we have to use self keyword \\nlike for m1 m2 m3\\n\\n\\nif we are working with class variable  we have to use cls keyword \\nlike in upper case if we want to change the name of school why to use self keyword \\n\\n\\n'"
      ]
     },
     "execution_count": 7,
     "metadata": {},
     "output_type": "execute_result"
    }
   ],
   "source": [
    "\"\"\"\n",
    "if we are working with instance we have to use self keyword \n",
    "like for m1 m2 m3\n",
    "\n",
    "\n",
    "if we are working with class variable  we have to use cls keyword \n",
    "like in upper case if we want to change the name of school why to use self keyword \n",
    "\n",
    "\n",
    "\"\"\""
   ]
  },
  {
   "cell_type": "code",
   "execution_count": 11,
   "metadata": {},
   "outputs": [
    {
     "name": "stdout",
     "output_type": "stream",
     "text": [
      "230.0\n",
      "443.666666667\n",
      "Telusko\n"
     ]
    }
   ],
   "source": [
    "class student:\n",
    "    \n",
    "    school = \"Telusko\"   # static variable or class variable \n",
    "    \n",
    "    \n",
    "    def __init__(self,m1,m2,m3):\n",
    "        self.m1 = m1\n",
    "        self.m2 = m2\n",
    "        self.m3 = m3 \n",
    "        # m1,m2 and m3 are basically a instance variable \n",
    "        \n",
    "        \n",
    "    def avg(self):\n",
    "        return (self.m1 +self.m2 + self.m3)/3.0\n",
    "        # this method is basically a instance variable because we are passing self here and self belongs to instance\n",
    "    \n",
    "    \n",
    "    @classmethod \n",
    "    # this is decorator\n",
    "    def info(cls):\n",
    "        return cls.school\n",
    "        \n",
    "        \n",
    "    \n",
    "        \n",
    "        \n",
    "        \n",
    "s1 = student(34,567,89)\n",
    "s2 = student(324,573,434)\n",
    "\n",
    "\n",
    "print s1.avg()\n",
    "print s2.avg()\n",
    "\n",
    "\n",
    "\n",
    "print student.info()\n",
    "# see for class method we use class name to call this class method \n",
    "# there we also use decorators @classmethod \n"
   ]
  },
  {
   "cell_type": "code",
   "execution_count": 1,
   "metadata": {},
   "outputs": [
    {
     "data": {
      "text/plain": [
       "'\\nif we want a mehtod which has nothing to do with class variables and nothing to do with instance method \\nthen at that moment we use static method \\n\\nmeans nothing to do with instance variable and class variable that is static variable \\n\\n\\n\\nif we want to  use only class variable then at moment we use class method \\n\\n\\n'"
      ]
     },
     "execution_count": 1,
     "metadata": {},
     "output_type": "execute_result"
    }
   ],
   "source": [
    "\"\"\"\n",
    "if we want a mehtod which has nothing to do with class variables and nothing to do with instance method \n",
    "then at that moment we use static method \n",
    "\n",
    "means nothing to do with instance variable and class variable that is static variable \n",
    "\n",
    "\n",
    "\n",
    "if we want to  use only class variable then at moment we use class method \n",
    "\n",
    "\n",
    "\"\"\""
   ]
  },
  {
   "cell_type": "code",
   "execution_count": 1,
   "metadata": {},
   "outputs": [],
   "source": [
    "# these three are the type of methods present in python\n",
    "# which were used in some special fn \n"
   ]
  },
  {
   "cell_type": "code",
   "execution_count": null,
   "metadata": {},
   "outputs": [],
   "source": []
  }
 ],
 "metadata": {
  "kernelspec": {
   "display_name": "Python 2",
   "language": "python",
   "name": "python2"
  },
  "language_info": {
   "codemirror_mode": {
    "name": "ipython",
    "version": 2
   },
   "file_extension": ".py",
   "mimetype": "text/x-python",
   "name": "python",
   "nbconvert_exporter": "python",
   "pygments_lexer": "ipython2",
   "version": "2.7.15"
  }
 },
 "nbformat": 4,
 "nbformat_minor": 2
}
