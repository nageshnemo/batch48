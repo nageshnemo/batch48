{
 "cells": [
  {
   "cell_type": "code",
   "execution_count": 1,
   "metadata": {},
   "outputs": [
    {
     "name": "stdout",
     "output_type": "stream",
     "text": [
      "<type 'instance'>\n",
      "<type 'instance'>\n"
     ]
    }
   ],
   "source": [
    "# if we want to have our own data type we need to have class\n",
    "\n",
    "class Computer:\n",
    "    \n",
    "    \"\"\"\n",
    "    class has two things:\n",
    "    1. attributes === (variables)\n",
    "    2 .behaviour =====(methods or function)\n",
    "    \"\"\"\n",
    "        \n",
    "        \n",
    "    \n",
    "    def config(self):\n",
    "        print \"i5 computer , 16gb , 1tb\"\n",
    "        print self\n",
    "        \n",
    "        \n",
    "# now we are creating objects of class Computer \n",
    "com1 = Computer()\n",
    "print type(com1)\n",
    "com2 = Computer()\n",
    "print type(com2)\n",
    "#instance is basically a object of class"
   ]
  },
  {
   "cell_type": "code",
   "execution_count": 2,
   "metadata": {},
   "outputs": [
    {
     "name": "stdout",
     "output_type": "stream",
     "text": [
      "i5 computer , 16gb , 1tb\n",
      "<__main__.Computer instance at 0x0000000004AED788>\n",
      "i5 computer , 16gb , 1tb\n",
      "<__main__.Computer instance at 0x0000000004AED748>\n"
     ]
    }
   ],
   "source": [
    "# we can allso call method inside class in another way\n",
    "com1.config()\n",
    "com2.config()\n",
    "\n",
    "\n",
    "# what is happpening here is behind the scene com1 is passed and copy to self\n",
    "# we hyave no n need to have a class name when we are calling methods inside our class\n"
   ]
  },
  {
   "cell_type": "code",
   "execution_count": 2,
   "metadata": {},
   "outputs": [
    {
     "name": "stdout",
     "output_type": "stream",
     "text": [
      "('config is ', 'i5', 16)\n",
      "('config is ', 'ryzenn', 8)\n"
     ]
    }
   ],
   "source": [
    "# if we want to have our own data type we need to have class\n",
    "\n",
    "class Computer:\n",
    "    \n",
    "    \"\"\"\n",
    "    class has two things:\n",
    "    1. attributes === (variables)\n",
    "    2 .behaviour =====(methods or function)\n",
    "    \"\"\"\n",
    "        \n",
    "    #special variable and special method that is init\n",
    "    #init is called automatically like a constructor in c or java\n",
    "    def __init__(self,cpu,ram):\n",
    "        #here we define 3 arguments because we know that 3arguments was there one is instance of that \n",
    "        # object which is passed automatically and two actual argumnets which is supposed to be passed\n",
    "        self.cpu = cpu\n",
    "        self.ram = ram\n",
    "        \n",
    "        \"\"\"\n",
    "        what is happening here we arew makig own data type of both com1 and com2 \n",
    "        so com1 has cpu and ram\n",
    "        and com2 has cpu and ram\n",
    "        \n",
    "        \"\"\"\n",
    "        \n",
    "    \n",
    "    \n",
    "    \n",
    "    def config(self):\n",
    "        print (\"config is \",self.cpu,self.ram)\n",
    "        \n",
    "         \n",
    "com1 = Computer('i5',16)\n",
    "#com1 is also passsed automatically behind the scene\n",
    "com2 = Computer('ryzenn',8)\n",
    "\n",
    "#com1 nad com2 are two objects\n",
    "\n",
    "\n",
    "\n",
    "\n",
    "\n",
    "com1.config()\n",
    "com2.config()"
   ]
  },
  {
   "cell_type": "code",
   "execution_count": 3,
   "metadata": {},
   "outputs": [],
   "source": [
    "# now we see every objects has its own data types"
   ]
  },
  {
   "cell_type": "code",
   "execution_count": 5,
   "metadata": {},
   "outputs": [
    {
     "name": "stdout",
     "output_type": "stream",
     "text": [
      "so we know waht ius use of this\n"
     ]
    }
   ],
   "source": [
    "print \"so we know waht ius use of this\""
   ]
  },
  {
   "cell_type": "code",
   "execution_count": null,
   "metadata": {},
   "outputs": [],
   "source": []
  }
 ],
 "metadata": {
  "kernelspec": {
   "display_name": "Python 2",
   "language": "python",
   "name": "python2"
  },
  "language_info": {
   "codemirror_mode": {
    "name": "ipython",
    "version": 2
   },
   "file_extension": ".py",
   "mimetype": "text/x-python",
   "name": "python",
   "nbconvert_exporter": "python",
   "pygments_lexer": "ipython2",
   "version": "2.7.15"
  }
 },
 "nbformat": 4,
 "nbformat_minor": 2
}
