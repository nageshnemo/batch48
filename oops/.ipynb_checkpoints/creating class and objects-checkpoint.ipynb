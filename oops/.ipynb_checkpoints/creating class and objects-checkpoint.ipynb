{
 "cells": [
  {
   "cell_type": "code",
   "execution_count": 3,
   "metadata": {},
   "outputs": [
    {
     "name": "stdout",
     "output_type": "stream",
     "text": [
      "<type 'instance'>\n"
     ]
    }
   ],
   "source": [
    "# if we want to have our own data type we need to have class\n",
    "\n",
    "class Computer:\n",
    "    \n",
    "    \"\"\"\n",
    "    class has two things:\n",
    "    1. attributes === (variables)\n",
    "    2 .behaviour =====(methods or function)\n",
    "    \"\"\"\n",
    "        \n",
    "        \n",
    "    \n",
    "    def config(self):\n",
    "        print \"i5 computer , 16gb , 1tb\"\n",
    "        print self\n",
    "        \n",
    "        \n",
    "# now we are creating objects of class Computer \n",
    "com1 = Computer()\n",
    "print type(com1)\n",
    "com2 = Computer()\n",
    "#instance is basically a object of class"
   ]
  },
  {
   "cell_type": "code",
   "execution_count": 4,
   "metadata": {},
   "outputs": [
    {
     "name": "stdout",
     "output_type": "stream",
     "text": [
      "i5 computer , 16gb , 1tb\n",
      "<__main__.Computer instance at 0x0000000004D6D688>\n",
      "i5 computer , 16gb , 1tb\n",
      "<__main__.Computer instance at 0x0000000004C60508>\n"
     ]
    }
   ],
   "source": [
    "# we can allso call method inside class in another way\n",
    "com1.config()\n",
    "com2.config()\n",
    "\n",
    "\n",
    "# what is happpening here is behind the scene com1 is passed and copy to self\n",
    "# we hyave no n need to have a class name when we are calling methods inside our class\n"
   ]
  },
  {
   "cell_type": "code",
   "execution_count": 11,
   "metadata": {},
   "outputs": [
    {
     "name": "stdout",
     "output_type": "stream",
     "text": [
      "<type 'instance'>\n",
      "<type 'instance'>\n"
     ]
    }
   ],
   "source": [
    "# if we want to have our own data type we need to have class\n",
    "\n",
    "class Computer:\n",
    "    \n",
    "    \"\"\"\n",
    "    class has two things:\n",
    "    1. attributes === (variables)\n",
    "    2 .behaviour =====(methods or function)\n",
    "    \"\"\"\n",
    "        \n",
    "        \n",
    "    \n",
    "    def config(self,param1):\n",
    "        print \"i5 computer , 16gb , 1tb\"\n",
    "        print self\n",
    "        print param1\n",
    "        \n",
    "        \n",
    "# now we are creating objects of class Computer \n",
    "com1 = Computer()\n",
    "print type(com1)\n",
    "com2 = Computer()\n",
    "print type (com2)\n",
    "#instance is basically a object of class"
   ]
  },
  {
   "cell_type": "code",
   "execution_count": 12,
   "metadata": {},
   "outputs": [
    {
     "ename": "TypeError",
     "evalue": "config() takes exactly 2 arguments (1 given)",
     "output_type": "error",
     "traceback": [
      "\u001b[1;31m---------------------------------------------------------------------------\u001b[0m",
      "\u001b[1;31mTypeError\u001b[0m                                 Traceback (most recent call last)",
      "\u001b[1;32m<ipython-input-12-3992e1e1df64>\u001b[0m in \u001b[0;36m<module>\u001b[1;34m()\u001b[0m\n\u001b[1;32m----> 1\u001b[1;33m \u001b[0mcom1\u001b[0m\u001b[1;33m.\u001b[0m\u001b[0mconfig\u001b[0m\u001b[1;33m(\u001b[0m\u001b[1;33m)\u001b[0m\u001b[1;33m\u001b[0m\u001b[0m\n\u001b[0m",
      "\u001b[1;31mTypeError\u001b[0m: config() takes exactly 2 arguments (1 given)"
     ]
    }
   ],
   "source": [
    "com1.config()"
   ]
  },
  {
   "cell_type": "code",
   "execution_count": 13,
   "metadata": {},
   "outputs": [],
   "source": [
    "#see here 1 argument is already passing to method and we get an error on 2nd argument "
   ]
  },
  {
   "cell_type": "code",
   "execution_count": 14,
   "metadata": {},
   "outputs": [
    {
     "name": "stdout",
     "output_type": "stream",
     "text": [
      "i5 computer , 16gb , 1tb\n",
      "<__main__.Computer instance at 0x0000000004D6D9C8>\n",
      "23\n"
     ]
    }
   ],
   "source": [
    "com1.config(23)"
   ]
  },
  {
   "cell_type": "code",
   "execution_count": 15,
   "metadata": {},
   "outputs": [
    {
     "name": "stdout",
     "output_type": "stream",
     "text": [
      "i5 computer , 16gb , 1tb\n",
      "<__main__.Computer instance at 0x0000000004D6D7C8>\n",
      "34\n"
     ]
    }
   ],
   "source": [
    "com2.config(34)"
   ]
  },
  {
   "cell_type": "code",
   "execution_count": 16,
   "metadata": {},
   "outputs": [],
   "source": [
    "# what we learn we can make our own data type by using class keyword\n"
   ]
  },
  {
   "cell_type": "code",
   "execution_count": 9,
   "metadata": {},
   "outputs": [
    {
     "name": "stdout",
     "output_type": "stream",
     "text": [
      "<__main__.naga instance at 0x00000000050EBFC8>\n",
      "instance is  <__main__.naga instance at 0x00000000050EBFC8>\n",
      "the value of a and b through object\n",
      "10\n",
      "20\n",
      "the value of a and b through our class name\n",
      "10\n",
      "20\n"
     ]
    }
   ],
   "source": [
    "class naga:\n",
    "    a = 10\n",
    "    b = 20\n",
    "    \n",
    "    \n",
    "    def fun(self):\n",
    "        print self\n",
    "        \n",
    "        \n",
    "        \n",
    "a = naga()\n",
    "#here we are making objects and say creating instances\n",
    "\n",
    "\n",
    "a.fun()\n",
    "#through here we can use behaviours  of class naga\n",
    "print \"instance is \",a\n",
    "print \"the value of a and b through object\"\n",
    "print a.a\n",
    "print a.b\n",
    "# here we are using attributes of that class by making use of our object\n",
    "\n",
    "\n",
    "\n",
    "\n",
    "\n",
    "# we can also use it throuh our class name that is naga \n",
    "\n",
    "print \"the value of a and b through our class name\"\n",
    "print naga.a\n",
    "print naga.b"
   ]
  },
  {
   "cell_type": "code",
   "execution_count": 13,
   "metadata": {},
   "outputs": [
    {
     "name": "stdout",
     "output_type": "stream",
     "text": [
      "<__main__.naga instance at 0x000000000510A408>\n",
      "instance is  <__main__.naga instance at 0x000000000510A408>\n",
      "the value of a and b through object\n",
      "10\n",
      "20\n",
      "the value of a and b through our class name\n",
      "10\n",
      "20\n"
     ]
    },
    {
     "ename": "TypeError",
     "evalue": "unbound method fun() must be called with naga instance as first argument (got nothing instead)",
     "output_type": "error",
     "traceback": [
      "\u001b[1;31m---------------------------------------------------------------------------\u001b[0m",
      "\u001b[1;31mTypeError\u001b[0m                                 Traceback (most recent call last)",
      "\u001b[1;32m<ipython-input-13-6aa1f28e0f08>\u001b[0m in \u001b[0;36m<module>\u001b[1;34m()\u001b[0m\n\u001b[0;32m     32\u001b[0m \u001b[1;33m\u001b[0m\u001b[0m\n\u001b[0;32m     33\u001b[0m \u001b[1;33m\u001b[0m\u001b[0m\n\u001b[1;32m---> 34\u001b[1;33m \u001b[0mnaga\u001b[0m\u001b[1;33m.\u001b[0m\u001b[0mfun\u001b[0m\u001b[1;33m(\u001b[0m\u001b[1;33m)\u001b[0m\u001b[1;33m\u001b[0m\u001b[0m\n\u001b[0m\u001b[0;32m     35\u001b[0m \"\"\"\n\u001b[0;32m     36\u001b[0m \u001b[0msee\u001b[0m \u001b[0mhere\u001b[0m \u001b[0mwe\u001b[0m \u001b[0mcant\u001b[0m \u001b[0muse\u001b[0m \u001b[0mour\u001b[0m \u001b[0mmethods\u001b[0m \u001b[0mof\u001b[0m \u001b[1;32mclass\u001b[0m \u001b[0mthrough\u001b[0m \u001b[0mour\u001b[0m \u001b[1;32mclass\u001b[0m \u001b[0mname\u001b[0m \u001b[1;32mand\u001b[0m \u001b[1;33m.\u001b[0m \u001b[0moperator\u001b[0m\u001b[1;33m\u001b[0m\u001b[0m\n",
      "\u001b[1;31mTypeError\u001b[0m: unbound method fun() must be called with naga instance as first argument (got nothing instead)"
     ]
    }
   ],
   "source": [
    "class naga:\n",
    "    a = 10\n",
    "    b = 20\n",
    "    \n",
    "    \n",
    "    def fun(self):\n",
    "        print self\n",
    "        \n",
    "        \n",
    "        \n",
    "a = naga()\n",
    "#here we are making objects and say creating instances\n",
    "\n",
    "\n",
    "a.fun()\n",
    "#through here we can use behaviours  of class naga\n",
    "print \"instance is \",a\n",
    "print \"the value of a and b through object\"\n",
    "print a.a\n",
    "print a.b\n",
    "# here we are using attributes of that class by making use of our object\n",
    "\n",
    "\n",
    "\n",
    "\n",
    "\n",
    "# we can also use it throuh our class name that is naga \n",
    "\n",
    "print \"the value of a and b through our class name\"\n",
    "print naga.a\n",
    "print naga.b\n",
    "\n",
    "\n",
    "naga.fun()\n",
    "\"\"\"\n",
    "see here we cant use our methods of class through our class name and . operator \n",
    "what we have to do is we have to make the objects  and then we can use it through our objects by passsing instances \n",
    "not through our class name \n",
    "\n",
    "\n",
    "\n",
    "\"\"\"\n",
    "\n"
   ]
  },
  {
   "cell_type": "code",
   "execution_count": 16,
   "metadata": {},
   "outputs": [
    {
     "name": "stdout",
     "output_type": "stream",
     "text": [
      "<__main__.naga instance at 0x000000000510A308>\n",
      "instance is  <__main__.naga instance at 0x000000000510A308>\n",
      "the value of a and b through object\n",
      "10\n",
      "20\n",
      "the value of a and b through our class name\n",
      "10\n",
      "20\n",
      "calling through object itself and printing it\n",
      "<__main__.naga instance at 0x000000000510A308>\n",
      "hey there nagesh here\n"
     ]
    }
   ],
   "source": [
    "class naga:\n",
    "    a = 10\n",
    "    b = 20\n",
    "    \n",
    "    \n",
    "    def fun(self):\n",
    "        print self\n",
    "        return \"hey there nagesh here\"\n",
    "        \n",
    "        \n",
    "        \n",
    "a = naga()\n",
    "#here we are making objects and say creating instances\n",
    "\n",
    "\n",
    "a.fun()\n",
    "#through here we can use behaviours  of class naga\n",
    "print \"instance is \",a\n",
    "print \"the value of a and b through object\"\n",
    "print a.a\n",
    "print a.b\n",
    "# here we are using attributes of that class by making use of our object\n",
    "\n",
    "\n",
    "\n",
    "\n",
    "\n",
    "# we can also use it throuh our class name that is naga \n",
    "\n",
    "print \"the value of a and b through our class name\"\n",
    "print naga.a\n",
    "print naga.b\n",
    "\n",
    "\n",
    "\n",
    "\n",
    "\"\"\"\n",
    "\n",
    "naga.fun()\n",
    "see here we cant use our methods of class through our class name and . operator \n",
    "what we have to do is we have to make the objects  and then we can use it through our objects by passsing instances \n",
    "not through our class name \n",
    "\n",
    "\n",
    "\n",
    "\"\"\"\n",
    "print \"calling through object itself and printing it\"\n",
    "print a.fun()\n"
   ]
  },
  {
   "cell_type": "code",
   "execution_count": null,
   "metadata": {},
   "outputs": [],
   "source": []
  }
 ],
 "metadata": {
  "kernelspec": {
   "display_name": "Python 2",
   "language": "python",
   "name": "python2"
  },
  "language_info": {
   "codemirror_mode": {
    "name": "ipython",
    "version": 2
   },
   "file_extension": ".py",
   "mimetype": "text/x-python",
   "name": "python",
   "nbconvert_exporter": "python",
   "pygments_lexer": "ipython2",
   "version": "2.7.15"
  }
 },
 "nbformat": 4,
 "nbformat_minor": 2
}
