{
 "cells": [
  {
   "cell_type": "code",
   "execution_count": 1,
   "metadata": {},
   "outputs": [
    {
     "name": "stdout",
     "output_type": "stream",
     "text": [
      "{'yearm': 2018, 'price': 1234345, 'modelname': 'city'}\n"
     ]
    }
   ],
   "source": [
    "class Car():\n",
    "    \n",
    "    def __init__(self,modelname,yearm,price):\n",
    "        self.modelname = modelname\n",
    "        self.yearm = yearm\n",
    "        self.price = price\n",
    "        print self.__dict__\n",
    "        \n",
    "honda = Car(\"city\",2018,1234345)\n",
    "honda.cc =56\n",
    "# this can not be invoke this will only in this thing \n"
   ]
  },
  {
   "cell_type": "code",
   "execution_count": 4,
   "metadata": {},
   "outputs": [
    {
     "name": "stdout",
     "output_type": "stream",
     "text": [
      "{'cc': 56, 'yearm': 2018, 'price': 1234345, 'modelname': 'city'}\n"
     ]
    }
   ],
   "source": [
    "print honda.__dict__"
   ]
  },
  {
   "cell_type": "code",
   "execution_count": null,
   "metadata": {},
   "outputs": [],
   "source": [
    "\"\"\"\n",
    "this is the special method which shows all the value which is assocaited with that insatance or object \n",
    "in the dictionary\n",
    "\n",
    "this method is very useful in some condition where we dont know how many values were associated with that object\n",
    "\n",
    "\n",
    "\"\"\""
   ]
  }
 ],
 "metadata": {
  "kernelspec": {
   "display_name": "Python 2",
   "language": "python",
   "name": "python2"
  },
  "language_info": {
   "codemirror_mode": {
    "name": "ipython",
    "version": 2
   },
   "file_extension": ".py",
   "mimetype": "text/x-python",
   "name": "python",
   "nbconvert_exporter": "python",
   "pygments_lexer": "ipython2",
   "version": "2.7.15"
  }
 },
 "nbformat": 4,
 "nbformat_minor": 2
}
