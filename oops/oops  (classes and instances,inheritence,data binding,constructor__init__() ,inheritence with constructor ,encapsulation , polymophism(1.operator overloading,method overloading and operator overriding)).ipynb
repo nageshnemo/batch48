{
 "cells": [
  {
   "cell_type": "code",
   "execution_count": 1,
   "metadata": {},
   "outputs": [],
   "source": [
    "def fun():\n",
    "    a = 10\n",
    "    b = 20\n",
    "    \n",
    "class Emp:\n",
    "    a1 = 1000\n",
    "    b1 = 2000\n",
    "    \n",
    "    "
   ]
  },
  {
   "cell_type": "markdown",
   "metadata": {},
   "source": [
    "# classes and instance"
   ]
  },
  {
   "cell_type": "markdown",
   "metadata": {},
   "source": []
  },
  {
   "cell_type": "code",
   "execution_count": null,
   "metadata": {},
   "outputs": [],
   "source": [
    "\"\"\"\n",
    " here nothing is done because in the case of function we are not \n",
    " calling it and in the case of class we are not making any instances\n",
    " that is the object of that class\n",
    " \n",
    " \"\"\""
   ]
  },
  {
   "cell_type": "code",
   "execution_count": 3,
   "metadata": {},
   "outputs": [
    {
     "name": "stdout",
     "output_type": "stream",
     "text": [
      "how many references are there in stack now?\n",
      "ans\n",
      "End\n"
     ]
    }
   ],
   "source": [
    "def fun():\n",
    "    a = 10\n",
    "    b = 20\n",
    "    \n",
    "class Emp:\n",
    "    a1 = 1000\n",
    "    b1 = 2000\n",
    "    \n",
    "fun()\n",
    "print \"how many references are there in stack now?\"\n",
    "print \"ans\"\n",
    "print \"End\""
   ]
  },
  {
   "cell_type": "code",
   "execution_count": 4,
   "metadata": {},
   "outputs": [
    {
     "name": "stdout",
     "output_type": "stream",
     "text": [
      "anil\n",
      "23\n"
     ]
    }
   ],
   "source": [
    "class Emp:\n",
    "    name = \"anil\"\n",
    "    age = 23\n",
    "    print name \n",
    "    print age"
   ]
  },
  {
   "cell_type": "code",
   "execution_count": 6,
   "metadata": {},
   "outputs": [
    {
     "name": "stdout",
     "output_type": "stream",
     "text": [
      "anil\n",
      "23\n",
      "__main__.Emp\n"
     ]
    }
   ],
   "source": [
    "class Emp:\n",
    "    name = \"anil\"\n",
    "    age = 23\n",
    "print Emp.name \n",
    "print Emp.age\n",
    "print Emp\n",
    "\n",
    "# we cant acess these variables without class and dot operator\n"
   ]
  },
  {
   "cell_type": "code",
   "execution_count": null,
   "metadata": {},
   "outputs": [],
   "source": [
    "\"\"\"\n",
    "we can acess the  attributes of this class through class \n",
    "and (.) operator\n",
    "\n",
    "\"\"\""
   ]
  },
  {
   "cell_type": "code",
   "execution_count": 8,
   "metadata": {},
   "outputs": [
    {
     "name": "stdout",
     "output_type": "stream",
     "text": [
      "name = ajay\n",
      "Emp.name =  anil\n"
     ]
    }
   ],
   "source": [
    "name = \"ajay\" # this name variable is present in global frame\n",
    "\n",
    "\n",
    "class Emp:\n",
    "    name = \"anil\"  # this name is present in class local frame so we cant acess without the class name and dot operator\n",
    "print \"name =\",name \n",
    "print \"Emp.name = \",Emp.name"
   ]
  },
  {
   "cell_type": "code",
   "execution_count": 9,
   "metadata": {},
   "outputs": [
    {
     "name": "stdout",
     "output_type": "stream",
     "text": [
      "anil\n",
      "apple\n"
     ]
    }
   ],
   "source": [
    "class Emp:\n",
    "    name = \"anil\"\n",
    "class Product:\n",
    "    name = \"apple\"\n",
    "    \n",
    "print Emp.name \n",
    "print Product.name "
   ]
  },
  {
   "cell_type": "code",
   "execution_count": null,
   "metadata": {},
   "outputs": [],
   "source": [
    "# why are we making classes ?\n"
   ]
  },
  {
   "cell_type": "markdown",
   "metadata": {},
   "source": [
    "# methods inside the classes"
   ]
  },
  {
   "cell_type": "code",
   "execution_count": 12,
   "metadata": {},
   "outputs": [
    {
     "name": "stdout",
     "output_type": "stream",
     "text": [
      "anil\n"
     ]
    },
    {
     "ename": "TypeError",
     "evalue": "unbound method empfun() must be called with Emp instance as first argument (got int instance instead)",
     "output_type": "error",
     "traceback": [
      "\u001b[1;31m---------------------------------------------------------------------------\u001b[0m",
      "\u001b[1;31mTypeError\u001b[0m                                 Traceback (most recent call last)",
      "\u001b[1;32m<ipython-input-12-4cff606ebc50>\u001b[0m in \u001b[0;36m<module>\u001b[1;34m()\u001b[0m\n\u001b[0;32m      8\u001b[0m \u001b[1;32mprint\u001b[0m \u001b[0mEmp\u001b[0m\u001b[1;33m.\u001b[0m\u001b[0mname\u001b[0m\u001b[1;33m\u001b[0m\u001b[0m\n\u001b[0;32m      9\u001b[0m \u001b[1;33m\u001b[0m\u001b[0m\n\u001b[1;32m---> 10\u001b[1;33m \u001b[1;32mprint\u001b[0m \u001b[0mEmp\u001b[0m\u001b[1;33m.\u001b[0m\u001b[0mempfun\u001b[0m\u001b[1;33m(\u001b[0m\u001b[1;36m23\u001b[0m\u001b[1;33m,\u001b[0m\u001b[1;36m45\u001b[0m\u001b[1;33m)\u001b[0m\u001b[1;33m\u001b[0m\u001b[0m\n\u001b[0m\u001b[0;32m     11\u001b[0m \u001b[1;31m# see here we cant acess the methods through the class name and . operator\u001b[0m\u001b[1;33m\u001b[0m\u001b[1;33m\u001b[0m\u001b[0m\n\u001b[0;32m     12\u001b[0m \u001b[1;33m\u001b[0m\u001b[0m\n",
      "\u001b[1;31mTypeError\u001b[0m: unbound method empfun() must be called with Emp instance as first argument (got int instance instead)"
     ]
    }
   ],
   "source": [
    "class Emp:\n",
    "    name = \"anil\"\n",
    "    \n",
    "    \n",
    "    def empfun(a,b):\n",
    "        print a,b\n",
    "        \n",
    "print Emp.name\n",
    "\n",
    "print Emp.empfun(23,45)\n",
    "# see here we cant acess the methods through the class name and . operator\n",
    "\n"
   ]
  },
  {
   "cell_type": "code",
   "execution_count": 24,
   "metadata": {},
   "outputs": [
    {
     "name": "stdout",
     "output_type": "stream",
     "text": [
      "anil\n",
      "<__main__.Emp instance at 0x00000000058B2708>\n",
      "778\n",
      "<type 'instance'>\n"
     ]
    }
   ],
   "source": [
    " class Emp:\n",
    "    name = \"anil\"\n",
    "    \n",
    "    \n",
    "    def empfun(self,b):\n",
    "        print self\n",
    "        print b\n",
    "        \n",
    "        \n",
    "inst1 = Emp()\n",
    "print inst1.name\n",
    "inst1.empfun(778)\n",
    "print type(inst1)\n",
    "# this is the istance of this class that is also called object\n",
    "\n",
    "# what is happening here is that in the background the instance is automatically passed \n",
    "# in this instance\n",
    "\n"
   ]
  },
  {
   "cell_type": "code",
   "execution_count": 4,
   "metadata": {},
   "outputs": [
    {
     "name": "stdout",
     "output_type": "stream",
     "text": [
      "anil\n",
      "a =  <__main__.Emp instance at 0x000000000517CB88>\n",
      "b =  200\n"
     ]
    }
   ],
   "source": [
    " class Emp:\n",
    "    name = \"anil\"\n",
    "    \n",
    "    \n",
    "    def empfun(a,b):\n",
    "        print \"a = \",a\n",
    "        print \"b = \",b\n",
    "        \n",
    "print Emp.name         \n",
    "inst1 = Emp()\n",
    "Emp.empfun(inst1,200)\n"
   ]
  },
  {
   "cell_type": "code",
   "execution_count": 3,
   "metadata": {},
   "outputs": [],
   "source": [
    "# we have to manadatory pass the instance as first argument"
   ]
  },
  {
   "cell_type": "code",
   "execution_count": 6,
   "metadata": {},
   "outputs": [
    {
     "name": "stdout",
     "output_type": "stream",
     "text": [
      "anil\n",
      "a =  <__main__.Emp instance at 0x0000000005080588>\n",
      "b =  200\n"
     ]
    }
   ],
   "source": [
    " class Emp:\n",
    "    name = \"anil\"\n",
    "    \n",
    "    \n",
    "    def empfun(a,b):\n",
    "        print \"a = \",a\n",
    "        print \"b = \",b\n",
    "        \n",
    "print Emp.name         \n",
    "inst1 = Emp()\n",
    "inst1.empfun(200)\n"
   ]
  },
  {
   "cell_type": "code",
   "execution_count": 7,
   "metadata": {},
   "outputs": [],
   "source": [
    "# through instance we can also called our methods \n",
    "# "
   ]
  },
  {
   "cell_type": "code",
   "execution_count": 10,
   "metadata": {},
   "outputs": [
    {
     "name": "stdout",
     "output_type": "stream",
     "text": [
      "<__main__.c1 instance at 0x000000000517CF88>\n",
      "20\n",
      "<__main__.c1 instance at 0x000000000517CF88>\n",
      "200\n"
     ]
    }
   ],
   "source": [
    "class c1:\n",
    "    \n",
    "    def fun(a,b):\n",
    "        print a\n",
    "        print b\n",
    "        \n",
    "o1 = c1()\n",
    "c1.fun(o1,20)\n",
    "\n",
    "\"\"\"\n",
    "we can call that method in two ways using class object \n",
    "and 2nd way is theough data object\n",
    "\n",
    "\"\"\"\n",
    "\n",
    "o1.fun(200)\n",
    "# this is called using object\n"
   ]
  },
  {
   "cell_type": "code",
   "execution_count": 17,
   "metadata": {},
   "outputs": [
    {
     "name": "stdout",
     "output_type": "stream",
     "text": [
      "<__main__.c1 instance at 0x0000000005191448>\n",
      "2000\n",
      "anil\n",
      "anil\n",
      "anil\n",
      "22\n",
      "5.6\n"
     ]
    },
    {
     "ename": "AttributeError",
     "evalue": "class c1 has no attribute 'age'",
     "output_type": "error",
     "traceback": [
      "\u001b[1;31m---------------------------------------------------------------------------\u001b[0m",
      "\u001b[1;31mAttributeError\u001b[0m                            Traceback (most recent call last)",
      "\u001b[1;32m<ipython-input-17-731605c2e7dd>\u001b[0m in \u001b[0;36m<module>\u001b[1;34m()\u001b[0m\n\u001b[0;32m     26\u001b[0m \u001b[1;33m\u001b[0m\u001b[0m\n\u001b[0;32m     27\u001b[0m \u001b[1;33m\u001b[0m\u001b[0m\n\u001b[1;32m---> 28\u001b[1;33m \u001b[1;32mprint\u001b[0m \u001b[0mc1\u001b[0m\u001b[1;33m.\u001b[0m\u001b[0mage\u001b[0m\u001b[1;33m\u001b[0m\u001b[0m\n\u001b[0m\u001b[0;32m     29\u001b[0m \u001b[1;31m# see here we can not get age through class name\u001b[0m\u001b[1;33m\u001b[0m\u001b[1;33m\u001b[0m\u001b[0m\n\u001b[0;32m     30\u001b[0m \u001b[1;33m\u001b[0m\u001b[0m\n",
      "\u001b[1;31mAttributeError\u001b[0m: class c1 has no attribute 'age'"
     ]
    }
   ],
   "source": [
    "class c1:\n",
    "    name = \"anil\"\n",
    "    \n",
    "    def fun(a,b):\n",
    "        print a\n",
    "        print b\n",
    "        \n",
    "o1 = c1()\n",
    "o1.fun(2000)\n",
    "\n",
    "print c1.name\n",
    "# this  is through class\n",
    "\n",
    "print o1.name\n",
    "# this is through object or instance\n",
    "\n",
    "\n",
    "\"\"\"\n",
    "the age and height only belongs to o1 not acessed through class\n",
    "\"\"\"\n",
    "o1.age = 22\n",
    "o1.height = 5.6\n",
    "print o1.name\n",
    "print o1.age \n",
    "print o1.height\n",
    "\n",
    "\n",
    "print c1.age\n",
    "# see here we can not get age through class name \n"
   ]
  },
  {
   "cell_type": "code",
   "execution_count": 18,
   "metadata": {},
   "outputs": [
    {
     "name": "stdout",
     "output_type": "stream",
     "text": [
      "<__main__.c1 instance at 0x0000000005191588>\n",
      "2000\n",
      "anil\n",
      "anil\n",
      "anil\n",
      "22\n",
      "5.6\n",
      "male\n",
      "male\n"
     ]
    }
   ],
   "source": [
    "class c1:\n",
    "    name = \"anil\"\n",
    "    \n",
    "    def fun(a,b):\n",
    "        print a\n",
    "        print b\n",
    "        \n",
    "o1 = c1()\n",
    "o1.fun(2000)\n",
    "\n",
    "print c1.name\n",
    "# this  is through class\n",
    "\n",
    "print o1.name\n",
    "# this is through object or instance\n",
    "\n",
    "\n",
    "\"\"\"\n",
    "the age and height only belongs to o1 not acessed through class\n",
    "\"\"\"\n",
    "o1.age = 22\n",
    "o1.height = 5.6\n",
    "print o1.name\n",
    "print o1.age \n",
    "print o1.height\n",
    "\n",
    "\n",
    "\n",
    "c1.sex = \"male\"\n",
    "print c1.sex\n",
    "print o1.sex"
   ]
  },
  {
   "cell_type": "code",
   "execution_count": null,
   "metadata": {},
   "outputs": [],
   "source": [
    "def leavecalculation(emp):\n",
    "    pass\n",
    "def sal_cal(emp):\n",
    "    pass\n",
    "def tax_cal(emp):\n",
    "    pass\n",
    "def pfcal(emp):\n",
    "    pass\n",
    "\n",
    "# this is an  issue in pop we have to pass the same data in all these fn\n",
    "# so defining these all fn in class we can provide the data one time we can use in all these classes\n"
   ]
  },
  {
   "cell_type": "code",
   "execution_count": null,
   "metadata": {},
   "outputs": [],
   "source": [
    "def leavecalculation(emp):\n",
    "    pass\n",
    "def sal_cal(emp):\n",
    "    pass\n",
    "def tax_cal(emp):\n",
    "    pass\n",
    "def pfcal(emp):\n",
    "    pass "
   ]
  },
  {
   "cell_type": "code",
   "execution_count": 24,
   "metadata": {},
   "outputs": [
    {
     "name": "stdout",
     "output_type": "stream",
     "text": [
      "<__main__.c1 instance at 0x0000000005191EC8>\n",
      "23\n"
     ]
    }
   ],
   "source": [
    "class c1:\n",
    "    def get(self,nagesh_age):\n",
    "        print self\n",
    "        self.nagesh_age = nagesh_age\n",
    "        \n",
    "o1 = c1()\n",
    "\n",
    "o1.name = \"anil\"\n",
    "o1.age  = 32\n",
    "o1.height = 5.6\n",
    "\n",
    "o1.get(23)\n",
    "print o1.nagesh_age\n"
   ]
  },
  {
   "cell_type": "code",
   "execution_count": 31,
   "metadata": {},
   "outputs": [
    {
     "name": "stdout",
     "output_type": "stream",
     "text": [
      "emp1\n",
      "nagesh fun coding\n",
      "indrapuri\n",
      "2\n",
      "3232\n"
     ]
    },
    {
     "data": {
      "text/plain": [
       "'\\nevery data objects has its own frame in memory that means every object or instance we made has its own \\nlocal frame which cant be acess by anyone \\n\\n'"
      ]
     },
     "execution_count": 31,
     "metadata": {},
     "output_type": "execute_result"
    }
   ],
   "source": [
    "class Employee:\n",
    "    \n",
    "    company_name = \"nagesh fun coding\"\n",
    "    company_adress = \"indrapuri\"\n",
    "    \n",
    "    \n",
    "        \n",
    "        \n",
    "         \n",
    "    \n",
    "emp1 = Employee()\n",
    "emp1.name = \"emp1\"\n",
    "emp1.id = 2\n",
    "emp1.sal = 3232\n",
    "\n",
    "print emp1.name\n",
    "print emp1.company_name\n",
    "print emp1.company_adress\n",
    "print emp1.id\n",
    "print emp1.sal\n",
    "\n",
    "\"\"\"\n",
    "every data objects has its own frame in memory that means every object or instance we made has its own \n",
    "local frame which cant be acess by anyone \n",
    "\n",
    "\"\"\""
   ]
  },
  {
   "cell_type": "markdown",
   "metadata": {},
   "source": [
    "# data binding concept \n"
   ]
  },
  {
   "cell_type": "code",
   "execution_count": 2,
   "metadata": {},
   "outputs": [
    {
     "name": "stdout",
     "output_type": "stream",
     "text": [
      "<__main__.Employee instance at 0x00000000052140C8>\n",
      "angesh\n",
      "23\n",
      "4.678\n",
      "indrapuri\n",
      "\n",
      "<__main__.Employee instance at 0x000000000513DA48>\n",
      "('angesh', 23, 4.678, '', 9009310860L, '')\n",
      "('angesh', 23, 4.678, '', 9009310860L, '')\n"
     ]
    }
   ],
   "source": [
    "class Employee:\n",
    "    \n",
    "    company_name = \"nagesh fun coding\"\n",
    "    company_adress = \"indrapuri\"\n",
    "    \n",
    "    def set_data(self ,name,age,height,passport=\"\",cell=\"\",pan=\"\"):\n",
    "        print self\n",
    "        self.name = name \n",
    "        self.age  = age\n",
    "        self.height = height \n",
    "        self.passport = passport\n",
    "        self.cell = cell\n",
    "        self.pan = pan\n",
    "        \n",
    "    def get(self):\n",
    "        return self.name,self.age,self.height,self.passport,self.cell,self.pan\n",
    "        \"\"\"\n",
    "        self refers to emp1 and emp2 according to calling\n",
    "        \n",
    "        \n",
    "        this is the power of self we are not passing the wnole data  but we are passing only self\n",
    "        \n",
    "        \n",
    "        \"\"\"\n",
    "    \n",
    "    \n",
    "    \n",
    "        \n",
    "        \n",
    "         \n",
    "    \n",
    "emp1 = Employee()\n",
    "emp1.set_data(\"angesh\",23,4.678,cell = 9009310860)\n",
    "\n",
    "\n",
    "print emp1.name\n",
    "print emp1.age\n",
    "print emp1.height\n",
    "print emp1.company_adress\n",
    "print emp1.pan\n",
    "\n",
    "\n",
    "#nternally it is passing like \n",
    "#emp1,\"angesh\",23,4.678,cell = 9009310860\n",
    "\n",
    "\n",
    "\n",
    "emp2 = Employee()\n",
    "emp2.set_data(\"angesh\",23,4.678,cell = 9009310860)\n",
    "print emp1.get()\n",
    "print emp2.get()\n",
    "\n"
   ]
  },
  {
   "cell_type": "code",
   "execution_count": 6,
   "metadata": {},
   "outputs": [
    {
     "name": "stdout",
     "output_type": "stream",
     "text": [
      "<__main__.Employee instance at 0x0000000005214688>\n",
      "angesh\n",
      "23\n",
      "4.678\n",
      "indrapuri\n",
      "\n",
      "<__main__.Employee instance at 0x00000000052146C8>\n",
      "{'name': 'angesh', 'age': 23, 'height': 4.678, 'cell': 9009310860L, 'passport': '', 'pan': ''}\n",
      "{'name': 'singh', 'age': 23324, 'height': 4.3678, 'cell': 9009310860L, 'passport': '', 'pan': ''}\n"
     ]
    }
   ],
   "source": [
    "class Employee:\n",
    "    \n",
    "    company_name = \"nagesh fun coding\"\n",
    "    company_adress = \"indrapuri\"\n",
    "    \n",
    "    def set_data(self ,name,age,height,passport=\"\",cell=\"\",pan=\"\"):\n",
    "        print self\n",
    "        self.name = name \n",
    "        self.age  = age\n",
    "        self.height = height \n",
    "        self.passport = passport\n",
    "        self.cell = cell\n",
    "        self.pan = pan\n",
    "        \n",
    "    def get(self):\n",
    "        return self.__dict__\n",
    "    \n",
    "    \n",
    "    \n",
    "        \n",
    "        \n",
    "         \n",
    "    \n",
    "emp1 = Employee()\n",
    "emp1.set_data(\"angesh\",23,4.678,cell = 9009310860)\n",
    "\n",
    "\n",
    "print emp1.name\n",
    "print emp1.age\n",
    "print emp1.height\n",
    "print emp1.company_adress\n",
    "print emp1.pan\n",
    "\n",
    "\n",
    "#nternally it is passing like \n",
    "#emp1,\"angesh\",23,4.678,cell = 9009310860\n",
    "\n",
    "\n",
    "\n",
    "emp2 = Employee()\n",
    "emp2.set_data(\"singh\",23324,4.3678,cell = 9009310860)\n",
    "print emp1.get()\n",
    "print emp2.get()\n",
    "\n"
   ]
  },
  {
   "cell_type": "code",
   "execution_count": 7,
   "metadata": {},
   "outputs": [],
   "source": [
    "# self.__dict__ is a magic method thru which we get all\n",
    "# the values associated with self and return it through dictionary"
   ]
  },
  {
   "cell_type": "code",
   "execution_count": 11,
   "metadata": {},
   "outputs": [
    {
     "name": "stdout",
     "output_type": "stream",
     "text": [
      "<__main__.Employee instance at 0x000000000528AA48>\n",
      "angesh\n",
      "23\n",
      "4.678\n",
      "indrapuri\n",
      "\n",
      "<__main__.Employee instance at 0x000000000528AF08>\n",
      "{'name': 'angesh', 'sal': 232342, 'age': 23, 'height': 4.678, 'cell': 9009310860L, 'passport': '', 'pan': ''}\n",
      "{'name': 'singh', 'sal': 23455, 'age': 23324, 'height': 4.3678, 'cell': 9009310860L, 'passport': '', 'pan': ''}\n",
      "234665.42\n",
      "23689.55\n"
     ]
    }
   ],
   "source": [
    "class Employee:\n",
    "    \n",
    "    company_name = \"nagesh fun coding\"\n",
    "    company_adress = \"indrapuri\"\n",
    "    \n",
    "    def set_data(self ,name,age,height,passport=\"\",cell=\"\",pan=\"\",sal=\"\"):\n",
    "        print self\n",
    "        self.name = name \n",
    "        self.age  = age\n",
    "        self.height = height \n",
    "        self.passport = passport\n",
    "        self.cell = cell\n",
    "        self.pan = pan\n",
    "        self.sal= sal\n",
    "   \n",
    "    def get(self):\n",
    "        return self.__dict__\n",
    "    \n",
    "    \n",
    "    def sal_cal(self):\n",
    "        return self.sal + self.sal * 0.01\n",
    "        \n",
    "        \n",
    "         \n",
    "    \n",
    "emp1 = Employee()\n",
    "emp1.set_data(\"angesh\",23,4.678,cell = 9009310860,sal=232342)\n",
    "\n",
    "\n",
    "print emp1.name\n",
    "print emp1.age\n",
    "print emp1.height\n",
    "print emp1.company_adress\n",
    "print emp1.pan\n",
    "\n",
    "\n",
    "#nternally it is passing like \n",
    "#emp1,\"angesh\",23,4.678,cell = 9009310860\n",
    "\n",
    "\n",
    "\n",
    "emp2 = Employee()\n",
    "emp2.set_data(\"singh\",23324,4.3678,cell = 9009310860,sal=23455)\n",
    "print emp1.get()\n",
    "print emp2.get()\n",
    "\n",
    "\n",
    "\n",
    "print emp1.sal_cal()\n",
    "print emp2.sal_cal()\n",
    "\"\"\"\n",
    "see here we are not passing the whole data instead of only self and internally self can do all operation and\n",
    "basically this process is called data binding \n",
    "means the data is bind to particular instance means object\n",
    "\n",
    "\n",
    "means if we do opeartion on this data it can take data belongs to this instance only\n",
    "\n",
    "\n",
    "\"\"\"\n"
   ]
  },
  {
   "cell_type": "code",
   "execution_count": 13,
   "metadata": {},
   "outputs": [
    {
     "name": "stdout",
     "output_type": "stream",
     "text": [
      "<__main__.Employee instance at 0x00000000052A7488>\n",
      "angesh\n",
      "23\n",
      "4.678\n",
      "indrapuri\n",
      "\n",
      "<__main__.Employee instance at 0x00000000052A7408>\n",
      "{'name': 'angesh', 'sal': 232342, 'age': 23, 'height': 4.678, 'cell': 9009310860L, 'passport': '', 'pan': ''}\n",
      "{'name': 'singh', 'sal': 23455, 'age': 23324, 'height': 4.3678, 'cell': 9009310860L, 'passport': '', 'pan': ''}\n",
      "234665.42\n",
      "23689.55\n"
     ]
    },
    {
     "ename": "AttributeError",
     "evalue": "Employee instance has no attribute 'sal'",
     "output_type": "error",
     "traceback": [
      "\u001b[1;31m---------------------------------------------------------------------------\u001b[0m",
      "\u001b[1;31mAttributeError\u001b[0m                            Traceback (most recent call last)",
      "\u001b[1;32m<ipython-input-13-4de04fec7893>\u001b[0m in \u001b[0;36m<module>\u001b[1;34m()\u001b[0m\n\u001b[0;32m     59\u001b[0m \u001b[1;33m\u001b[0m\u001b[0m\n\u001b[0;32m     60\u001b[0m \u001b[0memp3\u001b[0m \u001b[1;33m=\u001b[0m \u001b[0mEmployee\u001b[0m\u001b[1;33m(\u001b[0m\u001b[1;33m)\u001b[0m\u001b[1;33m\u001b[0m\u001b[0m\n\u001b[1;32m---> 61\u001b[1;33m \u001b[0memp3\u001b[0m\u001b[1;33m.\u001b[0m\u001b[0msal_cal\u001b[0m\u001b[1;33m(\u001b[0m\u001b[1;33m)\u001b[0m\u001b[1;33m\u001b[0m\u001b[0m\n\u001b[0m",
      "\u001b[1;32m<ipython-input-13-4de04fec7893>\u001b[0m in \u001b[0;36msal_cal\u001b[1;34m(self)\u001b[0m\n\u001b[0;32m     19\u001b[0m \u001b[1;33m\u001b[0m\u001b[0m\n\u001b[0;32m     20\u001b[0m     \u001b[1;32mdef\u001b[0m \u001b[0msal_cal\u001b[0m\u001b[1;33m(\u001b[0m\u001b[0mself\u001b[0m\u001b[1;33m)\u001b[0m\u001b[1;33m:\u001b[0m\u001b[1;33m\u001b[0m\u001b[0m\n\u001b[1;32m---> 21\u001b[1;33m         \u001b[1;32mreturn\u001b[0m \u001b[0mself\u001b[0m\u001b[1;33m.\u001b[0m\u001b[0msal\u001b[0m \u001b[1;33m+\u001b[0m \u001b[0mself\u001b[0m\u001b[1;33m.\u001b[0m\u001b[0msal\u001b[0m \u001b[1;33m*\u001b[0m \u001b[1;36m0.01\u001b[0m\u001b[1;33m\u001b[0m\u001b[0m\n\u001b[0m\u001b[0;32m     22\u001b[0m \u001b[1;33m\u001b[0m\u001b[0m\n\u001b[0;32m     23\u001b[0m \u001b[1;33m\u001b[0m\u001b[0m\n",
      "\u001b[1;31mAttributeError\u001b[0m: Employee instance has no attribute 'sal'"
     ]
    }
   ],
   "source": [
    "class Employee:\n",
    "    \n",
    "    company_name = \"nagesh fun coding\"\n",
    "    company_adress = \"indrapuri\"\n",
    "    \n",
    "    def set_data(self ,name,age,height,passport=\"\",cell=\"\",pan=\"\",sal=\"\"):\n",
    "        print self\n",
    "        self.name = name \n",
    "        self.age  = age\n",
    "        self.height = height \n",
    "        self.passport = passport\n",
    "        self.cell = cell\n",
    "        self.pan = pan\n",
    "        self.sal= sal\n",
    "   \n",
    "    def get(self):\n",
    "        return self.__dict__\n",
    "    # here this is the perfect example of data binding\n",
    "    \n",
    "    def sal_cal(self):\n",
    "        return self.sal + self.sal * 0.01\n",
    "        \n",
    "        \n",
    "         \n",
    "    \n",
    "emp1 = Employee()\n",
    "emp1.set_data(\"angesh\",23,4.678,cell = 9009310860,sal=232342)\n",
    "\n",
    "\n",
    "print emp1.name\n",
    "print emp1.age\n",
    "print emp1.height\n",
    "print emp1.company_adress\n",
    "print emp1.pan\n",
    "\n",
    "\n",
    "#nternally it is passing like \n",
    "#emp1,\"angesh\",23,4.678,cell = 9009310860\n",
    "\n",
    "\n",
    "\n",
    "emp2 = Employee()\n",
    "emp2.set_data(\"singh\",23324,4.3678,cell = 9009310860,sal=23455)\n",
    "print emp1.get()\n",
    "print emp2.get()\n",
    "\n",
    "\n",
    "\n",
    "print emp1.sal_cal()\n",
    "print emp2.sal_cal()\n",
    "\n",
    "\n",
    "\n",
    "\n",
    "\n",
    "\n",
    "# so here we can make another data object that is instance \n",
    "\n",
    "\n",
    "emp3 = Employee()\n",
    "emp3.sal_cal()\n",
    "\n",
    "# so here we can get errror because er arer not setting the data  of emp3 through self \n",
    "\n",
    "# so here comes the use of constructor where we can initialise our data\n",
    "\n",
    "# constructor set the dat automatically at the time of creation of constructor\n"
   ]
  },
  {
   "cell_type": "markdown",
   "metadata": {},
   "source": [
    "# constructor == def __init__(self)"
   ]
  },
  {
   "cell_type": "code",
   "execution_count": 17,
   "metadata": {},
   "outputs": [
    {
     "name": "stdout",
     "output_type": "stream",
     "text": [
      "this is init \n",
      "this is init \n"
     ]
    }
   ],
   "source": [
    "# constructor\n",
    "# called at the time of instance creaation\n",
    "\n",
    "\n",
    "class emp:\n",
    "    \n",
    "    def fun(self):\n",
    "        print \"this is fun\"\n",
    "        \n",
    "    def __init__(self):\n",
    "        print \"this is init \"\n",
    "        \n",
    "    def fun1(self):\n",
    "        print \"this is fun1\"\n",
    "        \n",
    "        \n",
    "e1 = emp()\n",
    "\n",
    "\"\"\"\n",
    "see here we are not calling the init method \n",
    "but at the time of insatnce creation or object creation \n",
    "the init method is automatically called \n",
    "\n",
    "\n",
    "so this is called constructor\n",
    "\n",
    "if we not write init method init method is not called n\\but if we\n",
    "\n",
    "\"\"\"\n",
    "\n",
    "\n",
    "\n",
    "e2 = emp()\n",
    "\n"
   ]
  },
  {
   "cell_type": "code",
   "execution_count": 20,
   "metadata": {},
   "outputs": [
    {
     "name": "stdout",
     "output_type": "stream",
     "text": [
      "<__main__.emp instance at 0x00000000053CAE48>\n",
      "this is init \n",
      "20\n",
      "nagesh singh rajput \n",
      "nagesh singh rajput \n",
      "20\n",
      "<__main__.emp instance at 0x0000000004BF91C8>\n",
      "this is init \n",
      "23\n",
      "saket singh rajput\n",
      "23\n"
     ]
    }
   ],
   "source": [
    "class emp:\n",
    "    \n",
    "    def fun(self):\n",
    "        print \"this is fun\"\n",
    "        \n",
    "    def __init__(self,name,age):\n",
    "        print self\n",
    "        print \"this is init \"\n",
    "        self.name = name\n",
    "        self.age = age\n",
    "        \"\"\"\n",
    "        self is passed internally that is instance \n",
    "        and this init method is called automatically at the time of object creation\n",
    "        \"\"\"\n",
    "        print self.age\n",
    "        print self.name \n",
    "        \n",
    "        \"\"\"\n",
    "        see here we cant return anythin from constructor \n",
    "        constructor use only to initialise variable or attributes\n",
    "        return self.name\n",
    "        return self.age\n",
    "        \"\"\"\n",
    "        \n",
    "    def fun1(self):\n",
    "        print \"this is fun1\"\n",
    "        \n",
    "        \n",
    "e1 = emp(\"nagesh singh rajput \",20)\n",
    "print e1.name\n",
    "print e1.age\n",
    "\n",
    "\"\"\"\n",
    "step 1 - it will call __new__ what __new__ will do ? it will create instance and returns \n",
    "step 2 - by using that instance which is created above it will call the constructor (__init__)\n",
    "with the arguments passed to class call\n",
    "instance.__init__()\n",
    "and this is referred by self \n",
    "\n",
    "\n",
    "\"\"\"\n",
    "\n",
    "e2 = emp(\"saket singh rajput\",23)\n",
    "print e2.age"
   ]
  },
  {
   "cell_type": "code",
   "execution_count": null,
   "metadata": {},
   "outputs": [],
   "source": [
    "# hence we know  that comstructor is used to initialise the object or instance creation\n",
    "# constructer is called at the time of creation"
   ]
  },
  {
   "cell_type": "code",
   "execution_count": 15,
   "metadata": {},
   "outputs": [
    {
     "name": "stdout",
     "output_type": "stream",
     "text": [
      "zero division error %s  integer division or modulo by zero\n",
      "i am a god i run always\n"
     ]
    }
   ],
   "source": [
    "try :\n",
    "    a = 1/0\n",
    "    print a\n",
    "except Exception as err:\n",
    "    print \"zero division error %s \",err\n",
    "finally:\n",
    "    print \"i am a god i run always\""
   ]
  },
  {
   "cell_type": "code",
   "execution_count": 16,
   "metadata": {},
   "outputs": [
    {
     "name": "stdout",
     "output_type": "stream",
     "text": [
      "20\n"
     ]
    }
   ],
   "source": [
    "class c1:\n",
    "    def fun(a,self):\n",
    "        print self\n",
    "        \n",
    "o1 = c1()\n",
    "o1.fun(20)\n",
    "\n",
    "\n",
    "# this shows self is just a name which alpl python developers use \n",
    "# this self is not manadatory \n",
    "# we use it just for good practice\n"
   ]
  },
  {
   "cell_type": "code",
   "execution_count": 25,
   "metadata": {},
   "outputs": [
    {
     "name": "stdout",
     "output_type": "stream",
     "text": [
      "{'name': 'nagesh', 'age': 23, 'height': 4.678, 'cell': '9009310860', 'passport': '', 'pan': ''}\n",
      "nagesh\n",
      "23\n",
      "4.678\n",
      "indrapuri\n",
      "\n"
     ]
    }
   ],
   "source": [
    "class Employee:\n",
    "    \n",
    "    company_name = \"nagesh fun coding\"\n",
    "    company_adress = \"indrapuri\"\n",
    "    \n",
    "    def __init__(self ,name,age,height,passport=\"\",cell=\"\",pan=\"\"):\n",
    "        \n",
    "        self.name = name \n",
    "        self.age  = age\n",
    "        self.height = height \n",
    "        self.passport = passport\n",
    "        self.cell = cell\n",
    "        self.pan = pan\n",
    "        \n",
    "    def get(self):\n",
    "        return self.__dict__\n",
    "    \n",
    "    \"\"\"\n",
    "    dict is the special magic method \n",
    "    \"\"\"\n",
    "    \n",
    "    \n",
    "    \n",
    "        \n",
    "        \n",
    "         \n",
    "    \n",
    "emp1 = Employee(\"nagesh\",23,4.678,cell = \"9009310860\")\n",
    "#emp1.set_data(\"nagesh\",23,4.678,cell = 9009310860)\n",
    "print emp1.get()\n",
    "\n",
    "print emp1.name\n",
    "print emp1.age\n",
    "print emp1.height\n",
    "print emp1.company_adress\n",
    "print emp1.pan\n",
    "\n",
    "\n",
    "\n",
    "\n",
    "\n",
    "\n",
    "\n"
   ]
  },
  {
   "cell_type": "code",
   "execution_count": null,
   "metadata": {},
   "outputs": [],
   "source": [
    "# what is the  need of constructor \n",
    "# to initiaalse the data object attributes\n"
   ]
  },
  {
   "cell_type": "markdown",
   "metadata": {},
   "source": [
    "# inheritence\n",
    "## what is the need of inheritence\n",
    "\n",
    "###  ADVANTAGES::\n",
    "\n",
    "#### 1. no need to make more instances\n",
    "#### 2. to reduce the no of code\n",
    "#### 3 code reusablity \n",
    "\n",
    "#### 4 - we can use method of base class acc to our need and also overwrite according to our need and also make more methods acc to our need\n"
   ]
  },
  {
   "cell_type": "code",
   "execution_count": 27,
   "metadata": {},
   "outputs": [
    {
     "name": "stdout",
     "output_type": "stream",
     "text": [
      "this is operations\n",
      "this is fun in c1\n",
      "this is fun in c2\n"
     ]
    }
   ],
   "source": [
    "class c1:\n",
    "    \n",
    "    def fun1(self):\n",
    "        print \"this is fun in c1\"\n",
    "        \n",
    "        \n",
    "class c2:\n",
    "    \n",
    "    def fun2(self):\n",
    "        print \"this is fun in c2\"\n",
    "        \n",
    "class app:\n",
    "    \n",
    "    def operation(self):\n",
    "        print \"this is operations\"\n",
    "        \n",
    "        \n",
    "        \n",
    "o1 = c1()\n",
    "o2 = c2()\n",
    "a1 = app()\n",
    "a1.operation()\n",
    "o1.fun1()\n",
    "o2.fun2()\n",
    "\n",
    "# call the operations,fun2,fun1  method outside the class\n",
    "\n",
    "\n"
   ]
  },
  {
   "cell_type": "code",
   "execution_count": 28,
   "metadata": {},
   "outputs": [
    {
     "name": "stdout",
     "output_type": "stream",
     "text": [
      "this is operations\n"
     ]
    },
    {
     "ename": "AttributeError",
     "evalue": "app instance has no attribute 'fun2'",
     "output_type": "error",
     "traceback": [
      "\u001b[1;31m---------------------------------------------------------------------------\u001b[0m",
      "\u001b[1;31mAttributeError\u001b[0m                            Traceback (most recent call last)",
      "\u001b[1;32m<ipython-input-28-7ab28422419c>\u001b[0m in \u001b[0;36m<module>\u001b[1;34m()\u001b[0m\n\u001b[0;32m     20\u001b[0m \u001b[0ma1\u001b[0m \u001b[1;33m=\u001b[0m \u001b[0mapp\u001b[0m\u001b[1;33m(\u001b[0m\u001b[1;33m)\u001b[0m\u001b[1;33m\u001b[0m\u001b[0m\n\u001b[0;32m     21\u001b[0m \u001b[0ma1\u001b[0m\u001b[1;33m.\u001b[0m\u001b[0moperation\u001b[0m\u001b[1;33m(\u001b[0m\u001b[1;33m)\u001b[0m\u001b[1;33m\u001b[0m\u001b[0m\n\u001b[1;32m---> 22\u001b[1;33m \u001b[0ma1\u001b[0m\u001b[1;33m.\u001b[0m\u001b[0mfun2\u001b[0m\u001b[1;33m(\u001b[0m\u001b[1;33m)\u001b[0m\u001b[1;33m\u001b[0m\u001b[0m\n\u001b[0m\u001b[0;32m     23\u001b[0m \u001b[1;33m\u001b[0m\u001b[0m\n\u001b[0;32m     24\u001b[0m \u001b[1;31m# call the operations,fun2,fun1  method outside the class\u001b[0m\u001b[1;33m\u001b[0m\u001b[1;33m\u001b[0m\u001b[0m\n",
      "\u001b[1;31mAttributeError\u001b[0m: app instance has no attribute 'fun2'"
     ]
    }
   ],
   "source": [
    "class c1:\n",
    "    \n",
    "    def fun1(self):\n",
    "        print \"this is fun in c1\"\n",
    "        \n",
    "        \n",
    "class c2:\n",
    "    \n",
    "    def fun2(self):\n",
    "        print \"this is fun in c2\"\n",
    "        \n",
    "class app:\n",
    "    \n",
    "    def operation(self):\n",
    "        print \"this is operations\"\n",
    "        \n",
    "        \n",
    "        \n",
    "\n",
    "a1 = app()\n",
    "a1.operation()\n",
    "a1.fun2()\n",
    "\n",
    "# call the operations,fun2,fun1  method outside the class\n",
    "\n",
    "\n"
   ]
  },
  {
   "cell_type": "code",
   "execution_count": null,
   "metadata": {},
   "outputs": [],
   "source": [
    "# see we can't call the function of different class\n",
    "# so what we do here is we use inheritence formula here\n",
    "# by inheriting that class we can call the methods of differnt class\n"
   ]
  },
  {
   "cell_type": "code",
   "execution_count": 35,
   "metadata": {},
   "outputs": [
    {
     "name": "stdout",
     "output_type": "stream",
     "text": [
      "this is operations\n",
      "this is fun in c1\n",
      "this is fun in c2\n"
     ]
    },
    {
     "data": {
      "text/plain": [
       "'\\nby passing the class name in derived or child class () that is \\nparanthesis we can able to do inheritence \\nthis is the technique used to call or use the methods of differnt class \\n\\n\\n\\n\\n'"
      ]
     },
     "execution_count": 35,
     "metadata": {},
     "output_type": "execute_result"
    }
   ],
   "source": [
    "class c1:\n",
    "    \n",
    "    name = \"nagesh singh rajput\"\n",
    "    \n",
    "    def fun1(self):\n",
    "        print \"this is fun in c1\"\n",
    "        \n",
    "        \n",
    "class c2:\n",
    "    \n",
    "    def fun2(self):\n",
    "        print \"this is fun in c2\"\n",
    "        \n",
    "class app(c1,c2):\n",
    "    \n",
    "    age = 20\n",
    "    def operation(self):\n",
    "        print \"this is operations\"\n",
    "        \n",
    "        \n",
    "        \n",
    "a1 = app()\n",
    "a1.operation()\n",
    "a1.fun1()\n",
    "a1.fun2()\n",
    "\n",
    "# we can also use the attributes of that base class in child class or derived class\n",
    "a1.age\n",
    "\n",
    "\"\"\"\n",
    "by passing the class name in derived or child class () that is \n",
    "paranthesis we can able to do inheritence \n",
    "this is the technique used to call or use the methods of differnt class \n",
    "\n",
    "\n",
    "using the child class we can able to do call parent class methods and attributes\n",
    "\n",
    "\n",
    "\n",
    "ADVANTAGES::\n",
    "\n",
    "1. no need to make more instances\n",
    "2. to reduce the no of code\n",
    "3 code reusablity \n",
    "\n",
    "\"\"\"\n",
    "\n",
    "\n"
   ]
  },
  {
   "cell_type": "code",
   "execution_count": 36,
   "metadata": {},
   "outputs": [
    {
     "name": "stdout",
     "output_type": "stream",
     "text": [
      "this is operations\n",
      "i will also overwrite acc to my need\n"
     ]
    }
   ],
   "source": [
    "class c1:\n",
    "    \n",
    "    name = \"nagesh singh rajput\"\n",
    "    \n",
    "    def fun1(self):\n",
    "        print \"this is fun in c1\"\n",
    "        \n",
    "        \n",
    "class c2:\n",
    "    \n",
    "    def fun2(self):\n",
    "        print \"this is fun in c2\"\n",
    "        \n",
    "class app(c1,c2):\n",
    "    \n",
    "    age = 20\n",
    "    def operation(self):\n",
    "        print \"this is operations\"\n",
    "        \n",
    "        \n",
    "    def fun1(self):\n",
    "        print \"i will also overwrite acc to my need\"\n",
    "\n",
    "        \n",
    "a1 = app()\n",
    "a1.operation()\n",
    "a1.fun1()\n",
    "\"\"\"\n",
    "see here what is happening here we are ovewrwriting the methods of base class\n",
    "\n",
    "\n",
    "\"\"\""
   ]
  },
  {
   "cell_type": "code",
   "execution_count": 2,
   "metadata": {},
   "outputs": [
    {
     "name": "stdout",
     "output_type": "stream",
     "text": [
      "we are overwriting the same method name that is present in base class\n",
      "validate the field\n",
      "this is leavecal in emp\n",
      "this is sal cal\n"
     ]
    },
    {
     "data": {
      "text/plain": [
       "'\\nwhat we are doing is overwriting the previous method\\n\\nthe problem here is duplication of this class\\n\\n\\nwhat python is doing on duplication is that first it search for local class then go for base class\\n'"
      ]
     },
     "execution_count": 2,
     "metadata": {},
     "output_type": "execute_result"
    }
   ],
   "source": [
    "class emp:\n",
    "    \n",
    "    def leave_cal(self):\n",
    "        print \"this is leave cal in emp\"\n",
    "        \n",
    "class emp_extra(emp):\n",
    "    \n",
    "    def sal_cal(self):\n",
    "        print \"this is sal cal\"\n",
    "        \n",
    "    def leave_cal(self):\n",
    "        print \"we are overwriting the same method name that is present in base class\"\n",
    "        print \"validate the field\"\n",
    "        print \"this is leavecal in emp\"\n",
    "        # calling parent class leave_Cal\n",
    "        \n",
    "        \n",
    "        \n",
    "o1 = emp_extra()\n",
    "o1.leave_cal()\n",
    "o1.sal_cal()\n",
    "\n",
    "\"\"\"\n",
    "what we are doing is overwriting the previous method\n",
    "\n",
    "the problem here is duplication of this class\n",
    "\n",
    "\n",
    "what python is doing on duplication is that first it search for local class then go for base class\n",
    "\"\"\""
   ]
  },
  {
   "cell_type": "code",
   "execution_count": 5,
   "metadata": {},
   "outputs": [
    {
     "name": "stdout",
     "output_type": "stream",
     "text": [
      "we are overwriting the same method name that is present in base class\n",
      "validate the field\n",
      "this is leavecal in emp_extra\n",
      "this is leave cal in emp\n"
     ]
    }
   ],
   "source": [
    "class emp:\n",
    "    \n",
    "    def leave_cal(self):\n",
    "        print \"this is leave cal in emp\"\n",
    "        \n",
    "class emp_extra(emp):\n",
    "    \n",
    "    def sal_cal(self):\n",
    "        print \"this is sal cal\"\n",
    "        \n",
    "    def leave_cal(self):\n",
    "        print \"we are overwriting the same method name that is present in base class\"\n",
    "        print \"validate the field\"\n",
    "        print \"this is leavecal in emp_extra\"\n",
    "        # calling parent class leave_Cal\n",
    "        \"\"\"\n",
    "        the challenge is to call parent class means emp class \n",
    "        leave_class\n",
    "            \n",
    "            \n",
    "         what we are doing is we are doing method overriding \n",
    "         the\\rough this we can reduce no of codes\n",
    "         \n",
    "        \n",
    "        \n",
    "        \"\"\"\n",
    "        # call through class object\n",
    "        emp.leave_cal(self)\n",
    "        # here we are doing method overriding \n",
    "        \n",
    "        \n",
    "        \n",
    "o1 = emp_extra()\n",
    "o1.leave_cal()\n",
    "#o1.sal_cal()\n"
   ]
  },
  {
   "cell_type": "code",
   "execution_count": 6,
   "metadata": {},
   "outputs": [],
   "source": [
    "class DB:\n",
    "    \n",
    "    \n",
    "    def __init__(self,table,name,data):\n",
    "        self.table = table_name\n",
    "        self.data = data \n",
    "        \n",
    "    def  insert(self):\n",
    "        print \"insert into %s %s\"%(table_name,data)\n",
    "        \n",
    "        \n",
    "    def delete(self):\n",
    "        print \"delete from %s where id =%s\"%(self,data)\n",
    "        \n",
    "        \n",
    "    def update(self):\n",
    "        print \"update %s set data = %s\"%(self.table,self.data)\n",
    "        \n",
    "class Customer(DB):\n",
    "    pass\n",
    "\n",
    "class Supplier(DB):\n",
    "    \"\"\"\n",
    "    adding some extra code here \n",
    "    \n",
    "    \n",
    "    \"\"\"\n",
    "    def validate_insert(self):\n",
    "        print \"validate the  data\"\n",
    "        \n",
    "    self.insert()\n",
    "    \n",
    "    \n",
    "cust1 = Customer()"
   ]
  },
  {
   "cell_type": "code",
   "execution_count": 2,
   "metadata": {},
   "outputs": [
    {
     "name": "stdout",
     "output_type": "stream",
     "text": [
      "this is fun1 in c1\n"
     ]
    },
    {
     "data": {
      "text/plain": [
       "'\\nthis is multilevel inheritence\\nin which levels are there\\n\\n\\n\\n\\n'"
      ]
     },
     "execution_count": 2,
     "metadata": {},
     "output_type": "execute_result"
    }
   ],
   "source": [
    "class c1:\n",
    "    \n",
    "    def fun1(self):\n",
    "        print \"this is fun1 in c1\"\n",
    "\n",
    "class c2(c1):\n",
    "\n",
    "    def fun2(self):\n",
    "        print \"this is fun2 in c2\"\n",
    "        \n",
    "        \n",
    "        \n",
    "class app(c2):\n",
    "    \n",
    "    def operation(self):\n",
    "        print \"this is operation\"\n",
    "o1 = app()\n",
    "o1.fun1()\n",
    "\n",
    "\n",
    "\"\"\"\n",
    "this is multilevel inheritence\n",
    "\n",
    "in multilevel inheritence relation is there\n",
    "\n",
    "\n",
    "\n",
    "\n",
    "\n",
    "\"\"\""
   ]
  },
  {
   "cell_type": "markdown",
   "metadata": {},
   "source": [
    "class c1:\n",
    "    \n",
    "    def fun1(self):\n",
    "        print \"this is fun1 in c1\"\n",
    "\n",
    "class c2(c1):\n",
    "\n",
    "    def fun2(self):\n",
    "        print \"this is fun2 in c2\"\n",
    "        \n",
    "        \n",
    "        \n",
    "class app(c2):\n",
    "    \n",
    "    def operation(self):\n",
    "        print \"this is operation\"\n",
    "        \n",
    "        \n",
    "    def fun1(self):\n",
    "        print \"this is fun1 in app\"\n",
    "        \n",
    "        \"\"\"\n",
    "        here first python checks in his own class then go to the base classs\n",
    "        if he got the fn there then its okay but if another time he doesnt\n",
    "        find the method then he goes to that class base class\n",
    "        \n",
    "        \n",
    "        \n",
    "        \"\"\"\n",
    "o1 = app()\n",
    "o1.fun1()\n"
   ]
  },
  {
   "cell_type": "markdown",
   "metadata": {},
   "source": [
    "# inheritence with constructor\n",
    "## def __init__() "
   ]
  },
  {
   "cell_type": "code",
   "execution_count": 6,
   "metadata": {},
   "outputs": [
    {
     "name": "stdout",
     "output_type": "stream",
     "text": [
      "(23, 45)\n"
     ]
    }
   ],
   "source": [
    "class c1:\n",
    "    \n",
    "    def __init__(self,a,b):\n",
    "        self.a = a\n",
    "        self.b = b\n",
    "        \n",
    "    def get(self):\n",
    "        return self.a,self.b\n",
    "    \n",
    "o1 = c1(23,45)\n",
    "print o1.get()"
   ]
  },
  {
   "cell_type": "code",
   "execution_count": 8,
   "metadata": {},
   "outputs": [
    {
     "ename": "TypeError",
     "evalue": "__init__() takes exactly 3 arguments (1 given)",
     "output_type": "error",
     "traceback": [
      "\u001b[1;31m---------------------------------------------------------------------------\u001b[0m",
      "\u001b[1;31mTypeError\u001b[0m                                 Traceback (most recent call last)",
      "\u001b[1;32m<ipython-input-8-dac06c5fda4c>\u001b[0m in \u001b[0;36m<module>\u001b[1;34m()\u001b[0m\n\u001b[0;32m     17\u001b[0m         \u001b[1;32mreturn\u001b[0m \u001b[0mself\u001b[0m\u001b[1;33m.\u001b[0m\u001b[0ma\u001b[0m\u001b[1;33m,\u001b[0m\u001b[0mself\u001b[0m\u001b[1;33m.\u001b[0m\u001b[0mb\u001b[0m\u001b[1;33m\u001b[0m\u001b[0m\n\u001b[0;32m     18\u001b[0m \u001b[1;33m\u001b[0m\u001b[0m\n\u001b[1;32m---> 19\u001b[1;33m \u001b[0mo2\u001b[0m \u001b[1;33m=\u001b[0m \u001b[0mc2\u001b[0m\u001b[1;33m(\u001b[0m\u001b[1;33m)\u001b[0m\u001b[1;33m\u001b[0m\u001b[0m\n\u001b[0m\u001b[0;32m     20\u001b[0m \u001b[0mo2\u001b[0m\u001b[1;33m.\u001b[0m\u001b[0mget\u001b[0m\u001b[1;33m(\u001b[0m\u001b[1;33m)\u001b[0m\u001b[1;33m\u001b[0m\u001b[0m\n",
      "\u001b[1;31mTypeError\u001b[0m: __init__() takes exactly 3 arguments (1 given)"
     ]
    }
   ],
   "source": [
    "class c1:\n",
    "    \n",
    "    def __init__(self,a,b):\n",
    "        print \"c1 constructor\"\n",
    "        self.a = a\n",
    "        self.b = b\n",
    "        \n",
    "    def get(self):\n",
    "        return self.a,self.b\n",
    "    \n",
    "    \n",
    "class c2(c1):\n",
    "    \n",
    "    def get(self):\n",
    "        print \"validate\"\n",
    "        \n",
    "        return self.a,self.b\n",
    "    \n",
    "o2 = c2()\n",
    "o2.get()"
   ]
  },
  {
   "cell_type": "code",
   "execution_count": 11,
   "metadata": {},
   "outputs": [
    {
     "name": "stdout",
     "output_type": "stream",
     "text": [
      "c1 constructor\n",
      "i am a get in c1 class\n"
     ]
    },
    {
     "data": {
      "text/plain": [
       "(1234, 546567)"
      ]
     },
     "execution_count": 11,
     "metadata": {},
     "output_type": "execute_result"
    }
   ],
   "source": [
    "\"\"\"\n",
    "if a class which is inherited doesnt have any constructor \n",
    "it will look for base class constructor to call it \n",
    "\n",
    "\n",
    "\"\"\"\n",
    "\n",
    "\n",
    "\n",
    "\n",
    "class c1:\n",
    "    \n",
    "    def __init__(self,a,b):\n",
    "        print \"c1 constructor\"\n",
    "        self.a = a\n",
    "        self.b = b\n",
    "        \n",
    "    def get(self):\n",
    "        print \"i am a get in c1 class\"\n",
    "        return self.a,self.b\n",
    "    \n",
    "    \n",
    "class c2(c1):\n",
    "    pass\n",
    "    #this class doesnt have any constructor so it looks for base class constructor \n",
    "    \n",
    "o2 = c2(1234,546567)\n",
    "o2.get()"
   ]
  },
  {
   "cell_type": "code",
   "execution_count": 13,
   "metadata": {},
   "outputs": [
    {
     "ename": "AttributeError",
     "evalue": "c2 instance has no attribute 'a'",
     "output_type": "error",
     "traceback": [
      "\u001b[1;31m---------------------------------------------------------------------------\u001b[0m",
      "\u001b[1;31mAttributeError\u001b[0m                            Traceback (most recent call last)",
      "\u001b[1;32m<ipython-input-13-a40e3ecae9e6>\u001b[0m in \u001b[0;36m<module>\u001b[1;34m()\u001b[0m\n\u001b[0;32m     23\u001b[0m \u001b[1;33m\u001b[0m\u001b[0m\n\u001b[0;32m     24\u001b[0m \u001b[0mo2\u001b[0m \u001b[1;33m=\u001b[0m \u001b[0mc2\u001b[0m\u001b[1;33m(\u001b[0m\u001b[1;36m1000000\u001b[0m\u001b[1;33m)\u001b[0m\u001b[1;33m\u001b[0m\u001b[0m\n\u001b[1;32m---> 25\u001b[1;33m \u001b[1;32mprint\u001b[0m \u001b[0mo2\u001b[0m\u001b[1;33m.\u001b[0m\u001b[0mget\u001b[0m\u001b[1;33m(\u001b[0m\u001b[1;33m)\u001b[0m\u001b[1;33m\u001b[0m\u001b[0m\n\u001b[0m\u001b[0;32m     26\u001b[0m \u001b[1;33m\u001b[0m\u001b[0m\n\u001b[0;32m     27\u001b[0m \u001b[1;33m\u001b[0m\u001b[0m\n",
      "\u001b[1;32m<ipython-input-13-a40e3ecae9e6>\u001b[0m in \u001b[0;36mget\u001b[1;34m(self)\u001b[0m\n\u001b[0;32m     19\u001b[0m \u001b[1;33m\u001b[0m\u001b[0m\n\u001b[0;32m     20\u001b[0m     \u001b[1;32mdef\u001b[0m \u001b[0mget\u001b[0m\u001b[1;33m(\u001b[0m\u001b[0mself\u001b[0m\u001b[1;33m)\u001b[0m\u001b[1;33m:\u001b[0m\u001b[1;33m\u001b[0m\u001b[0m\n\u001b[1;32m---> 21\u001b[1;33m         \u001b[1;32mreturn\u001b[0m \u001b[0mself\u001b[0m\u001b[1;33m.\u001b[0m\u001b[0ma\u001b[0m\u001b[1;33m,\u001b[0m\u001b[0mself\u001b[0m\u001b[1;33m.\u001b[0m\u001b[0mb\u001b[0m\u001b[1;33m,\u001b[0m\u001b[0mself\u001b[0m\u001b[1;33m.\u001b[0m\u001b[0mc\u001b[0m\u001b[1;33m\u001b[0m\u001b[0m\n\u001b[0m\u001b[0;32m     22\u001b[0m \u001b[1;33m\u001b[0m\u001b[0m\n\u001b[0;32m     23\u001b[0m \u001b[1;33m\u001b[0m\u001b[0m\n",
      "\u001b[1;31mAttributeError\u001b[0m: c2 instance has no attribute 'a'"
     ]
    }
   ],
   "source": [
    "\n",
    "\n",
    "\n",
    "class c1:\n",
    "    \n",
    "    def __init__(self,a,b):\n",
    "        print \"c1 constructor\"\n",
    "        self.a = a\n",
    "        self.b = b\n",
    "        \n",
    "    def get(self):\n",
    "        print \"i am a get in c1 class\"\n",
    "        return self.a,self.b\n",
    "    \n",
    "    \n",
    "class c2(c1):\n",
    "    def __init__(self,c):\n",
    "        self.c = c\n",
    "        \n",
    "    def get(self):\n",
    "        return self.a,self.b,self.c\n",
    "        \n",
    "    \n",
    "o2 = c2(1000000)\n",
    "print o2.get()\n",
    "\n",
    "\n",
    "\"\"\"\n",
    "self.a and self.b  is not initialised so thats why we doesnt get the output\n",
    "\"\"\""
   ]
  },
  {
   "cell_type": "code",
   "execution_count": 16,
   "metadata": {},
   "outputs": [
    {
     "name": "stdout",
     "output_type": "stream",
     "text": [
      "c1 constructor\n",
      "(3544, 676768, 1000000)\n"
     ]
    }
   ],
   "source": [
    "\n",
    "\n",
    "\n",
    "class c1:\n",
    "    \n",
    "    def __init__(self,a,b):\n",
    "        print \"c1 constructor\"\n",
    "        self.a = a\n",
    "        self.b = b\n",
    "        \n",
    "    def get(self):\n",
    "        print \"i am a get in c1 class\"\n",
    "        return self.a,self.b\n",
    "    \n",
    "    \n",
    "class c2(c1):\n",
    "    \"\"\"\n",
    "    if this is a problem then call parent class constructor  in derived class\n",
    "    \n",
    "    \"\"\"\n",
    "    def __init__(self,c,a,b):\n",
    "        self.c = c\n",
    "        \n",
    "        c1.__init__(self,a,b)\n",
    "        # calling through class object not through instance because we want the base class coostructor\n",
    "        \n",
    "    def get(self):\n",
    "        return self.a,self.b,self.c\n",
    "        \n",
    "    \n",
    "o2 = c2(1000000,3544,676768)\n",
    "print o2.get()\n"
   ]
  },
  {
   "cell_type": "code",
   "execution_count": null,
   "metadata": {},
   "outputs": [],
   "source": [
    "\n",
    "\n",
    "class c1:\n",
    "    \n",
    "    def __init__(self,a,b):\n",
    "        print \"c1 constructor\"\n",
    "        self.a = a\n",
    "        self.b = b\n",
    "        \n",
    "    def get(self):\n",
    "        print \"i am a get in c1 class\"\n",
    "        return self.a,self.b\n",
    "    \n",
    "    \n",
    "class c2(c1):\n",
    "    \"\"\"\n",
    "    if this is a problem then call parent class constructor  in derived class\n",
    "    \n",
    "    \"\"\"\n",
    "    def __init__(self,c,a,b):\n",
    "        self.c = c\n",
    "        \n",
    "        c1.__init__(self,a,b)\n",
    "        # calling through class object not through instance because we want the base class coostructor\n",
    "        \n",
    "    def get(self):\n",
    "        return c1.get(self)+(self.c,)\n",
    "        \n",
    "    \n",
    "o2 = c2(1000000,3544,676768)\n",
    "print o2.get()\n",
    "\n",
    "\n",
    "\n",
    "\"\"\"\n",
    "this all program contains polymorphism ,inheritence\n",
    "and data  binding also \n",
    "\n",
    "\n",
    "\n",
    "\n",
    "\"\"\""
   ]
  },
  {
   "cell_type": "markdown",
   "metadata": {},
   "source": [
    "# encapsulation technique\n",
    "## means flexible  security of attributes\n",
    "### lets take a example and understand this concept"
   ]
  },
  {
   "cell_type": "code",
   "execution_count": 24,
   "metadata": {},
   "outputs": [
    {
     "ename": "NameError",
     "evalue": "name 'a123' is not defined",
     "output_type": "error",
     "traceback": [
      "\u001b[1;31m---------------------------------------------------------------------------\u001b[0m",
      "\u001b[1;31mNameError\u001b[0m                                 Traceback (most recent call last)",
      "\u001b[1;32m<ipython-input-24-2802518ae203>\u001b[0m in \u001b[0;36m<module>\u001b[1;34m()\u001b[0m\n\u001b[0;32m      9\u001b[0m \u001b[1;33m\u001b[0m\u001b[0m\n\u001b[0;32m     10\u001b[0m \u001b[0mfun\u001b[0m\u001b[1;33m(\u001b[0m\u001b[1;33m)\u001b[0m\u001b[1;33m\u001b[0m\u001b[0m\n\u001b[1;32m---> 11\u001b[1;33m \u001b[1;32mprint\u001b[0m \u001b[0ma123\u001b[0m\u001b[1;33m\u001b[0m\u001b[0m\n\u001b[0m",
      "\u001b[1;31mNameError\u001b[0m: name 'a123' is not defined"
     ]
    }
   ],
   "source": [
    "# encapsulation\n",
    "\n",
    "\n",
    "def fun():\n",
    "    a123 = 100000\n",
    "    b123 = 232\n",
    "    c123 = 34535\n",
    "    \n",
    "    \n",
    "fun()\n",
    "print a123"
   ]
  },
  {
   "cell_type": "code",
   "execution_count": 6,
   "metadata": {},
   "outputs": [
    {
     "name": "stdout",
     "output_type": "stream",
     "text": [
      "2200.0\n"
     ]
    }
   ],
   "source": [
    "class Emp:\n",
    "    \n",
    "    \n",
    "    def __init__(self,e_id,sal,incp):\n",
    "        self.id = e_id\n",
    "        self.sal = sal\n",
    "        self.incp = incp\n",
    "        \n",
    "    def sal_cal(self):\n",
    "        \n",
    "        return self.sal + self.sal * (self.incp /100.0)\n",
    "    \n",
    "    def get(self):\n",
    "        return self.id ,self.sal ,self.incp\n",
    "    \n",
    "    \n",
    "nagesh = Emp(229,2000,10)\n",
    "print nagesh.sal_cal()\n",
    "    \n",
    "    \n",
    "\n",
    "        \n",
    "        "
   ]
  },
  {
   "cell_type": "code",
   "execution_count": 5,
   "metadata": {},
   "outputs": [
    {
     "name": "stdout",
     "output_type": "stream",
     "text": [
      "changing the value\n",
      "(229, 2000, 10)\n",
      "2200.0\n"
     ]
    },
    {
     "data": {
      "text/plain": [
       "'\\npolymorphism is basically a technique through which a person cannot change the value of any attributes outside the class\\nthis concept is called the encapsulation\\n\\n\\n\\n'"
      ]
     },
     "execution_count": 5,
     "metadata": {},
     "output_type": "execute_result"
    }
   ],
   "source": [
    "class Emp:\n",
    "    \n",
    "    \n",
    "    def __init__(self,e_id,sal,incp):\n",
    "        self.e_id = e_id\n",
    "        self.sal = sal\n",
    "        self.__incp = incp\n",
    "        #putting __ before any attribute provides flexible security to user\n",
    "        \n",
    "    def sal_cal(self):\n",
    "        \n",
    "        return self.sal + self.sal * (self.__incp /100.0)\n",
    "    \n",
    "    def get(self):\n",
    "        return self.e_id ,self.sal ,self.__incp\n",
    "    \n",
    "    \n",
    "nagesh = Emp(229,2000,10)\n",
    "if nagesh.e_id == 229:\n",
    "    print \"changing the value\"\n",
    "    nagesh.__incp = 1000000\n",
    "    #this will not effecct the class attributes\n",
    "print nagesh.get()\n",
    "print nagesh.sal_cal()\n",
    "\n",
    "\n",
    "        \n",
    "\"\"\"\n",
    "polymorphism is basically a technique through which a person cannot change the value of any attributes outside the class\n",
    "this concept is called the encapsulation\n",
    "\n",
    "\n",
    "\n",
    "\"\"\""
   ]
  },
  {
   "cell_type": "code",
   "execution_count": 7,
   "metadata": {},
   "outputs": [],
   "source": [
    "# see when we put __ before any attributes we cant able to change the value"
   ]
  },
  {
   "cell_type": "code",
   "execution_count": 10,
   "metadata": {},
   "outputs": [
    {
     "name": "stdout",
     "output_type": "stream",
     "text": [
      "changing the value\n",
      "(229, 9999999, 10)\n",
      "10999998.9\n"
     ]
    },
    {
     "data": {
      "text/plain": [
       "'\\nattributes which we not allow to secure put __ before that attribute that make him secured attribute\\n\\n'"
      ]
     },
     "execution_count": 10,
     "metadata": {},
     "output_type": "execute_result"
    }
   ],
   "source": [
    "class Emp:\n",
    "    \n",
    "    \n",
    "    def __init__(self,e_id,sal,incp):\n",
    "        self.e_id = e_id\n",
    "        self.sal = sal\n",
    "        self.__incp = incp\n",
    "        #putting __ before any attribute provides flexible security to user\n",
    "        \n",
    "    def sal_cal(self):\n",
    "        \n",
    "        return self.sal + self.sal * (self.__incp /100.0)\n",
    "    \n",
    "    def get(self):\n",
    "        return self.e_id ,self.sal ,self.__incp\n",
    "    \n",
    "    \n",
    "nagesh = Emp(229,2000,10)\n",
    "if nagesh.e_id == 229:\n",
    "    print \"changing the value\"\n",
    "    nagesh.__incp = 1000000\n",
    "    nagesh.sal = 9999999\n",
    "    \"\"\"\n",
    "    see the difference here we are able to change the value of \n",
    "    sal but nt incp because we provide flexible security to incp \n",
    "    which results in that we cant able to change the value of incp \n",
    "    but at th e same time we are able to change the value of sal\n",
    "    \n",
    "    \n",
    "    \"\"\"\n",
    "print nagesh.get()\n",
    "print nagesh.sal_cal()\n",
    "\n",
    "\n",
    "\n",
    "\n",
    "\"\"\"\n",
    "attributes which we not allow to secure put __ before that attribute that make him secured attribute\n",
    "\n",
    "\"\"\""
   ]
  },
  {
   "cell_type": "code",
   "execution_count": 15,
   "metadata": {},
   "outputs": [
    {
     "name": "stdout",
     "output_type": "stream",
     "text": [
      "changing the value\n",
      "(229, 2000, 10)\n",
      "2200.0\n",
      "(229, 2000, 200000000000000L)\n",
      "4e+15\n"
     ]
    },
    {
     "data": {
      "text/plain": [
       "'\\nwe can make cahnge inside the class as many times as we want \\nsecurity is only for outside the class not for inside the class\\n\\n\\n\\n'"
      ]
     },
     "execution_count": 15,
     "metadata": {},
     "output_type": "execute_result"
    }
   ],
   "source": [
    "class Emp:\n",
    "    \n",
    "    \n",
    "    def __init__(self,e_id,sal,incp):\n",
    "        self.e_id = e_id\n",
    "        self.sal = sal\n",
    "        self.__incp = incp\n",
    "        #putting __ before any attribute provides flexible security to user\n",
    "    \n",
    "    def change_incep(self):\n",
    "        \"\"\"\n",
    "        security is only for outside the classs if want to change the value inside the class\n",
    "        we can do it \n",
    "        \"\"\"\n",
    "        self.__incp = 200000000000000\n",
    "        \n",
    "        \n",
    "        \n",
    "    def sal_cal(self):\n",
    "        \n",
    "        return self.sal + self.sal * (self.__incp /100.0)\n",
    "    \n",
    "    def get(self):\n",
    "        return self.e_id ,self.sal ,self.__incp\n",
    "    \n",
    "    \n",
    "nagesh = Emp(229,2000,10)\n",
    "if nagesh.e_id == 229:\n",
    "    print \"changing the value\"\n",
    "    nagesh.__incp = 1000000\n",
    "    #this will not effecct the class attributes\n",
    "print nagesh.get()\n",
    "print nagesh.sal_cal()\n",
    "\n",
    "\n",
    "singh = Emp(229,2000,10)\n",
    "singh.change_incep()\n",
    "print singh.get()\n",
    "print singh.sal_cal()\n",
    "\n",
    "\n",
    "\n",
    "\n",
    "\"\"\"\n",
    "we can make cahnge inside the class as many times as we want \n",
    "security is only for outside the class not for inside the class\n",
    "\n",
    "\n",
    "\n",
    "\"\"\"\n",
    "\n"
   ]
  },
  {
   "cell_type": "code",
   "execution_count": 16,
   "metadata": {},
   "outputs": [],
   "source": [
    "# same thing is for methods we can also provide security to methods also "
   ]
  },
  {
   "cell_type": "code",
   "execution_count": 22,
   "metadata": {},
   "outputs": [
    {
     "name": "stdout",
     "output_type": "stream",
     "text": [
      "changing the value\n",
      "(229, 2000, 15)\n",
      "2300.0\n",
      "(229, 2000, 10)\n",
      "2200.0\n"
     ]
    },
    {
     "data": {
      "text/plain": [
       "'\\nwe can make cahnge inside the class as many times as we want \\nsecurity is only for outside the class not for inside the class\\n\\n\\n\\n'"
      ]
     },
     "execution_count": 22,
     "metadata": {},
     "output_type": "execute_result"
    }
   ],
   "source": [
    "class Emp:\n",
    "    \n",
    "    \n",
    "    def __init__(self,e_id,sal,incp,team):\n",
    "        self.e_id = e_id\n",
    "        self.sal = sal\n",
    "        self.__incp = incp\n",
    "        self.team = team\n",
    "        if self.team == \"l1\":\n",
    "            self.__change_incep()\n",
    "            \n",
    "            # see here we are calling our secured method inside the class\n",
    "            \n",
    "    \n",
    "    def __change_incep(self):\n",
    "        \"\"\"\n",
    "        if we put __ before any method we cant acess it outside the class\n",
    "        but we can acess it inside the class as many times as we want \n",
    "        \n",
    " \n",
    "        \"\"\"\n",
    "        self.__incp = self.__incp+5\n",
    "        \n",
    "        \n",
    "        \n",
    "    def sal_cal(self):\n",
    "        \n",
    "        return self.sal + self.sal * (self.__incp /100.0)\n",
    "    \n",
    "    def get(self):\n",
    "        return self.e_id ,self.sal ,self.__incp\n",
    "    \n",
    "    \n",
    "nagesh = Emp(229,2000,10,\"l1\")\n",
    "if nagesh.e_id == 229:\n",
    "    print \"changing the value\"\n",
    "    nagesh.__incp = 1000000\n",
    "    #this will not effecct the class attributes\n",
    "print nagesh.get()\n",
    "print nagesh.sal_cal()\n",
    "\n",
    "\n",
    "singh = Emp(229,2000,10,\"l2\")\n",
    "\n",
    "print singh.get()\n",
    "print singh.sal_cal()\n",
    "\n",
    "\n",
    "\n",
    "\n",
    "\"\"\"\n",
    "we can make cahnge inside the class as many times as we want \n",
    "security is only for outside the class not for inside the class\n",
    "\n",
    "\n",
    "\n",
    "\"\"\"\n",
    "\n"
   ]
  },
  {
   "cell_type": "code",
   "execution_count": 23,
   "metadata": {},
   "outputs": [],
   "source": [
    "# see the differnce between nagesh instance and singh instance \n",
    "# in nagesh onstance we see the increment of 5 in incep but dont in singh instance\n"
   ]
  },
  {
   "cell_type": "code",
   "execution_count": 25,
   "metadata": {},
   "outputs": [
    {
     "data": {
      "text/plain": [
       "'\\nso encpsulation provides the flexible security to attributes and methods of class\\nthrough that we cant able to modify that secured attribute outside the class\\nin method we cant able to call that secured method outside the class or through child class\\nwe can only able to call it through inside the class\\n\\n\\n'"
      ]
     },
     "execution_count": 25,
     "metadata": {},
     "output_type": "execute_result"
    }
   ],
   "source": [
    "\"\"\"\n",
    "so encpsulation provides the flexible security to attributes and methods of class\n",
    "through that we cant able to modify that secured attribute outside the class\n",
    "in method we cant able to call that secured method outside the class or through child class\n",
    "we can only able to call it through inside the class\n",
    "\n",
    "\n",
    "\"\"\""
   ]
  },
  {
   "cell_type": "markdown",
   "metadata": {},
   "source": [
    "# polymorphism "
   ]
  },
  {
   "cell_type": "code",
   "execution_count": 26,
   "metadata": {},
   "outputs": [
    {
     "name": "stdout",
     "output_type": "stream",
     "text": [
      "30\n",
      "str1str2\n",
      "[1, 2, 3, 4, 5, 6]\n",
      "(3+6j)\n"
     ]
    }
   ],
   "source": [
    "a = 10 \n",
    "b = 20 \n",
    "print a+b\n",
    "\n",
    "a = \"str1\"\n",
    "b = \"str2\"\n",
    "print a+b\n",
    "\n",
    "\n",
    "a = [1,2,3]\n",
    "b = [4,5,6]\n",
    "print a + b\n",
    "\n",
    "\n",
    "c1 = 1 + 2j\n",
    "c2 = 2 + 4j\n",
    "print c1 + c2\n",
    "\n",
    "\n",
    "\n",
    "\"\"\"\n",
    "see here same + operator doing differnt jobs on based of data type we give that is what polymorphism is\n",
    "\n",
    "\n",
    "\n",
    "\n",
    "\"\"\"\n"
   ]
  },
  {
   "cell_type": "code",
   "execution_count": 27,
   "metadata": {},
   "outputs": [
    {
     "ename": "TypeError",
     "evalue": "unsupported operand type(s) for +: 'instance' and 'instance'",
     "output_type": "error",
     "traceback": [
      "\u001b[1;31m---------------------------------------------------------------------------\u001b[0m",
      "\u001b[1;31mTypeError\u001b[0m                                 Traceback (most recent call last)",
      "\u001b[1;32m<ipython-input-27-8320a4b0507e>\u001b[0m in \u001b[0;36m<module>\u001b[1;34m()\u001b[0m\n\u001b[0;32m      9\u001b[0m \u001b[0me2\u001b[0m \u001b[1;33m=\u001b[0m \u001b[0mEmp\u001b[0m\u001b[1;33m(\u001b[0m\u001b[1;36m27\u001b[0m\u001b[1;33m,\u001b[0m\u001b[1;36m227\u001b[0m\u001b[1;33m)\u001b[0m\u001b[1;33m\u001b[0m\u001b[0m\n\u001b[0;32m     10\u001b[0m \u001b[1;33m\u001b[0m\u001b[0m\n\u001b[1;32m---> 11\u001b[1;33m \u001b[1;32mprint\u001b[0m \u001b[0me1\u001b[0m\u001b[1;33m+\u001b[0m\u001b[0me2\u001b[0m\u001b[1;33m\u001b[0m\u001b[0m\n\u001b[0m",
      "\u001b[1;31mTypeError\u001b[0m: unsupported operand type(s) for +: 'instance' and 'instance'"
     ]
    }
   ],
   "source": [
    "class Emp:\n",
    "    \n",
    "    def __init__(self,age,e_id):\n",
    "        self.id = e_id\n",
    "        self.age = age\n",
    "        \n",
    "        \n",
    "e1 = Emp(26,229)\n",
    "e2 = Emp(27,227)\n",
    "\n",
    "print e1+e2\n",
    "\"\"\"\n",
    "we cant do this + for instances \n",
    "\"\"\""
   ]
  },
  {
   "cell_type": "code",
   "execution_count": 28,
   "metadata": {},
   "outputs": [
    {
     "ename": "TypeError",
     "evalue": "unsupported operand type(s) for +: 'dict' and 'dict'",
     "output_type": "error",
     "traceback": [
      "\u001b[1;31m---------------------------------------------------------------------------\u001b[0m",
      "\u001b[1;31mTypeError\u001b[0m                                 Traceback (most recent call last)",
      "\u001b[1;32m<ipython-input-28-57506cc9dcc3>\u001b[0m in \u001b[0;36m<module>\u001b[1;34m()\u001b[0m\n\u001b[0;32m      2\u001b[0m \u001b[0md2\u001b[0m \u001b[1;33m=\u001b[0m \u001b[1;33m{\u001b[0m\u001b[1;36m5\u001b[0m\u001b[1;33m:\u001b[0m\u001b[1;36m6\u001b[0m\u001b[1;33m,\u001b[0m\u001b[1;36m7\u001b[0m\u001b[1;33m:\u001b[0m\u001b[1;36m8\u001b[0m\u001b[1;33m}\u001b[0m\u001b[1;33m\u001b[0m\u001b[0m\n\u001b[0;32m      3\u001b[0m \u001b[1;33m\u001b[0m\u001b[0m\n\u001b[1;32m----> 4\u001b[1;33m \u001b[1;32mprint\u001b[0m \u001b[0md1\u001b[0m \u001b[1;33m+\u001b[0m \u001b[0md2\u001b[0m\u001b[1;33m\u001b[0m\u001b[0m\n\u001b[0m",
      "\u001b[1;31mTypeError\u001b[0m: unsupported operand type(s) for +: 'dict' and 'dict'"
     ]
    }
   ],
   "source": [
    "d1 = {1:2,3:4}\n",
    "d2 = {5:6,7:8}\n",
    "\n",
    "print d1 + d2"
   ]
  },
  {
   "cell_type": "code",
   "execution_count": 29,
   "metadata": {},
   "outputs": [
    {
     "name": "stdout",
     "output_type": "stream",
     "text": [
      "True\n"
     ]
    }
   ],
   "source": [
    "class Emp:\n",
    "    \n",
    "    def __init__(self,age,e_id):\n",
    "        self.id = e_id\n",
    "        self.age = age\n",
    "        \n",
    "        \n",
    "e1 = Emp(26,229)\n",
    "e2 = Emp(27,227)\n",
    "\n",
    "print e1 > e2\n"
   ]
  },
  {
   "cell_type": "code",
   "execution_count": 30,
   "metadata": {},
   "outputs": [],
   "source": [
    "# see this comparison is possible"
   ]
  },
  {
   "cell_type": "markdown",
   "metadata": {},
   "source": [
    "# polymormhism means supporting three concept \n",
    "# operator overloading \n",
    "# method overloading \n",
    "# method overiding \n",
    "\n",
    "\n",
    "\n",
    "### method overriding ======\n",
    "\"\"\" method overriding means you have a parent class and a child class and in child class we are writing the same method name \n",
    "and the defination is little different is called overirding and if these three concept was called as polymorphism\n",
    "\n",
    "====================================================================================================================\n",
    "class c1:\n",
    "    \n",
    "    def __init__(self,a,b):\n",
    "        print \"c1 constructor\"\n",
    "        self.a = a\n",
    "        self.b = b\n",
    "        \n",
    "    def get(self):\n",
    "        print \"i am a get in c1 class\"\n",
    "        return self.a,self.b\n",
    "    \n",
    "    \n",
    "class c2(c1):\n",
    "    \n",
    "    if this is a problem then call parent class constructor  in derived class\n",
    "    \n",
    "    def __init__(self,c,a,b):\n",
    "        self.c = c\n",
    "        \n",
    "        c1.__init__(self,a,b)\n",
    "        # calling through class object not through instance because we want the base class coostructor\n",
    "        \n",
    "    def get(self):\n",
    "        return self.a,self.b,self.c\n",
    "        \n",
    "    \n",
    "o2 = c2(1000000,3544,676768)\n",
    "print o2.get()\n",
    "\n",
    "\n",
    "======================================================================================================================\n",
    "\"\"\""
   ]
  },
  {
   "cell_type": "markdown",
   "metadata": {},
   "source": [
    "### method overloading\n",
    "\"\"\"\n",
    "according to python fn should be on posn to call differnt no of arguments but business logic is same\n",
    "\"\"\""
   ]
  },
  {
   "cell_type": "code",
   "execution_count": 1,
   "metadata": {},
   "outputs": [
    {
     "name": "stdout",
     "output_type": "stream",
     "text": [
      "30\n"
     ]
    },
    {
     "ename": "TypeError",
     "evalue": "fun() takes exactly 2 arguments (3 given)",
     "output_type": "error",
     "traceback": [
      "\u001b[1;31m---------------------------------------------------------------------------\u001b[0m",
      "\u001b[1;31mTypeError\u001b[0m                                 Traceback (most recent call last)",
      "\u001b[1;32m<ipython-input-1-7bb2226a114c>\u001b[0m in \u001b[0;36m<module>\u001b[1;34m()\u001b[0m\n\u001b[0;32m      5\u001b[0m \u001b[1;33m\u001b[0m\u001b[0m\n\u001b[0;32m      6\u001b[0m \u001b[1;32mprint\u001b[0m \u001b[0mfun\u001b[0m\u001b[1;33m(\u001b[0m\u001b[1;36m10\u001b[0m\u001b[1;33m,\u001b[0m\u001b[1;36m20\u001b[0m\u001b[1;33m)\u001b[0m\u001b[1;33m\u001b[0m\u001b[0m\n\u001b[1;32m----> 7\u001b[1;33m \u001b[1;32mprint\u001b[0m \u001b[0mfun\u001b[0m\u001b[1;33m(\u001b[0m\u001b[1;36m10\u001b[0m\u001b[1;33m,\u001b[0m\u001b[1;36m20\u001b[0m\u001b[1;33m,\u001b[0m\u001b[1;36m30\u001b[0m\u001b[1;33m)\u001b[0m\u001b[1;33m\u001b[0m\u001b[0m\n\u001b[0m\u001b[0;32m      8\u001b[0m \u001b[1;31m# we cant pass more than 2 arguments\u001b[0m\u001b[1;33m\u001b[0m\u001b[1;33m\u001b[0m\u001b[0m\n",
      "\u001b[1;31mTypeError\u001b[0m: fun() takes exactly 2 arguments (3 given)"
     ]
    }
   ],
   "source": [
    "#method overloading \n",
    "\n",
    "def fun(a,b):\n",
    "    return a+b\n",
    "\n",
    "print fun(10,20)\n",
    "print fun(10,20,30)\n",
    "# we cant pass more than 2 arguments\n"
   ]
  },
  {
   "cell_type": "code",
   "execution_count": 3,
   "metadata": {},
   "outputs": [
    {
     "name": "stdout",
     "output_type": "stream",
     "text": [
      "passing two arguments\n"
     ]
    }
   ],
   "source": [
    "class c1:\n",
    "    \n",
    "    def __init__(self,name,age):\n",
    "        self.name = name \n",
    "        self.age = age\n",
    "        print \"passing two arguments\"\n",
    "\n",
    "        \n",
    "o1 = c1(\"nagesh\",23)\n",
    "# if we pass 2 arguments its okay"
   ]
  },
  {
   "cell_type": "code",
   "execution_count": 4,
   "metadata": {},
   "outputs": [
    {
     "ename": "TypeError",
     "evalue": "__init__() got an unexpected keyword argument 'pan'",
     "output_type": "error",
     "traceback": [
      "\u001b[1;31m---------------------------------------------------------------------------\u001b[0m",
      "\u001b[1;31mTypeError\u001b[0m                                 Traceback (most recent call last)",
      "\u001b[1;32m<ipython-input-4-ddd8c000f3db>\u001b[0m in \u001b[0;36m<module>\u001b[1;34m()\u001b[0m\n\u001b[1;32m----> 1\u001b[1;33m \u001b[0mo2\u001b[0m \u001b[1;33m=\u001b[0m \u001b[0mc1\u001b[0m\u001b[1;33m(\u001b[0m\u001b[1;34m\"singh\"\u001b[0m\u001b[1;33m,\u001b[0m\u001b[1;36m24\u001b[0m\u001b[1;33m,\u001b[0m\u001b[0mpan\u001b[0m \u001b[1;33m=\u001b[0m\u001b[1;34m\"2323425\"\u001b[0m\u001b[1;33m)\u001b[0m\u001b[1;33m\u001b[0m\u001b[0m\n\u001b[0m\u001b[0;32m      2\u001b[0m \u001b[1;31m# we cant able to pass like this because that constructor only take a call of that object which ahve 3 arguments only\u001b[0m\u001b[1;33m\u001b[0m\u001b[1;33m\u001b[0m\u001b[0m\n",
      "\u001b[1;31mTypeError\u001b[0m: __init__() got an unexpected keyword argument 'pan'"
     ]
    }
   ],
   "source": [
    "o2 = c1(\"singh\",24,pan =\"2323425\")\n",
    "# we cant able to pass like this because that constructor only take a call of that object which ahve 3 arguments only"
   ]
  },
  {
   "cell_type": "code",
   "execution_count": 5,
   "metadata": {},
   "outputs": [],
   "source": [
    "# if we are able to pass like this then we say my language supports method overloading \n",
    "# means how can we define a const to pass with differnt no of arguments\n",
    "\n",
    "# the idea is we can use default arguuments cncept here"
   ]
  },
  {
   "cell_type": "code",
   "execution_count": 11,
   "metadata": {},
   "outputs": [
    {
     "name": "stdout",
     "output_type": "stream",
     "text": [
      "hey you are doing method overloading\n",
      "hey you are doing method overloading\n",
      "hey you are doing method overloading\n"
     ]
    }
   ],
   "source": [
    "class c1:\n",
    "    \n",
    "    def __init__(self,name,age,pan=\"\",aadhar=\"\",cell=\"\" ):\n",
    "        self.name = name \n",
    "        self.age = age\n",
    "        self.pan = pan\n",
    "        self.aadhar = aadhar\n",
    "        self.cell = cell\n",
    "        print \"hey you are doing method overloading\"\n",
    "        \"\"\"\n",
    "        to do method overloading we can simply make alll the possible arguments default\n",
    "        by making default argmnts we can able to call the method througha ny no of arguments\n",
    "        \n",
    "        \n",
    "        \"\"\"\n",
    "        \n",
    "\n",
    "        \n",
    "o1 = c1(\"nagesh\",20,cell= \"9009310860\")\n",
    "o2 = c1(\"singh\",25,aadhar=\"336426030487\")\n",
    "o3 = c1(\"rajput\",323,pan =\"afadsv\")\n",
    "\n",
    "\n",
    "# see we are able to call our method through different no of arguments"
   ]
  },
  {
   "cell_type": "code",
   "execution_count": 4,
   "metadata": {},
   "outputs": [
    {
     "ename": "TypeError",
     "evalue": "__init__() got an unexpected keyword argument 'aadhar'",
     "output_type": "error",
     "traceback": [
      "\u001b[1;31m---------------------------------------------------------------------------\u001b[0m",
      "\u001b[1;31mTypeError\u001b[0m                                 Traceback (most recent call last)",
      "\u001b[1;32m<ipython-input-4-ec6e05610427>\u001b[0m in \u001b[0;36m<module>\u001b[1;34m()\u001b[0m\n\u001b[0;32m     24\u001b[0m             \u001b[1;32mpass\u001b[0m\u001b[1;33m\u001b[0m\u001b[0m\n\u001b[0;32m     25\u001b[0m \u001b[0mo1\u001b[0m \u001b[1;33m=\u001b[0m \u001b[0mc1\u001b[0m\u001b[1;33m(\u001b[0m\u001b[1;34m\"nagesh\"\u001b[0m\u001b[1;33m,\u001b[0m\u001b[1;36m20\u001b[0m\u001b[1;33m)\u001b[0m\u001b[1;33m\u001b[0m\u001b[0m\n\u001b[1;32m---> 26\u001b[1;33m \u001b[0mo2\u001b[0m \u001b[1;33m=\u001b[0m \u001b[0mc1\u001b[0m\u001b[1;33m(\u001b[0m\u001b[1;34m\"singh\"\u001b[0m\u001b[1;33m,\u001b[0m\u001b[1;36m25\u001b[0m\u001b[1;33m,\u001b[0m\u001b[0maadhar\u001b[0m\u001b[1;33m=\u001b[0m\u001b[1;34m\"336426030487\"\u001b[0m\u001b[1;33m)\u001b[0m\u001b[1;33m\u001b[0m\u001b[0m\n\u001b[0m\u001b[0;32m     27\u001b[0m \u001b[0mo3\u001b[0m \u001b[1;33m=\u001b[0m \u001b[0mc1\u001b[0m\u001b[1;33m(\u001b[0m\u001b[1;34m\"rajput\"\u001b[0m\u001b[1;33m,\u001b[0m\u001b[1;36m323\u001b[0m\u001b[1;33m,\u001b[0m\u001b[0mpan\u001b[0m \u001b[1;33m=\u001b[0m\u001b[1;34m\"afadsv\"\u001b[0m\u001b[1;33m)\u001b[0m\u001b[1;33m\u001b[0m\u001b[0m\n\u001b[0;32m     28\u001b[0m \u001b[1;33m\u001b[0m\u001b[0m\n",
      "\u001b[1;31mTypeError\u001b[0m: __init__() got an unexpected keyword argument 'aadhar'"
     ]
    }
   ],
   "source": [
    "# another idea is keywords argument \n",
    "\n",
    "class c1:\n",
    "    \n",
    "    def __init__(self,*context ):\n",
    "        \n",
    "        \"\"\"\n",
    "        pass all the arguments in sequence\n",
    "        1. name\n",
    "        2. age\n",
    "        3. pan\n",
    "        4. aadhar \n",
    "        5. cell\n",
    "        \n",
    "        \"\"\"\n",
    "        try:\n",
    "            self.name =context[0] \n",
    "            self.age = context[1] \n",
    "            self.pan = context[2] \n",
    "            self.aadhar = context[3] \n",
    "            self.cell = context[4]         \n",
    "\n",
    "        except:\n",
    "            pass\n",
    "o1 = c1(\"nagesh\",20)\n",
    "o2 = c1(\"singh\",25,aadhar=\"336426030487\")\n",
    "o3 = c1(\"rajput\",323,pan =\"afadsv\")\n",
    "\n",
    "\n",
    "\n",
    "\"\"\"\n",
    "this idea has lots of problem like we have to pass the parameters in sequence a\n",
    "we have to give the user sequence which user may forget\n",
    "\n",
    "the best idea is to go for default arguments\n",
    "\n",
    "\n",
    "\"\"\""
   ]
  },
  {
   "cell_type": "code",
   "execution_count": 14,
   "metadata": {},
   "outputs": [
    {
     "name": "stdout",
     "output_type": "stream",
     "text": [
      "{'age': 23, 'name': 'nagesh'}\n",
      "{'age': 24, 'aadhar': '336426030487', 'name': 'singh'}\n",
      "{'age': 32, 'aadhar': 'sdsafdfs', 'name': 'rajput'}\n",
      "{}\n"
     ]
    }
   ],
   "source": [
    "# another idea is go for  **kwargs which is keyword arguments\n",
    "\n",
    "class c1:\n",
    "    \n",
    "    def __init__(self,**context):\n",
    "        \"\"\"\n",
    "        pass as many as arguments we w3ant so this is also the idea to do method overloading \n",
    "        \n",
    "        \n",
    "        \n",
    "        \"\"\"\n",
    "        print context\n",
    "    \n",
    "    \n",
    "        \n",
    "o1 = c1(name = \"nagesh\",age = 23)\n",
    "o2 = c1(name = \"singh\",age = 24,aadhar=\"336426030487\")\n",
    "o3 = c1(name = \"rajput\",age = 32, aadhar = \"sdsafdfs\")\n",
    "o4 = c1()\n",
    "\n",
    "\n",
    "# see we are able to call our method through different no of arguments"
   ]
  },
  {
   "cell_type": "code",
   "execution_count": 17,
   "metadata": {},
   "outputs": [
    {
     "name": "stdout",
     "output_type": "stream",
     "text": [
      "nagesh 23 {}\n",
      "singh 24 {'aadhar': '336426030487'}\n",
      "rajput 32 {'aadhar': 'sdsafdfs'}\n",
      "saket 27 {}\n"
     ]
    }
   ],
   "source": [
    "# another idea is go for  **kwargs which is keyword arguments\n",
    "\n",
    "class c1:\n",
    "    \n",
    "    def __init__(self,name,age,**context):\n",
    "        # we can also do anme and age as manadatory \n",
    "        # this teechnique is called as method overloading using **keywords arguments \n",
    "        \n",
    "\n",
    "        print name,age,context\n",
    "    \n",
    "    \n",
    "        \n",
    "o1 = c1(name = \"nagesh\",age = 23)\n",
    "o2 = c1(name = \"singh\",age = 24,aadhar=\"336426030487\")\n",
    "o3 = c1(name = \"rajput\",age = 32, aadhar = \"sdsafdfs\")\n",
    "o4 = c1(name = \"saket\",age = 27)\n",
    "\n",
    "\n",
    "# see we are able to call our method through different no of arguments"
   ]
  },
  {
   "cell_type": "markdown",
   "metadata": {},
   "source": [
    "# OPERATOR OVERLOADING\n",
    "## the most important\n"
   ]
  },
  {
   "cell_type": "code",
   "execution_count": 18,
   "metadata": {},
   "outputs": [
    {
     "name": "stdout",
     "output_type": "stream",
     "text": [
      "30\n"
     ]
    }
   ],
   "source": [
    "a = 10 \n",
    "b = 20 \n",
    "print a + b"
   ]
  },
  {
   "cell_type": "code",
   "execution_count": 19,
   "metadata": {},
   "outputs": [
    {
     "name": "stdout",
     "output_type": "stream",
     "text": [
      "nagesh 23 {}\n",
      "singh 24 {'aadhar': '336426030487'}\n",
      "rajput 32 {'aadhar': 'sdsafdfs'}\n",
      "saket 27 {}\n"
     ]
    },
    {
     "ename": "TypeError",
     "evalue": "unsupported operand type(s) for +: 'instance' and 'instance'",
     "output_type": "error",
     "traceback": [
      "\u001b[1;31m---------------------------------------------------------------------------\u001b[0m",
      "\u001b[1;31mTypeError\u001b[0m                                 Traceback (most recent call last)",
      "\u001b[1;32m<ipython-input-19-920dcf25410f>\u001b[0m in \u001b[0;36m<module>\u001b[1;34m()\u001b[0m\n\u001b[0;32m     15\u001b[0m \u001b[0mo4\u001b[0m \u001b[1;33m=\u001b[0m \u001b[0mc1\u001b[0m\u001b[1;33m(\u001b[0m\u001b[0mname\u001b[0m \u001b[1;33m=\u001b[0m \u001b[1;34m\"saket\"\u001b[0m\u001b[1;33m,\u001b[0m\u001b[0mage\u001b[0m \u001b[1;33m=\u001b[0m \u001b[1;36m27\u001b[0m\u001b[1;33m)\u001b[0m\u001b[1;33m\u001b[0m\u001b[0m\n\u001b[0;32m     16\u001b[0m \u001b[1;33m\u001b[0m\u001b[0m\n\u001b[1;32m---> 17\u001b[1;33m \u001b[1;32mprint\u001b[0m \u001b[0mo1\u001b[0m \u001b[1;33m+\u001b[0m \u001b[0mo2\u001b[0m\u001b[1;33m\u001b[0m\u001b[0m\n\u001b[0m\u001b[0;32m     18\u001b[0m \u001b[1;33m\u001b[0m\u001b[0m\n\u001b[0;32m     19\u001b[0m \"\"\"\n",
      "\u001b[1;31mTypeError\u001b[0m: unsupported operand type(s) for +: 'instance' and 'instance'"
     ]
    }
   ],
   "source": [
    "class c1:\n",
    "    \n",
    "    def __init__(self,name,age,**context):\n",
    "        # we can also do anme and age as manadatory \n",
    "        # this teechnique is called as method overloading using **keywords arguments \n",
    "        \n",
    "\n",
    "        print name,age,context\n",
    "    \n",
    "    \n",
    "        \n",
    "o1 = c1(name = \"nagesh\",age = 23)\n",
    "o2 = c1(name = \"singh\",age = 24,aadhar=\"336426030487\")\n",
    "o3 = c1(name = \"rajput\",age = 32, aadhar = \"sdsafdfs\")\n",
    "o4 = c1(name = \"saket\",age = 27)\n",
    "\n",
    "print o1 + o2\n",
    "\n",
    "\"\"\"\n",
    "if i want to addd two instances then that is called operator overloading \n",
    "\n",
    "\"\"\""
   ]
  },
  {
   "cell_type": "code",
   "execution_count": 22,
   "metadata": {},
   "outputs": [
    {
     "name": "stdout",
     "output_type": "stream",
     "text": [
      "nagesh 23 {}\n",
      "singh 24 {'aadhar': '336426030487'}\n",
      "rajput 32 {'aadhar': 'sdsafdfs'}\n",
      "saket 27 {}\n",
      "summation\n"
     ]
    },
    {
     "data": {
      "text/plain": [
       "'\\nif i want to addd two instances then that is called operator overloading \\n\\n'"
      ]
     },
     "execution_count": 22,
     "metadata": {},
     "output_type": "execute_result"
    }
   ],
   "source": [
    "class c1:\n",
    "    \n",
    "    def __init__(self,name,age,**context): \n",
    "        \n",
    "\n",
    "        print name,age,context\n",
    "        \n",
    "    \n",
    "    def __add__(self1,self2):\n",
    "        return \"summation\"\n",
    "    \n",
    "    \n",
    "        \n",
    "o1 = c1(name = \"nagesh\",age = 23)\n",
    "o2 = c1(name = \"singh\",age = 24,aadhar=\"336426030487\")\n",
    "o3 = c1(name = \"rajput\",age = 32, aadhar = \"sdsafdfs\")\n",
    "o4 = c1(name = \"saket\",age = 27)\n",
    "\n",
    "print o1 + o2\n",
    "# hewre we are not calling __add__  all things will be done automatically \n",
    "\n",
    "\n",
    "\"\"\"\n",
    "if i want to addd two instances then that is called operator overloading \n",
    "\n",
    "\"\"\""
   ]
  },
  {
   "cell_type": "code",
   "execution_count": 23,
   "metadata": {},
   "outputs": [
    {
     "name": "stdout",
     "output_type": "stream",
     "text": [
      "nagesh 23 {}\n",
      "singh 24 {'aadhar': '336426030487'}\n",
      "rajput 32 {'aadhar': 'sdsafdfs'}\n",
      "saket 27 {}\n",
      "summation\n",
      "summation\n"
     ]
    }
   ],
   "source": [
    "class c1:\n",
    "    \n",
    "    def __init__(self,name,age,**context): \n",
    "        \n",
    "\n",
    "        print name,age,context\n",
    "        \n",
    "    \n",
    "    def __add__(self1,self2):\n",
    "        return \"summation\"\n",
    "    \n",
    "    \n",
    "        \n",
    "o1 = c1(name = \"nagesh\",age = 23)\n",
    "o2 = c1(name = \"singh\",age = 24,aadhar=\"336426030487\")\n",
    "o3 = c1(name = \"rajput\",age = 32, aadhar = \"sdsafdfs\")\n",
    "o4 = c1(name = \"saket\",age = 27)\n",
    "\n",
    "print o1 + o2\n",
    "# hewre we are not calling __add__  all things will be done automatically \n",
    "\n",
    "\n",
    "# we can also call it that is not a big deal \n",
    "\n",
    "print o1.__add__(o2)"
   ]
  },
  {
   "cell_type": "code",
   "execution_count": 25,
   "metadata": {},
   "outputs": [
    {
     "name": "stdout",
     "output_type": "stream",
     "text": [
      "40\n",
      "40\n"
     ]
    }
   ],
   "source": [
    "a = 10 \n",
    "b = 30 \n",
    "\n",
    "print a.__add__(b)\n",
    "\n",
    "# this proves that integer class has __add__ method\n",
    "# if we say they call it internally \n",
    "print a+b"
   ]
  },
  {
   "cell_type": "code",
   "execution_count": 29,
   "metadata": {},
   "outputs": [
    {
     "name": "stdout",
     "output_type": "stream",
     "text": [
      "str1str2\n",
      "str1str2\n"
     ]
    }
   ],
   "source": [
    "a = \"str1\"\n",
    "b = \"str2\"\n",
    "\n",
    "print a.__add__(b)\n",
    "print a+b\n",
    "\n",
    "\"\"\"\n",
    "string class also contains __add__\n",
    "\n",
    "\"\"\""
   ]
  },
  {
   "cell_type": "code",
   "execution_count": 30,
   "metadata": {},
   "outputs": [
    {
     "name": "stdout",
     "output_type": "stream",
     "text": [
      "300\n",
      "40\n"
     ]
    }
   ],
   "source": [
    "a = 10 \n",
    "b = 30 \n",
    "\n",
    "print a.__mul__(b)\n",
    "\n",
    "# this proves that integer class has __mul__"
   ]
  },
  {
   "cell_type": "code",
   "execution_count": 32,
   "metadata": {},
   "outputs": [
    {
     "name": "stdout",
     "output_type": "stream",
     "text": [
      "nagesh 23 {}\n",
      "singh 24 {'aadhar': '336426030487'}\n",
      "rajput 32 {'aadhar': 'sdsafdfs'}\n",
      "saket 27 {}\n",
      "{'age': (23, 24), 'name': ('nagesh', 'singh')}\n",
      "iteration 1\n",
      "0\n",
      "iteration 2\n",
      "1\n"
     ]
    }
   ],
   "source": [
    "class c1:\n",
    "    \n",
    "    def __init__(self,name,age,**context): \n",
    "        self.name = name\n",
    "        self.age =  age\n",
    "\n",
    "        print name,age,context\n",
    "        \n",
    "    \n",
    "    def __add__(self1,self2):\n",
    "        return {\"age\":(self1.age,self2.age),\"name\":(self1.name,self2.name)}\n",
    "    \n",
    "    def __iter__(self):\n",
    "        print \"iteration 1\"\n",
    "        yield 0\n",
    "        print \"iteration 2\"\n",
    "        yield 1\n",
    "        \n",
    "o1 = c1(name = \"nagesh\",age = 23)\n",
    "o2 = c1(name = \"singh\",age = 24,aadhar=\"336426030487\")\n",
    "o3 = c1(name = \"rajput\",age = 32, aadhar = \"sdsafdfs\")\n",
    "o4 = c1(name = \"saket\",age = 27)\n",
    "\n",
    "print o1 + o2\n",
    "# print o1.__add__(o2)\n",
    "\n",
    "\n",
    "\n",
    "# if we want to iterate through that \n",
    "for i in o2:\n",
    "    print i "
   ]
  },
  {
   "cell_type": "code",
   "execution_count": 35,
   "metadata": {},
   "outputs": [
    {
     "name": "stdout",
     "output_type": "stream",
     "text": [
      "nagesh 23 {}\n",
      "singh 24 {'aadhar': '336426030487'}\n",
      "rajput 32 {'aadhar': 'sdsafdfs'}\n",
      "saket 27 {}\n",
      "{'age': (23, 24), 'name': ('nagesh', 'singh')}\n",
      "hey i am iterating through it\n",
      "{'name': 'singh'}\n",
      "hey i am iterating through it\n",
      "{'age': 24}\n"
     ]
    }
   ],
   "source": [
    "class c1:\n",
    "    \n",
    "    def __init__(self,name,age,**context): \n",
    "        self.name = name\n",
    "        self.age =  age\n",
    "\n",
    "        print name,age,context\n",
    "        \n",
    "    \n",
    "    def __add__(self1,self2):\n",
    "        return {\"age\":(self1.age,self2.age),\"name\":(self1.name,self2.name)}\n",
    "    \n",
    "    def __iter__(self):\n",
    "        yield {\"name\":self.name}\n",
    "        yield {\"age\":self.age}\n",
    "        \n",
    "o1 = c1(name = \"nagesh\",age = 23)\n",
    "o2 = c1(name = \"singh\",age = 24,aadhar=\"336426030487\")\n",
    "o3 = c1(name = \"rajput\",age = 32, aadhar = \"sdsafdfs\")\n",
    "o4 = c1(name = \"saket\",age = 27)\n",
    "\n",
    "print o1 + o2\n",
    "# print o1.__add__(o2)\n",
    "\n",
    "\n",
    "\n",
    "# if we want to iterate through that \n",
    "for i in o2:\n",
    "    print \"hey i am iterating through it\"\n",
    "    print i "
   ]
  },
  {
   "cell_type": "code",
   "execution_count": 39,
   "metadata": {},
   "outputs": [
    {
     "name": "stdout",
     "output_type": "stream",
     "text": [
      "nagesh 23 {}\n",
      "singh 24 {'aadhar': '336426030487'}\n",
      "rajput 32 {'aadhar': 'sdsafdfs'}\n",
      "saket 27 {}\n",
      "{'age': (23, 24), 'name': ('nagesh', 'singh')}\n",
      "********************\n",
      "hey i am iterating through it\n",
      "{'name': 'rajput'}\n",
      "hey i am iterating through it\n",
      "{'age': 32}\n",
      "******************************\n"
     ]
    },
    {
     "data": {
      "text/plain": [
       "'\\nthis means that all the for loop when we iterate through that \\nhas a __iter__ method which return anything as a yield \\n \\n \\n so this proves that __iter__ method runs always when we iterate through certain things\\n\\n\\n'"
      ]
     },
     "execution_count": 39,
     "metadata": {},
     "output_type": "execute_result"
    }
   ],
   "source": [
    "class c1:\n",
    "    \n",
    "    def __init__(self,name,age,**context): \n",
    "        self.name = name\n",
    "        self.age =  age\n",
    "\n",
    "        print name,age,context\n",
    "        \n",
    "    \n",
    "    def __add__(self1,self2):\n",
    "        return {\"age\":(self1.age,self2.age),\"name\":(self1.name,self2.name)}\n",
    "    \n",
    "    def __iter__(self):\n",
    "        yield {\"name\":self.name}\n",
    "        yield {\"age\":self.age}\n",
    "        \n",
    "o1 = c1(name = \"nagesh\",age = 23)\n",
    "o2 = c1(name = \"singh\",age = 24,aadhar=\"336426030487\")\n",
    "o3 = c1(name = \"rajput\",age = 32, aadhar = \"sdsafdfs\")\n",
    "o4 = c1(name = \"saket\",age = 27)\n",
    "\n",
    "print o1 + o2\n",
    "# print o1.__add__(o2)\n",
    "\n",
    "\n",
    "print \"*\" * 20\n",
    "# if we want to iterate through that \n",
    "for i in o3:\n",
    "    print \"hey i am iterating through it\"\n",
    "    print i\n",
    "    \n",
    "print \"*\" * 30\n",
    "\n",
    "\n",
    "\"\"\"\n",
    "this means that all the for loop when we iterate through that \n",
    "has a __iter__ method which return anything as a yield \n",
    " \n",
    " \n",
    " so this proves that __iter__ method runs always when we iterate through certain things\n",
    "\n",
    "\n",
    "\"\"\""
   ]
  },
  {
   "cell_type": "code",
   "execution_count": 1,
   "metadata": {},
   "outputs": [
    {
     "name": "stdout",
     "output_type": "stream",
     "text": [
      "['__abs__', '__add__', '__and__', '__class__', '__cmp__', '__coerce__', '__delattr__', '__div__', '__divmod__', '__doc__', '__float__', '__floordiv__', '__format__', '__getattribute__', '__getnewargs__', '__hash__', '__hex__', '__index__', '__init__', '__int__', '__invert__', '__long__', '__lshift__', '__mod__', '__mul__', '__neg__', '__new__', '__nonzero__', '__oct__', '__or__', '__pos__', '__pow__', '__radd__', '__rand__', '__rdiv__', '__rdivmod__', '__reduce__', '__reduce_ex__', '__repr__', '__rfloordiv__', '__rlshift__', '__rmod__', '__rmul__', '__ror__', '__rpow__', '__rrshift__', '__rshift__', '__rsub__', '__rtruediv__', '__rxor__', '__setattr__', '__sizeof__', '__str__', '__sub__', '__subclasshook__', '__truediv__', '__trunc__', '__xor__', 'bit_length', 'conjugate', 'denominator', 'imag', 'numerator', 'real']\n"
     ]
    }
   ],
   "source": [
    "# we can check the class methods of any data type through dir \n",
    "\n",
    "a = 10 \n",
    "print dir(a)"
   ]
  },
  {
   "cell_type": "code",
   "execution_count": 2,
   "metadata": {},
   "outputs": [
    {
     "name": "stdout",
     "output_type": "stream",
     "text": [
      "['__abs__', '__add__', '__class__', '__coerce__', '__delattr__', '__div__', '__divmod__', '__doc__', '__eq__', '__float__', '__floordiv__', '__format__', '__ge__', '__getattribute__', '__getformat__', '__getnewargs__', '__gt__', '__hash__', '__init__', '__int__', '__le__', '__long__', '__lt__', '__mod__', '__mul__', '__ne__', '__neg__', '__new__', '__nonzero__', '__pos__', '__pow__', '__radd__', '__rdiv__', '__rdivmod__', '__reduce__', '__reduce_ex__', '__repr__', '__rfloordiv__', '__rmod__', '__rmul__', '__rpow__', '__rsub__', '__rtruediv__', '__setattr__', '__setformat__', '__sizeof__', '__str__', '__sub__', '__subclasshook__', '__truediv__', '__trunc__', 'as_integer_ratio', 'conjugate', 'fromhex', 'hex', 'imag', 'is_integer', 'real']\n"
     ]
    }
   ],
   "source": [
    "# these all are methods of integer class \n",
    "b = 4.5\n",
    "print dir(b)"
   ]
  },
  {
   "cell_type": "code",
   "execution_count": 3,
   "metadata": {},
   "outputs": [
    {
     "name": "stdout",
     "output_type": "stream",
     "text": [
      "<type 'list'>\n",
      "['__add__', '__class__', '__contains__', '__delattr__', '__delitem__', '__delslice__', '__doc__', '__eq__', '__format__', '__ge__', '__getattribute__', '__getitem__', '__getslice__', '__gt__', '__hash__', '__iadd__', '__imul__', '__init__', '__iter__', '__le__', '__len__', '__lt__', '__mul__', '__ne__', '__new__', '__reduce__', '__reduce_ex__', '__repr__', '__reversed__', '__rmul__', '__setattr__', '__setitem__', '__setslice__', '__sizeof__', '__str__', '__subclasshook__', 'append', 'count', 'extend', 'index', 'insert', 'pop', 'remove', 'reverse', 'sort']\n"
     ]
    }
   ],
   "source": [
    "a = [1,2,44]\n",
    "print type(a)\n",
    "print dir(a)"
   ]
  },
  {
   "cell_type": "code",
   "execution_count": 15,
   "metadata": {},
   "outputs": [
    {
     "name": "stdout",
     "output_type": "stream",
     "text": [
      "nagesh 23 {}\n",
      "singh 24 {'aadhar': '336426030487'}\n",
      "rajput 32 {'aadhar': 'sdsafdfs'}\n",
      "saket 27 {}\n",
      "{'age': (23, 24), 'name': ('nagesh', 'singh')}\n",
      "********************\n",
      "hey i am overloading __iter__method but you are not calling me i will called internally\n",
      "hey i am iterating through it\n",
      "{'name': 'rajput'}\n",
      "hey i am iterating through it\n",
      "{'age': 32}\n",
      "hey you are overlaoding the len method\n",
      "2\n",
      "hey you are overlaoding the len method\n",
      "2\n",
      "hey you are overlaoding the len method\n",
      "2\n",
      "hey you are overlaoding the len method\n",
      "2\n"
     ]
    },
    {
     "data": {
      "text/plain": [
       "'\\nwe can also write my own code to find len of my object or add two objects \\nthat is differnt thing but what we are doing here we are \\nunderstanding how to overload operators\\n\\n\\n\\n\\n'"
      ]
     },
     "execution_count": 15,
     "metadata": {},
     "output_type": "execute_result"
    }
   ],
   "source": [
    "# example of method overlaoding and operator overloading both\n",
    "\n",
    "class c1:\n",
    "    \n",
    "    def __init__(self,name,age,**context): \n",
    "        self.name = name\n",
    "        self.age =  age\n",
    "        # name and age are manadatory parameters\n",
    "\n",
    "        print name,age,context\n",
    "    \n",
    "        #**context is keyword arguments which only support keyword argumnets any no \n",
    "        \n",
    "    \n",
    "    def __add__(self1,self2):\n",
    "        return {\"age\":(self1.age,self2.age),\"name\":(self1.name,self2.name)}\n",
    "        # here we are overloading add method to add two instances\n",
    "    \n",
    "    def __iter__(self):\n",
    "        print \"hey i am overloading __iter__method but you are not calling me i will called internally\"\n",
    "        yield {\"name\":self.name}\n",
    "        yield {\"age\":self.age}\n",
    "        # here we are overloading __iter__method which is use in  all iterable condition\n",
    "        \n",
    "        \n",
    "    def __len__(self):\n",
    "        print \"hey you are overlaoding the len method\"\n",
    "        \"\"\"\n",
    "        we can also find actual length through magic dict method \n",
    "        \n",
    "        \n",
    "        \"\"\"\n",
    "        return len(self.__dict__)\n",
    "        # here we are overlaoding len method \n",
    "        \n",
    "        \n",
    "        \n",
    "        \n",
    "        \n",
    "o1 = c1(name = \"nagesh\",age = 23)\n",
    "o2 = c1(name = \"singh\",age = 24,aadhar=\"336426030487\")\n",
    "o3 = c1(name = \"rajput\",age = 32, aadhar = \"sdsafdfs\")\n",
    "o4 = c1(name = \"saket\",age = 27)\n",
    "# o1 o2 o3 and o4 are the example of methiod overloading here we can call the same method by different no of arguments\n",
    "# by use of default arguments or **kwargs argument both can be used\n",
    "\n",
    "print o1 + o2\n",
    "# print o1.__add__(o2)\n",
    "\n",
    "\n",
    "print \"*\" * 20\n",
    "# if we want to iterate through that \n",
    "for i in o3:\n",
    "    print \"hey i am iterating through it\"\n",
    "    print i\n",
    "    \n",
    "    \n",
    "    \n",
    "    \n",
    "print len(o1)\n",
    "print len(o2)\n",
    "print len(o3)\n",
    "print len(o4)\n",
    "# here we are not calling __len__ python internally calls it and print \"hey you are overloading len  method\" and \n",
    "# returning 30\n",
    "\n",
    "\n",
    "\n",
    "\n",
    "\n",
    "\n",
    "\n",
    "\n",
    "\n",
    "\n",
    "\n",
    "\n",
    "\n",
    "\n",
    "\n",
    "\n",
    "\"\"\"\n",
    "we can also write my own code to find len of my object or add two objects \n",
    "that is differnt thing but what we are doing here we are \n",
    "understanding how to overload operators\n",
    "\n",
    "\n",
    "\n",
    "\n",
    "\"\"\""
   ]
  },
  {
   "cell_type": "code",
   "execution_count": 16,
   "metadata": {},
   "outputs": [],
   "source": [
    "# we are getting 2 in all cases because we only assigned name and age to self except these all others are keyword arguments"
   ]
  },
  {
   "cell_type": "code",
   "execution_count": 17,
   "metadata": {},
   "outputs": [
    {
     "name": "stdout",
     "output_type": "stream",
     "text": [
      "['__abs__', '__add__', '__and__', '__class__', '__cmp__', '__coerce__', '__delattr__', '__div__', '__divmod__', '__doc__', '__float__', '__floordiv__', '__format__', '__getattribute__', '__getnewargs__', '__hash__', '__hex__', '__index__', '__init__', '__int__', '__invert__', '__long__', '__lshift__', '__mod__', '__mul__', '__neg__', '__new__', '__nonzero__', '__oct__', '__or__', '__pos__', '__pow__', '__radd__', '__rand__', '__rdiv__', '__rdivmod__', '__reduce__', '__reduce_ex__', '__repr__', '__rfloordiv__', '__rlshift__', '__rmod__', '__rmul__', '__ror__', '__rpow__', '__rrshift__', '__rshift__', '__rsub__', '__rtruediv__', '__rxor__', '__setattr__', '__sizeof__', '__str__', '__sub__', '__subclasshook__', '__truediv__', '__trunc__', '__xor__', 'bit_length', 'conjugate', 'denominator', 'imag', 'numerator', 'real']\n"
     ]
    }
   ],
   "source": [
    "a = 10\n",
    "print dir(a)"
   ]
  },
  {
   "cell_type": "code",
   "execution_count": 18,
   "metadata": {},
   "outputs": [
    {
     "name": "stdout",
     "output_type": "stream",
     "text": [
      "['__add__', '__class__', '__contains__', '__delattr__', '__delitem__', '__delslice__', '__doc__', '__eq__', '__format__', '__ge__', '__getattribute__', '__getitem__', '__getslice__', '__gt__', '__hash__', '__iadd__', '__imul__', '__init__', '__iter__', '__le__', '__len__', '__lt__', '__mul__', '__ne__', '__new__', '__reduce__', '__reduce_ex__', '__repr__', '__reversed__', '__rmul__', '__setattr__', '__setitem__', '__setslice__', '__sizeof__', '__str__', '__subclasshook__', 'append', 'count', 'extend', 'index', 'insert', 'pop', 'remove', 'reverse', 'sort']\n"
     ]
    }
   ],
   "source": [
    "l = [10,20]\n",
    "print dir(l)"
   ]
  },
  {
   "cell_type": "code",
   "execution_count": 20,
   "metadata": {},
   "outputs": [
    {
     "name": "stdout",
     "output_type": "stream",
     "text": [
      "10\n"
     ]
    }
   ],
   "source": [
    "# __getitem__\n",
    "# this is the method of indexing \n",
    "# if we do this python internally caalls __getitem__\n",
    "print l[0]"
   ]
  },
  {
   "cell_type": "code",
   "execution_count": 22,
   "metadata": {},
   "outputs": [
    {
     "name": "stdout",
     "output_type": "stream",
     "text": [
      "19\n",
      "34\n",
      "657\n",
      "78\n",
      "98\n",
      "8989\n",
      "787\n"
     ]
    }
   ],
   "source": [
    "# __iter__\n",
    "# int this iteration case python internally calls __iter__\n",
    "\n",
    "l = [19,34,657,78,98,8989,787]\n",
    "for i in l:\n",
    "    print i \n",
    "    \n",
    "    "
   ]
  },
  {
   "cell_type": "code",
   "execution_count": 23,
   "metadata": {},
   "outputs": [],
   "source": [
    "# as my requirement we can overwrite the operators of methods of this class"
   ]
  },
  {
   "cell_type": "code",
   "execution_count": 24,
   "metadata": {},
   "outputs": [],
   "source": [
    "# __getslice__\n",
    "# this is called when we do slicing "
   ]
  },
  {
   "cell_type": "code",
   "execution_count": 25,
   "metadata": {},
   "outputs": [],
   "source": [
    "# at last we know somehow the concept of oops and we can just use in the industry"
   ]
  },
  {
   "cell_type": "code",
   "execution_count": 1,
   "metadata": {},
   "outputs": [],
   "source": [
    "#operator overloading is anything through which we can overlaod any of the operator acc to my need lets suppose we have "
   ]
  },
  {
   "cell_type": "code",
   "execution_count": 2,
   "metadata": {},
   "outputs": [],
   "source": [
    "# add two objects then in this case we do operator overloading "
   ]
  },
  {
   "cell_type": "code",
   "execution_count": null,
   "metadata": {},
   "outputs": [],
   "source": []
  }
 ],
 "metadata": {
  "kernelspec": {
   "display_name": "Python 2",
   "language": "python",
   "name": "python2"
  },
  "language_info": {
   "codemirror_mode": {
    "name": "ipython",
    "version": 2
   },
   "file_extension": ".py",
   "mimetype": "text/x-python",
   "name": "python",
   "nbconvert_exporter": "python",
   "pygments_lexer": "ipython2",
   "version": "2.7.15"
  }
 },
 "nbformat": 4,
 "nbformat_minor": 2
}
