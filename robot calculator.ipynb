{
 "cells": [
  {
   "cell_type": "code",
   "execution_count": 3,
   "metadata": {},
   "outputs": [
    {
     "ename": "ModuleNotFoundError",
     "evalue": "No module named 'features.base'",
     "output_type": "error",
     "traceback": [
      "\u001b[1;31m---------------------------------------------------------------------------\u001b[0m",
      "\u001b[1;31mModuleNotFoundError\u001b[0m                       Traceback (most recent call last)",
      "\u001b[1;32m<ipython-input-3-0c79d8633474>\u001b[0m in \u001b[0;36m<module>\u001b[1;34m\u001b[0m\n\u001b[1;32m----> 1\u001b[1;33m \u001b[1;32mfrom\u001b[0m \u001b[0mfeatures\u001b[0m\u001b[1;33m.\u001b[0m\u001b[0mbase\u001b[0m \u001b[1;32mimport\u001b[0m \u001b[0mFeature\u001b[0m\u001b[1;33m,\u001b[0m \u001b[0mSpeaking\u001b[0m\u001b[1;33m\u001b[0m\u001b[1;33m\u001b[0m\u001b[0m\n\u001b[0m\u001b[0;32m      2\u001b[0m \u001b[1;33m\u001b[0m\u001b[0m\n\u001b[0;32m      3\u001b[0m \u001b[1;32mclass\u001b[0m \u001b[0mCalculator\u001b[0m\u001b[1;33m(\u001b[0m\u001b[0mFeature\u001b[0m\u001b[1;33m,\u001b[0m \u001b[0mSpeaking\u001b[0m\u001b[1;33m)\u001b[0m\u001b[1;33m:\u001b[0m\u001b[1;33m\u001b[0m\u001b[1;33m\u001b[0m\u001b[0m\n\u001b[0;32m      4\u001b[0m \u001b[1;33m\u001b[0m\u001b[0m\n\u001b[0;32m      5\u001b[0m     \u001b[0mADD\u001b[0m \u001b[1;33m=\u001b[0m \u001b[1;33m[\u001b[0m\u001b[1;34m'+'\u001b[0m\u001b[1;33m,\u001b[0m \u001b[1;34m'plus'\u001b[0m\u001b[1;33m,\u001b[0m \u001b[1;34m'added'\u001b[0m\u001b[1;33m]\u001b[0m\u001b[1;33m\u001b[0m\u001b[1;33m\u001b[0m\u001b[0m\n",
      "\u001b[1;31mModuleNotFoundError\u001b[0m: No module named 'features.base'"
     ]
    }
   ],
   "source": [
    "from features.base import Feature, Speaking\n",
    "  \n",
    "class Calculator(Feature, Speaking):\n",
    "  \n",
    "    ADD = ['+', 'plus', 'added']\n",
    "    SUBTRACT = ['-', 'minus', 'subtracted']\n",
    "    MULTIPLY = ['x', 'times', 'multiplied']\n",
    "    DIVIDE = ['/', 'divided']\n",
    " \n",
    "    def __init__(self, text_to_speech, speech_to_text):\n",
    "        Feature.__init__(self)\n",
    "        Speaking.__init__(self, text_to_speech)\n",
    "        self.speech_to_text = speech_to_text\n",
    "      \n",
    "    def _thread(self, args):\n",
    "        # user provides expression\n",
    "        expression = self.speech_to_text.convert()\n",
    "        if not expression: return\n",
    " \n",
    "        # check whether to stop thread\n",
    "        if self.is_stop: return\n",
    " \n",
    "        # calculate answer from expression\n",
    "        expression = expression.lower().split()\n",
    "        if len(expression) < 3: return      \n",
    " \n",
    "        expression_left = expression[0]\n",
    "        expression_middle = expression[1]\n",
    "        expression_right = expression[-1]\n",
    " \n",
    "        answer = None\n",
    " \n",
    "        try:\n",
    "            if expression_middle in self.ADD:\n",
    "                answer = int(expression_left) + int(expression_right)\n",
    "            elif expression_middle in self.SUBTRACT:\n",
    "                answer = int(expression_left) - int(expression_right)\n",
    "            if expression_middle in self.MULTIPLY:\n",
    "                answer = int(expression_left) * int(expression_right)\n",
    "            if expression_middle in self.DIVIDE:\n",
    "                answer = int(expression_left) / float(expression_right)\n",
    "        except:\n",
    "            print (\"Unable to calculate an answer\")\n",
    " \n",
    "        # calculator provides answer\n",
    "        if answer:\n",
    "            self._text_to_speech(\"The answer is {}\".format(answer))"
   ]
  },
  {
   "cell_type": "code",
   "execution_count": null,
   "metadata": {},
   "outputs": [],
   "source": []
  }
 ],
 "metadata": {
  "kernelspec": {
   "display_name": "Python 3",
   "language": "python",
   "name": "python3"
  },
  "language_info": {
   "codemirror_mode": {
    "name": "ipython",
    "version": 3
   },
   "file_extension": ".py",
   "mimetype": "text/x-python",
   "name": "python",
   "nbconvert_exporter": "python",
   "pygments_lexer": "ipython3",
   "version": "3.7.2"
  }
 },
 "nbformat": 4,
 "nbformat_minor": 2
}
