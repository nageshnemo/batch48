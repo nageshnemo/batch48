{
 "cells": [
  {
   "cell_type": "code",
   "execution_count": null,
   "metadata": {},
   "outputs": [],
   "source": [
    "\n",
    "\n",
    "\n",
    "for i in range (2,end + 1,1):\n",
    "    count = 0\n",
    "    for y in range(1,start+1,1):     # we use start here because from 1st for loop start is incremented \n",
    "    \n",
    "        if start % y == 0:\n",
    "            count+=1\n",
    "                            # we are checking through 1 to that no that there was how many factors a no have            count+=1\n",
    "    if count ==2:\n",
    "        print ('no {} is prime'.format(start))"
   ]
  }
 ],
 "metadata": {
  "kernelspec": {
   "display_name": "Python 2",
   "language": "python",
   "name": "python2"
  },
  "language_info": {
   "codemirror_mode": {
    "name": "ipython",
    "version": 2
   },
   "file_extension": ".py",
   "mimetype": "text/x-python",
   "name": "python",
   "nbconvert_exporter": "python",
   "pygments_lexer": "ipython2",
   "version": "2.7.15"
  }
 },
 "nbformat": 4,
 "nbformat_minor": 2
}
