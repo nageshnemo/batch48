{
 "cells": [
  {
   "cell_type": "code",
   "execution_count": 23,
   "metadata": {},
   "outputs": [
    {
     "name": "stdout",
     "output_type": "stream",
     "text": [
      "     c            \n",
      "   c-b-c          \n",
      " c-b-a-b-c        \n",
      "   c-b-c          \n",
      "     c            \n",
      "                  \n",
      "                  \n",
      "                  \n",
      "                  \n"
     ]
    }
   ],
   "source": [
    "k = -1\n",
    "val = 1\n",
    "count = 0\n",
    "n = 5\n",
    "for i in range(n*2-1):\n",
    "    char = \"c\"\n",
    "    if i<(n//2+1):\n",
    "        k =k +2\n",
    "    else:\n",
    "        k = k -2\n",
    "    count = 0    \n",
    "    for j in range((n*2-1)*2):\n",
    "        if j>=(n+1)-k and j<=(n-1)+k :\n",
    "            count+=1\n",
    "            if count % 2 != 0:\n",
    "                print(char,end =\"\")\n",
    "                if j<5:\n",
    "                    char = chr(ord(char)-1)\n",
    "                else:\n",
    "                    char = chr(ord(char)+1)\n",
    "            else:\n",
    "                print(\"-\",end = \"\")\n",
    "            \n",
    "        else:\n",
    "            print(\" \",end =\"\")\n",
    "            \n",
    "            \n",
    "    print()\n",
    "        "
   ]
  },
  {
   "cell_type": "code",
   "execution_count": 7,
   "metadata": {},
   "outputs": [
    {
     "name": "stdout",
     "output_type": "stream",
     "text": [
      "hey\n"
     ]
    }
   ],
   "source": [
    "if 2 and 3 and 4:\n",
    "    print (\"hey\")"
   ]
  },
  {
   "cell_type": "code",
   "execution_count": 20,
   "metadata": {},
   "outputs": [
    {
     "data": {
      "text/plain": [
       "2"
      ]
     },
     "execution_count": 20,
     "metadata": {},
     "output_type": "execute_result"
    }
   ],
   "source": [
    "5//2"
   ]
  },
  {
   "cell_type": "code",
   "execution_count": 24,
   "metadata": {},
   "outputs": [
    {
     "name": "stdout",
     "output_type": "stream",
     "text": [
      "5\n",
      "--------e--------\n",
      "------e-d-e------\n",
      "----e-d-c-d-e----\n",
      "--e-d-c-b-c-d-e--\n",
      "e-d-c-b-a-b-c-d-e\n",
      "--e-d-c-b-c-d-e--\n",
      "----e-d-c-d-e----\n",
      "------e-d-e------\n",
      "--------e--------\n"
     ]
    }
   ],
   "source": [
    "import string\n",
    "alpha = string.ascii_lowercase\n",
    "\n",
    "n = int(input())\n",
    "L = []\n",
    "for i in range(n):\n",
    "    s = \"-\".join(alpha[i:n])\n",
    "    L.append((s[::-1]+s[1:]).center(4*n-3, \"-\"))\n",
    "print('\\n'.join(L[:0:-1]+L))"
   ]
  },
  {
   "cell_type": "code",
   "execution_count": null,
   "metadata": {},
   "outputs": [],
   "source": []
  }
 ],
 "metadata": {
  "kernelspec": {
   "display_name": "Python 3",
   "language": "python",
   "name": "python3"
  },
  "language_info": {
   "codemirror_mode": {
    "name": "ipython",
    "version": 3
   },
   "file_extension": ".py",
   "mimetype": "text/x-python",
   "name": "python",
   "nbconvert_exporter": "python",
   "pygments_lexer": "ipython3",
   "version": "3.7.2"
  }
 },
 "nbformat": 4,
 "nbformat_minor": 2
}
