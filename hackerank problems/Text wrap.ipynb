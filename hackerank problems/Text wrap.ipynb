{
 "cells": [
  {
   "cell_type": "code",
   "execution_count": 4,
   "metadata": {},
   "outputs": [
    {
     "name": "stdout",
     "output_type": "stream",
     "text": [
      "abcs\n",
      "cfgh\n",
      "jkll\n",
      "khgf\n",
      "fhbj\n",
      "jgty\n",
      "jjkh\n",
      "gh"
     ]
    }
   ],
   "source": [
    "string = \"abcscfghjkllkhgffhbjjgtyjjkhgh\"\n",
    "\n",
    "count = 0\n",
    "for i in string:\n",
    "    print (i,end=\"\")\n",
    "    count+=1\n",
    "    if count%4 == 0:\n",
    "        print()\n"
   ]
  },
  {
   "cell_type": "code",
   "execution_count": null,
   "metadata": {},
   "outputs": [],
   "source": []
  }
 ],
 "metadata": {
  "kernelspec": {
   "display_name": "Python 3",
   "language": "python",
   "name": "python3"
  },
  "language_info": {
   "codemirror_mode": {
    "name": "ipython",
    "version": 3
   },
   "file_extension": ".py",
   "mimetype": "text/x-python",
   "name": "python",
   "nbconvert_exporter": "python",
   "pygments_lexer": "ipython3",
   "version": "3.7.2"
  }
 },
 "nbformat": 4,
 "nbformat_minor": 2
}
