{
 "cells": [
  {
   "cell_type": "code",
   "execution_count": 12,
   "metadata": {},
   "outputs": [
    {
     "name": "stdout",
     "output_type": "stream",
     "text": [
      "5\n",
      "harsh \n",
      "20\n",
      "beria\n",
      "20\n",
      "varun\n",
      "19\n",
      "kaku\n",
      "19\n",
      "vikas\n",
      "21\n",
      "beria\n",
      "harsh \n"
     ]
    }
   ],
   "source": [
    "name_score = []\n",
    "for n in range(int(input())):\n",
    "    name = input()\n",
    "    score = float(input())\n",
    "    name_score.append([name,score])\n",
    "    \n",
    "l2=[]\n",
    "for i,j in name_score:\n",
    "    l2.append(j)\n",
    "min1 = min(l2)\n",
    "\n",
    "or1 = []\n",
    "for i in l2:\n",
    "    if min1 == i:\n",
    "        pass\n",
    "    else:\n",
    "        or1.append(i)\n",
    "\n",
    "elem=min(or1)\n",
    "\n",
    "orig = []\n",
    "for i,j in name_score:\n",
    "    if j == elem:\n",
    "        orig.append(i)\n",
    "for k in sorted(orig):\n",
    "    print (k)\n",
    "\n"
   ]
  },
  {
   "cell_type": "markdown",
   "metadata": {},
   "source": [
    "Given the names and grades for each student in a Physics class of  students, store them in a nested list and print the name(s) of any student(s) having the second lowest grade.\n",
    "\n",
    "Note: If there are multiple students with the same grade, order their names alphabetically and print each name on a new line.\n",
    "\n",
    "Input Format\n",
    "\n",
    "The first line contains an integer, , the number of students. \n",
    "The  subsequent lines describe each student over  lines; the first line contains a student's name, and the second line contains their grade.\n",
    "\n",
    "Constraints\n",
    "\n",
    "There will always be one or more students having the second lowest grade.\n",
    "Output Format\n",
    "\n",
    "Print the name(s) of any student(s) having the second lowest grade in Physics; if there are multiple students, order their names alphabetically and print each one on a new line.\n",
    "\n",
    "Sample Input 0\n",
    "\n",
    "5\n",
    "Harry\n",
    "37.21\n",
    "Berry\n",
    "37.21\n",
    "Tina\n",
    "37.2\n",
    "Akriti\n",
    "41\n",
    "Harsh\n",
    "39\n",
    "Sample Output 0\n",
    "\n",
    "Berry\n",
    "Harry\n",
    "Explanation 0\n",
    "\n",
    "There are  students in this class whose names and grades are assembled to build the following list:\n",
    "\n",
    "python students = [['Harry', 37.21], ['Berry', 37.21], ['Tina', 37.2], ['Akriti', 41], ['Harsh', 39]]\n",
    "\n",
    "The lowest grade of  belongs to Tina. The second lowest grade of  belongs to both Harry and Berry, so we order their names alphabetically and print each name on a new line."
   ]
  },
  {
   "cell_type": "code",
   "execution_count": null,
   "metadata": {},
   "outputs": [],
   "source": []
  },
  {
   "cell_type": "markdown",
   "metadata": {},
   "source": [
    "\n",
    "name_score = []\n",
    "for n in range(int(input())):\n",
    "    name = input()\n",
    "    score = float(input())\n",
    "    name_score.append([name,score])\n",
    "    \n",
    "l2=[]\n",
    "for i,j in name_score:\n",
    "    l2.append(j)\n",
    "max1 = min(l2)\n",
    "l2.remove(max1)\n",
    "elem=min(l2)\n",
    "\n",
    "orig = []\n",
    "for i,j in name_score:\n",
    "    if j == elem:\n",
    "        orig.append(i)\n",
    "for k in sorted(orig):\n",
    "    print (k)\n"
   ]
  },
  {
   "cell_type": "code",
   "execution_count": null,
   "metadata": {},
   "outputs": [],
   "source": []
  },
  {
   "cell_type": "code",
   "execution_count": 11,
   "metadata": {},
   "outputs": [
    {
     "name": "stdout",
     "output_type": "stream",
     "text": [
      "[2, 2, 465, 67]\n"
     ]
    }
   ],
   "source": [
    "k = [1,1,2,2,465,67]\n",
    "min1 = min(k)\n",
    "or1 = []\n",
    "for i in k:\n",
    "    if min1 == i:\n",
    "        pass\n",
    "    else:\n",
    "        or1.append(i)\n",
    "        \n",
    "        \n",
    "print (or1)"
   ]
  },
  {
   "cell_type": "code",
   "execution_count": null,
   "metadata": {},
   "outputs": [],
   "source": []
  },
  {
   "cell_type": "code",
   "execution_count": null,
   "metadata": {},
   "outputs": [],
   "source": []
  },
  {
   "cell_type": "code",
   "execution_count": null,
   "metadata": {},
   "outputs": [],
   "source": []
  },
  {
   "cell_type": "code",
   "execution_count": null,
   "metadata": {},
   "outputs": [],
   "source": []
  },
  {
   "cell_type": "code",
   "execution_count": null,
   "metadata": {},
   "outputs": [],
   "source": []
  }
 ],
 "metadata": {
  "kernelspec": {
   "display_name": "Python 3",
   "language": "python",
   "name": "python3"
  },
  "language_info": {
   "codemirror_mode": {
    "name": "ipython",
    "version": 3
   },
   "file_extension": ".py",
   "mimetype": "text/x-python",
   "name": "python",
   "nbconvert_exporter": "python",
   "pygments_lexer": "ipython3",
   "version": "3.7.2"
  }
 },
 "nbformat": 4,
 "nbformat_minor": 2
}
