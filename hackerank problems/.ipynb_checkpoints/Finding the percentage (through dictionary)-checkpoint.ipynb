{
 "cells": [
  {
   "cell_type": "code",
   "execution_count": 14,
   "metadata": {},
   "outputs": [
    {
     "name": "stdout",
     "output_type": "stream",
     "text": [
      "3\n",
      "nag 23 34 45\n",
      "sak 45 55 56\n",
      "viv\n",
      "sak\n",
      "52.00\n"
     ]
    }
   ],
   "source": [
    "# question to find percentage\n",
    "\n",
    "\n",
    "if __name__ == '__main__':\n",
    "    n = int(input())\n",
    "    student_marks = {}\n",
    "    for _ in range(n):\n",
    "        name, *line = input().split()\n",
    "        scores = list(map(float, line))\n",
    "        student_marks[name] = scores\n",
    "    query_name = input()\n",
    "    \n",
    "per = []    \n",
    "for i in student_marks:\n",
    "    if i == query_name:\n",
    "        per = student_marks[query_name]\n",
    "orig = 0\n",
    "inc = 0\n",
    "for j in per:\n",
    "    orig +=j\n",
    "    inc +=1\n",
    "    \n",
    "print(\"%.2f\"%(orig/inc))"
   ]
  },
  {
   "cell_type": "markdown",
   "metadata": {},
   "source": [
    "# You have a record of  students. Each record contains the student's name, and their percent marks in Maths, Physics and Chemistry. The marks can be floating values. The user enters some integer  followed by the names and marks for students. You are required to save the record in a dictionary data type. The user then enters a student's name. Output the average percentage marks obtained by that student, correct to two decimal places.\n",
    "\n",
    "Input Format\n",
    "\n",
    "The first line contains the integer , the number of students. The next  lines contains the name and marks obtained by that student separated by a space. The final line contains the name of a particular student previously listed.\n",
    "\n",
    "Constraints\n",
    "\n",
    "Output Format\n",
    "\n",
    "Print one line: The average of the marks obtained by the particular student correct to 2 decimal places.\n",
    "\n",
    "Sample Input 0\n",
    "\n",
    "3\n",
    "Krishna 67 68 69\n",
    "Arjun 70 98 63\n",
    "Malika 52 56 60\n",
    "Malika\n",
    "Sample Output 0\n",
    "\n",
    "56.00\n",
    "Explanation 0\n",
    "\n",
    "Marks for Malika are  whose average is \n",
    "\n",
    "Sample Input 1\n",
    "\n",
    "2\n",
    "Harsh 25 26.5 28\n",
    "Anurag 26 28 30\n",
    "Harsh\n",
    "Sample Output 1\n",
    "\n",
    "26.50"
   ]
  },
  {
   "cell_type": "code",
   "execution_count": null,
   "metadata": {},
   "outputs": [],
   "source": []
  },
  {
   "cell_type": "code",
   "execution_count": 7,
   "metadata": {},
   "outputs": [
    {
     "name": "stdout",
     "output_type": "stream",
     "text": [
      "{'nagesh': [23.0, 45.0, 56.0], 'sak': [34.0, 56.0, 56.0], 'viv': [34.0]}\n"
     ]
    }
   ],
   "source": [
    "print (student_marks)"
   ]
  },
  {
   "cell_type": "code",
   "execution_count": 10,
   "metadata": {},
   "outputs": [
    {
     "name": "stdout",
     "output_type": "stream",
     "text": [
      "nagesh\n",
      "sak\n",
      "viv\n"
     ]
    }
   ],
   "source": [
    "for i in student_marks:\n",
    "    print (i)"
   ]
  },
  {
   "cell_type": "code",
   "execution_count": null,
   "metadata": {},
   "outputs": [],
   "source": [
    "if __name__ == '__main__':\n",
    "    n = int(input())\n",
    "    student_marks = {}\n",
    "    for _ in range(n):\n",
    "        name, *line = input().split()\n",
    "        scores = list(map(float, line))\n",
    "        student_marks[name] = scores\n",
    "    query_name = input()"
   ]
  },
  {
   "cell_type": "code",
   "execution_count": 17,
   "metadata": {},
   "outputs": [
    {
     "name": "stdout",
     "output_type": "stream",
     "text": [
      "232 324\n"
     ]
    }
   ],
   "source": [
    "x,y = map(int,input().split())"
   ]
  },
  {
   "cell_type": "code",
   "execution_count": 18,
   "metadata": {},
   "outputs": [
    {
     "name": "stdout",
     "output_type": "stream",
     "text": [
      "232 324\n"
     ]
    }
   ],
   "source": [
    "print(x,y)"
   ]
  },
  {
   "cell_type": "code",
   "execution_count": null,
   "metadata": {},
   "outputs": [],
   "source": []
  }
 ],
 "metadata": {
  "kernelspec": {
   "display_name": "Python 3",
   "language": "python",
   "name": "python3"
  },
  "language_info": {
   "codemirror_mode": {
    "name": "ipython",
    "version": 3
   },
   "file_extension": ".py",
   "mimetype": "text/x-python",
   "name": "python",
   "nbconvert_exporter": "python",
   "pygments_lexer": "ipython3",
   "version": "3.7.2"
  }
 },
 "nbformat": 4,
 "nbformat_minor": 2
}
