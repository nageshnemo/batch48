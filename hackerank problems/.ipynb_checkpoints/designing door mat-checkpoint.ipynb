{
 "cells": [
  {
   "cell_type": "code",
   "execution_count": 18,
   "metadata": {},
   "outputs": [
    {
     "data": {
      "text/plain": [
       "'-----------welcome---------------'"
      ]
     },
     "execution_count": 18,
     "metadata": {},
     "output_type": "execute_result"
    }
   ],
   "source": [
    "\"welcome\".rjust(25-len(\"welcome\"),\"-\").ljust(33,\"-\")"
   ]
  },
  {
   "cell_type": "code",
   "execution_count": 29,
   "metadata": {},
   "outputs": [
    {
     "name": "stdout",
     "output_type": "stream",
     "text": [
      "---------.|.---------\n",
      "------|.|.|.|.|------\n",
      "---.|.|.|.|.|.|.|.---\n",
      "-------Welcome-------\n",
      "---.|.|.|.|.|.|.|.---\n",
      "------|.|.|.|.|------\n",
      "---------.|.---------\n"
     ]
    }
   ],
   "source": [
    "k = -2\n",
    "row = 3\n",
    "column = 21\n",
    "for i in range(1,row+1,1):\n",
    "    k+=3\n",
    "    for j in range(1,column+1,1):\n",
    "        if j >= 11-k and j <= 11+k:\n",
    "            if j% 2 == 0:\n",
    "                print(\".\",end = \"\")\n",
    "            else:\n",
    "                print(\"|\",end = \"\")\n",
    "        else:\n",
    "            print(\"-\",end = \"\")\n",
    "            \n",
    "            \n",
    "    print()\n",
    "    \n",
    "print(\"Welcome\".center(21,\"-\"))     \n",
    "\n",
    "k+=3    \n",
    "for i in range(1,row+1,1):\n",
    "    k-=3\n",
    "    for j in range(1,column+1,1):\n",
    "        if j >= 11-k and j <= 11+k:\n",
    "            if j % 2 == 0:\n",
    "                print(\".\",end =\"\")\n",
    "            else:\n",
    "                print(\"|\",end = \"\")\n",
    "        else:\n",
    "            print(\"-\",end = \"\")\n",
    "            \n",
    "            \n",
    "    print()\n",
    "    "
   ]
  },
  {
   "cell_type": "code",
   "execution_count": null,
   "metadata": {},
   "outputs": [],
   "source": []
  }
 ],
 "metadata": {
  "kernelspec": {
   "display_name": "Python 3",
   "language": "python",
   "name": "python3"
  },
  "language_info": {
   "codemirror_mode": {
    "name": "ipython",
    "version": 3
   },
   "file_extension": ".py",
   "mimetype": "text/x-python",
   "name": "python",
   "nbconvert_exporter": "python",
   "pygments_lexer": "ipython3",
   "version": "3.7.2"
  }
 },
 "nbformat": 4,
 "nbformat_minor": 2
}
