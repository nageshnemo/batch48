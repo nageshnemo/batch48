{
 "cells": [
  {
   "cell_type": "raw",
   "metadata": {},
   "source": [
    "\n",
    "DATA STRUCTURES\n",
    "\n",
    "l=[10,20,30,[40,50,60],70,[80,90,20]]. Convert this list as sigle dimentiona list\n",
    " input: \"google\" print count of each character \n",
    "Convert n dimentional list to single dimentiona list.\n",
    " l=[1,2,3] just make it as a string.\n",
    " l=[1,2,3,[4,5,6],7,[8,9,10]] for single dimentional list\n",
    " l=['a','A','b','B','d','D','c','C'] WAP to find out case insensitive count and case insensitive search for an element.\n",
    " l=['a','A','b','B','d','D','c','C']  sort the list properly\n",
    "======================== find the start position of the largest block of repeated characters in a given string\n",
    " ----------------------------WAP to find union and intersection of lists.\n",
    "input: fun(5) output: [1,2,3,4,3,2,1]\n",
    "==================================input fun('abc') output: [[],][a],[b],[c],[a,b],[b,c],[c,a],[a,b,c]]\n",
    "Remove duplicates from the list: a=[1,2,3,2,3,4,1,,3,4]\n",
    "l=['1','2','3'] get the sum of the list\n",
    " l1=[1,2,3,4] l2=[5,6,7,8] sum of two lists\n",
    " Find third max value of element in a list with soring and without sorting a list.\n",
    "Input = [\"1/1\",\"1/2\",\"1/3\",\"1/4\",\"2/5\",\"2/6\",\"2/8\"] Output = [['1/1-4'], ['2/5-6'], ['2/8']]\n",
    "l=[1,2,3,5,7,8,9,10,11,12,13,20,22,23,24,25,26,27,20,21,22,4] output = [[1, 2, 3], [5], [7, 8, 9, 10, 11, 12, 13], [20], [22, 23, 24, 25, 26, 27], [20, 21, 22], [4]]\n",
    " input = 1,2,3,4,5,6,8,10 output = odd,even,odd,even,odd,even,even,even\n",
    " input n=3 \n",
    "    \t\toutput:     111\n",
    "        \t\t101\n",
    "        \t\t111\n",
    "input: Google\n",
    "    output: {'g':2,'o':2,'l':1,'e':1} use dictionary comprehension\n",
    " keys=['k1','k2'], values = ['v1','v2'] form a dictionary.\n",
    " Sort the list marks = [(\"mohan\", 80), (\"satish\", 90), (\"purnesh\", 40), (\"venkat\", 30)] according to descending order of marks\n",
    "\n",
    "\n",
    "write a function to get dynamic list for floating numbers also based on strat and end and step parameters\n",
    " find out all perfect numbers in given range\n",
    "56. WAP to do all stack operations using lists\n",
    "WAP to do all queue operations using lists\n",
    "WAP to remove n occurrences of specified element from a list\n",
    "compare two lists ignore order. i.e return True l1=[1,2,3,4],l2=[4,2,3,1], fun(l1,l2)-> True\n",
    "XOR operation in python.\n",
    "how to remove all occurrences of the given element in a list\n",
    "how to remove first n occurrences of the given element in a list\n",
    "how to remove last n occurrences of the given element in a list\n",
    "how to remove nth occurrences of the given element in a list\n",
    "WAP to generate list of floats i.e: fun(0,1,0.1), [0,0.1,0.2,0.3,0.4,0.5,0.6,0.7,0.8,0.9]\n",
    " WAP to remove all occurrences of given substring from actual string\n",
    "WAP to remove first n occurrences of given substring from actual string\n",
    "WAP to remove last n occurrences of given substring from actual string\n",
    " WAP to replace last n occurrences of given substring with destination string in actual string\n",
    "WAP to sort the string.\n",
    "take a coma separated numbers and find out max number.\n",
    "Read a json file. Try to get the information from the file\n",
    "Read a yaml file. Try to get the information from the file\n",
    "Read any image data using Opencv\n",
    "make alternative words reversed in given string: \n",
    "    \t\tex: \"python program good language\"-> \"python margorp good egaugnal\"\n",
    "    \t\tl=['c',\"cpp\",\"java\",\"php\",\"python\"]\n",
    " case insensitive count# l.count(\"C\")->1\n",
    "like count l.own_count(\"c\")->2 with case insensitive\n",
    "\n",
    "STRINGS\n",
    "Take two inputs from the user:  your program should check for below scenarios.\n",
    "\n",
    "10,20: 30\n",
    "12.34,45.67: 58.01\n",
    "+12,-12: 0\n",
    "qwe,23we: Enter digits or float values only\n"
   ]
  },
  {
   "cell_type": "code",
   "execution_count": 2,
   "metadata": {},
   "outputs": [],
   "source": [
    "# convert n dimensional list to single dimension list"
   ]
  },
  {
   "cell_type": "code",
   "execution_count": 1,
   "metadata": {},
   "outputs": [
    {
     "name": "stdout",
     "output_type": "stream",
     "text": [
      "[10, 20, 30, [20, 6666], 78, 87]\n"
     ]
    }
   ],
   "source": [
    "\n",
    "\n",
    "l = [10,[20,30,[20,6666],78],87]\n",
    "\n",
    "\n",
    "\n",
    "\n",
    "l2=[]   #this is empty list for entering the elements either in append mode or extend acc to situation\n",
    "for i in l:\n",
    "    if isinstance(i,list):\n",
    "        l2.extend(i)\n",
    "    else:\n",
    "        l2.append(i)\n",
    "print l2\n",
    "\n",
    "\n",
    "\n"
   ]
  },
  {
   "cell_type": "code",
   "execution_count": null,
   "metadata": {},
   "outputs": [],
   "source": []
  },
  {
   "cell_type": "code",
   "execution_count": 1,
   "metadata": {},
   "outputs": [
    {
     "name": "stdout",
     "output_type": "stream",
     "text": [
      "[10, 20, 30, 40, 50, 60, 70, 80, 90, 20]\n"
     ]
    }
   ],
   "source": [
    "# 1 l=[10,20,30,[40,50,60],70,[80,90,20]]. Convert this list as single dimension list\n",
    "\n",
    "l = [10,20,30,[40,50,60],70,[80,90,20]]\n",
    "\n",
    "\n",
    "l2=[]   #this is empty list for entering the elements either in append mode or extend acc to situation\n",
    "for i in l:\n",
    "    if isinstance(i,list):\n",
    "        l2.extend(i)\n",
    "    else:\n",
    "        l2.append(i)\n",
    "print l2\n",
    "\n"
   ]
  },
  {
   "cell_type": "code",
   "execution_count": null,
   "metadata": {},
   "outputs": [],
   "source": []
  },
  {
   "cell_type": "code",
   "execution_count": 50,
   "metadata": {},
   "outputs": [
    {
     "name": "stdout",
     "output_type": "stream",
     "text": [
      "{'c': 1, 'e': 1, 'g': 2, 'm': 1, 'l': 1, 'o': 3, '.': 1}\n"
     ]
    }
   ],
   "source": [
    "# 2. input: \"google\" print count of each character\n",
    "\n",
    "str = \"google.com\"\n",
    "dict = {}\n",
    "\n",
    "for i in str:\n",
    "    dict.update({i:str.count(i)})\n",
    "    \n",
    "    \n",
    "    \n",
    "print dict"
   ]
  },
  {
   "cell_type": "code",
   "execution_count": 40,
   "metadata": {},
   "outputs": [
    {
     "name": "stdout",
     "output_type": "stream",
     "text": [
      "1\n"
     ]
    },
    {
     "ename": "TypeError",
     "evalue": "'str' object is not callable",
     "output_type": "error",
     "traceback": [
      "\u001b[1;31m---------------------------------------------------------------------------\u001b[0m",
      "\u001b[1;31mTypeError\u001b[0m                                 Traceback (most recent call last)",
      "\u001b[1;32m<ipython-input-40-d1e52b8cd98e>\u001b[0m in \u001b[0;36m<module>\u001b[1;34m()\u001b[0m\n\u001b[0;32m      9\u001b[0m \u001b[1;32mfor\u001b[0m \u001b[0mi\u001b[0m \u001b[1;32min\u001b[0m \u001b[0ml\u001b[0m\u001b[1;33m:\u001b[0m\u001b[1;33m\u001b[0m\u001b[0m\n\u001b[0;32m     10\u001b[0m     \u001b[1;32mprint\u001b[0m \u001b[0mi\u001b[0m\u001b[1;33m\u001b[0m\u001b[0m\n\u001b[1;32m---> 11\u001b[1;33m     \u001b[0ms\u001b[0m \u001b[1;33m=\u001b[0m \u001b[0ms\u001b[0m \u001b[1;33m+\u001b[0m \u001b[0mstr\u001b[0m\u001b[1;33m(\u001b[0m\u001b[0mi\u001b[0m\u001b[1;33m)\u001b[0m\u001b[1;33m\u001b[0m\u001b[0m\n\u001b[0m\u001b[0;32m     12\u001b[0m \u001b[1;33m\u001b[0m\u001b[0m\n\u001b[0;32m     13\u001b[0m \u001b[1;33m\u001b[0m\u001b[0m\n",
      "\u001b[1;31mTypeError\u001b[0m: 'str' object is not callable"
     ]
    }
   ],
   "source": []
  },
  {
   "cell_type": "code",
   "execution_count": 4,
   "metadata": {},
   "outputs": [
    {
     "name": "stdout",
     "output_type": "stream",
     "text": [
      "234544\n"
     ]
    },
    {
     "data": {
      "text/plain": [
       "str"
      ]
     },
     "execution_count": 4,
     "metadata": {},
     "output_type": "execute_result"
    }
   ],
   "source": [
    "# converting list to string\n",
    "\n",
    "l = [2,34,5,44]\n",
    "s = \"\"\n",
    "\n",
    "\n",
    "for i in l:\n",
    "    s = s + str(i)\n",
    "    \n",
    "    \n",
    "print s\n",
    "type (s)"
   ]
  },
  {
   "cell_type": "code",
   "execution_count": 12,
   "metadata": {},
   "outputs": [
    {
     "name": "stdout",
     "output_type": "stream",
     "text": [
      "a\n",
      "A\n",
      "b\n",
      "B\n",
      "d\n",
      "D\n",
      "c\n",
      "C\n",
      "{'a': 1, 'A': 1, 'c': 1, 'B': 1, 'd': 1, 'b': 1, 'C': 1, 'D': 1}\n"
     ]
    }
   ],
   "source": [
    "#l=['a','A','b','B','d','D','c','C'] WAP to find out case insensitive count and case insensitive search for an element.\n",
    "\n",
    "l=['a','A','b','B','d','D','c','C']\n",
    "\n",
    "dict = {}\n",
    "\n",
    "for i in l:\n",
    "    \n",
    "    print i\n",
    "    dict.update({i:l.count(i)})\n",
    "\n",
    "\n",
    "print dict\n",
    "\n"
   ]
  },
  {
   "cell_type": "code",
   "execution_count": 13,
   "metadata": {},
   "outputs": [
    {
     "name": "stdout",
     "output_type": "stream",
     "text": [
      "Enter an element:a\n",
      "['a', 'b', 'c', 'd', 'e', 'f', 'a', 'b', 'c', 'd', 'e', 'f', 'a', 'b', 'c', 'd', 'e', 'f']\n",
      "a\n",
      "3\n"
     ]
    }
   ],
   "source": [
    "l=[\"a\",\"b\",\"C\",\"d\",\"e\",\"F\",\"A\",\"b\",\"c\",\"d\",\"E\",\"f\",\"a\",\"b\",\"c\",\"D\",\"e\",\"f\"]\n",
    "s=raw_input(\"Enter an element:\")\n",
    "s_l = s.lower()\n",
    "l1=[]\n",
    "for i in l:\n",
    "    l1.append(i.lower())\n",
    "print l1\n",
    "print s_l\n",
    "print l1.count(s_l)"
   ]
  },
  {
   "cell_type": "code",
   "execution_count": 14,
   "metadata": {},
   "outputs": [],
   "source": [
    "#sorting\n"
   ]
  },
  {
   "cell_type": "code",
   "execution_count": 21,
   "metadata": {},
   "outputs": [
    {
     "name": "stdout",
     "output_type": "stream",
     "text": [
      "['A', 'B', 'C', 'D', 'a', 'b', 'c', 'd']\n"
     ]
    }
   ],
   "source": [
    "# l=['a','A','b','B','d','D','c','C']  sort the list properly\n",
    "\n",
    "l=['a','A','b','B','d','D','c','C']\n",
    "l.sort()\n",
    "print l"
   ]
  },
  {
   "cell_type": "code",
   "execution_count": 23,
   "metadata": {},
   "outputs": [
    {
     "name": "stdout",
     "output_type": "stream",
     "text": [
      "['a', 'a', 'b', 'b', 'c', 'c', 'd', 'd']\n"
     ]
    }
   ],
   "source": [
    "\n",
    "l=['a','A','b','B','d','D','c','C']\n",
    "\n",
    "l1= []\n",
    "for i in l:\n",
    "    l1.append(i.lower())\n",
    "l1.sort()\n",
    "print l1"
   ]
  },
  {
   "cell_type": "code",
   "execution_count": 49,
   "metadata": {},
   "outputs": [
    {
     "name": "stdout",
     "output_type": "stream",
     "text": [
      "[1, 2, 3, 4, 4, 3, 2, 1]\n"
     ]
    }
   ],
   "source": [
    "#input: fun(5) output: [1,2,3,4,3,2,1]\n",
    "\n",
    "\n",
    "\n",
    "def fun(number): #here we define the fn\n",
    "    list = []\n",
    "    for i in range(1,number):\n",
    "        list.append(i)\n",
    "    else:\n",
    "        while i>=1:\n",
    "            list.append(i)\n",
    "            i = i-1\n",
    "            \n",
    "    print list\n",
    "    \n",
    "    \n",
    "    \n",
    "    \n",
    "fun(5) # this is the fumction calling"
   ]
  },
  {
   "cell_type": "code",
   "execution_count": null,
   "metadata": {},
   "outputs": [],
   "source": [
    "#input fun('abc') output: [[],][a],[b],[c],[a,b],[b,c],[c,a],[a,b,c]]\n",
    "\n",
    "\n",
    "\n",
    "\n",
    "\n",
    "\n",
    "\n"
   ]
  },
  {
   "cell_type": "code",
   "execution_count": 60,
   "metadata": {},
   "outputs": [
    {
     "data": {
      "text/plain": [
       "[1, 2, 3, 4]"
      ]
     },
     "execution_count": 60,
     "metadata": {},
     "output_type": "execute_result"
    }
   ],
   "source": [
    "# Remove duplicates from the list: a=[1,2,3,2,3,4,1,,3,4]\n",
    "\n",
    "a=[1,2,3,2,3,4,1,3,4,]\n",
    "s = []\n",
    "for i in a:  # here we madde another list and before appending we are checking for elements was not there\n",
    "    \n",
    "    if i not in s:\n",
    "        s.append(i)\n",
    "s"
   ]
  },
  {
   "cell_type": "code",
   "execution_count": 68,
   "metadata": {},
   "outputs": [
    {
     "name": "stdout",
     "output_type": "stream",
     "text": [
      "6\n"
     ]
    }
   ],
   "source": [
    "#l=['1','2','3'] get the sum of the list\n",
    "\n",
    "\n",
    "l=['1','2','3'] \n",
    "sum = 0\n",
    "for i in l:\n",
    "    sum+=int(i)\n",
    "    \n",
    "    \n",
    "print sum\n",
    "\n",
    "\n",
    "    \n",
    "\n",
    "\n",
    "\n",
    "\n",
    "\n",
    "\n",
    "\n",
    "\n",
    "\n",
    "\n",
    "\n",
    "\n"
   ]
  },
  {
   "cell_type": "code",
   "execution_count": 70,
   "metadata": {},
   "outputs": [
    {
     "name": "stdout",
     "output_type": "stream",
     "text": [
      "[1, 2, 3, 4, 5, 6, 7, 8]\n"
     ]
    },
    {
     "ename": "ValueError",
     "evalue": "too many values to unpack",
     "output_type": "error",
     "traceback": [
      "\u001b[1;31m---------------------------------------------------------------------------\u001b[0m",
      "\u001b[1;31mValueError\u001b[0m                                Traceback (most recent call last)",
      "\u001b[1;32m<ipython-input-70-3c84700a51fe>\u001b[0m in \u001b[0;36m<module>\u001b[1;34m()\u001b[0m\n\u001b[0;32m      9\u001b[0m \u001b[0msum\u001b[0m \u001b[1;33m=\u001b[0m\u001b[1;36m0\u001b[0m\u001b[1;33m\u001b[0m\u001b[0m\n\u001b[0;32m     10\u001b[0m \u001b[1;31m#FOR individual sum of elements\u001b[0m\u001b[1;33m\u001b[0m\u001b[1;33m\u001b[0m\u001b[0m\n\u001b[1;32m---> 11\u001b[1;33m \u001b[1;32mfor\u001b[0m \u001b[0mi\u001b[0m\u001b[1;33m,\u001b[0m\u001b[0mj\u001b[0m \u001b[1;32min\u001b[0m \u001b[0ml1\u001b[0m\u001b[1;33m,\u001b[0m\u001b[0ml2\u001b[0m\u001b[1;33m:\u001b[0m\u001b[1;33m\u001b[0m\u001b[0m\n\u001b[0m\u001b[0;32m     12\u001b[0m     \u001b[0msum\u001b[0m\u001b[1;33m=\u001b[0m\u001b[0msum\u001b[0m\u001b[1;33m+\u001b[0m\u001b[0mi\u001b[0m\u001b[1;33m+\u001b[0m\u001b[0mj\u001b[0m\u001b[1;33m\u001b[0m\u001b[0m\n\u001b[0;32m     13\u001b[0m \u001b[1;33m\u001b[0m\u001b[0m\n",
      "\u001b[1;31mValueError\u001b[0m: too many values to unpack"
     ]
    }
   ],
   "source": [
    "#l1=[1,2,3,4] l2=[5,6,7,8] sum of two lists\n",
    "\n",
    "l1=[1,2,3,4] \n",
    "l2=[5,6,7,8]\n",
    "\n",
    "\n",
    "print l1+l2\n",
    "\n",
    "sum =0\n",
    "#FOR individual sum of elements\n",
    "for i,j in l1,l2:\n",
    "    sum=sum+i+j\n",
    "    \n",
    "    \n",
    "    \n",
    "print sum\n"
   ]
  },
  {
   "cell_type": "code",
   "execution_count": 72,
   "metadata": {},
   "outputs": [
    {
     "name": "stdout",
     "output_type": "stream",
     "text": [
      "None\n",
      "546\n"
     ]
    }
   ],
   "source": [
    "# Find third max value of element in a list with sorting and without sorting a list.\n",
    "\n",
    "#with sorting\n",
    "\n",
    "l = [1,34,664,3,546,343,435,66,5,8738793,435,34]\n",
    "l_=[]\n",
    "\n",
    "\n",
    "for i in l:\n",
    "    if i not in l_:\n",
    "        l_.append(i)\n",
    "        \n",
    "print l_.sort()\n",
    "print \"the 3rd maximum value in a list is \"l_[-3]\n"
   ]
  },
  {
   "cell_type": "code",
   "execution_count": 12,
   "metadata": {},
   "outputs": [
    {
     "name": "stdout",
     "output_type": "stream",
     "text": [
      "the third largest element in list is :(without sorting) 546\n",
      "[1, 34, 664, 3, 546, 546, 343, 435, 66, 5, 8738793, 435, 34]\n"
     ]
    }
   ],
   "source": [
    "#without sorting\n",
    "\n",
    "# 3rd largest element\n",
    "\n",
    "\n",
    "\n",
    "\n",
    "l = [1,34,664,3,546,546,343,435,66,5,8738793,435,34]\n",
    "l_=[]\n",
    "\n",
    "\n",
    "for i in l:\n",
    "    if i not in l_: #here we remove duplicatees\n",
    "        l_.append(i)\n",
    "        \n",
    "l_.remove(max(l_))\n",
    "l_.remove(max(l_))\n",
    "\n",
    "print \"the third largest element in list is :(without sorting)\",max(l_)\n",
    "print l"
   ]
  },
  {
   "cell_type": "code",
   "execution_count": 14,
   "metadata": {},
   "outputs": [
    {
     "name": "stdout",
     "output_type": "stream",
     "text": [
      "the list in the form of odd or even we got is: ['odd', 'odd', 'even', 'even', 'odd', 'odd', 'even', 'even', 'even', 'odd', 'odd']\n"
     ]
    }
   ],
   "source": [
    "# input = 1,2,3,4,5,6,8,10  output = odd,even,odd,even,odd,even,even,even\n",
    "\n",
    "def fun (l):\n",
    "    l_ = []\n",
    "    \n",
    "    for i in l:\n",
    "        if i % 2==0:\n",
    "            l_.append(\"even\")\n",
    "        else:\n",
    "            l_.append(\"odd\")\n",
    "            \n",
    "    return l_\n",
    "\n",
    "\n",
    "\n",
    "l = [1,45,32,22,1,35,656,754,66,5443,53]\n",
    "print \"the list in the form of odd or even we got is:\",fun(l)\n"
   ]
  },
  {
   "cell_type": "code",
   "execution_count": 30,
   "metadata": {},
   "outputs": [
    {
     "name": "stdout",
     "output_type": "stream",
     "text": [
      "enter the elements to get in odd even format12,34,5546,45,33,34\n",
      "the list in the form of odd or even we got is: ['12', '34', '5546', '45', '33', '34']\n",
      "['even', 'even', 'even', 'odd', 'odd', 'even']\n"
     ]
    }
   ],
   "source": [
    "# input = 1,2,3,4,5,6,8,10  output = odd,even,odd,even,odd,even,even,even\n",
    "\n",
    "def fun (l):\n",
    "    print l\n",
    "    l_ = []\n",
    "    \n",
    "    for i in l:\n",
    "        if int(i) % 2 ==0:\n",
    "            l_.append(\"even\")\n",
    "        else:\n",
    "            l_.append(\"odd\")\n",
    "            \n",
    "    return l_\n",
    "\n",
    "\n",
    "\n",
    "l = raw_input(\"enter the elements to get in odd even format\")\n",
    "l1 = l.split(\",\")\n",
    "print \"the list in the form of odd or even we got is:\",fun(l1)\n"
   ]
  },
  {
   "cell_type": "code",
   "execution_count": 29,
   "metadata": {},
   "outputs": [
    {
     "name": "stdout",
     "output_type": "stream",
     "text": [
      "['12', '24', '3445']\n",
      "12\n",
      "24\n",
      "3445\n"
     ]
    }
   ],
   "source": [
    "str = \"12,24,3445\".split(\",\")\n",
    "\n",
    "print str\n",
    "for i in str:\n",
    "    print i"
   ]
  },
  {
   "cell_type": "code",
   "execution_count": null,
   "metadata": {},
   "outputs": [],
   "source": [
    "#compare two lists ignore order. i.e return True l1=[1,2,3,4],l2=[4,2,3,1], fun(l1,l2)-> True\n",
    "# before going through this question what we have to do "
   ]
  }
 ],
 "metadata": {
  "kernelspec": {
   "display_name": "Python 2",
   "language": "python",
   "name": "python2"
  },
  "language_info": {
   "codemirror_mode": {
    "name": "ipython",
    "version": 2
   },
   "file_extension": ".py",
   "mimetype": "text/x-python",
   "name": "python",
   "nbconvert_exporter": "python",
   "pygments_lexer": "ipython2",
   "version": "2.7.15"
  }
 },
 "nbformat": 4,
 "nbformat_minor": 2
}
