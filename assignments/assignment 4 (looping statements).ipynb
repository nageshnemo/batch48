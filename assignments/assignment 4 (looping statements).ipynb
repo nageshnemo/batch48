{
 "cells": [
  {
   "cell_type": "markdown",
   "metadata": {},
   "source": [
    "# program to find whether inputted no is prime or not"
   ]
  },
  {
   "cell_type": "code",
   "execution_count": 2,
   "metadata": {},
   "outputs": [
    {
     "name": "stdout",
     "output_type": "stream",
     "text": [
      "enter the no to check that given no is prime or not:6\n",
      "number 6 is not a prime\n"
     ]
    }
   ],
   "source": [
    "## 1st way to solve the prime number \n",
    "\n",
    "\n",
    "number = int(raw_input(\"enter the no to check that given no is prime or not:\"))\n",
    "i =2;                #we initialise i to 2 because we have no bother about 1  \n",
    "if number > 1:       # this condition check is only for checking 1 which is not a prime no\n",
    "    while i<number:       \n",
    "        if number % i == 0 :\n",
    "            print ('number {} is not a prime'.format(number))\n",
    "            break\n",
    "        i+=1\n",
    "    else:                                           #this else execute when while condition becomes false\n",
    "        print ('number {} is prime'.format(number))\n",
    "else:\n",
    "    print ('number {} is not a prime'.format(number))"
   ]
  },
  {
   "cell_type": "code",
   "execution_count": 6,
   "metadata": {},
   "outputs": [
    {
     "name": "stdout",
     "output_type": "stream",
     "text": [
      "enter the no to check that given no is prime or not:1\n",
      "number 1 is not a prime\n"
     ]
    }
   ],
   "source": [
    "# 2nd way to solve the prime no concept\n",
    "number = int(raw_input(\"enter the no to check that given no is prime or not:\"))\n",
    "i =1;\n",
    "count = 0\n",
    "while i<=number:\n",
    "    if number % i == 0:\n",
    "        count+=1\n",
    "    i+=1\n",
    "\n",
    "if count == 2:  # in this we only checking how many factors of a no have if 2 then yes that no is prime\n",
    "    print ('number {} is prime'.format(number))\n",
    "else:\n",
    "    print ('number {} is not a prime'.format(number))\n"
   ]
  },
  {
   "cell_type": "code",
   "execution_count": 3,
   "metadata": {},
   "outputs": [
    {
     "name": "stdout",
     "output_type": "stream",
     "text": [
      "enter the no to check that given no is prime or not:7\n",
      "no is prime\n"
     ]
    }
   ],
   "source": [
    "#3rd way to find whether no is prime or not through for loop\n",
    "\n",
    "\n",
    "number = int(raw_input(\"enter the no to check that given no is prime or not:\"))\n",
    "if number > 1:\n",
    "    for x in range(2,number):\n",
    "        if number % x == 0:\n",
    "            print\"no is not prime\"\n",
    "            break\n",
    "    else:         \n",
    "        print \"no is prime\"\n",
    "else:\n",
    "    print\"no is not prime\""
   ]
  },
  {
   "cell_type": "code",
   "execution_count": 2,
   "metadata": {},
   "outputs": [],
   "source": [
    "#list of prime numbers"
   ]
  },
  {
   "cell_type": "markdown",
   "metadata": {},
   "source": [
    "# program to find list of prime numbers in a range"
   ]
  },
  {
   "cell_type": "code",
   "execution_count": 1,
   "metadata": {},
   "outputs": [
    {
     "ename": "IndentationError",
     "evalue": "expected an indented block (<ipython-input-1-8d1b571ee789>, line 11)",
     "output_type": "error",
     "traceback": [
      "\u001b[1;36m  File \u001b[1;32m\"<ipython-input-1-8d1b571ee789>\"\u001b[1;36m, line \u001b[1;32m11\u001b[0m\n\u001b[1;33m    if count ==2:\u001b[0m\n\u001b[1;37m    ^\u001b[0m\n\u001b[1;31mIndentationError\u001b[0m\u001b[1;31m:\u001b[0m expected an indented block\n"
     ]
    }
   ],
   "source": [
    "start = int(raw_input(\"enter the  start value where you want to know the prime no\"))\n",
    "end = int(raw_input(\"enter the end the value at which you want to know the prime no\"))\n",
    "\n",
    "\n",
    "\n",
    "for start in range (start,end + 1,1):\n",
    "    count = 0\n",
    "    for y in range(1,start+1,1):     # we use start here because from 1st for loop start is incremented \n",
    "    \n",
    "        if start % y == 0:\n",
    "            count+=1\n",
    "                            # we are checking through 1 to that no that there was how many factors a no have            count+=1\n",
    "    if count ==2:\n",
    "        print ('no {} is prime'.format(start))"
   ]
  },
  {
   "cell_type": "code",
   "execution_count": 7,
   "metadata": {},
   "outputs": [
    {
     "name": "stdout",
     "output_type": "stream",
     "text": [
      "Enter starting and ending number: \n",
      "12\n",
      "111\n",
      "\n",
      "Prime Numbers between the given range:\n"
     ]
    }
   ],
   "source": [
    "print(\"Enter starting and ending number: \")\n",
    "start = raw_input()\n",
    "end = raw_input()\n",
    "lower_number = int(start)\n",
    "upper_number = int(end)\n",
    "print(\"\\nPrime Numbers between the given range:\")\n",
    "for num in range(lower_number, upper_number+1):\n",
    "        if num>1:\n",
    "            for i in range(2,num+1):\n",
    "                if(num%i)==0:\n",
    "                    break\n",
    "            else:\n",
    "                print(num)"
   ]
  },
  {
   "cell_type": "markdown",
   "metadata": {},
   "source": [
    "# take a string from the user and check contains only digits or not?\n",
    "# take a string from the user and check contains only  alphabets or not?\n",
    "# take a string from the user and check contains only  special chars or not?\n",
    "# take a string from the user and check contains only  capiatl letters or not?\n",
    "# take a string from the user and check contains only  small letters or not?"
   ]
  },
  {
   "cell_type": "code",
   "execution_count": 45,
   "metadata": {},
   "outputs": [
    {
     "name": "stdout",
     "output_type": "stream",
     "text": [
      "enter the no to check that given no contains digit or not or not:asdsd\n",
      "no asdsd doesn't contains only digit\n"
     ]
    }
   ],
   "source": [
    "## take a string from the user and check whether contains only digit or not \n",
    "number = raw_input(\"enter the string to check that given string contains digit or not or not:\")\n",
    "if number.isdigit():\n",
    "    print \"no {} contains only digit\".format(number)\n",
    "else:\n",
    "    print \"no {} doesn't contains only digit\".format(number)\n",
    "    \n"
   ]
  },
  {
   "cell_type": "code",
   "execution_count": 3,
   "metadata": {},
   "outputs": [
    {
     "data": {
      "text/plain": [
       "49"
      ]
     },
     "execution_count": 3,
     "metadata": {},
     "output_type": "execute_result"
    }
   ],
   "source": [
    "ord(\"1\")"
   ]
  },
  {
   "cell_type": "code",
   "execution_count": 2,
   "metadata": {},
   "outputs": [
    {
     "data": {
      "text/plain": [
       "57"
      ]
     },
     "execution_count": 2,
     "metadata": {},
     "output_type": "execute_result"
    }
   ],
   "source": [
    "ord (\"9\")"
   ]
  },
  {
   "cell_type": "code",
   "execution_count": 22,
   "metadata": {},
   "outputs": [
    {
     "name": "stdout",
     "output_type": "stream",
     "text": [
      "enter the string to check that given string contains digit or not :qw23er4\n",
      "string doesn't contains only digit: qw23er4\n"
     ]
    }
   ],
   "source": [
    "## take a string from the user and check whether contains only digit or not \n",
    "# without using isdigit() function\n",
    "\n",
    "\n",
    "\n",
    "number = raw_input(\"enter the string to check that given string contains digit or not :\")\n",
    "\n",
    "count = 0\n",
    "for i in number:\n",
    "    if ord(i) >= 49 and ord(i) <= 57:\n",
    "        continue\n",
    "    else:\n",
    "        count +=1\n",
    "\n",
    "        \n",
    "if count != 0:\n",
    "    print \"string doesn't contains only digit:\",number\n",
    "else:\n",
    "    print \"string contains only digit:\",number\n",
    "\n"
   ]
  },
  {
   "cell_type": "code",
   "execution_count": 48,
   "metadata": {},
   "outputs": [
    {
     "name": "stdout",
     "output_type": "stream",
     "text": [
      "enter the no to check that given no contains digit or not or not:123\n",
      "string :123 doesn't contains only alphabet\n"
     ]
    }
   ],
   "source": [
    "## take a string from the user and check whether contains only alpha.bet or not \n",
    "number = raw_input(\"enter the no to check that given no contains only alphabet or not or not:\")\n",
    "if number.isalpha():\n",
    "    print \"string :{}contains only alphabet\".format(number)\n",
    "else:\n",
    "    print \"string :{} doesn't contains only alphabet\".format(number)\n",
    "    \n"
   ]
  },
  {
   "cell_type": "code",
   "execution_count": 34,
   "metadata": {},
   "outputs": [
    {
     "name": "stdout",
     "output_type": "stream",
     "text": [
      "enter the string to check that given string contains only alphabet or not :@awer\n",
      "string doesn't contains only alphabet: @awer\n"
     ]
    }
   ],
   "source": [
    "#without using isalpha function\n",
    "\n",
    "\n",
    "## take a string from the user and check whether contains only alphabet or not \n",
    "\n",
    "\n",
    "\n",
    "string = raw_input(\"enter the string to check that given string contains only alphabet or not :\")\n",
    "\n",
    "count = 0\n",
    "for i in string:\n",
    "    if (ord(i) >= 65 and ord(i)<=90) or (ord(i) >= 97 and ord(i)<=122):\n",
    "        continue\n",
    "    else:\n",
    "        count+=1\n",
    "\n",
    "        \n",
    "if count != 0:\n",
    "    print \"string doesn't contains only alphabet:\",string\n",
    "else:\n",
    "    print \"string contains only alphabet:\",string\n",
    "\n"
   ]
  },
  {
   "cell_type": "code",
   "execution_count": 50,
   "metadata": {},
   "outputs": [
    {
     "name": "stdout",
     "output_type": "stream",
     "text": [
      "enter the string to check that given no contains digit or not or not:12dsc@\n",
      "string :12dsc@  contains special  character\n"
     ]
    }
   ],
   "source": [
    "## take a string from the user and check whether contains only special charcters or not \n",
    "number = raw_input(\"enter the string to check that given string contains digit or not or not:\")\n",
    "if number.isalpha() and number.isdigit():\n",
    "    print \"string :{}contains only alphabet and number and digit\".format(number)\n",
    "else:\n",
    "    print \"string :{}  contains special  character\".format(number)\n",
    "    \n"
   ]
  },
  {
   "cell_type": "code",
   "execution_count": 27,
   "metadata": {},
   "outputs": [
    {
     "data": {
      "text/plain": [
       "65"
      ]
     },
     "execution_count": 27,
     "metadata": {},
     "output_type": "execute_result"
    }
   ],
   "source": [
    "ord('A')"
   ]
  },
  {
   "cell_type": "code",
   "execution_count": 28,
   "metadata": {},
   "outputs": [
    {
     "data": {
      "text/plain": [
       "90"
      ]
     },
     "execution_count": 28,
     "metadata": {},
     "output_type": "execute_result"
    }
   ],
   "source": [
    "ord('Z')"
   ]
  },
  {
   "cell_type": "code",
   "execution_count": 29,
   "metadata": {},
   "outputs": [
    {
     "data": {
      "text/plain": [
       "97"
      ]
     },
     "execution_count": 29,
     "metadata": {},
     "output_type": "execute_result"
    }
   ],
   "source": [
    "ord ('a')"
   ]
  },
  {
   "cell_type": "code",
   "execution_count": 32,
   "metadata": {},
   "outputs": [
    {
     "data": {
      "text/plain": [
       "122"
      ]
     },
     "execution_count": 32,
     "metadata": {},
     "output_type": "execute_result"
    }
   ],
   "source": [
    "ord ('z')"
   ]
  },
  {
   "cell_type": "code",
   "execution_count": 39,
   "metadata": {},
   "outputs": [
    {
     "name": "stdout",
     "output_type": "stream",
     "text": [
      "enter the string to check that given string contains only special characters or not :@!@#\n",
      "string contains only special characters: @!@#\n"
     ]
    }
   ],
   "source": [
    "## take a string from the user and check whether contains only special characters  or not \n",
    "\n",
    "\n",
    "\n",
    "string = raw_input(\"enter the string to check that given string contains only special characters or not :\")\n",
    "\n",
    "count = 0\n",
    "for i in string:\n",
    "    if (ord(i) >= 49 and ord(i) <= 57) or (ord(i) >= 65 and ord(i)<=90) or (ord(i) >= 97 and ord(i)<=122):\n",
    "        continue\n",
    "    else:\n",
    "        count+=1\n",
    "        \n",
    "if count ==0:\n",
    "    print \"string doesn't contains only special characters:\",string\n",
    "else:\n",
    "    print \"string contains only special characters:\",string\n",
    "\n"
   ]
  },
  {
   "cell_type": "code",
   "execution_count": 52,
   "metadata": {},
   "outputs": [
    {
     "name": "stdout",
     "output_type": "stream",
     "text": [
      "enter the string to check whethr it contains only lower letter or not:sasffsfdsgd\n",
      "string :sasffsfdsgd  contains only lower letters\n"
     ]
    }
   ],
   "source": [
    "## take a string from the user and check whether contains only lower letterss or not \n",
    "number = raw_input(\"enter the string to check whethr it contains only lower letter or not:\")\n",
    "if number.islower():\n",
    "    print \"string :{}  contains only lower letters\".format(number)\n",
    "else:\n",
    "    print \"string :{} doesn't contains only lower letters\".format(number)\n",
    "    \n"
   ]
  },
  {
   "cell_type": "code",
   "execution_count": 41,
   "metadata": {},
   "outputs": [
    {
     "name": "stdout",
     "output_type": "stream",
     "text": [
      "enter the string to check that given string contains only lower letters or not :13Aqwd@\n",
      "string doesn't contains only lower letters: 13Aqwd@\n"
     ]
    }
   ],
   "source": [
    "## take a string from the user and check whether contains only lower letters  or not \n",
    "# without using islower()\n",
    "\n",
    "\n",
    "\n",
    "string = raw_input(\"enter the string to check that given string contains only lower letters or not :\")\n",
    "\n",
    "count = 0\n",
    "for i in string:\n",
    "    if (ord(i) >= 97 and ord(i)<=122):\n",
    "        continue\n",
    "    else:\n",
    "        count+=1\n",
    "        \n",
    "if count ==0:\n",
    "    print \"string  contains only lower letters:\",string\n",
    "else:\n",
    "    print \"string doesn't contains only lower letters:\",string\n",
    "\n"
   ]
  },
  {
   "cell_type": "code",
   "execution_count": 53,
   "metadata": {},
   "outputs": [
    {
     "name": "stdout",
     "output_type": "stream",
     "text": [
      "enter the string to check whethr it contains only upper letter or not:AssDD\n",
      "string :AssDD doesn't contains only upper letters\n"
     ]
    }
   ],
   "source": [
    "## take a string from the user and check whether contains only upper letters  or not \n",
    "number = raw_input(\"enter the string to check whethr it contains only upper letter or not:\")\n",
    "if number.isupper():\n",
    "    print \"string :{}  contains only upper letters\".format(number)\n",
    "else:\n",
    "    print \"string :{} doesn't contains only upper letters\".format(number)\n",
    "    \n"
   ]
  },
  {
   "cell_type": "code",
   "execution_count": 42,
   "metadata": {},
   "outputs": [
    {
     "name": "stdout",
     "output_type": "stream",
     "text": [
      "enter the string to check that given string contains only upper letters or not :ASDERT\n",
      "string  contains only upper letters: ASDERT\n"
     ]
    }
   ],
   "source": [
    " ## take a string from the user and check whether contains only upper letters  or not \n",
    "# without using isupper()\n",
    "\n",
    "\n",
    "\n",
    "string = raw_input(\"enter the string to check that given string contains only upper letters or not :\")\n",
    "\n",
    "count = 0\n",
    "for i in string:\n",
    "    if (ord(i) >= 65 and ord(i)<=90):\n",
    "        continue\n",
    "    else:\n",
    "        count+=1\n",
    "        \n",
    "if count ==0:\n",
    "    print \"string  contains only upper letters:\",string\n",
    "else:\n",
    "    print \"string doesn't contains only upper letters:\",string\n",
    "\n"
   ]
  },
  {
   "cell_type": "code",
   "execution_count": 43,
   "metadata": {},
   "outputs": [
    {
     "name": "stdout",
     "output_type": "stream",
     "text": [
      "enter the string to check that given string contains only upper letters or not :aSD@!dd\n",
      "string doesn't contains only upper letters: aSD@!dd\n"
     ]
    }
   ],
   "source": [
    " ## take a string from the user and check whether contains only upper letters  or not \n",
    "# without using isupper()\n",
    "\n",
    "\n",
    "\n",
    "string = raw_input(\"enter the string to check that given string contains only upper letters or not :\")\n",
    "\n",
    "count = 0\n",
    "for i in string:\n",
    "    if (ord(i) >= 65 and ord(i)<=90):\n",
    "        continue\n",
    "    else:\n",
    "        count+=1\n",
    "        \n",
    "if count ==0:\n",
    "    print \"string  contains only upper letters:\",string\n",
    "else:\n",
    "    print \"string doesn't contains only upper letters:\",string\n",
    "\n"
   ]
  },
  {
   "cell_type": "markdown",
   "metadata": {},
   "source": [
    "# WAP to check given string contains numbers or not. it should consider float numbers also.\n",
    "# Convert the total string in to lower case. Without using lower() function.\n",
    "# Convert the total string in to upper case. Without using upper() function."
   ]
  },
  {
   "cell_type": "code",
   "execution_count": 55,
   "metadata": {},
   "outputs": [
    {
     "name": "stdout",
     "output_type": "stream",
     "text": [
      "enter the string to convert total string into lower case:NAGESH SINGH RAJPUT\n",
      "the converted string is: nagesh singh rajput\n"
     ]
    }
   ],
   "source": [
    " ## take a string from the user and convert into lowercase  using lower function\n",
    "\n",
    "\n",
    "\n",
    "string = raw_input(\"enter the string to convert total string into lower case:\")\n",
    "if bool(string):\n",
    "    print \"the converted string is:\",string.lower()\n",
    "else:\n",
    "    print \"you didn't enter any string\""
   ]
  },
  {
   "cell_type": "code",
   "execution_count": 56,
   "metadata": {},
   "outputs": [
    {
     "name": "stdout",
     "output_type": "stream",
     "text": [
      "enter the string to convert total string into lower case:\n",
      "you didn't enter any string\n"
     ]
    }
   ],
   "source": [
    " ## take a string from the user and convert into lowercase  using lower function\n",
    "\n",
    "\n",
    "\n",
    "string = raw_input(\"enter the string to convert total string into lower case:\")\n",
    "if bool(string):\n",
    "    print \"the converted string is:\",string.lower()\n",
    "else:\n",
    "    print \"you didn't enter any string\""
   ]
  },
  {
   "cell_type": "code",
   "execution_count": 62,
   "metadata": {},
   "outputs": [
    {
     "name": "stdout",
     "output_type": "stream",
     "text": [
      "enter the string to convert total string into lower case:ASDFGHK\n",
      "a\n",
      "s\n",
      "d\n",
      "f\n",
      "g\n",
      "h\n",
      "k\n"
     ]
    }
   ],
   "source": [
    "# without using lower function\n",
    " ## take a string from the user and convert into lowercase  using lower function\n",
    "\n",
    "\n",
    "\n",
    "string = raw_input(\"enter the string to convert total string into lower case:\")\n",
    "if bool(string):\n",
    "    for i in string:\n",
    "        print chr(ord(i)+32)   #using ord() we get ascii and convert it through chr() to get lower case\n",
    "else:\n",
    "    print \"you didn't enter any string\""
   ]
  },
  {
   "cell_type": "code",
   "execution_count": 66,
   "metadata": {},
   "outputs": [
    {
     "name": "stdout",
     "output_type": "stream",
     "text": [
      "enter the string to convert total string into lower case:NAGESH\n",
      "the converted string is: nagesh\n"
     ]
    }
   ],
   "source": [
    "# without using lower function\n",
    " ## take a string from the user and convert into lowercase  using lower function\n",
    "\n",
    "\n",
    "lower = \"\"\n",
    "string = raw_input(\"enter the string to convert total string into lower case:\")\n",
    "if bool(string):\n",
    "    for i in string:\n",
    "        lower = lower + chr(ord(i)+32)   #using ord() we get ascii and convert it through chr() to get lower case\n",
    "else:\n",
    "    print \"you didn't enter any string\"\n",
    "print \"the converted string is:\",lower"
   ]
  },
  {
   "cell_type": "code",
   "execution_count": 81,
   "metadata": {},
   "outputs": [
    {
     "name": "stdout",
     "output_type": "stream",
     "text": [
      "enter the string to convert total string into upper case:WE LOVE PYTHON SO MUCH\n",
      "the converted string is: we love python so much\n"
     ]
    }
   ],
   "source": [
    "# without using upper function\n",
    " ## take a string from the user and convert into lowercase  using lower function\n",
    "\n",
    "    \n",
    "lower = \"\"\n",
    "string = raw_input(\"enter the string to convert total string into upper case:\")\n",
    "if bool(string):\n",
    "    for i in string:\n",
    "        if i == \" \":\n",
    "            lower = lower + \" \"\n",
    "        else: \n",
    "            lower = lower + chr(ord(i) + 32)   #using ord() we get ascii and convert it through chr() to get lower case\n",
    "if string == \"\":\n",
    "    print \"you didn't enter any string\"\n",
    "else:\n",
    "    print \"the converted string is:\",lower"
   ]
  },
  {
   "cell_type": "code",
   "execution_count": 71,
   "metadata": {},
   "outputs": [
    {
     "name": "stdout",
     "output_type": "stream",
     "text": [
      "enter the string to convert total string into upper case:nagesh singh rajput is interested in python\n",
      "the converted string is: NAGESH SINGH RAJPUT IS INTERESTED IN PYTHON\n"
     ]
    }
   ],
   "source": [
    " ## take a string from the user and convert into lowercase  using upper function\n",
    "\n",
    "\n",
    "\n",
    "string = raw_input(\"enter the string to convert total string into upper case:\")\n",
    "if bool(string):\n",
    "    print \"the converted string is:\",string.upper()\n",
    "else:\n",
    "    print \"you didn't enter any string\""
   ]
  },
  {
   "cell_type": "code",
   "execution_count": 74,
   "metadata": {},
   "outputs": [
    {
     "name": "stdout",
     "output_type": "stream",
     "text": [
      "enter the string to convert total string into upper case:\n",
      "you didn't enter any string\n"
     ]
    }
   ],
   "source": [
    " ## take a string from the user and convert into lowercase  using upper function\n",
    "\n",
    "\n",
    "\n",
    "string = raw_input(\"enter the string to convert total string into upper case:\")\n",
    "if bool(string):\n",
    "    print \"the converted string is:\",string.upper()\n",
    "else:\n",
    "    print \"you didn't enter any string\""
   ]
  },
  {
   "cell_type": "code",
   "execution_count": 79,
   "metadata": {},
   "outputs": [
    {
     "name": "stdout",
     "output_type": "stream",
     "text": [
      "enter the string to convert total string into upper case:nagesh singh rajput\n",
      "the converted string is: NAGESH SINGH RAJPUT\n"
     ]
    }
   ],
   "source": [
    "# without using upper function\n",
    " ## take a string from the user and convert into lowercase  using lower function\n",
    "\n",
    "    \n",
    "upper = \"\"\n",
    "string = raw_input(\"enter the string to convert total string into upper case:\")\n",
    "if bool(string):\n",
    "    for i in string:\n",
    "        if i == \" \":\n",
    "            upper = upper + \" \"\n",
    "        else: \n",
    "            upper = upper + chr(ord(i) - 32)   #using ord() we get ascii and convert it through chr() to get lower case\n",
    "if string == \"\":\n",
    "    print \"you didn't enter any string\"\n",
    "else:\n",
    "    print \"the converted string is:\",upper"
   ]
  },
  {
   "cell_type": "markdown",
   "metadata": {},
   "source": [
    "#wap to check that given string contains no or not. should consider floating point also!!!\n",
    "\n",
    "\n",
    "\n",
    "#WAP to replace last n occurances."
   ]
  },
  {
   "cell_type": "code",
   "execution_count": null,
   "metadata": {},
   "outputs": [],
   "source": []
  },
  {
   "cell_type": "markdown",
   "metadata": {},
   "source": [
    "take a string from the user and check contains atleast one digit or not?\n",
    "19. take a string from the user and check contains atleast one alphabets or not?\n",
    "20. take a string from the user and check contains atleast one special  chars or not?\n",
    "21. take a string from the user and check contains atleast one capital letter or not?\n",
    "22. take a string from the user and check contains atleast one small letter or not?\n"
   ]
  },
  {
   "cell_type": "code",
   "execution_count": 84,
   "metadata": {},
   "outputs": [],
   "source": [
    "#take a string from the user anf check contains atleast one digit or not"
   ]
  },
  {
   "cell_type": "code",
   "execution_count": 88,
   "metadata": {},
   "outputs": [
    {
     "name": "stdout",
     "output_type": "stream",
     "text": [
      "enter the string to check that given string contains atleast one digit or not :ads1\n",
      "yes! given string contains atleast one digit: ads1\n"
     ]
    }
   ],
   "source": [
    "\n",
    "## take a string from the user and check whether contains atleast one digit or not \n",
    "\n",
    "\n",
    "number = raw_input(\"enter the string to check that given string contains atleast one digit or not :\")\n",
    "\n",
    "if bool(number):\n",
    "    for i in number:\n",
    "        if ord(i) >= 49 and ord(i) <= 57:\n",
    "            print \"yes! given string contains atleast one digit:\",number\n",
    "            break\n",
    "    else:\n",
    "        print \"no given string didn't contains atleast one digit\"\n",
    "\n",
    "else:\n",
    "    print \"you didn't enter anything sorry!\"\n",
    "\n"
   ]
  },
  {
   "cell_type": "code",
   "execution_count": 4,
   "metadata": {},
   "outputs": [
    {
     "name": "stdout",
     "output_type": "stream",
     "text": [
      "enter the string to check that given string contains atleast one digit or not :sa wfwwf fw3546#\n",
      "yes!!! given string contains atleast one special character sa wfwwf fw3546#\n"
     ]
    }
   ],
   "source": [
    "# check whether the inputted no had atleast one special characters or not\n",
    "\n",
    "number = raw_input(\"enter the string to check that given string contains atleast one digit or not :\")\n",
    "\n",
    "if bool(number):\n",
    "    for i in number:\n",
    "        if (ord(i) >= 49 and ord(i) <= 57) or (ord(i) >= 65 and ord(i)<=90) or (ord(i) >= 97 and ord(i)<=122): \n",
    "            continue\n",
    "        else :\n",
    "            break\n",
    "    print\"yes!!! given string contains atleast one special character\",number\n",
    "else:\n",
    "    print \"you didn't enter anything sorry!\"\n",
    "\n",
    "\n"
   ]
  },
  {
   "cell_type": "code",
   "execution_count": 89,
   "metadata": {},
   "outputs": [
    {
     "name": "stdout",
     "output_type": "stream",
     "text": [
      "enter the string to check that given string contains atleast one digit or not :\n",
      "you didn't enter anything sorry!\n"
     ]
    }
   ],
   "source": [
    "\n",
    "## take a string from the user and check whether contains atleast one digit or not \n",
    "\n",
    "\n",
    "number = raw_input(\"enter the string to check that given string contains atleast one digit or not :\")\n",
    "\n",
    "if bool(number):\n",
    "    for i in number:\n",
    "        if ord(i) >= 49 and ord(i) <= 57:\n",
    "            print \"yes! given string contains atleast one digit:\",number\n",
    "            break\n",
    "    else:\n",
    "        print \"no given string didn't contains atleast one digit\"\n",
    "\n",
    "else:\n",
    "    print \"you didn't enter anything sorry!\"\n",
    "\n"
   ]
  },
  {
   "cell_type": "markdown",
   "metadata": {},
   "source": [
    "take a string from the user and check contains atleast one alphabets or not?"
   ]
  },
  {
   "cell_type": "code",
   "execution_count": 90,
   "metadata": {},
   "outputs": [
    {
     "name": "stdout",
     "output_type": "stream",
     "text": [
      "enter the string to check that given string contains atleast one alphabets or not :1233a\n",
      "yes! given string contains atleast one alphabet: 1233a\n"
     ]
    }
   ],
   "source": [
    "\n",
    "## take a string from the user and check whether contains atleast one alphabets or not \n",
    "\n",
    "\n",
    "number = raw_input(\"enter the string to check that given string contains atleast one alphabets or not :\")\n",
    "\n",
    "if bool(number):\n",
    "    for i in number:\n",
    "        if (ord(i) >= 65 and ord(i)<=90) or (ord(i) >= 97 and ord(i)<=122):\n",
    "            print \"yes! given string contains atleast one alphabet:\",number\n",
    "            break\n",
    "    else:\n",
    "        print \"no given string didn't contains atleast one alphabet\"\n",
    "\n",
    "else:\n",
    "    print \"you didn't enter anything sorry!\"\n",
    "\n"
   ]
  },
  {
   "cell_type": "markdown",
   "metadata": {},
   "source": [
    "take a string from the user and check contains atleast one capital letter or not?"
   ]
  },
  {
   "cell_type": "code",
   "execution_count": 97,
   "metadata": {},
   "outputs": [
    {
     "name": "stdout",
     "output_type": "stream",
     "text": [
      "enter the string to check that given string contains atleast one capital letters  or not :aada@13321N\n",
      "yes! given string  aada@13321N contains atleast one capital letter that is N\n"
     ]
    }
   ],
   "source": [
    "\n",
    "## take a string from the user and check whether contains atleast one capital letter or not \n",
    "\n",
    "\n",
    "number = raw_input(\"enter the string to check that given string contains atleast one capital letters  or not :\")\n",
    "\n",
    "if bool(number):\n",
    "    for i in number:\n",
    "        if (ord(i) >= 65 and ord(i)<=90) :\n",
    "            print \"yes! given string  {} contains atleast one capital letter that is {}\".format(number,i)\n",
    "            break\n",
    "    else:\n",
    "        print \"no given string didn't contains atleast one capital letter\"\n",
    "\n",
    "else:\n",
    "    print \"you didn't enter anything sorry!\"\n",
    "\n"
   ]
  },
  {
   "cell_type": "code",
   "execution_count": 99,
   "metadata": {},
   "outputs": [
    {
     "data": {
      "text/plain": [
       "65"
      ]
     },
     "execution_count": 99,
     "metadata": {},
     "output_type": "execute_result"
    }
   ],
   "source": [
    "ord(\"A\")"
   ]
  },
  {
   "cell_type": "code",
   "execution_count": 105,
   "metadata": {},
   "outputs": [
    {
     "name": "stdout",
     "output_type": "stream",
     "text": [
      "enter the string to check that given string contains atleast one small letters  or not :AADAs@131321\n",
      "yes! given string  AADAs@131321 contains atleast one small letter that is s\n"
     ]
    }
   ],
   "source": [
    "\n",
    "## take a string from the user and check whether contains atleast one small letter or not \n",
    "\n",
    "\n",
    "number = raw_input(\"enter the string to check that given string contains atleast one small letters  or not :\")\n",
    "\n",
    "if bool(number):\n",
    "    for i in number:\n",
    "        if (ord(i) >= 97 and ord(i) <= 122) :\n",
    "            print \"yes! given string  {} contains atleast one small letter that is {}\".format(number,i)\n",
    "            break\n",
    "    else:\n",
    "        print \"no given string didn't contains atleast one small letter:\",string\n",
    "\n",
    "else:\n",
    "    print \"you didn't enter anything sorry!\"\n",
    "\n"
   ]
  },
  {
   "cell_type": "code",
   "execution_count": 103,
   "metadata": {},
   "outputs": [
    {
     "data": {
      "text/plain": [
       "97"
      ]
     },
     "execution_count": 103,
     "metadata": {},
     "output_type": "execute_result"
    }
   ],
   "source": [
    "ord (\"a\")"
   ]
  },
  {
   "cell_type": "code",
   "execution_count": 104,
   "metadata": {},
   "outputs": [
    {
     "data": {
      "text/plain": [
       "122"
      ]
     },
     "execution_count": 104,
     "metadata": {},
     "output_type": "execute_result"
    }
   ],
   "source": [
    "ord (\"z\")"
   ]
  },
  {
   "cell_type": "markdown",
   "metadata": {},
   "source": [
    "Print the first 100 odd numbers\n",
    "print the first 100 even numbers"
   ]
  },
  {
   "cell_type": "code",
   "execution_count": 107,
   "metadata": {},
   "outputs": [
    {
     "name": "stdout",
     "output_type": "stream",
     "text": [
      "1 3 5 7 9 11 13 15 17 19 21 23 25 27 29 31 33 35 37 39 41 43 45 47 49 51 53 55 57 59 61 63 65 67 69 71 73 75 77 79 81 83 85 87 89 91 93 95 97 99\n"
     ]
    }
   ],
   "source": [
    "#first 100 odd nos\n",
    "for i in range(1,101,2):\n",
    "    print i,"
   ]
  },
  {
   "cell_type": "code",
   "execution_count": 111,
   "metadata": {},
   "outputs": [
    {
     "name": "stdout",
     "output_type": "stream",
     "text": [
      "1 3 5 7 9 11 13 15 17 19 21 23 25 27 29 31 33 35 37 39 41 43 45 47 49 51 53 55 57 59 61 63 65 67 69 71 73 75 77 79 81 83 85 87 89 91 93 95 97 99\n"
     ]
    }
   ],
   "source": [
    "# 2nd way to get first 100 odd no:\n",
    "for i in range(1,101):\n",
    "    if i % 2 != 0:\n",
    "        print i,"
   ]
  },
  {
   "cell_type": "code",
   "execution_count": 114,
   "metadata": {},
   "outputs": [
    {
     "name": "stdout",
     "output_type": "stream",
     "text": [
      "2 4 6 8 10 12 14 16 18 20 22 24 26 28 30 32 34 36 38 40 42 44 46 48 50 52 54 56 58 60 62 64 66 68 70 72 74 76 78 80 82 84 86 88 90 92 94 96 98 100\n"
     ]
    }
   ],
   "source": [
    "#first 100 even nos\n",
    "for i in range(2,101,2):\n",
    "    print i,"
   ]
  },
  {
   "cell_type": "code",
   "execution_count": 113,
   "metadata": {},
   "outputs": [
    {
     "name": "stdout",
     "output_type": "stream",
     "text": [
      "2 4 6 8 10 12 14 16 18 20 22 24 26 28 30 32 34 36 38 40 42 44 46 48 50 52 54 56 58 60 62 64 66 68 70 72 74 76 78 80 82 84 86 88 90 92 94 96 98 100\n"
     ]
    }
   ],
   "source": [
    "# 2nd way to get first 100 even no:\n",
    "for i in range(1,101):\n",
    "    if i % 2 == 0:\n",
    "        print i,"
   ]
  },
  {
   "cell_type": "markdown",
   "metadata": {},
   "source": [
    "Determine the factors of a number entered  by the user\n",
    "Play a number guessing game (User enters a guess, you print YES or Higher or Lower)\n",
    " Take two numbers from the user a,b check whether a is divisible by b or not?\n",
    "Given an age, figure out whether someone's a baby, toddler, child, teenager, adult or old codger.\n",
    " Find the sum of all the multiples of 3 or 5 below 1000\n",
    "\n",
    "Write a program to findout big of two numbers\n",
    "Write a program to findout biggest number in the given numbers.\n",
    "findout third occurance of given substring\n",
    "findout nth occurance of given substring\n",
    " Taake some single digit numbers from the user and findout min, maximum, sum, average\n",
    "WAP> 10 -> 000010\n",
    "       \t\t100 ->  000100\n",
    "      \t\t1000 ->  001000\n",
    " \t\t 2345678  ->  2345678\n",
    "names  =\"emp1,emp2,emp3,emp4\" iterate through the employee names.\n",
    "Take actuual string, soucrce string, destination string. replce first nth occurances of soucestring with destination string of actual string.\n",
    " Take a two numbers from the user and do below menu driven operations\n",
    "1. addition\n",
    "2. multiples\n",
    "3.division\n",
    "4.sqrt\n",
    "5. pow    a**b\n",
    "6.substraction\n",
    "After selection do the corresponding operation.\n",
    "Note: user may give int, or float numbers. You should check whether it is proper digits or not. I.e the user given string should be in the position to convert to float. Other wise show the “inproper string given” Error.\n",
    "\n",
    "\n",
    "\n",
    " Taake numbers from the user and findout min, maximum, sum, average\n",
    "\n",
    "\n",
    "l=[1,2,3,5,7,8,9,10,11,12,13,20,22,23,24,25,26,27,20,21,22,4] find out how many even numbers are there and how many odd numbers are there and how many positive numbers are there and how many negative numbers are there and how many prime numbers are there and how many perfect numbers are there and how many Armstrong numbers are there and how many palindrome numbers are there.\n"
   ]
  },
  {
   "cell_type": "code",
   "execution_count": 116,
   "metadata": {},
   "outputs": [],
   "source": [
    "#Determine the factors of a number entered  by the user\n",
    "factor = \"\"\n",
    "number = raw_input(\"enter the no of which you want to know the factors\")\n",
    "for i in range (1,number,1):\n",
    "    if number % i == 0:\n",
    "        factor+=i\n",
    "    print \"the factors of number {} are {}\".format(number )\n",
    "else:\n",
    "    print \"there was no any factors present\""
   ]
  },
  {
   "cell_type": "code",
   "execution_count": 117,
   "metadata": {},
   "outputs": [],
   "source": [
    "#Play a number guessing game (User enters a guess, you print YES or Higher or Lower)\n",
    " "
   ]
  },
  {
   "cell_type": "code",
   "execution_count": 119,
   "metadata": {},
   "outputs": [
    {
     "name": "stdout",
     "output_type": "stream",
     "text": [
      "enter a:112\n",
      "enter b:3\n",
      "no\n"
     ]
    }
   ],
   "source": [
    "#Take two numbers from the user a,b check whether a is divisible by b or not?\n",
    "# doubt            completely or only divisible\n",
    "\n",
    "\n",
    "\n",
    "a = int(raw_input(\"enter a:\"))\n",
    "b = int(raw_input(\"enter b:\"))\n",
    "if a % b == 0:\n",
    "    print \"completely divisible\"\n",
    "else:\n",
    "    print\"no\"\n",
    "\n"
   ]
  },
  {
   "cell_type": "code",
   "execution_count": 120,
   "metadata": {},
   "outputs": [],
   "source": [
    "#Given an age, figure out whether someone's a baby, toddler, child, teenager, adult or old codger."
   ]
  },
  {
   "cell_type": "code",
   "execution_count": 124,
   "metadata": {},
   "outputs": [
    {
     "name": "stdout",
     "output_type": "stream",
     "text": [
      "list of all the multiples of 3 or 5 below 1000::\n",
      "\n",
      "\n",
      "\n",
      "1000 999 996 995 993 990 987 985 984 981 980 978 975 972 970 969 966 965 963 960 957 955 954 951 950 948 945 942 940 939 936 935 933 930 927 925 924 921 920 918 915 912 910 909 906 905 903 900 897 895 894 891 890 888 885 882 880 879 876 875 873 870 867 865 864 861 860 858 855 852 850 849 846 845 843 840 837 835 834 831 830 828 825 822 820 819 816 815 813 810 807 805 804 801 800 798 795 792 790 789 786 785 783 780 777 775 774 771 770 768 765 762 760 759 756 755 753 750 747 745 744 741 740 738 735 732 730 729 726 725 723 720 717 715 714 711 710 708 705 702 700 699 696 695 693 690 687 685 684 681 680 678 675 672 670 669 666 665 663 660 657 655 654 651 650 648 645 642 640 639 636 635 633 630 627 625 624 621 620 618 615 612 610 609 606 605 603 600 597 595 594 591 590 588 585 582 580 579 576 575 573 570 567 565 564 561 560 558 555 552 550 549 546 545 543 540 537 535 534 531 530 528 525 522 520 519 516 515 513 510 507 505 504 501 500 498 495 492 490 489 486 485 483 480 477 475 474 471 470 468 465 462 460 459 456 455 453 450 447 445 444 441 440 438 435 432 430 429 426 425 423 420 417 415 414 411 410 408 405 402 400 399 396 395 393 390 387 385 384 381 380 378 375 372 370 369 366 365 363 360 357 355 354 351 350 348 345 342 340 339 336 335 333 330 327 325 324 321 320 318 315 312 310 309 306 305 303 300 297 295 294 291 290 288 285 282 280 279 276 275 273 270 267 265 264 261 260 258 255 252 250 249 246 245 243 240 237 235 234 231 230 228 225 222 220 219 216 215 213 210 207 205 204 201 200 198 195 192 190 189 186 185 183 180 177 175 174 171 170 168 165 162 160 159 156 155 153 150 147 145 144 141 140 138 135 132 130 129 126 125 123 120 117 115 114 111 110 108 105 102 100 99 96 95 93 90 87 85 84 81 80 78 75 72 70 69 66 65 63 60 57 55 54 51 50 48 45 42 40 39 36 35 33 30 27 25 24 21 20 18 15 12 10 9 6 5 3\n"
     ]
    }
   ],
   "source": [
    "# Find the list of all the multiples of 3 or 5 below 1000\n",
    "print \"list of all the multiples of 3 or 5 below 1000::\\n\\n\\n\"\n",
    "for i in range (1000,0,-1):\n",
    "    if i % 3 == 0 or i % 5 ==0 :\n",
    "        print i,"
   ]
  },
  {
   "cell_type": "code",
   "execution_count": 128,
   "metadata": {},
   "outputs": [
    {
     "name": "stdout",
     "output_type": "stream",
     "text": [
      "list of all the multiples of 3 or 5 below 1000::\n",
      "234168\n"
     ]
    }
   ],
   "source": [
    "# Find the sum of all the multiples of 3 or 5 below 1000\n",
    "sum = 0\n",
    "print \"list of all the multiples of 3 or 5 below 1000::\"\n",
    "for i in range (1000,0,-1):\n",
    "    if i % 3 == 0 or i % 5 ==0 :\n",
    "        sum += i\n",
    "print sum"
   ]
  },
  {
   "cell_type": "markdown",
   "metadata": {},
   "source": [
    "# ARMSTRONG NUMBER"
   ]
  },
  {
   "cell_type": "code",
   "execution_count": 18,
   "metadata": {},
   "outputs": [
    {
     "name": "stdout",
     "output_type": "stream",
     "text": [
      "enter no to check whether inputted no is armstrong or not371\n",
      "yes! the inputted no is armstrong : 371\n"
     ]
    }
   ],
   "source": [
    "# check whether inputted no is armstrong no\n",
    "armstrong=0\n",
    "number =  (raw_input(\"enter no to check whether inputted no is armstrong or not\"))\n",
    "for i in number:\n",
    "    armstrong = armstrong + int(i) ** 3\n",
    "    \n",
    "if int(number) == armstrong:\n",
    "    print \"yes! the inputted no is armstrong :\",number\n",
    "else:\n",
    "    print \"no! the inputted no is not string\""
   ]
  },
  {
   "cell_type": "code",
   "execution_count": 2,
   "metadata": {},
   "outputs": [
    {
     "name": "stdout",
     "output_type": "stream",
     "text": [
      "enter no to check whether inputted no is armstrong or not213\n",
      "sorry inputted no is not armstrong 213\n"
     ]
    }
   ],
   "source": [
    "# check whether inputted no is armstrong no\n",
    "s = 0  \n",
    "number =  (raw_input(\"enter no to check whether inputted no is armstrong or not\"))\n",
    "order = len(number)\n",
    "for i in number:\n",
    "     s = s + int(i)**(order)\n",
    "\n",
    "\n",
    "if int(number) == s:\n",
    "    print \"no is armstrong\",number\n",
    "else:\n",
    "    print \"sorry inputted no is not armstrong\",number"
   ]
  },
  {
   "cell_type": "markdown",
   "metadata": {},
   "source": [
    "# armstrong number using modulo division "
   ]
  },
  {
   "cell_type": "code",
   "execution_count": 4,
   "metadata": {},
   "outputs": [
    {
     "name": "stdout",
     "output_type": "stream",
     "text": [
      "(1634, 'is an Armstrong number')\n"
     ]
    }
   ],
   "source": [
    "# another way to find armstrong no\n",
    "num = 1634\n",
    "\n",
    "# Changed num variable to string, \n",
    "# and calculated the length (number of digits)\n",
    "order = len(str(num))\n",
    "\n",
    "# initialize sum\n",
    "sum = 0\n",
    "\n",
    "# find the sum of the cube of each digit\n",
    "temp = num\n",
    "while temp > 0:\n",
    "    digit = temp % 10\n",
    "    sum += digit ** order\n",
    "    temp /= 10\n",
    "\n",
    "# display the result\n",
    "if num == sum:\n",
    "    print(num,\"is an Armstrong number\")\n",
    "else:\n",
    "    print(num,\"is not an Armstrong number\")"
   ]
  },
  {
   "cell_type": "markdown",
   "metadata": {},
   "source": [
    "# list of armstrong nos:\n"
   ]
  },
  {
   "cell_type": "code",
   "execution_count": 59,
   "metadata": {},
   "outputs": [
    {
     "name": "stdout",
     "output_type": "stream",
     "text": [
      "the no is armstrong:, 1\n",
      "the no is armstrong:, 153\n",
      "the no is armstrong:, 370\n",
      "the no is armstrong:, 371\n"
     ]
    }
   ],
   "source": [
    "start =1\n",
    "end = 373\n",
    "for start in range (start,end+1,1):\n",
    "    s = 0\n",
    "    for y in str(start):\n",
    "        s = s + int(y) ** 3 \n",
    "        \n",
    "    \n",
    "    if s == int(start):\n",
    "        print \"the no is armstrong:,\",str(start)\n"
   ]
  },
  {
   "cell_type": "code",
   "execution_count": 39,
   "metadata": {},
   "outputs": [
    {
     "name": "stdout",
     "output_type": "stream",
     "text": [
      "35\n"
     ]
    }
   ],
   "source": [
    "s=0 \n",
    "for y in str(23):\n",
    "    s = s + int(y) ** 3 \n",
    "print s"
   ]
  },
  {
   "cell_type": "code",
   "execution_count": 8,
   "metadata": {},
   "outputs": [
    {
     "name": "stdout",
     "output_type": "stream",
     "text": [
      "enter the first no from you want to know the armstrong no:1\n",
      "enter the last upto which you want to know the list of armstrong number1000\n",
      "the list of armstrong no from 1 to 1000 is below:\n",
      "\n",
      "1\n",
      "153\n",
      "370\n",
      "371\n",
      "407\n"
     ]
    }
   ],
   "source": [
    "start = int(raw_input(\"enter the first no from you want to know the armstrong no:\"))\n",
    "end = int(raw_input(\"enter the last upto which you want to know the list of armstrong number\"))\n",
    "\n",
    "print \"the list of armstrong no from {} to {} is below:\\n\".format(start,end)\n",
    "\n",
    "for start in range (start,end+1,1): # why to put start after for because that start value we need which is incremented\n",
    "                                    #in first loop then use by 2nd for loop\n",
    "    \n",
    "    s = 0\n",
    "    for y in str(start):\n",
    "        s = s + int(y) ** 3 \n",
    "        \n",
    "    \n",
    "    if s == int(start):\n",
    "        print str(start)\n"
   ]
  },
  {
   "cell_type": "markdown",
   "metadata": {},
   "source": [
    "# palindrome no\n",
    "#### check whether given no is palindrome or not without using modulo division"
   ]
  },
  {
   "cell_type": "code",
   "execution_count": 77,
   "metadata": {},
   "outputs": [
    {
     "name": "stdout",
     "output_type": "stream",
     "text": [
      "enter no to check whether no is palindrome or not123\n",
      "1\n",
      "2\n",
      "3\n"
     ]
    }
   ],
   "source": [
    "number = (raw_input(\"enter no to check whether no is palindrome or not\"))\n",
    "for i in number:\n",
    "    print i\n",
    "    "
   ]
  },
  {
   "cell_type": "markdown",
   "metadata": {},
   "source": [
    "# a way to find palindrome number using modulo division"
   ]
  },
  {
   "cell_type": "code",
   "execution_count": 2,
   "metadata": {},
   "outputs": [
    {
     "name": "stdout",
     "output_type": "stream",
     "text": [
      "1\n",
      "1\n",
      "166\n",
      "6\n",
      "16\n",
      "16\n",
      "6\n",
      "166\n",
      "1\n",
      "1\n",
      "1661\n",
      "0\n",
      "(1661, 'is an Palindrome number')\n"
     ]
    }
   ],
   "source": [
    "# palindrome no\n",
    "num = 1661\n",
    "\n",
    "\n",
    "# initialize sum\n",
    "sum = 0\n",
    "\n",
    "temp = num\n",
    "while temp != 0:\n",
    "    digit = temp % 10\n",
    "    print digit \n",
    "    sum = sum *10 + digit\n",
    "    print sum\n",
    "    temp /= 10\n",
    "    print temp\n",
    "\n",
    "# display the result\n",
    "if num == sum:\n",
    "    print(num,\"is an Palindrome number\")\n",
    "else:\n",
    "    print(num,\"is not an Palinndrome number\")"
   ]
  },
  {
   "cell_type": "code",
   "execution_count": 5,
   "metadata": {},
   "outputs": [
    {
     "data": {
      "text/plain": [
       "2.0"
      ]
     },
     "execution_count": 5,
     "metadata": {},
     "output_type": "execute_result"
    }
   ],
   "source": [
    "4 ** (1/2.0) #square root"
   ]
  },
  {
   "cell_type": "code",
   "execution_count": 7,
   "metadata": {},
   "outputs": [
    {
     "data": {
      "text/plain": [
       "3.0"
      ]
     },
     "execution_count": 7,
     "metadata": {},
     "output_type": "execute_result"
    }
   ],
   "source": [
    "27 ** (1/3.0) # cube root"
   ]
  },
  {
   "cell_type": "code",
   "execution_count": 9,
   "metadata": {},
   "outputs": [
    {
     "name": "stdout",
     "output_type": "stream",
     "text": [
      "enter first no :1\n",
      "enter second no :2\n"
     ]
    }
   ],
   "source": [
    "a = int(raw_input(\"enter first no :\"))\n",
    "b = int(raw_input(\"enter second no :\"))\n"
   ]
  },
  {
   "cell_type": "code",
   "execution_count": null,
   "metadata": {},
   "outputs": [],
   "source": []
  }
 ],
 "metadata": {
  "kernelspec": {
   "display_name": "Python 2",
   "language": "python",
   "name": "python2"
  },
  "language_info": {
   "codemirror_mode": {
    "name": "ipython",
    "version": 2
   },
   "file_extension": ".py",
   "mimetype": "text/x-python",
   "name": "python",
   "nbconvert_exporter": "python",
   "pygments_lexer": "ipython2",
   "version": "2.7.15"
  }
 },
 "nbformat": 4,
 "nbformat_minor": 2
}
