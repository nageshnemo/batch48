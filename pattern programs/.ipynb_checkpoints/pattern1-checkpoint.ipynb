{
 "cells": [
  {
   "cell_type": "raw",
   "metadata": {},
   "source": [
    "*\n",
    "* *\n",
    "* * *\n",
    "* * * *\n",
    "* * * * * \n",
    "\n",
    "1. wap to print stars in right triangle shape\n"
   ]
  },
  {
   "cell_type": "code",
   "execution_count": 18,
   "metadata": {},
   "outputs": [
    {
     "name": "stdout",
     "output_type": "stream",
     "text": [
      "*         \n",
      "* *       \n",
      "* * *     \n",
      "* * * *   \n",
      "* * * * * \n"
     ]
    }
   ],
   "source": [
    "for i in range(5):\n",
    "    for j in range(5):\n",
    "        if i>=j:\n",
    "            print \"*\",\n",
    "        else:\n",
    "            print \" \",\n",
    "    print \"\""
   ]
  },
  {
   "cell_type": "code",
   "execution_count": 22,
   "metadata": {},
   "outputs": [
    {
     "name": "stdout",
     "output_type": "stream",
     "text": [
      "enter no of rows12\n",
      "enter no of couloumns12\n",
      "* * * * * * * * * * * * \n",
      "  * * * * * * * * * * * \n",
      "    * * * * * * * * * * \n",
      "      * * * * * * * * * \n",
      "        * * * * * * * * \n",
      "          * * * * * * * \n",
      "            * * * * * * \n",
      "              * * * * * \n",
      "                * * * * \n",
      "                  * * * \n",
      "                    * * \n",
      "                      * \n"
     ]
    }
   ],
   "source": [
    "row = int(raw_input(\"enter no of rows\"))\n",
    "col = int(raw_input(\"enter no of couloumns\"))\n",
    "\n",
    "for i in range(row):\n",
    "    for j in range(col):\n",
    "        if i<=j:\n",
    "            print \"*\",\n",
    "        else:\n",
    "            print \" \",\n",
    "    print \"\""
   ]
  },
  {
   "cell_type": "code",
   "execution_count": null,
   "metadata": {},
   "outputs": [],
   "source": []
  }
 ],
 "metadata": {
  "kernelspec": {
   "display_name": "Python 2",
   "language": "python",
   "name": "python2"
  },
  "language_info": {
   "codemirror_mode": {
    "name": "ipython",
    "version": 2
   },
   "file_extension": ".py",
   "mimetype": "text/x-python",
   "name": "python",
   "nbconvert_exporter": "python",
   "pygments_lexer": "ipython2",
   "version": "2.7.15"
  }
 },
 "nbformat": 4,
 "nbformat_minor": 2
}
