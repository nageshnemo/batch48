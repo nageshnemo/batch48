{
 "cells": [
  {
   "cell_type": "raw",
   "metadata": {},
   "source": [
    "*\n",
    "* * *\n",
    "* * * * *\n",
    "\n",
    "wap to implement this pattern"
   ]
  },
  {
   "cell_type": "code",
   "execution_count": 6,
   "metadata": {},
   "outputs": [
    {
     "name": "stdout",
     "output_type": "stream",
     "text": [
      "enter no of rows:3\n",
      "1 \n",
      "1 2 3 \n",
      "1 2 3 4 5 \n"
     ]
    }
   ],
   "source": [
    "num = int(raw_input(\"enter no of rows:\"))\n",
    "k = 1\n",
    "for i in range(1,num+1):\n",
    "    for j in range(1,k+1): #here we increment the value of k to 2 in each iteration \n",
    "        print j,\n",
    "    k+=2\n",
    "    print \"\"\n"
   ]
  },
  {
   "cell_type": "code",
   "execution_count": 9,
   "metadata": {},
   "outputs": [
    {
     "name": "stdout",
     "output_type": "stream",
     "text": [
      "enter no of rows:5\n",
      "* \n",
      "* * * \n",
      "* * * * * \n",
      "* * * * * * * \n",
      "* * * * * * * * * \n"
     ]
    }
   ],
   "source": [
    "num = int(raw_input(\"enter no of rows:\"))\n",
    "k = 1\n",
    "for i in range(1,num+1):\n",
    "    for j in range(1,k+1): #here we increment the value of k to 2 in each iteration \n",
    "        print \"*\",\n",
    "    k+=2\n",
    "    print \"\"\n"
   ]
  },
  {
   "cell_type": "code",
   "execution_count": 10,
   "metadata": {},
   "outputs": [
    {
     "name": "stdout",
     "output_type": "stream",
     "text": [
      "enter no of rows:8\n",
      "* \n",
      "* * * * * \n",
      "* * * * * * * * * \n",
      "* * * * * * * * * * * * * \n",
      "* * * * * * * * * * * * * * * * * \n",
      "* * * * * * * * * * * * * * * * * * * * * \n",
      "* * * * * * * * * * * * * * * * * * * * * * * * * \n",
      "* * * * * * * * * * * * * * * * * * * * * * * * * * * * * \n"
     ]
    }
   ],
   "source": [
    "num = int(raw_input(\"enter no of rows:\"))\n",
    "k = 1\n",
    "for i in range(1,num+1):\n",
    "    for j in range(1,k+1): #here we increment the value of k to 2 in each iteration \n",
    "        print \"*\",\n",
    "    k+=4\n",
    "    print \"\"\n"
   ]
  },
  {
   "cell_type": "code",
   "execution_count": null,
   "metadata": {},
   "outputs": [],
   "source": []
  }
 ],
 "metadata": {
  "kernelspec": {
   "display_name": "Python 2",
   "language": "python",
   "name": "python2"
  },
  "language_info": {
   "codemirror_mode": {
    "name": "ipython",
    "version": 2
   },
   "file_extension": ".py",
   "mimetype": "text/x-python",
   "name": "python",
   "nbconvert_exporter": "python",
   "pygments_lexer": "ipython2",
   "version": "2.7.15"
  }
 },
 "nbformat": 4,
 "nbformat_minor": 2
}
