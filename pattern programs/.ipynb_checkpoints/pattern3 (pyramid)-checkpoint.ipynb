{
 "cells": [
  {
   "cell_type": "raw",
   "metadata": {},
   "source": [
    "          * \n",
    "        *   *\n",
    "      *   *   * \n",
    "    *   *   *   *\n",
    "\n",
    "\n",
    "wap to implement this shape\n"
   ]
  },
  {
   "cell_type": "code",
   "execution_count": 1,
   "metadata": {},
   "outputs": [],
   "source": [
    "# what we have to do is to make some pattern and try to implement it through for loop \n",
    "# this is the way to implement some type of this in the future time and this is equal to those proportionals which are ready to be in the market\n"
   ]
  },
  {
   "cell_type": "code",
   "execution_count": null,
   "metadata": {},
   "outputs": [],
   "source": []
  }
 ],
 "metadata": {
  "kernelspec": {
   "display_name": "Python 2",
   "language": "python",
   "name": "python2"
  },
  "language_info": {
   "codemirror_mode": {
    "name": "ipython",
    "version": 2
   },
   "file_extension": ".py",
   "mimetype": "text/x-python",
   "name": "python",
   "nbconvert_exporter": "python",
   "pygments_lexer": "ipython2",
   "version": "2.7.15"
  }
 },
 "nbformat": 4,
 "nbformat_minor": 2
}
