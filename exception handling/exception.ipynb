{
 "cells": [
  {
   "cell_type": "code",
   "execution_count": 2,
   "metadata": {},
   "outputs": [
    {
     "name": "stdout",
     "output_type": "stream",
     "text": [
      "enter a value:23.5\n",
      "enter b value:567.6\n",
      "before conversion a=23.5 , b=567.6 \n"
     ]
    },
    {
     "ename": "ValueError",
     "evalue": "invalid literal for int() with base 10: '23.5'",
     "output_type": "error",
     "traceback": [
      "\u001b[1;31m---------------------------------------------------------------------------\u001b[0m",
      "\u001b[1;31mValueError\u001b[0m                                Traceback (most recent call last)",
      "\u001b[1;32m<ipython-input-2-f69674240314>\u001b[0m in \u001b[0;36m<module>\u001b[1;34m()\u001b[0m\n\u001b[0;32m      3\u001b[0m \u001b[1;33m\u001b[0m\u001b[0m\n\u001b[0;32m      4\u001b[0m \u001b[1;32mprint\u001b[0m \u001b[1;34m\"before conversion a=%s , b=%s \"\u001b[0m\u001b[1;33m%\u001b[0m\u001b[1;33m(\u001b[0m\u001b[0ma\u001b[0m\u001b[1;33m,\u001b[0m\u001b[0mb\u001b[0m\u001b[1;33m)\u001b[0m\u001b[1;33m\u001b[0m\u001b[0m\n\u001b[1;32m----> 5\u001b[1;33m \u001b[0ma\u001b[0m \u001b[1;33m=\u001b[0m \u001b[0mint\u001b[0m\u001b[1;33m(\u001b[0m\u001b[0ma\u001b[0m\u001b[1;33m)\u001b[0m\u001b[1;33m\u001b[0m\u001b[0m\n\u001b[0m\u001b[0;32m      6\u001b[0m \u001b[0mb\u001b[0m \u001b[1;33m=\u001b[0m \u001b[0mint\u001b[0m\u001b[1;33m(\u001b[0m\u001b[0mb\u001b[0m\u001b[1;33m)\u001b[0m\u001b[1;33m\u001b[0m\u001b[0m\n\u001b[0;32m      7\u001b[0m \u001b[1;32mprint\u001b[0m \u001b[1;34m\"after conversion a=%s , b=%s \"\u001b[0m\u001b[1;33m%\u001b[0m\u001b[1;33m(\u001b[0m\u001b[0ma\u001b[0m\u001b[1;33m,\u001b[0m\u001b[0mb\u001b[0m\u001b[1;33m)\u001b[0m\u001b[1;33m\u001b[0m\u001b[0m\n",
      "\u001b[1;31mValueError\u001b[0m: invalid literal for int() with base 10: '23.5'"
     ]
    }
   ],
   "source": [
    "a = raw_input(\"enter a value:\")\n",
    "b = raw_input(\"enter b value:\")\n",
    "\n",
    "print \"before conversion a=%s , b=%s \"%(a,b)\n",
    "a = int(a)\n",
    "b = int(b)\n",
    "print \"after conversion a=%s , b=%s \"%(a,b)\n",
    "res = a+b\n",
    "print \"result\",res\n",
    "print \"other statements in program\"\n",
    "print \"program ended\""
   ]
  },
  {
   "cell_type": "code",
   "execution_count": 3,
   "metadata": {},
   "outputs": [],
   "source": [
    "a = int(23.5)"
   ]
  },
  {
   "cell_type": "code",
   "execution_count": 4,
   "metadata": {},
   "outputs": [
    {
     "name": "stdout",
     "output_type": "stream",
     "text": [
      "23\n"
     ]
    }
   ],
   "source": [
    "print a"
   ]
  },
  {
   "cell_type": "code",
   "execution_count": 6,
   "metadata": {},
   "outputs": [],
   "source": [
    "# here we change the program for float exception"
   ]
  },
  {
   "cell_type": "code",
   "execution_count": 7,
   "metadata": {},
   "outputs": [
    {
     "name": "stdout",
     "output_type": "stream",
     "text": [
      "enter a value:23.6\n",
      "enter b value:45.7\n",
      "before conversion a=23.6 , b=45.7 \n",
      "after conversion a=23.6 , b=45.7 \n",
      "result 69.3\n",
      "other statements in program\n",
      "program ended\n"
     ]
    }
   ],
   "source": [
    "a = raw_input(\"enter a value:\")\n",
    "b = raw_input(\"enter b value:\")\n",
    "\n",
    "print \"before conversion a=%s , b=%s \"%(a,b)\n",
    "a = float(a)\n",
    "b = float(b)\n",
    "print \"after conversion a=%s , b=%s \"%(a,b)\n",
    "res = a+b\n",
    "print \"result\",res\n",
    "print \"other statements in program\"\n",
    "print \"program ended\""
   ]
  },
  {
   "cell_type": "code",
   "execution_count": 8,
   "metadata": {},
   "outputs": [
    {
     "name": "stdout",
     "output_type": "stream",
     "text": [
      "enter a value:3\n",
      "enter b value:5\n",
      "before conversion a=3 , b=5 \n",
      "after conversion a=3.0 , b=5.0 \n",
      "result 8.0\n",
      "other statements in program\n",
      "program ended\n"
     ]
    }
   ],
   "source": [
    "a = raw_input(\"enter a value:\")\n",
    "b = raw_input(\"enter b value:\")\n",
    "\n",
    "print \"before conversion a=%s , b=%s \"%(a,b)\n",
    "a = float(a)\n",
    "b = float(b)\n",
    "print \"after conversion a=%s , b=%s \"%(a,b)\n",
    "res = a+b\n",
    "print \"result\",res\n",
    "print \"other statements in program\"\n",
    "print \"program ended\""
   ]
  },
  {
   "cell_type": "code",
   "execution_count": null,
   "metadata": {},
   "outputs": [],
   "source": [
    "a = raw_input(\"enter a value:\")\n",
    "b = raw_input(\"enter b value:\")\n",
    "\n",
    "print \"before conversion a=%s , b=%s \"%(a,b)\n",
    "a = float(a)\n",
    "b = float(b)\n",
    "print \"after conversion a=%s , b=%s \"%(a,b)\n",
    "res = a+b\n",
    "print \"result\",res\n",
    "print \"other statements in program\"\n",
    "print \"program ended\""
   ]
  },
  {
   "cell_type": "code",
   "execution_count": 3,
   "metadata": {},
   "outputs": [
    {
     "name": "stdout",
     "output_type": "stream",
     "text": [
      "enter a value:2+4j\n",
      "enter b value:3+65j\n",
      "before conversion a=2+4j , b=3+65j \n"
     ]
    },
    {
     "ename": "ValueError",
     "evalue": "invalid literal for float(): 2+4j",
     "output_type": "error",
     "traceback": [
      "\u001b[1;31m---------------------------------------------------------------------------\u001b[0m",
      "\u001b[1;31mValueError\u001b[0m                                Traceback (most recent call last)",
      "\u001b[1;32m<ipython-input-3-123eca6923b8>\u001b[0m in \u001b[0;36m<module>\u001b[1;34m()\u001b[0m\n\u001b[0;32m      3\u001b[0m \u001b[1;33m\u001b[0m\u001b[0m\n\u001b[0;32m      4\u001b[0m \u001b[1;32mprint\u001b[0m \u001b[1;34m\"before conversion a=%s , b=%s \"\u001b[0m\u001b[1;33m%\u001b[0m\u001b[1;33m(\u001b[0m\u001b[0ma\u001b[0m\u001b[1;33m,\u001b[0m\u001b[0mb\u001b[0m\u001b[1;33m)\u001b[0m\u001b[1;33m\u001b[0m\u001b[0m\n\u001b[1;32m----> 5\u001b[1;33m \u001b[0ma\u001b[0m \u001b[1;33m=\u001b[0m \u001b[0mfloat\u001b[0m\u001b[1;33m(\u001b[0m\u001b[0ma\u001b[0m\u001b[1;33m)\u001b[0m\u001b[1;33m\u001b[0m\u001b[0m\n\u001b[0m\u001b[0;32m      6\u001b[0m \u001b[0mb\u001b[0m \u001b[1;33m=\u001b[0m \u001b[0mfloat\u001b[0m\u001b[1;33m(\u001b[0m\u001b[0mb\u001b[0m\u001b[1;33m)\u001b[0m\u001b[1;33m\u001b[0m\u001b[0m\n\u001b[0;32m      7\u001b[0m \u001b[1;32mprint\u001b[0m \u001b[1;34m\"after conversion a=%s , b=%s \"\u001b[0m\u001b[1;33m%\u001b[0m\u001b[1;33m(\u001b[0m\u001b[0ma\u001b[0m\u001b[1;33m,\u001b[0m\u001b[0mb\u001b[0m\u001b[1;33m)\u001b[0m\u001b[1;33m\u001b[0m\u001b[0m\n",
      "\u001b[1;31mValueError\u001b[0m: invalid literal for float(): 2+4j"
     ]
    }
   ],
   "source": [
    "a = raw_input(\"enter a value:\")\n",
    "b = raw_input(\"enter b value:\")\n",
    "\n",
    "print \"before conversion a=%s , b=%s \"%(a,b)\n",
    "a = float(a)\n",
    "b = float(b)\n",
    "print \"after conversion a=%s , b=%s \"%(a,b)\n",
    "res = a+b\n",
    "print \"result\",res\n",
    "print \"other statements in program\"\n",
    "print \"program ended\""
   ]
  },
  {
   "cell_type": "code",
   "execution_count": 4,
   "metadata": {},
   "outputs": [
    {
     "name": "stdout",
     "output_type": "stream",
     "text": [
      "enter a value:121\n",
      "enter b value:0\n",
      "before conversion a=121 , b=0 \n",
      "after conversion a=121.0 , b=0.0 \n"
     ]
    },
    {
     "ename": "ZeroDivisionError",
     "evalue": "float division by zero",
     "output_type": "error",
     "traceback": [
      "\u001b[1;31m---------------------------------------------------------------------------\u001b[0m",
      "\u001b[1;31mZeroDivisionError\u001b[0m                         Traceback (most recent call last)",
      "\u001b[1;32m<ipython-input-4-243de3683f3f>\u001b[0m in \u001b[0;36m<module>\u001b[1;34m()\u001b[0m\n\u001b[0;32m      6\u001b[0m \u001b[0mb\u001b[0m \u001b[1;33m=\u001b[0m \u001b[0mfloat\u001b[0m\u001b[1;33m(\u001b[0m\u001b[0mb\u001b[0m\u001b[1;33m)\u001b[0m\u001b[1;33m\u001b[0m\u001b[0m\n\u001b[0;32m      7\u001b[0m \u001b[1;32mprint\u001b[0m \u001b[1;34m\"after conversion a=%s , b=%s \"\u001b[0m\u001b[1;33m%\u001b[0m\u001b[1;33m(\u001b[0m\u001b[0ma\u001b[0m\u001b[1;33m,\u001b[0m\u001b[0mb\u001b[0m\u001b[1;33m)\u001b[0m\u001b[1;33m\u001b[0m\u001b[0m\n\u001b[1;32m----> 8\u001b[1;33m \u001b[0mres\u001b[0m \u001b[1;33m=\u001b[0m \u001b[0ma\u001b[0m\u001b[1;33m/\u001b[0m\u001b[0mb\u001b[0m\u001b[1;33m\u001b[0m\u001b[0m\n\u001b[0m\u001b[0;32m      9\u001b[0m \u001b[1;32mprint\u001b[0m \u001b[1;34m\"result\"\u001b[0m\u001b[1;33m,\u001b[0m\u001b[0mres\u001b[0m\u001b[1;33m\u001b[0m\u001b[0m\n\u001b[0;32m     10\u001b[0m \u001b[1;32mprint\u001b[0m \u001b[1;34m\"other statements in program\"\u001b[0m\u001b[1;33m\u001b[0m\u001b[0m\n",
      "\u001b[1;31mZeroDivisionError\u001b[0m: float division by zero"
     ]
    }
   ],
   "source": [
    "a = raw_input(\"enter a value:\")\n",
    "b = raw_input(\"enter b value:\")\n",
    "\n",
    "print \"before conversion a=%s , b=%s \"%(a,b)\n",
    "a = float(a)\n",
    "b = float(b)\n",
    "print \"after conversion a=%s , b=%s \"%(a,b)\n",
    "res = a/b\n",
    "print \"result\",res\n",
    "print \"other statements in program\"\n",
    "print \"program ended\""
   ]
  },
  {
   "cell_type": "code",
   "execution_count": 5,
   "metadata": {},
   "outputs": [],
   "source": [
    "# here we get zero"
   ]
  },
  {
   "cell_type": "code",
   "execution_count": 6,
   "metadata": {},
   "outputs": [
    {
     "name": "stdout",
     "output_type": "stream",
     "text": [
      "enter a value:23\n",
      "enter b value:0\n",
      "before conversion a=23 , b=0 \n",
      "after conversion a=23.0 , b=0.0 \n",
      "something went wrong\n"
     ]
    }
   ],
   "source": [
    "\n",
    "try:\n",
    "    a = raw_input(\"enter a value:\")\n",
    "    b = raw_input(\"enter b value:\")\n",
    "\n",
    "    print \"before conversion a=%s , b=%s \"%(a,b)\n",
    "    a = float(a)\n",
    "    b = float(b)\n",
    "    print \"after conversion a=%s , b=%s \"%(a,b)\n",
    "    res = a/b\n",
    "    print \"result\",res\n",
    "    print \"other statements in program\"\n",
    "    print \"program ended\"\n",
    "except:\n",
    "    print \"something went wrong\""
   ]
  },
  {
   "cell_type": "code",
   "execution_count": 8,
   "metadata": {},
   "outputs": [
    {
     "name": "stdout",
     "output_type": "stream",
     "text": [
      "enter a value:12\n",
      "enter b value:0\n",
      "before conversion a=12 , b=0 \n",
      "after conversion a=12.0 , b=0.0 \n",
      "something went wrong :error float division by zero\n"
     ]
    }
   ],
   "source": [
    "\n",
    "try:\n",
    "    a = raw_input(\"enter a value:\")\n",
    "    b = raw_input(\"enter b value:\")\n",
    "\n",
    "    print \"before conversion a=%s , b=%s \"%(a,b)\n",
    "    a = float(a)\n",
    "    b = float(b)\n",
    "    print \"after conversion a=%s , b=%s \"%(a,b)\n",
    "    res = a/b\n",
    "    print \"result\",res\n",
    "    print \"other statements in program\"\n",
    "    print \"program ended\"\n",
    "except Exception as err:\n",
    "    print \"something went wrong :error %s\"%err"
   ]
  },
  {
   "cell_type": "code",
   "execution_count": 9,
   "metadata": {},
   "outputs": [
    {
     "name": "stdout",
     "output_type": "stream",
     "text": [
      "enter a value:1+2j\n",
      "enter b value:4\n",
      "before conversion a=1+2j , b=4 \n",
      "something went wrong :error invalid literal for float(): 1+2j\n"
     ]
    }
   ],
   "source": [
    "\n",
    "try:\n",
    "    a = raw_input(\"enter a value:\")\n",
    "    b = raw_input(\"enter b value:\")\n",
    "\n",
    "    print \"before conversion a=%s , b=%s \"%(a,b)\n",
    "    a = float(a)\n",
    "    b = float(b)\n",
    "    print \"after conversion a=%s , b=%s \"%(a,b)\n",
    "    res = a/b\n",
    "    print \"result\",res\n",
    "    print \"other statements in program\"\n",
    "    print \"program ended\"\n",
    "except Exception as err:\n",
    "    print \"something went wrong :error %s\"%err"
   ]
  },
  {
   "cell_type": "code",
   "execution_count": 14,
   "metadata": {},
   "outputs": [
    {
     "ename": "SyntaxError",
     "evalue": "invalid syntax (<ipython-input-14-70c16b716ebc>, line 16)",
     "output_type": "error",
     "traceback": [
      "\u001b[1;36m  File \u001b[1;32m\"<ipython-input-14-70c16b716ebc>\"\u001b[1;36m, line \u001b[1;32m16\u001b[0m\n\u001b[1;33m    print(\" \")\u001b[0m\n\u001b[1;37m        ^\u001b[0m\n\u001b[1;31mSyntaxError\u001b[0m\u001b[1;31m:\u001b[0m invalid syntax\n"
     ]
    }
   ],
   "source": [
    "\n",
    "try:\n",
    "    a = raw_input(\"enter a value:\")\n",
    "    b = raw_input(\"enter b value:\")\n",
    "\n",
    "    print \"before conversion a=%s , b=%s \"%(a,b)\n",
    "    a = float(a)\n",
    "    b = float(b)\n",
    "    print \"after conversion a=%s , b=%s \"%(a,b)\n",
    "    res = a/b\n",
    "    print \"result\",res\n",
    "    print \"other statements in program\"\n",
    "    print \"program ended\"\n",
    "    \n",
    "    \n",
    "\n",
    "    \n",
    "except ZeroDivisionError as err:\n",
    "    print \"should not enter zero for b\"\n",
    "    print err\n",
    "        \n",
    "except Exception as err:\n",
    "    print \"something went wrong :error %s\"%err"
   ]
  },
  {
   "cell_type": "code",
   "execution_count": null,
   "metadata": {},
   "outputs": [],
   "source": []
  }
 ],
 "metadata": {
  "kernelspec": {
   "display_name": "Python 2",
   "language": "python",
   "name": "python2"
  },
  "language_info": {
   "codemirror_mode": {
    "name": "ipython",
    "version": 2
   },
   "file_extension": ".py",
   "mimetype": "text/x-python",
   "name": "python",
   "nbconvert_exporter": "python",
   "pygments_lexer": "ipython2",
   "version": "2.7.15"
  }
 },
 "nbformat": 4,
 "nbformat_minor": 2
}
