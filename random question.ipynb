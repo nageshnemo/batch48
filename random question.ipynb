{
 "cells": [
  {
   "cell_type": "code",
   "execution_count": 31,
   "metadata": {},
   "outputs": [
    {
     "name": "stdout",
     "output_type": "stream",
     "text": [
      "enter first wordhow\n",
      "enter second wordare\n",
      "enter third  wordyou\n",
      "h$wa#eYOU\n"
     ]
    }
   ],
   "source": [
    "# input -- how are you                      output ====   h$wa#eYou\n",
    "\n",
    "input1 = raw_input(\"enter first word\")\n",
    "input2 = raw_input(\"enter second word\")\n",
    "input3 = raw_input(\"enter third  word\")\n",
    "\n",
    "output1 = \"\"\n",
    "output2 = \"\"\n",
    "output3 = \"\"\n",
    "for i in input1:\n",
    "    if i == \"a\" or i == \"e\" or i ==\"i\" or i ==\"o\" or i ==\"u\":\n",
    "        output1 += \"$\"\n",
    "    else:\n",
    "        output1+= i\n",
    "        \n",
    "for i in input2:\n",
    "    if i == \"a\" or i == \"e\" or i ==\"i\" or i ==\"o\" or i ==\"u\":\n",
    "        output2 += i\n",
    "    else:\n",
    "        output2+= \"#\"\n",
    "        \n",
    "output3 = input3.upper()        \n",
    "\n",
    "\n",
    "print output1 + output2 + output3  \n",
    " \n"
   ]
  },
  {
   "cell_type": "code",
   "execution_count": null,
   "metadata": {},
   "outputs": [],
   "source": []
  }
 ],
 "metadata": {
  "kernelspec": {
   "display_name": "Python 2",
   "language": "python",
   "name": "python2"
  },
  "language_info": {
   "codemirror_mode": {
    "name": "ipython",
    "version": 2
   },
   "file_extension": ".py",
   "mimetype": "text/x-python",
   "name": "python",
   "nbconvert_exporter": "python",
   "pygments_lexer": "ipython2",
   "version": "2.7.15"
  }
 },
 "nbformat": 4,
 "nbformat_minor": 2
}
