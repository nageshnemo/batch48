{
 "cells": [
  {
   "cell_type": "code",
   "execution_count": 16,
   "metadata": {},
   "outputs": [
    {
     "name": "stdout",
     "output_type": "stream",
     "text": [
      "enter a number12\n",
      "[1, 2, 1, 3, 2, 5, 3, 7, 5, 11, 8, 13]\n",
      "enter the choice5\n",
      "2\n"
     ]
    }
   ],
   "source": [
    "\"\"\"\n",
    "consider  the folowing series\n",
    "1,2,1,3,2,5,3,7,5,11,8,13,17\n",
    "\n",
    "\n",
    "this is the mixed series of prime nos and fibonacci nos  in which on even place the prime nos was there and on odd places there \n",
    "was fibonacci nos\n",
    "after making the series a no is inputtted through stdin and and that place the no which is present is given to output\n",
    "\n",
    "\"\"\"\n",
    "\n",
    "\n",
    "\n",
    "n = int(raw_input(\"enter a number\"))\n",
    "l = [0,1]\n",
    "start =2\n",
    "for i in range(2,n+1):\n",
    "    if i % 2 == 0:\n",
    "\n",
    "        while start >= 1:\n",
    "            count = 0\n",
    "            for y in range(1,start+1,1):      \n",
    "                if start % y == 0:\n",
    "                    count+=1\n",
    "                                    \n",
    "            if count ==2:\n",
    "                l.append(start)\n",
    "                start +=1\n",
    "                break\n",
    "            else:\n",
    "                start+=1\n",
    "    else:\n",
    "        if i == 3:\n",
    "            l.append(l[0] + l[1])\n",
    "        else:\n",
    "            l.append(l[i-2]+l[i-4])\n",
    "        \n",
    "print l[1:]\n",
    "\n",
    "\n",
    "choice = int(raw_input(\"enter the choice\"))\n",
    "\n",
    "print l[choice]"
   ]
  },
  {
   "cell_type": "code",
   "execution_count": null,
   "metadata": {},
   "outputs": [],
   "source": []
  },
  {
   "cell_type": "code",
   "execution_count": null,
   "metadata": {},
   "outputs": [],
   "source": []
  },
  {
   "cell_type": "code",
   "execution_count": null,
   "metadata": {},
   "outputs": [],
   "source": []
  },
  {
   "cell_type": "code",
   "execution_count": 17,
   "metadata": {},
   "outputs": [
    {
     "name": "stdout",
     "output_type": "stream",
     "text": [
      "enter a string to reverse  golu is bhut bara chutiya\n",
      "chutiya bara bhut is golu\n"
     ]
    }
   ],
   "source": [
    "#reverse a string \n",
    "\n",
    "\"\"\"\n",
    "example input == ram is a good boy \n",
    "        output == boy good a is ram\n",
    "        \n",
    "\n",
    "\n",
    "\"\"\"\n",
    "#tcs ninja question 2018\n",
    "\n",
    "s = raw_input(\"enter a string to reverse  \")\n",
    "s1 = s.split(\" \")\n",
    "s2 = \" \".join(s1[::-1])\n",
    "print s2\n",
    "\n",
    "\n",
    "\n",
    "\n",
    "\n",
    "\n",
    "\n"
   ]
  },
  {
   "cell_type": "code",
   "execution_count": null,
   "metadata": {},
   "outputs": [],
   "source": []
  },
  {
   "cell_type": "code",
   "execution_count": null,
   "metadata": {},
   "outputs": [],
   "source": []
  }
 ],
 "metadata": {
  "kernelspec": {
   "display_name": "Python 2",
   "language": "python",
   "name": "python2"
  },
  "language_info": {
   "codemirror_mode": {
    "name": "ipython",
    "version": 2
   },
   "file_extension": ".py",
   "mimetype": "text/x-python",
   "name": "python",
   "nbconvert_exporter": "python",
   "pygments_lexer": "ipython2",
   "version": "2.7.15"
  }
 },
 "nbformat": 4,
 "nbformat_minor": 2
}
