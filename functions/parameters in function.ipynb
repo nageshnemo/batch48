{
 "cells": [
  {
   "cell_type": "code",
   "execution_count": 6,
   "metadata": {},
   "outputs": [
    {
     "name": "stdout",
     "output_type": "stream",
     "text": [
      "the square of a number is  4\n",
      "the square of a number is  256\n",
      "the square of a number is  4\n",
      "the square of a number is  14884\n"
     ]
    }
   ],
   "source": [
    "def square(number):\n",
    "    return (number ** 2)\n",
    "\n",
    "\n",
    "\n",
    "print \"the square of a number is \",square(2)\n",
    "print \"the square of a number is \",square(16)\n",
    "print \"the square of a number is \",square(2)\n",
    "print \"the square of a number is \",square(122)"
   ]
  },
  {
   "cell_type": "code",
   "execution_count": 14,
   "metadata": {},
   "outputs": [
    {
     "name": "stdout",
     "output_type": "stream",
     "text": [
      "happy bday nagesh\n",
      "enjoy yr bday dear\n"
     ]
    }
   ],
   "source": [
    "def happy_birthday(name):\n",
    "    print 'happy bday {}'.format(name)\n",
    "    print \"enjoy yr bday dear\"\n",
    "\n",
    "    \n",
    "    \n",
    "happy_birthday(\"nagesh\")"
   ]
  },
  {
   "cell_type": "code",
   "execution_count": null,
   "metadata": {},
   "outputs": [],
   "source": []
  },
  {
   "cell_type": "code",
   "execution_count": null,
   "metadata": {},
   "outputs": [],
   "source": []
  }
 ],
 "metadata": {
  "kernelspec": {
   "display_name": "Python 2",
   "language": "python",
   "name": "python2"
  },
  "language_info": {
   "codemirror_mode": {
    "name": "ipython",
    "version": 2
   },
   "file_extension": ".py",
   "mimetype": "text/x-python",
   "name": "python",
   "nbconvert_exporter": "python",
   "pygments_lexer": "ipython2",
   "version": "2.7.15"
  }
 },
 "nbformat": 4,
 "nbformat_minor": 2
}
