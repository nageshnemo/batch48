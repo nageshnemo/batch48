{
 "cells": [
  {
   "cell_type": "code",
   "execution_count": 2,
   "metadata": {},
   "outputs": [
    {
     "name": "stdout",
     "output_type": "stream",
     "text": [
      "animalay\n",
      "lovegay\n",
      "ananabay\n",
      "appleay\n"
     ]
    }
   ],
   "source": [
    "#  basically a pig-latin translator is\n",
    "'''\n",
    "if a word starts with vowel add \"ay\" to end \n",
    "\n",
    "and if a word not start with vowel then put first word into last and then add \"ay\" to last\n",
    "\n",
    "\n",
    "AUTHOR === \n",
    "            NAGESH KUMAR SINGH\n",
    "        \n",
    "'''\n",
    "\n",
    "\n",
    "\n",
    "\n",
    "def pig_word(word):\n",
    "    \n",
    "    \n",
    "    first_letter = word[0]\n",
    "    \n",
    "    #check that first letter is vowel or not\n",
    "    \n",
    "    if first_letter in 'aeiou':\n",
    "        pig_word = word + 'ay'\n",
    "        \n",
    "    else:\n",
    "        pig_word = word[1:] + first_letter + \"ay\"\n",
    "        #if the first word is not vowel\n",
    "        \n",
    "    print pig_word \n",
    "    \n",
    "    \n",
    "pig_word(\"animal\")\n",
    "pig_word(\"glove\")\n",
    "pig_word(\"banana\")\n",
    "pig_word(\"apple\")"
   ]
  },
  {
   "cell_type": "code",
   "execution_count": null,
   "metadata": {},
   "outputs": [],
   "source": []
  }
 ],
 "metadata": {
  "kernelspec": {
   "display_name": "Python 2",
   "language": "python",
   "name": "python2"
  },
  "language_info": {
   "codemirror_mode": {
    "name": "ipython",
    "version": 2
   },
   "file_extension": ".py",
   "mimetype": "text/x-python",
   "name": "python",
   "nbconvert_exporter": "python",
   "pygments_lexer": "ipython2",
   "version": "2.7.15"
  }
 },
 "nbformat": 4,
 "nbformat_minor": 2
}
