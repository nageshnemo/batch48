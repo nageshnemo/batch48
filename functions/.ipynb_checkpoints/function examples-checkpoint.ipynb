{
 "cells": [
  {
   "cell_type": "code",
   "execution_count": 1,
   "metadata": {},
   "outputs": [
    {
     "name": "stdout",
     "output_type": "stream",
     "text": [
      "program started\n",
      "other statements in function\n",
      "other statements in program\n",
      "program ended\n"
     ]
    }
   ],
   "source": [
    "print \"program started\"\n",
    "\n",
    "def fun(): #def is a keyword which is used to \n",
    "    print \"this is st1 in fun\"\n",
    "    print \"this is st2 in fun\"   #this will not run until we not call the functions\n",
    "    print \"this is st3 in fun\"\n",
    "    print \"this is st4 in fun\"\n",
    "    print \"this is st5 in fun\"\n",
    "    print \"this is st6 in fun\"\n",
    "print \"other statements in function\"\n",
    "\n",
    "print \"other statements in program\"\n",
    "print \"program ended\""
   ]
  },
  {
   "cell_type": "code",
   "execution_count": 1,
   "metadata": {},
   "outputs": [
    {
     "name": "stdout",
     "output_type": "stream",
     "text": [
      "program started\n",
      "other statements in function\n",
      "this is st1 in fun\n",
      "this is st2 in fun\n",
      "this is st3 in fun\n",
      "this is st4 in fun\n",
      "this is st5 in fun\n",
      "this is st6 in fun\n",
      "other statements in program\n",
      "program ended\n"
     ]
    }
   ],
   "source": [
    "print \"program started\"\n",
    "\n",
    "def fun(): #def is a keyword which is signature of function\n",
    "    print \"this is st1 in fun\"\n",
    "    print \"this is st2 in fun\"   #this will not run until we not call the functions\n",
    "    print \"this is st3 in fun\"\n",
    "    print \"this is st4 in fun\"\n",
    "    print \"this is st5 in fun\"\n",
    "    print \"this is st6 in fun\"\n",
    "print \"other statements in function\"\n",
    "fun()\n",
    "print \"other statements in program\"\n",
    "print \"program ended\""
   ]
  },
  {
   "cell_type": "code",
   "execution_count": 5,
   "metadata": {},
   "outputs": [
    {
     "name": "stdout",
     "output_type": "stream",
     "text": [
      "program started\n",
      "other statements in function\n",
      "other statements in program\n",
      "program ended\n"
     ]
    }
   ],
   "source": [
    "print \"program started\"\n",
    "\n",
    "def fun(): #def is a keyword which is signature of function\n",
    "    print 1/0\n",
    "    print \"this is st1 in fun\"\n",
    "    print \"this is st2 in fun\"   #this will not run until we not call the functions\n",
    "    print \"this is st3 in fun\"\n",
    "    print \"this is st4 in fun\"\n",
    "    print \"this is st5 in fun\"\n",
    "    print \"this is st6 in fun\"\n",
    "print \"other statements in function\"\n",
    "\n",
    "print \"other statements in program\"\n",
    "print \"program ended\""
   ]
  },
  {
   "cell_type": "code",
   "execution_count": 4,
   "metadata": {},
   "outputs": [
    {
     "name": "stdout",
     "output_type": "stream",
     "text": [
      "program started\n",
      "other statements in function\n",
      "this is st1 in fun\n",
      "this is st2 in fun\n",
      "this is st3 in fun\n",
      "this is st4 in fun\n",
      "this is st5 in fun\n",
      "this is st6 in fun\n",
      "other statements in program\n",
      "program ended\n",
      "this is st1 in fun\n",
      "this is st2 in fun\n",
      "this is st3 in fun\n",
      "this is st4 in fun\n",
      "this is st5 in fun\n",
      "this is st6 in fun\n"
     ]
    }
   ],
   "source": [
    "print \"program started\"\n",
    "\n",
    "def fun(): #def is a keyword which is signature of function\n",
    "    print \"this is st1 in fun\"\n",
    "    print \"this is st2 in fun\"   #this will not run until we not call the functions\n",
    "    print \"this is st3 in fun\"\n",
    "    print \"this is st4 in fun\"\n",
    "    print \"this is st5 in fun\"\n",
    "    print \"this is st6 in fun\"\n",
    "print \"other statements in function\"\n",
    "fun()\n",
    "print \"other statements in program\"\n",
    "print \"program ended\"\n",
    "\n",
    "\n",
    "\n",
    "\n",
    "fun()"
   ]
  },
  {
   "cell_type": "code",
   "execution_count": 8,
   "metadata": {},
   "outputs": [
    {
     "name": "stdout",
     "output_type": "stream",
     "text": [
      "this is st1 in fun\n",
      "this is st2 in fun\n",
      "0\n",
      "1\n"
     ]
    }
   ],
   "source": [
    "\n",
    "#code reusablity of function\n",
    "def fun(): #def is a keyword which is signature of function\n",
    "    print \"this is st1 in fun\"\n",
    "    print \"this is st2 in fun\"   #this will not run until we not call the functions\n",
    "fun()    \n",
    "\n",
    "\n",
    "#code reusablity of looping statements   \n",
    "for i in range(2):\n",
    "    print i"
   ]
  },
  {
   "cell_type": "code",
   "execution_count": 9,
   "metadata": {},
   "outputs": [
    {
     "name": "stdout",
     "output_type": "stream",
     "text": [
      "program started\n",
      "statement after fun def\n",
      "this is fun\n",
      "program ended\n"
     ]
    }
   ],
   "source": [
    "print\"program started\"\n",
    "\n",
    "def fun():                   # function  body\n",
    "    print \"this is fun\"\n",
    "    \n",
    "print \"statement after fun def\"\n",
    "\n",
    "fun()     # function calling\n",
    "\n",
    "print \"program ended\"\n"
   ]
  },
  {
   "cell_type": "code",
   "execution_count": 10,
   "metadata": {},
   "outputs": [
    {
     "name": "stdout",
     "output_type": "stream",
     "text": [
      "program started\n",
      "statement after fun def\n"
     ]
    },
    {
     "ename": "TypeError",
     "evalue": "fun() takes exactly 2 arguments (0 given)",
     "output_type": "error",
     "traceback": [
      "\u001b[1;31m---------------------------------------------------------------------------\u001b[0m",
      "\u001b[1;31mTypeError\u001b[0m                                 Traceback (most recent call last)",
      "\u001b[1;32m<ipython-input-10-f6b359eb0ea4>\u001b[0m in \u001b[0;36m<module>\u001b[1;34m()\u001b[0m\n\u001b[0;32m      6\u001b[0m \u001b[1;32mprint\u001b[0m \u001b[1;34m\"statement after fun def\"\u001b[0m\u001b[1;33m\u001b[0m\u001b[0m\n\u001b[0;32m      7\u001b[0m \u001b[1;33m\u001b[0m\u001b[0m\n\u001b[1;32m----> 8\u001b[1;33m \u001b[0mfun\u001b[0m\u001b[1;33m(\u001b[0m\u001b[1;33m)\u001b[0m     \u001b[1;31m# function calling\u001b[0m\u001b[1;33m\u001b[0m\u001b[0m\n\u001b[0m\u001b[0;32m      9\u001b[0m \u001b[1;33m\u001b[0m\u001b[0m\n\u001b[0;32m     10\u001b[0m \u001b[1;32mprint\u001b[0m \u001b[1;34m\"program ended\"\u001b[0m\u001b[1;33m\u001b[0m\u001b[0m\n",
      "\u001b[1;31mTypeError\u001b[0m: fun() takes exactly 2 arguments (0 given)"
     ]
    }
   ],
   "source": [
    "print\"program started\"\n",
    "\n",
    "def fun(a,b):                   # function  body\n",
    "    print \"this is fun\"\n",
    "    \n",
    "print \"statement after fun def\"\n",
    "\n",
    "fun()     # function calling\n",
    "\n",
    "print \"program ended\"\n"
   ]
  },
  {
   "cell_type": "code",
   "execution_count": 11,
   "metadata": {},
   "outputs": [],
   "source": [
    "# fun expecting 2 inputs and we are not passing"
   ]
  },
  {
   "cell_type": "code",
   "execution_count": 14,
   "metadata": {},
   "outputs": [
    {
     "name": "stdout",
     "output_type": "stream",
     "text": [
      "program started\n",
      "statement after fun def\n",
      "this is fun\n",
      "program ended\n"
     ]
    }
   ],
   "source": [
    "print\"program started\"\n",
    "\n",
    "def fun(a,b):                   # function  body\n",
    "    print \"this is fun\"\n",
    "    \n",
    "print \"statement after fun def\"\n",
    "\n",
    "fun(10,4)     # function calling (10,20 is the arguments given to that funtion)\n",
    "\n",
    "print \"program ended\"\n",
    "\n"
   ]
  },
  {
   "cell_type": "code",
   "execution_count": 15,
   "metadata": {},
   "outputs": [
    {
     "name": "stdout",
     "output_type": "stream",
     "text": [
      "program started\n",
      "statement after fun def\n",
      "this is fun\n",
      "a is 10 b is 4\n",
      "a +b : 14\n",
      "a -b : 6\n",
      "a *b : 40\n",
      "a /b : 2\n",
      "a %b : 2\n",
      "program ended\n"
     ]
    }
   ],
   "source": [
    "print\"program started\"\n",
    "\n",
    "def fun(a,b):                   # function  body\n",
    "    print \"this is fun\"\n",
    "    print \"a is\",a,\"b is\",b\n",
    "    print \"a +b :\",a+b\n",
    "    print \"a -b :\",a-b\n",
    "    print \"a *b :\",a*b\n",
    "    print \"a /b :\",a/b\n",
    "    print \"a %b :\",a%b\n",
    "print \"statement after fun def\"\n",
    "\n",
    "fun(10,4)     # function calling (10,20 is the arguments given to that funtion)\n",
    "\n",
    "print \"program ended\"\n"
   ]
  },
  {
   "cell_type": "code",
   "execution_count": 16,
   "metadata": {},
   "outputs": [
    {
     "name": "stdout",
     "output_type": "stream",
     "text": [
      "program started\n",
      "statement after fun def\n",
      "this is fun\n",
      "a is 10 b is 56\n",
      "a +b : 66\n",
      "a -b : -46\n",
      "a *b : 560\n",
      "a /b : 0\n",
      "a %b : 10\n",
      "this is fun\n",
      "a is 200 b is 4\n",
      "a +b : 204\n",
      "a -b : 196\n",
      "a *b : 800\n",
      "a /b : 50\n",
      "a %b : 0\n",
      "this is fun\n",
      "a is 1000 b is 4\n",
      "a +b : 1004\n",
      "a -b : 996\n",
      "a *b : 4000\n",
      "a /b : 250\n",
      "a %b : 0\n",
      "this is fun\n",
      "a is 234 b is 678\n",
      "a +b : 912\n",
      "a -b : -444\n",
      "a *b : 158652\n",
      "a /b : 0\n",
      "a %b : 234\n",
      "program ended\n"
     ]
    }
   ],
   "source": [
    "print\"program started\"\n",
    "\n",
    "def fun(a,b):                   # function  body\n",
    "    print \"this is fun\"\n",
    "    print \"a is\",a,\"b is\",b\n",
    "    print \"a +b :\",a+b\n",
    "    print \"a -b :\",a-b\n",
    "    print \"a *b :\",a*b\n",
    "    print \"a /b :\",a/b\n",
    "    print \"a %b :\",a%b\n",
    "print \"statement after fun def\"\n",
    "\n",
    "fun(10,56) # function calling (10,20 is the arguments given to that funtion)\n",
    "fun(200,4) \n",
    "fun(1000,4) \n",
    "fun(234,678) \n",
    "print \"program ended\"\n"
   ]
  },
  {
   "cell_type": "code",
   "execution_count": 18,
   "metadata": {},
   "outputs": [
    {
     "name": "stdout",
     "output_type": "stream",
     "text": [
      "program started\n",
      "enter value of a234\n",
      "enter value of b567\n",
      "statement after fun def\n",
      "*****\n",
      "this is fun\n",
      "a is 234 b is 567\n",
      "a +b : 801\n",
      "a -b : -333\n",
      "a *b : 132678\n",
      "a /b : 0\n",
      "a %b : 234\n",
      "program ended\n"
     ]
    }
   ],
   "source": [
    "print\"program started\"\n",
    "a = int(raw_input(\"enter value of a\"))\n",
    "b = int(raw_input(\"enter value of b\"))\n",
    "def fun(a,b):     \n",
    "    print\"*\" * 5                      # function  body\n",
    "    print \"this is fun\"\n",
    "    print \"a is\",a,\"b is\",b\n",
    "    print \"a +b :\",a+b\n",
    "    print \"a -b :\",a-b\n",
    "    print \"a *b :\",a*b\n",
    "    print \"a /b :\",a/b\n",
    "    print \"a %b :\",a%b\n",
    "print \"statement after fun def\"\n",
    "\n",
    "fun(a,b) # function calling (10,20 is the arguments given to that funtion)\n",
    "\n",
    "print \"program ended\"\n"
   ]
  },
  {
   "cell_type": "code",
   "execution_count": 19,
   "metadata": {},
   "outputs": [
    {
     "name": "stdout",
     "output_type": "stream",
     "text": [
      "program started\n"
     ]
    },
    {
     "ename": "TypeError",
     "evalue": "fun() takes exactly 5 arguments (2 given)",
     "output_type": "error",
     "traceback": [
      "\u001b[1;31m---------------------------------------------------------------------------\u001b[0m",
      "\u001b[1;31mTypeError\u001b[0m                                 Traceback (most recent call last)",
      "\u001b[1;32m<ipython-input-19-9e6eac34cade>\u001b[0m in \u001b[0;36m<module>\u001b[1;34m()\u001b[0m\n\u001b[0;32m      9\u001b[0m     \u001b[1;32mprint\u001b[0m \u001b[1;34m\"statement after fun def\"\u001b[0m\u001b[1;33m\u001b[0m\u001b[0m\n\u001b[0;32m     10\u001b[0m \u001b[1;33m\u001b[0m\u001b[0m\n\u001b[1;32m---> 11\u001b[1;33m \u001b[0mfun\u001b[0m\u001b[1;33m(\u001b[0m\u001b[1;36m10\u001b[0m\u001b[1;33m,\u001b[0m\u001b[1;36m20\u001b[0m\u001b[1;33m)\u001b[0m \u001b[1;31m# function calling (10,20 is the arguments given to that funtion)\u001b[0m\u001b[1;33m\u001b[0m\u001b[0m\n\u001b[0m\u001b[0;32m     12\u001b[0m \u001b[1;33m\u001b[0m\u001b[0m\n\u001b[0;32m     13\u001b[0m \u001b[1;32mprint\u001b[0m \u001b[1;34m\"program ended\"\u001b[0m\u001b[1;33m\u001b[0m\u001b[0m\n",
      "\u001b[1;31mTypeError\u001b[0m: fun() takes exactly 5 arguments (2 given)"
     ]
    }
   ],
   "source": [
    "print\"program started\"\n",
    "\n",
    "def fun(a,b,c,d,e):     \n",
    "    print\"*\" * 5                      # function  body\n",
    "    print \"this is fun\"\n",
    "    print \"a is\",a,\"b is\",b\n",
    "    print \"a +b :\",a+b\n",
    "  \n",
    "    print \"statement after fun def\"\n",
    "\n",
    "fun(10,20) # function calling (10,20 is the arguments given to that funtion)\n",
    "\n",
    "print \"program ended\"\n"
   ]
  },
  {
   "cell_type": "code",
   "execution_count": 21,
   "metadata": {},
   "outputs": [
    {
     "name": "stdout",
     "output_type": "stream",
     "text": [
      "program started\n",
      "a is 10 b is 20 c is 0 d is  0 e is 0\n",
      "a +b +c +d +e : 30\n",
      "statement after fun def\n",
      "a is 10 b is 20 c is 45 d is  0 e is 0\n",
      "a +b +c +d +e : 75\n",
      "statement after fun def\n",
      "a is 10 b is 20 c is 56 d is  78 e is 90\n",
      "a +b +c +d +e : 254\n",
      "statement after fun def\n",
      "a is 10 b is 20 c is 34 d is  56 e is 0\n",
      "a +b +c +d +e : 120\n",
      "statement after fun def\n",
      "program ended\n"
     ]
    }
   ],
   "source": [
    "#default arguments\n",
    "#we keep the parameters default value to 0\n",
    "\n",
    "print\"program started\"\n",
    "\n",
    "def fun(a,b,c=0,d=0,e=0):     \n",
    "    \"\"\"\"\n",
    "     #doc string or multiple line comments\n",
    "    \n",
    "     a , b are manadatory params\n",
    "     c,d,e are optional params\n",
    "     a,b,c,d,e: type int\n",
    "     return:\n",
    "     desc : take  2 to 5 no and add the nos\n",
    "     \"\"\"\n",
    "    print \"a is\",a,\"b is\",b,\"c is\",c,\"d is \",d,\"e is\",e\n",
    "    print \"a +b +c +d +e :\",a+b+c+d+e\n",
    "  \n",
    "    \n",
    "    \n",
    "    print \"statement after fun def\"\n",
    "\n",
    "fun(10,20)\n",
    "fun(10,20,45)\n",
    "fun(10,20,56,78,90)\n",
    "fun(10,20,34,56)\n",
    "# function calling (10,20 is the arguments given to that funtion)\n",
    "\n",
    "print \"program ended\"\n"
   ]
  },
  {
   "cell_type": "code",
   "execution_count": 22,
   "metadata": {},
   "outputs": [
    {
     "name": "stdout",
     "output_type": "stream",
     "text": [
      "program started\n"
     ]
    },
    {
     "ename": "TypeError",
     "evalue": "fun() takes at most 5 arguments (6 given)",
     "output_type": "error",
     "traceback": [
      "\u001b[1;31m---------------------------------------------------------------------------\u001b[0m",
      "\u001b[1;31mTypeError\u001b[0m                                 Traceback (most recent call last)",
      "\u001b[1;32m<ipython-input-22-b1c0b141e848>\u001b[0m in \u001b[0;36m<module>\u001b[1;34m()\u001b[0m\n\u001b[0;32m     22\u001b[0m \u001b[1;33m\u001b[0m\u001b[0m\n\u001b[0;32m     23\u001b[0m \u001b[1;33m\u001b[0m\u001b[0m\n\u001b[1;32m---> 24\u001b[1;33m \u001b[0mfun\u001b[0m\u001b[1;33m(\u001b[0m\u001b[1;36m10\u001b[0m\u001b[1;33m,\u001b[0m\u001b[1;36m20\u001b[0m\u001b[1;33m,\u001b[0m\u001b[1;36m56\u001b[0m\u001b[1;33m,\u001b[0m\u001b[1;36m78\u001b[0m\u001b[1;33m,\u001b[0m\u001b[1;36m90\u001b[0m\u001b[1;33m,\u001b[0m\u001b[1;36m56\u001b[0m\u001b[1;33m)\u001b[0m\u001b[1;33m\u001b[0m\u001b[0m\n\u001b[0m\u001b[0;32m     25\u001b[0m \u001b[1;33m\u001b[0m\u001b[0m\n\u001b[0;32m     26\u001b[0m \u001b[1;31m# function calling (10,20 is the arguments given to that funtion)\u001b[0m\u001b[1;33m\u001b[0m\u001b[1;33m\u001b[0m\u001b[0m\n",
      "\u001b[1;31mTypeError\u001b[0m: fun() takes at most 5 arguments (6 given)"
     ]
    }
   ],
   "source": [
    "#default arguments\n",
    "#we keep the parameters default value to 0\n",
    "\n",
    "print\"program started\"\n",
    "\n",
    "def fun(a,b,c=0,d=0,e=0):     \n",
    "    \"\"\"\"\n",
    "     #doc string or multiple line comments\n",
    "    \n",
    "     a , b are manadatory params\n",
    "     c,d,e are optional params\n",
    "     a,b,c,d,e: type int\n",
    "     return:\n",
    "     desc : take  2 to 5 no and add the nos\n",
    "     \"\"\"\n",
    "    print \"a is\",a,\"b is\",b,\"c is\",c,\"d is \",d,\"e is\",e\n",
    "    print \"a +b +c +d +e :\",a+b+c+d+e\n",
    "  \n",
    "    \n",
    "    \n",
    "    print \"statement after fun def\"\n",
    "\n",
    "\n",
    "fun(10,20,56,78,90,56)\n",
    "\n",
    "# function calling (10,20 is the arguments given to that funtion)\n",
    "\n",
    "print \"program ended\"\n"
   ]
  },
  {
   "cell_type": "code",
   "execution_count": 23,
   "metadata": {},
   "outputs": [
    {
     "name": "stdout",
     "output_type": "stream",
     "text": [
      "program started\n",
      "a is 0 b is 0 c is 0 d is  0 e is 0\n",
      "a +b +c +d +e : 0\n",
      "statement after fun def\n",
      "program ended\n"
     ]
    }
   ],
   "source": [
    "#default arguments\n",
    "#we keep the parameters default value to 0\n",
    "\n",
    "print\"program started\"\n",
    "\n",
    "def fun(a=0,b=0,c=0,d=0,e=0):     \n",
    "    \"\"\"\"\n",
    "     #doc string or multiple line comments\n",
    "    \n",
    "     a , b are manadatory params\n",
    "     c,d,e are optional params\n",
    "     a,b,c,d,e: type int\n",
    "     return:\n",
    "     desc : take  2 to 5 no and add the nos\n",
    "     \"\"\"\n",
    "    print \"a is\",a,\"b is\",b,\"c is\",c,\"d is \",d,\"e is\",e\n",
    "    print \"a +b +c +d +e :\",a+b+c+d+e\n",
    "  \n",
    "    \n",
    "    \n",
    "    print \"statement after fun def\"\n",
    "\n",
    "\n",
    "fun(10,20,56,78,90,56)\n",
    "\n",
    "# function calling (10,20 is the arguments given to that funtion)\n",
    "\n",
    "print \"program ended\"\n"
   ]
  },
  {
   "cell_type": "code",
   "execution_count": 24,
   "metadata": {},
   "outputs": [
    {
     "ename": "TypeError",
     "evalue": "unsupported operand type(s) for +: 'int' and 'str'",
     "output_type": "error",
     "traceback": [
      "\u001b[1;31m---------------------------------------------------------------------------\u001b[0m",
      "\u001b[1;31mTypeError\u001b[0m                                 Traceback (most recent call last)",
      "\u001b[1;32m<ipython-input-24-0b5b2d070415>\u001b[0m in \u001b[0;36m<module>\u001b[1;34m()\u001b[0m\n\u001b[0;32m      4\u001b[0m \u001b[1;33m\u001b[0m\u001b[0m\n\u001b[0;32m      5\u001b[0m \u001b[1;33m\u001b[0m\u001b[0m\n\u001b[1;32m----> 6\u001b[1;33m \u001b[0mfun\u001b[0m \u001b[1;33m(\u001b[0m\u001b[1;36m10\u001b[0m\u001b[1;33m,\u001b[0m\u001b[1;34m\"nemo\"\u001b[0m\u001b[1;33m)\u001b[0m\u001b[1;33m\u001b[0m\u001b[0m\n\u001b[0m",
      "\u001b[1;32m<ipython-input-24-0b5b2d070415>\u001b[0m in \u001b[0;36mfun\u001b[1;34m(a, b)\u001b[0m\n\u001b[0;32m      1\u001b[0m \u001b[1;32mdef\u001b[0m \u001b[0mfun\u001b[0m\u001b[1;33m(\u001b[0m\u001b[0ma\u001b[0m\u001b[1;33m,\u001b[0m\u001b[0mb\u001b[0m\u001b[1;33m=\u001b[0m\u001b[1;33m[\u001b[0m\u001b[1;33m]\u001b[0m\u001b[1;33m)\u001b[0m\u001b[1;33m:\u001b[0m\u001b[1;33m\u001b[0m\u001b[0m\n\u001b[1;32m----> 2\u001b[1;33m     \u001b[1;32mprint\u001b[0m \u001b[0ma\u001b[0m\u001b[1;33m+\u001b[0m\u001b[0mb\u001b[0m\u001b[1;33m\u001b[0m\u001b[0m\n\u001b[0m\u001b[0;32m      3\u001b[0m \u001b[1;33m\u001b[0m\u001b[0m\n\u001b[0;32m      4\u001b[0m \u001b[1;33m\u001b[0m\u001b[0m\n\u001b[0;32m      5\u001b[0m \u001b[1;33m\u001b[0m\u001b[0m\n",
      "\u001b[1;31mTypeError\u001b[0m: unsupported operand type(s) for +: 'int' and 'str'"
     ]
    }
   ],
   "source": [
    "def fun(a,b=[]):\n",
    "    print a+b\n",
    "    \n",
    "    \n",
    "    \n",
    "fun (10,\"nemo\")"
   ]
  },
  {
   "cell_type": "code",
   "execution_count": 25,
   "metadata": {},
   "outputs": [
    {
     "ename": "SyntaxError",
     "evalue": "invalid syntax (<ipython-input-25-c6cce2c6861e>, line 1)",
     "output_type": "error",
     "traceback": [
      "\u001b[1;36m  File \u001b[1;32m\"<ipython-input-25-c6cce2c6861e>\"\u001b[1;36m, line \u001b[1;32m1\u001b[0m\n\u001b[1;33m    we should not define manadatory paramters after defalult parameters this gives error\u001b[0m\n\u001b[1;37m            ^\u001b[0m\n\u001b[1;31mSyntaxError\u001b[0m\u001b[1;31m:\u001b[0m invalid syntax\n"
     ]
    }
   ],
   "source": [
    "we should not define manadatory paramters after defalult parameters this gives error\n",
    "\n",
    "def fun(a,b=0,c=0,d):\n",
    "    print a+b+c+d\n",
    "\n",
    "    \n",
    "    \n",
    "fun(10,20)\n"
   ]
  },
  {
   "cell_type": "code",
   "execution_count": 27,
   "metadata": {},
   "outputs": [
    {
     "ename": "SyntaxError",
     "evalue": "non-default argument follows default argument (<ipython-input-27-68ba1bc6c194>, line 1)",
     "output_type": "error",
     "traceback": [
      "\u001b[1;36m  File \u001b[1;32m\"<ipython-input-27-68ba1bc6c194>\"\u001b[1;36m, line \u001b[1;32m1\u001b[0m\n\u001b[1;33m    def fun(a,b=0,c=0,d):\u001b[0m\n\u001b[1;31mSyntaxError\u001b[0m\u001b[1;31m:\u001b[0m non-default argument follows default argument\n"
     ]
    }
   ],
   "source": [
    "def fun(a,b=0,c=0,d):\n",
    "    print a+b+c+d\n",
    "\n",
    "\n",
    "\n",
    "fun (1,2,3,4)"
   ]
  },
  {
   "cell_type": "code",
   "execution_count": 29,
   "metadata": {},
   "outputs": [
    {
     "ename": "SyntaxError",
     "evalue": "non-default argument follows default argument (<ipython-input-29-4b105d89a7fd>, line 1)",
     "output_type": "error",
     "traceback": [
      "\u001b[1;36m  File \u001b[1;32m\"<ipython-input-29-4b105d89a7fd>\"\u001b[1;36m, line \u001b[1;32m1\u001b[0m\n\u001b[1;33m    def fun(a,b=0,c=0,d):\u001b[0m\n\u001b[1;31mSyntaxError\u001b[0m\u001b[1;31m:\u001b[0m non-default argument follows default argument\n"
     ]
    }
   ],
   "source": [
    "def fun(a,b=0,c=0,d):\n",
    "    print a\n",
    "    print b\n",
    "    print c\n",
    "    print d\n",
    "\n",
    "    \n",
    "fun(100,0,0,20)"
   ]
  },
  {
   "cell_type": "code",
   "execution_count": 2,
   "metadata": {},
   "outputs": [
    {
     "name": "stdout",
     "output_type": "stream",
     "text": [
      "100\n",
      "30\n",
      "0\n",
      "90\n"
     ]
    }
   ],
   "source": [
    "#keyword arguments::\n",
    "\n",
    "\n",
    "def fun(a,b,c=0,d=0):\n",
    "    print a\n",
    "    print b\n",
    "    print c\n",
    "    print d\n",
    "\n",
    " #keyword argument   \n",
    "fun(100,30,d=90)"
   ]
  },
  {
   "cell_type": "code",
   "execution_count": 5,
   "metadata": {},
   "outputs": [
    {
     "name": "stdout",
     "output_type": "stream",
     "text": [
      "program started\n",
      "statement after fun def\n",
      "this is fun\n",
      "None\n",
      "program ended\n"
     ]
    }
   ],
   "source": [
    "print\"program started\"\n",
    "\n",
    "def fun(name):                   # function  body\n",
    "    print \"this is fun\"\n",
    "    print name\n",
    "print \"statement after fun def\"\n",
    "\n",
    "fun(None)     # function calling\n",
    "\n",
    "print \"program ended\"\n"
   ]
  },
  {
   "cell_type": "code",
   "execution_count": 1,
   "metadata": {},
   "outputs": [
    {
     "ename": "IndentationError",
     "evalue": "unindent does not match any outer indentation level (<ipython-input-1-e401475256b5>, line 5)",
     "output_type": "error",
     "traceback": [
      "\u001b[1;36m  File \u001b[1;32m\"<ipython-input-1-e401475256b5>\"\u001b[1;36m, line \u001b[1;32m5\u001b[0m\n\u001b[1;33m    print name\u001b[0m\n\u001b[1;37m              ^\u001b[0m\n\u001b[1;31mIndentationError\u001b[0m\u001b[1;31m:\u001b[0m unindent does not match any outer indentation level\n"
     ]
    }
   ],
   "source": [
    "print\"program started\"\n",
    "\n",
    "def fun(name):                   # function  body\n",
    "     print \"this is fun\"\n",
    "    print name\n",
    "print \"statement after fun def\"\n",
    "\n",
    "fun(None)     # function calling\n",
    "\n",
    "\n",
    "print \"program ended\"\n"
   ]
  },
  {
   "cell_type": "code",
   "execution_count": 2,
   "metadata": {},
   "outputs": [
    {
     "name": "stdout",
     "output_type": "stream",
     "text": [
      "a inside fn 110\n",
      "a outside function 1000\n"
     ]
    }
   ],
   "source": [
    "a = 1000         #global variable\n",
    "\n",
    "\n",
    "def fun (x):\n",
    "    a = x + 10\n",
    "    print\"a inside fn\",a\n",
    "\n",
    "    \n",
    "\n",
    "    \n",
    "fun(100)\n",
    "print \"a outside function\",a"
   ]
  },
  {
   "cell_type": "code",
   "execution_count": null,
   "metadata": {},
   "outputs": [],
   "source": []
  },
  {
   "cell_type": "code",
   "execution_count": 3,
   "metadata": {},
   "outputs": [
    {
     "name": "stdout",
     "output_type": "stream",
     "text": [
      "<function fun at 0x00000000051D49E8>\n",
      "85805544\n",
      "<type 'function'>\n"
     ]
    }
   ],
   "source": [
    "def fun(a,b):\n",
    "    print a ,b\n",
    "print fun\n",
    "print id(fun)\n",
    "print type(fun)"
   ]
  },
  {
   "cell_type": "code",
   "execution_count": 4,
   "metadata": {},
   "outputs": [
    {
     "name": "stdout",
     "output_type": "stream",
     "text": [
      "12 34\n"
     ]
    },
    {
     "ename": "TypeError",
     "evalue": "fun() takes exactly 3 arguments (2 given)",
     "output_type": "error",
     "traceback": [
      "\u001b[1;31m---------------------------------------------------------------------------\u001b[0m",
      "\u001b[1;31mTypeError\u001b[0m                                 Traceback (most recent call last)",
      "\u001b[1;32m<ipython-input-4-0835ba0853d2>\u001b[0m in \u001b[0;36m<module>\u001b[1;34m()\u001b[0m\n\u001b[0;32m      9\u001b[0m \u001b[1;33m\u001b[0m\u001b[0m\n\u001b[0;32m     10\u001b[0m \u001b[0mfun1\u001b[0m\u001b[1;33m(\u001b[0m\u001b[1;36m12\u001b[0m\u001b[1;33m,\u001b[0m\u001b[1;36m34\u001b[0m\u001b[1;33m,\u001b[0m\u001b[1;36m55\u001b[0m\u001b[1;33m,\u001b[0m\u001b[1;36m66\u001b[0m\u001b[1;33m)\u001b[0m\u001b[1;33m\u001b[0m\u001b[0m\n\u001b[1;32m---> 11\u001b[1;33m \u001b[0mfun\u001b[0m\u001b[1;33m(\u001b[0m\u001b[1;36m2\u001b[0m\u001b[1;33m,\u001b[0m\u001b[1;36m3\u001b[0m\u001b[1;33m)\u001b[0m\u001b[1;33m\u001b[0m\u001b[0m\n\u001b[0m",
      "\u001b[1;31mTypeError\u001b[0m: fun() takes exactly 3 arguments (2 given)"
     ]
    }
   ],
   "source": [
    "def fun1(a,b,c,d):  #this is the basic differnce between python and java\n",
    "    print a,b\n",
    "def fun(a,b):   \n",
    "    print a,b\n",
    "\n",
    "def fun(a,b,c):  # in python function doesnt treats function like an object\n",
    "    print a,b,c\n",
    "\n",
    "    \n",
    "fun1(12,34,55,66)\n",
    "fun(2,3)            # we are getting error because fun is now referring  to fun(a,b) to fun(a,b,c)\n"
   ]
  },
  {
   "cell_type": "code",
   "execution_count": 7,
   "metadata": {},
   "outputs": [
    {
     "data": {
      "text/plain": [
       "'whatever we create any variable inside function that variable was local variable whose scope is only to thatfunction we dont allow to use that variable outside function \\n\\n\\nif we create any variable outside function we can use that variable in function but we cant modify that  variable\\nbecause  that variable is global variable :\\n\\n\\n\\n'"
      ]
     },
     "execution_count": 7,
     "metadata": {},
     "output_type": "execute_result"
    }
   ],
   "source": [
    "#for function call stack is different \n",
    "\n",
    "\n",
    "'''whatever we create any variable inside function that variable was local variable whose scope is only to that\\\n",
    "function we dont allow to use that variable outside function \n",
    "\n",
    "\n",
    "if we create any variable outside function we can use that variable in function but we cant modify that  variable\n",
    "because  that variable is global variable :\n",
    "\n",
    "\n",
    "\n",
    "'''\n"
   ]
  },
  {
   "cell_type": "code",
   "execution_count": 8,
   "metadata": {},
   "outputs": [],
   "source": [
    "#after function calling a local frame of that function will be created"
   ]
  },
  {
   "cell_type": "code",
   "execution_count": 9,
   "metadata": {},
   "outputs": [
    {
     "name": "stdout",
     "output_type": "stream",
     "text": [
      "a before calling 1000\n",
      "a inside fun 1010\n",
      "a after calling 1010\n"
     ]
    }
   ],
   "source": [
    "#global variable concept:\n",
    "\n",
    "\n",
    "a =  1000    #this is global variable which we cannot use in function defination if want to use we have to use global keyword\n",
    "\n",
    "def fun(x):\n",
    "    global a     #this global keyword helps to use the global variable not defime a in local frame\n",
    "    global b     # this statement crete a global variable b in global frame\n",
    "    a = x + 10\n",
    "    print \"a inside fun\",a\n",
    "\n",
    "    \n",
    "print \"a before calling\",a\n",
    "fun(1000)\n",
    "print \"a after calling\",a\n"
   ]
  },
  {
   "cell_type": "code",
   "execution_count": 10,
   "metadata": {},
   "outputs": [],
   "source": [
    "def fun(a,b):\n",
    "    print a,b\n",
    "f1 = fun\n",
    "\n",
    "    "
   ]
  },
  {
   "cell_type": "code",
   "execution_count": 11,
   "metadata": {},
   "outputs": [
    {
     "name": "stdout",
     "output_type": "stream",
     "text": [
      "<function fun at 0x00000000051D4A58>\n"
     ]
    }
   ],
   "source": [
    "print f1"
   ]
  },
  {
   "cell_type": "code",
   "execution_count": 12,
   "metadata": {},
   "outputs": [
    {
     "data": {
      "text/plain": [
       "function"
      ]
     },
     "execution_count": 12,
     "metadata": {},
     "output_type": "execute_result"
    }
   ],
   "source": [
    "type (f1)"
   ]
  },
  {
   "cell_type": "code",
   "execution_count": 13,
   "metadata": {},
   "outputs": [
    {
     "data": {
      "text/plain": [
       "function"
      ]
     },
     "execution_count": 13,
     "metadata": {},
     "output_type": "execute_result"
    }
   ],
   "source": [
    "type (fun)"
   ]
  },
  {
   "cell_type": "code",
   "execution_count": 14,
   "metadata": {},
   "outputs": [
    {
     "name": "stdout",
     "output_type": "stream",
     "text": [
      "equal\n"
     ]
    }
   ],
   "source": [
    "if fun == f1:\n",
    "    print \"equal\""
   ]
  },
  {
   "cell_type": "code",
   "execution_count": 15,
   "metadata": {},
   "outputs": [],
   "source": [
    " a = 1000\n",
    " b =a"
   ]
  },
  {
   "cell_type": "code",
   "execution_count": 16,
   "metadata": {},
   "outputs": [
    {
     "name": "stdout",
     "output_type": "stream",
     "text": [
      "1000\n"
     ]
    }
   ],
   "source": [
    "print b"
   ]
  },
  {
   "cell_type": "code",
   "execution_count": 17,
   "metadata": {},
   "outputs": [
    {
     "name": "stdout",
     "output_type": "stream",
     "text": [
      "1000\n"
     ]
    }
   ],
   "source": [
    "print a"
   ]
  },
  {
   "cell_type": "code",
   "execution_count": 18,
   "metadata": {},
   "outputs": [],
   "source": [
    "#like normal we also assign one function name to other "
   ]
  },
  {
   "cell_type": "code",
   "execution_count": 21,
   "metadata": {},
   "outputs": [
    {
     "name": "stdout",
     "output_type": "stream",
     "text": [
      "2 3\n"
     ]
    }
   ],
   "source": [
    "def fun(a,b):\n",
    "    print a,b\n",
    "\n",
    "f1 = fun# in this f1 is a function object (both f1 and fun) we use both f1 and fun for calling purpose\n",
    "    \n",
    "f2 = fun(2,3) #in this case we  just assigning return of fun to f2 which is different"
   ]
  },
  {
   "cell_type": "code",
   "execution_count": 23,
   "metadata": {},
   "outputs": [
    {
     "name": "stdout",
     "output_type": "stream",
     "text": [
      "program started\n",
      "10\n"
     ]
    }
   ],
   "source": [
    "#function execution stops when there was a return statement and function only returns the first return value\n",
    "\n",
    "print \"program started\"\n",
    "\n",
    "def fun():\n",
    "    return 10  #this line can only be executed\n",
    "    return 30\n",
    "    return 40\n",
    "\n",
    "res = fun()\n",
    "print res"
   ]
  },
  {
   "cell_type": "code",
   "execution_count": 2,
   "metadata": {},
   "outputs": [
    {
     "name": "stdout",
     "output_type": "stream",
     "text": [
      "5\n"
     ]
    }
   ],
   "source": [
    "def sum(a,b):\n",
    "    return (a+b)\n",
    "\n",
    "result = sum(2,3)\n",
    "\n",
    "print result"
   ]
  },
  {
   "cell_type": "code",
   "execution_count": 4,
   "metadata": {},
   "outputs": [
    {
     "name": "stdout",
     "output_type": "stream",
     "text": [
      "st1\n",
      "10\n"
     ]
    }
   ],
   "source": [
    "def sum():\n",
    "    print \"st1\"\n",
    "    return 10\n",
    "\n",
    "    print \"st2\"\n",
    "    return 20\n",
    "\n",
    "\n",
    "result = sum()\n",
    "\n",
    "print result"
   ]
  },
  {
   "cell_type": "code",
   "execution_count": 5,
   "metadata": {},
   "outputs": [
    {
     "name": "stdout",
     "output_type": "stream",
     "text": [
      "<generator object sum at 0x0000000004D778B8>\n"
     ]
    }
   ],
   "source": [
    "def sum():\n",
    "    print \"st1\"\n",
    "    yield 10\n",
    "\n",
    "    print \"st2\"\n",
    "    yield 20\n",
    "\n",
    "\n",
    "result = sum()\n",
    "\n",
    "print result"
   ]
  },
  {
   "cell_type": "code",
   "execution_count": 6,
   "metadata": {},
   "outputs": [],
   "source": [
    "#yield keyword is not returning anything"
   ]
  },
  {
   "cell_type": "code",
   "execution_count": 7,
   "metadata": {},
   "outputs": [],
   "source": [
    "# we have range and xrange for same purpose \n",
    "\n",
    "#what makes this more frequent"
   ]
  },
  {
   "cell_type": "code",
   "execution_count": 9,
   "metadata": {},
   "outputs": [],
   "source": [
    "def owm_range(start , end ,step =1):\n",
    "    l=[]\n",
    "    while start < end:\n",
    "        l.append(start)\n",
    "        start+= step\n",
    "    return l"
   ]
  },
  {
   "cell_type": "code",
   "execution_count": 10,
   "metadata": {},
   "outputs": [
    {
     "name": "stdout",
     "output_type": "stream",
     "text": [
      "iteration started \n",
      "0\n",
      "iteration stops\n",
      "iteration started \n",
      "1\n",
      "iteration stops\n",
      "iteration started \n",
      "2\n",
      "iteration stops\n",
      "iteration started \n",
      "3\n",
      "iteration stops\n",
      "iteration started \n",
      "4\n",
      "iteration stops\n",
      "iteration started \n",
      "5\n",
      "iteration stops\n",
      "iteration started \n",
      "6\n",
      "iteration stops\n",
      "iteration started \n",
      "7\n",
      "iteration stops\n",
      "iteration started \n",
      "8\n",
      "iteration stops\n",
      "iteration started \n",
      "9\n",
      "iteration stops\n"
     ]
    }
   ],
   "source": [
    "for i in range(10):\n",
    "    print \"iteration started \"\n",
    "    print i\n",
    "    print \"iteration stops\""
   ]
  },
  {
   "cell_type": "code",
   "execution_count": 11,
   "metadata": {},
   "outputs": [],
   "source": [
    "# what xrange is doing is that it is generating object only"
   ]
  },
  {
   "cell_type": "code",
   "execution_count": 12,
   "metadata": {},
   "outputs": [
    {
     "name": "stdout",
     "output_type": "stream",
     "text": [
      "iteration starts\n",
      "0\n",
      "iteration stops\n",
      "iteration starts\n",
      "1\n",
      "iteration stops\n",
      "iteration starts\n",
      "2\n",
      "iteration stops\n",
      "iteration starts\n",
      "3\n",
      "iteration stops\n",
      "iteration starts\n",
      "4\n",
      "iteration stops\n",
      "iteration starts\n",
      "5\n",
      "iteration stops\n",
      "iteration starts\n",
      "6\n",
      "iteration stops\n",
      "iteration starts\n",
      "7\n",
      "iteration stops\n",
      "iteration starts\n",
      "8\n",
      "iteration stops\n",
      "iteration starts\n",
      "9\n",
      "iteration stops\n"
     ]
    }
   ],
   "source": [
    "for i in xrange(10):\n",
    "    print \"iteration starts\"\n",
    "    print i\n",
    "    print \"iteration stops\""
   ]
  },
  {
   "cell_type": "code",
   "execution_count": 17,
   "metadata": {},
   "outputs": [
    {
     "name": "stdout",
     "output_type": "stream",
     "text": [
      "<generator object sum at 0x0000000004EC2828>\n",
      "st1\n",
      "10\n",
      "st2\n",
      "20\n",
      "st3\n",
      "30\n"
     ]
    }
   ],
   "source": [
    "def sum():\n",
    "    print \"st1\"\n",
    "    yield 10\n",
    "\n",
    "    print \"st2\"\n",
    "    yield 20\n",
    "    \n",
    "    print \"st3\"\n",
    "    yield 30\n",
    "    \n",
    "    print \"st4\"\n",
    "\n",
    "\n",
    "result = sum()\n",
    "\n",
    "print result\n",
    "\n",
    "r1 = result.next()\n",
    "print r1\n",
    "\n",
    "\n",
    "r2 = result.next()\n",
    "print r2\n",
    "\n",
    "\n",
    "r3 = result.next()\n",
    "print r3\n",
    "\n",
    "\n",
    "\n",
    "\n"
   ]
  },
  {
   "cell_type": "code",
   "execution_count": 18,
   "metadata": {},
   "outputs": [
    {
     "name": "stdout",
     "output_type": "stream",
     "text": [
      "st1\n",
      "i: 10\n",
      "st2\n",
      "i: 20\n",
      "st3\n",
      "i: 30\n",
      "st4\n"
     ]
    }
   ],
   "source": [
    "def sum():\n",
    "    print \"st1\"\n",
    "    yield 10\n",
    "\n",
    "    print \"st2\"\n",
    "    yield 20\n",
    "    \n",
    "    print \"st3\"\n",
    "    yield 30\n",
    "    \n",
    "    print \"st4\"\n",
    "\n",
    "\n",
    "result = sum()\n",
    "\n",
    "for i in result:\n",
    "    print \"i:\",i\n",
    "\n",
    "\n",
    "\n",
    "\n"
   ]
  },
  {
   "cell_type": "code",
   "execution_count": null,
   "metadata": {},
   "outputs": [],
   "source": [
    "def range_char (start = 97,end =122,step =1):\n",
    "    "
   ]
  },
  {
   "cell_type": "code",
   "execution_count": null,
   "metadata": {},
   "outputs": [],
   "source": []
  },
  {
   "cell_type": "code",
   "execution_count": null,
   "metadata": {},
   "outputs": [],
   "source": [
    "# when we use yield it will return elements one by one"
   ]
  }
 ],
 "metadata": {
  "kernelspec": {
   "display_name": "Python 2",
   "language": "python",
   "name": "python2"
  },
  "language_info": {
   "codemirror_mode": {
    "name": "ipython",
    "version": 2
   },
   "file_extension": ".py",
   "mimetype": "text/x-python",
   "name": "python",
   "nbconvert_exporter": "python",
   "pygments_lexer": "ipython2",
   "version": "2.7.15"
  }
 },
 "nbformat": 4,
 "nbformat_minor": 2
}
