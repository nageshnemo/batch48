{
 "cells": [
  {
   "cell_type": "code",
   "execution_count": 3,
   "metadata": {},
   "outputs": [
    {
     "data": {
      "text/plain": [
       "50.0"
      ]
     },
     "execution_count": 3,
     "metadata": {},
     "output_type": "execute_result"
    }
   ],
   "source": [
    "def fun(a,b):                    #here a and b are positional arguments\n",
    "    \n",
    "    '''\n",
    "    return 5 percent of sum of a and b\n",
    "    \n",
    "    '''\n",
    "    return sum((a,b)) * 0.5\n",
    "\n",
    "\n",
    "fun(40,60)"
   ]
  },
  {
   "cell_type": "code",
   "execution_count": 21,
   "metadata": {},
   "outputs": [],
   "source": [
    "# what if we want to work with more than twoo nos"
   ]
  },
  {
   "cell_type": "code",
   "execution_count": 22,
   "metadata": {},
   "outputs": [
    {
     "data": {
      "text/plain": [
       "50.0"
      ]
     },
     "execution_count": 22,
     "metadata": {},
     "output_type": "execute_result"
    }
   ],
   "source": [
    "def fun(a,b,c=0,d=0,e=0):                    #here a and b are positional arguments\n",
    "    \n",
    "    '''\n",
    "    return 5 percent of sum of a and b\n",
    "    \n",
    "    '''\n",
    "    return sum((a,b,c,d,e)) * 0.5\n",
    "\n",
    "\n",
    "fun(40,60)"
   ]
  },
  {
   "cell_type": "code",
   "execution_count": 23,
   "metadata": {},
   "outputs": [],
   "source": [
    "# this is the good idea but "
   ]
  },
  {
   "cell_type": "code",
   "execution_count": 1,
   "metadata": {},
   "outputs": [
    {
     "data": {
      "text/plain": [
       "144.0"
      ]
     },
     "execution_count": 1,
     "metadata": {},
     "output_type": "execute_result"
    }
   ],
   "source": [
    "def fun(a,b,c=0,d=0,e=0):                    #here c d and e are default  arguments\n",
    "    \n",
    "    '''\n",
    "    return 5 percent of sum of a and b\n",
    "    \n",
    "    '''\n",
    "    return sum((a,b,c,d,e)) * 0.5\n",
    "\n",
    "\n",
    "fun(40,60,45,66,77)"
   ]
  },
  {
   "cell_type": "code",
   "execution_count": 25,
   "metadata": {},
   "outputs": [],
   "source": [
    "# now we can pass more and more parameters here"
   ]
  },
  {
   "cell_type": "code",
   "execution_count": 26,
   "metadata": {},
   "outputs": [],
   "source": [
    "#but"
   ]
  },
  {
   "cell_type": "code",
   "execution_count": 27,
   "metadata": {},
   "outputs": [
    {
     "ename": "TypeError",
     "evalue": "fun() takes at most 5 arguments (6 given)",
     "output_type": "error",
     "traceback": [
      "\u001b[1;31m---------------------------------------------------------------------------\u001b[0m",
      "\u001b[1;31mTypeError\u001b[0m                                 Traceback (most recent call last)",
      "\u001b[1;32m<ipython-input-27-bb44129bc76b>\u001b[0m in \u001b[0;36m<module>\u001b[1;34m()\u001b[0m\n\u001b[0;32m      8\u001b[0m \u001b[1;33m\u001b[0m\u001b[0m\n\u001b[0;32m      9\u001b[0m \u001b[1;33m\u001b[0m\u001b[0m\n\u001b[1;32m---> 10\u001b[1;33m \u001b[0mfun\u001b[0m\u001b[1;33m(\u001b[0m\u001b[1;36m40\u001b[0m\u001b[1;33m,\u001b[0m\u001b[1;36m60\u001b[0m\u001b[1;33m,\u001b[0m\u001b[1;36m34\u001b[0m\u001b[1;33m,\u001b[0m\u001b[1;36m545\u001b[0m\u001b[1;33m,\u001b[0m\u001b[1;36m66\u001b[0m\u001b[1;33m,\u001b[0m\u001b[1;36m44\u001b[0m\u001b[1;33m)\u001b[0m\u001b[1;33m\u001b[0m\u001b[0m\n\u001b[0m",
      "\u001b[1;31mTypeError\u001b[0m: fun() takes at most 5 arguments (6 given)"
     ]
    }
   ],
   "source": [
    "def fun(a,b,c=0,d=0,e=0):                    #here a and b are positional arguments\n",
    "    \n",
    "    '''\n",
    "    return 5 percent of sum of a and b\n",
    "    \n",
    "    '''\n",
    "    return sum((a,b,c,d,e)) * 0.5\n",
    "\n",
    "\n",
    "fun(40,60,34,545,66,44)"
   ]
  },
  {
   "cell_type": "code",
   "execution_count": 28,
   "metadata": {},
   "outputs": [],
   "source": [
    "# eventually if we pass more than the arguments given we get an error"
   ]
  },
  {
   "cell_type": "code",
   "execution_count": 29,
   "metadata": {},
   "outputs": [],
   "source": [
    "# this is the place we use *args this allow us to take any arbitary type of  nos"
   ]
  },
  {
   "cell_type": "code",
   "execution_count": 30,
   "metadata": {},
   "outputs": [
    {
     "data": {
      "text/plain": [
       "50.0"
      ]
     },
     "execution_count": 30,
     "metadata": {},
     "output_type": "execute_result"
    }
   ],
   "source": [
    "def fun(*args):       \n",
    "    # what *args allow us to do is treat this as tuple of values we use what we want \n",
    "    \n",
    "    '''\n",
    "    return 5 percent of sum of a and b\n",
    "    \n",
    "    '''\n",
    "    return sum(args) * 0.5\n",
    "\n",
    "\n",
    "fun(40,60)"
   ]
  },
  {
   "cell_type": "code",
   "execution_count": 31,
   "metadata": {},
   "outputs": [],
   "source": [
    "#now we can pass as many as args we want "
   ]
  },
  {
   "cell_type": "code",
   "execution_count": 32,
   "metadata": {},
   "outputs": [
    {
     "data": {
      "text/plain": [
       "3028.0"
      ]
     },
     "execution_count": 32,
     "metadata": {},
     "output_type": "execute_result"
    }
   ],
   "source": [
    "def fun(*args):       \n",
    "    # what *args allow us to do is treat this as tuple of values we use what we want \n",
    "    \n",
    "    '''\n",
    "    return 5 percent of sum of a and b\n",
    "    \n",
    "    '''\n",
    "    return sum(args) * 0.5\n",
    "\n",
    "\n",
    "fun(40,60,45,454,46,433,425,757,3453,343)"
   ]
  },
  {
   "cell_type": "code",
   "execution_count": 33,
   "metadata": {},
   "outputs": [],
   "source": [
    "#see we are able to do so "
   ]
  },
  {
   "cell_type": "code",
   "execution_count": 34,
   "metadata": {},
   "outputs": [],
   "source": [
    "#whatever the parameter is it is gonna treates as tuple we can also prove it through printing that args"
   ]
  },
  {
   "cell_type": "code",
   "execution_count": 35,
   "metadata": {},
   "outputs": [
    {
     "name": "stdout",
     "output_type": "stream",
     "text": [
      "(40, 60)\n"
     ]
    },
    {
     "data": {
      "text/plain": [
       "50.0"
      ]
     },
     "execution_count": 35,
     "metadata": {},
     "output_type": "execute_result"
    }
   ],
   "source": [
    "def fun(*args):       \n",
    "    # what *args allow us to do is treat this as tuple of values we use what we want \n",
    "    \n",
    "    '''\n",
    "    return 5 percent of sum of a and b\n",
    "    \n",
    "    '''\n",
    "    print args\n",
    "    return sum(args) * 0.5\n",
    "\n",
    "\n",
    "fun(40,60)"
   ]
  },
  {
   "cell_type": "code",
   "execution_count": 36,
   "metadata": {},
   "outputs": [],
   "source": [
    "#see here we get tuples"
   ]
  },
  {
   "cell_type": "code",
   "execution_count": 37,
   "metadata": {},
   "outputs": [
    {
     "data": {
      "text/plain": [
       "50.0"
      ]
     },
     "execution_count": 37,
     "metadata": {},
     "output_type": "execute_result"
    }
   ],
   "source": [
    "def fun(*a):       \n",
    "    # what *args allow us to do is treat this as tuple of values we use what we want \n",
    "    \n",
    "    return sum(a) * 0.5\n",
    "\n",
    "\n",
    "fun(40,60)"
   ]
  },
  {
   "cell_type": "code",
   "execution_count": 38,
   "metadata": {},
   "outputs": [],
   "source": [
    "# we only have to mention the * there to say python i am sending as many as i want  args there"
   ]
  },
  {
   "cell_type": "code",
   "execution_count": 39,
   "metadata": {},
   "outputs": [],
   "source": [
    "# we also play with those args \n"
   ]
  },
  {
   "cell_type": "code",
   "execution_count": 52,
   "metadata": {},
   "outputs": [
    {
     "name": "stdout",
     "output_type": "stream",
     "text": [
      "[23, 4, 5, 5, 464322, 35, 64, 4]\n",
      "[23, 4, 5, 5, 464322, 35, 64, 4]\n"
     ]
    }
   ],
   "source": [
    "def fun(*a):       \n",
    "    # what *args allow us to do is treat this as tuple of values we use what we want  \n",
    "    l = []\n",
    "    for i in a:\n",
    "        l.append(i)\n",
    "    print l\n",
    "    return l\n",
    "\n",
    "\n",
    "res = fun(23,4,5,5,464322,35,64,4)\n",
    "print res"
   ]
  },
  {
   "cell_type": "code",
   "execution_count": 53,
   "metadata": {},
   "outputs": [],
   "source": [
    "# we can also convert those tuples into list through iterating in loop"
   ]
  },
  {
   "cell_type": "code",
   "execution_count": 58,
   "metadata": {},
   "outputs": [
    {
     "name": "stdout",
     "output_type": "stream",
     "text": [
      "2345546432235644\n",
      "2345546432235644\n"
     ]
    },
    {
     "data": {
      "text/plain": [
       "str"
      ]
     },
     "execution_count": 58,
     "metadata": {},
     "output_type": "execute_result"
    }
   ],
   "source": [
    "# we can also make those tuples as string to iterate through it \n",
    "def fun(*a):       \n",
    "    # what *args allow us to do is treat this as tuple of values we use what we want  \n",
    "    s = \"\"\n",
    "    for i in a:\n",
    "        s = s + str(i)\n",
    "    print s\n",
    "    return s\n",
    "\n",
    "\n",
    "res = fun(23,4,5,5,464322,35,64,4)\n",
    "print res\n",
    "type(res) "
   ]
  },
  {
   "cell_type": "markdown",
   "metadata": {},
   "source": [
    "##  we also have **kwargs which is known as keyword arguments instead of arguments\n",
    "## kwargs returns back a dictionary"
   ]
  },
  {
   "cell_type": "code",
   "execution_count": 60,
   "metadata": {},
   "outputs": [
    {
     "name": "stdout",
     "output_type": "stream",
     "text": [
      "{'seven': '7', 'fruit': 'apple', 'veggie': 'spianch'}\n"
     ]
    }
   ],
   "source": [
    "def fun(**kwargs):\n",
    "    print kwargs\n",
    "    \n",
    "    \n",
    "fun(fruit ='apple',veggie = \"spianch\" ,seven = \"7\")\n",
    "        "
   ]
  },
  {
   "cell_type": "code",
   "execution_count": 61,
   "metadata": {},
   "outputs": [],
   "source": [
    "#see we are getting dictionaries back here"
   ]
  },
  {
   "cell_type": "code",
   "execution_count": 62,
   "metadata": {},
   "outputs": [
    {
     "name": "stdout",
     "output_type": "stream",
     "text": [
      "a is : rajput\n",
      "b is : nagesh\n"
     ]
    }
   ],
   "source": [
    "def fun(a,b):       \n",
    "    \n",
    "    print \"a is :\",a\n",
    "    print \"b is :\",b\n",
    "\n",
    "fun(b=\"nagesh\",a= \"rajput\")"
   ]
  },
  {
   "cell_type": "code",
   "execution_count": 63,
   "metadata": {},
   "outputs": [],
   "source": [
    "# this is normal keyword args"
   ]
  },
  {
   "cell_type": "code",
   "execution_count": 64,
   "metadata": {},
   "outputs": [],
   "source": [
    "# example of both using in same\n"
   ]
  },
  {
   "cell_type": "code",
   "execution_count": 69,
   "metadata": {},
   "outputs": [
    {
     "name": "stdout",
     "output_type": "stream",
     "text": [
      "(29, 34, 343, 23.334)\n",
      "{'food': 'chicken', 'animal': 'dog'}\n",
      "i would like 29 chicken\n"
     ]
    }
   ],
   "source": [
    "def fun (*args ,**kwargs):\n",
    "    print args\n",
    "    print kwargs\n",
    "    \n",
    "    print \"i would like {} {}\".format(args[0],kwargs['food'])\n",
    "    \n",
    "    \n",
    "    \n",
    "    \n",
    "    \n",
    "fun (29,34,343,23.334,animal = 'dog',food = 'chicken')"
   ]
  },
  {
   "cell_type": "code",
   "execution_count": 70,
   "metadata": {},
   "outputs": [],
   "source": [
    "# the order will not be broken you have to go in correcy order"
   ]
  },
  {
   "cell_type": "code",
   "execution_count": null,
   "metadata": {},
   "outputs": [],
   "source": []
  }
 ],
 "metadata": {
  "kernelspec": {
   "display_name": "Python 2",
   "language": "python",
   "name": "python2"
  },
  "language_info": {
   "codemirror_mode": {
    "name": "ipython",
    "version": 2
   },
   "file_extension": ".py",
   "mimetype": "text/x-python",
   "name": "python",
   "nbconvert_exporter": "python",
   "pygments_lexer": "ipython2",
   "version": "2.7.15"
  }
 },
 "nbformat": 4,
 "nbformat_minor": 2
}
