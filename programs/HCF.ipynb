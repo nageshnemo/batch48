{
 "cells": [
  {
   "cell_type": "code",
   "execution_count": 11,
   "metadata": {},
   "outputs": [],
   "source": [
    "# we start iterating our loop from reverse side because we want highest common factor both the no when first\n",
    "# time completely divided by hcf then we got our hcf"
   ]
  },
  {
   "cell_type": "markdown",
   "metadata": {},
   "source": [
    "# HCF of two nos"
   ]
  },
  {
   "cell_type": "code",
   "execution_count": 8,
   "metadata": {},
   "outputs": [
    {
     "name": "stdout",
     "output_type": "stream",
     "text": [
      "enter 1st no:9\n",
      "enter 2nd no:7\n",
      "the hcf of 9 and 7 is 1\n"
     ]
    }
   ],
   "source": [
    "no1 = int(raw_input(\"enter 1st no:\"))\n",
    "no2 = int (raw_input(\"enter 2nd no:\"))\n",
    "\n",
    " \n",
    "    \n",
    "for hcf in range((no1 * no2),0,-1):\n",
    "    if no1 % hcf == 0 and no2 % hcf == 0:\n",
    "        print \"the hcf of {} and {} is {}\".format(no1,no2,hcf)\n",
    "        break\n",
    "            \n",
    "            \n",
    "    "
   ]
  },
  {
   "cell_type": "code",
   "execution_count": 9,
   "metadata": {},
   "outputs": [],
   "source": [
    "# 2nd way use min in place of (no1*no2) so code become efficient"
   ]
  },
  {
   "cell_type": "code",
   "execution_count": 10,
   "metadata": {},
   "outputs": [
    {
     "name": "stdout",
     "output_type": "stream",
     "text": [
      "enter 1st no:12\n",
      "enter 2nd no:45\n",
      "the hcf of 12 and 45 is 3\n"
     ]
    }
   ],
   "source": [
    "no1 = int(raw_input(\"enter 1st no:\"))\n",
    "no2 = int (raw_input(\"enter 2nd no:\"))\n",
    "\n",
    "if no1 < no2 :\n",
    "    min = no1\n",
    "else:\n",
    "    min = no2\n",
    "    \n",
    "for hcf in range(min,0,-1):\n",
    "    if no1 % hcf == 0 and no2 % hcf == 0:\n",
    "        print \"the hcf of {} and {} is {}\".format(no1,no2,hcf)\n",
    "        break\n",
    "            \n",
    "            \n",
    "    "
   ]
  },
  {
   "cell_type": "code",
   "execution_count": null,
   "metadata": {},
   "outputs": [],
   "source": []
  }
 ],
 "metadata": {
  "kernelspec": {
   "display_name": "Python 2",
   "language": "python",
   "name": "python2"
  },
  "language_info": {
   "codemirror_mode": {
    "name": "ipython",
    "version": 2
   },
   "file_extension": ".py",
   "mimetype": "text/x-python",
   "name": "python",
   "nbconvert_exporter": "python",
   "pygments_lexer": "ipython2",
   "version": "2.7.15"
  }
 },
 "nbformat": 4,
 "nbformat_minor": 2
}
