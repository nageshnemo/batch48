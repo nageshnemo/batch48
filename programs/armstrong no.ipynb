{
 "cells": [
  {
   "cell_type": "code",
   "execution_count": 2,
   "metadata": {},
   "outputs": [
    {
     "data": {
      "text/plain": [
       "' armstrong no -> Armstrong number is a n digit number in which the sum of the its digits raised to the nth power\\n its equal to the original number'"
      ]
     },
     "execution_count": 2,
     "metadata": {},
     "output_type": "execute_result"
    }
   ],
   "source": [
    "\"\"\" armstrong no -> Armstrong number is a n digit number in which the sum of the its digits raised to the nth power\n",
    " its equal to the original number\"\"\"\n"
   ]
  },
  {
   "cell_type": "code",
   "execution_count": 3,
   "metadata": {},
   "outputs": [
    {
     "name": "stdout",
     "output_type": "stream",
     "text": [
      "enter no to check whether inputted no is armstrong or not2341\n",
      "sorry inputted no is not armstrong 2341\n"
     ]
    }
   ],
   "source": [
    "# check whether inputted no is armstrong no\n",
    "s = 0  \n",
    "number =  (raw_input(\"enter no to check whether inputted no is armstrong or not\"))\n",
    "order = len(number)\n",
    "for i in number:\n",
    "     s = s + int(i)**(order)\n",
    "\n",
    "\n",
    "if int(number) == s:\n",
    "    print \"no is armstrong\",number\n",
    "else:\n",
    "    print \"sorry inputted no is not armstrong\",number"
   ]
  },
  {
   "cell_type": "markdown",
   "metadata": {},
   "source": [
    "## armstrong using modulo division"
   ]
  },
  {
   "cell_type": "code",
   "execution_count": null,
   "metadata": {},
   "outputs": [],
   "source": [
    "# another way to find armstrong no\n",
    "num = 1634\n",
    "\n",
    "# Changed num variable to string, \n",
    "# and calculated the length (number of digits)\n",
    "order = len(str(num))\n",
    "\n",
    "# initialize sum\n",
    "sum = 0\n",
    "\n",
    "# find the sum of the cube of each digit\n",
    "temp = num\n",
    "while temp > 0:\n",
    "    digit = temp % 10\n",
    "    sum += digit ** order\n",
    "    temp /= 10\n",
    "\n",
    "# display the result\n",
    "if num == sum:\n",
    "    print(num,\"is an Armstrong number\")\n",
    "else:\n",
    "    print(num,\"is not an Armstrong number\")"
   ]
  },
  {
   "cell_type": "markdown",
   "metadata": {},
   "source": [
    "## list of armstrong nos:"
   ]
  },
  {
   "cell_type": "code",
   "execution_count": 4,
   "metadata": {},
   "outputs": [
    {
     "name": "stdout",
     "output_type": "stream",
     "text": [
      "the no is armstrong:, 1\n",
      "the no is armstrong:, 153\n",
      "the no is armstrong:, 370\n",
      "the no is armstrong:, 371\n"
     ]
    }
   ],
   "source": [
    "start =1\n",
    "end = 373\n",
    "for start in range (start,end+1,1):\n",
    "    s = 0\n",
    "    for y in str(start):\n",
    "        s = s + int(y) ** 3 \n",
    "        \n",
    "    \n",
    "    if s == int(start):\n",
    "        print \"the no is armstrong:,\",str(start)\n"
   ]
  },
  {
   "cell_type": "code",
   "execution_count": 5,
   "metadata": {},
   "outputs": [
    {
     "name": "stdout",
     "output_type": "stream",
     "text": [
      "enter the first no from you want to know the armstrong no:1\n",
      "enter the last upto which you want to know the list of armstrong number10000\n",
      "the list of armstrong no from 1 to 10000 is below:\n",
      "\n",
      "1\n",
      "153\n",
      "370\n",
      "371\n",
      "407\n"
     ]
    }
   ],
   "source": [
    "start = int(raw_input(\"enter the first no from you want to know the armstrong no:\"))\n",
    "end = int(raw_input(\"enter the last upto which you want to know the list of armstrong number\"))\n",
    "\n",
    "print \"the list of armstrong no from {} to {} is below:\\n\".format(start,end)\n",
    "\n",
    "for start in range (start,end+1,1): # why to put start after for because that start value we need which is incremented\n",
    "                                    #in first loop then use by 2nd for loop\n",
    "    \n",
    "    s = 0\n",
    "    for y in str(start):\n",
    "        s = s + int(y) ** 3 \n",
    "        \n",
    "    \n",
    "    if s == int(start):\n",
    "        print str(start)\n"
   ]
  },
  {
   "cell_type": "code",
   "execution_count": null,
   "metadata": {},
   "outputs": [],
   "source": []
  }
 ],
 "metadata": {
  "kernelspec": {
   "display_name": "Python 2",
   "language": "python",
   "name": "python2"
  },
  "language_info": {
   "codemirror_mode": {
    "name": "ipython",
    "version": 2
   },
   "file_extension": ".py",
   "mimetype": "text/x-python",
   "name": "python",
   "nbconvert_exporter": "python",
   "pygments_lexer": "ipython2",
   "version": "2.7.15"
  }
 },
 "nbformat": 4,
 "nbformat_minor": 2
}
