{
 "cells": [
  {
   "cell_type": "markdown",
   "metadata": {},
   "source": [
    "# prime no ->  a no which has only two factors (1 and no. itself )\n",
    "#### 1st way -> -----------------------------------------------------------------------------------------------------------------------------------------------------------------"
   ]
  },
  {
   "cell_type": "code",
   "execution_count": 4,
   "metadata": {},
   "outputs": [
    {
     "name": "stdout",
     "output_type": "stream",
     "text": [
      "enter the no to check that given no is prime or not:237\n",
      "number 237 is not a prime\n"
     ]
    }
   ],
   "source": [
    "## 1st way to solve the prime number :\n",
    "\n",
    "\n",
    "number = int(raw_input(\"enter the no to check that given no is prime or not:\"))\n",
    "i =2;                #we initialise i to 2 because we have no bother about 1  \n",
    "if number > 1:       # this condition check is only for checking 1 which is not a prime no\n",
    "    while i<number:       \n",
    "        if number % i == 0 :\n",
    "            print ('number {} is not a prime'.format(number))\n",
    "            break\n",
    "        i+=1\n",
    "    else:                                           #this else execute when while condition becomes false\n",
    "        print ('number {} is prime'.format(number))\n",
    "else:\n",
    "    print ('number {} is not a prime'.format(number))"
   ]
  },
  {
   "cell_type": "markdown",
   "metadata": {},
   "source": [
    "#### 2nd way ->---------------------------------------------------------------------------------------------------------------------------------"
   ]
  },
  {
   "cell_type": "code",
   "execution_count": 3,
   "metadata": {},
   "outputs": [
    {
     "name": "stdout",
     "output_type": "stream",
     "text": [
      "enter the no to check that given no is prime or not:7\n",
      "number 7 is prime\n"
     ]
    }
   ],
   "source": [
    "# 2nd way to solve the prime no concept\n",
    "\n",
    "#this is not a good way to find a no is prime or not\n",
    "\n",
    "number = int(raw_input(\"enter the no to check that given no is prime or not:\"))\n",
    "i =1;\n",
    "count = 0\n",
    "while i<=number:\n",
    "    if number % i == 0:\n",
    "        count+=1\n",
    "    i+=1\n",
    "\n",
    "if count == 2:  # in this we only checking how many factors of a no have if 2 then yes that no is prime\n",
    "    print ('number {} is prime'.format(number))\n",
    "else:\n",
    "    print ('number {} is not a prime'.format(number))\n"
   ]
  },
  {
   "cell_type": "markdown",
   "metadata": {},
   "source": [
    "#### 3rd way ---------------------------------------------------------------------------------------------------------"
   ]
  },
  {
   "cell_type": "code",
   "execution_count": 2,
   "metadata": {},
   "outputs": [
    {
     "name": "stdout",
     "output_type": "stream",
     "text": [
      "enter the no to check that given no is prime or not:1\n",
      "no is not prime\n"
     ]
    }
   ],
   "source": [
    "#3rd way to find whether no is prime or not through for loop\n",
    "\n",
    "\n",
    "number = int(raw_input(\"enter the no to check that given no is prime or not:\"))\n",
    "if number > 1:\n",
    "    for x in range(2,number):\n",
    "        if number % x == 0:\n",
    "            print\"no is not prime\"\n",
    "            break\n",
    "    else:         \n",
    "        print \"no is prime\"\n",
    "else:\n",
    "    print\"no is not prime\""
   ]
  },
  {
   "cell_type": "code",
   "execution_count": null,
   "metadata": {},
   "outputs": [],
   "source": [
    "#3rd way to find whether no is prime or not through for loop\n",
    "\n",
    "\n",
    "number = int(raw_input(\"enter the no to check that given no is prime or not:\"))\n",
    "if number > 1:\n",
    "    for x in range(2,number):\n",
    "        if number % x == 0:\n",
    "            print\"no is not prime\"\n",
    "            break\n",
    "    else:         \n",
    "        print \"no is prime\"\n",
    "else:\n",
    "    print\"no is not prime\""
   ]
  },
  {
   "cell_type": "markdown",
   "metadata": {},
   "source": [
    "## list of prime nos in range"
   ]
  },
  {
   "cell_type": "code",
   "execution_count": 5,
   "metadata": {},
   "outputs": [
    {
     "name": "stdout",
     "output_type": "stream",
     "text": [
      "enter the  start value where you want to know the prime no12\n",
      "enter the end the value at which you want to know the prime no34\n",
      "no 13 is prime\n",
      "no 17 is prime\n",
      "no 19 is prime\n",
      "no 23 is prime\n",
      "no 29 is prime\n",
      "no 31 is prime\n"
     ]
    }
   ],
   "source": [
    "start = int(raw_input(\"enter the  start value where you want to know the prime no\"))\n",
    "end = int(raw_input(\"enter the end the value at which you want to know the prime no\"))\n",
    "\n",
    "\n",
    "\n",
    "for start in range (start,end + 1,1):\n",
    "    count = 0\n",
    "    for y in range(1,start+1,1):     # we use start here because from 1st for loop start is incremented \n",
    "    \n",
    "        if start % y == 0:\n",
    "            count+=1\n",
    "                            # we are checking through 1 to that no that there was how many factors a no have            count+=1\n",
    "    if count ==2:\n",
    "        print ('no {} is prime'.format(start))"
   ]
  },
  {
   "cell_type": "code",
   "execution_count": 17,
   "metadata": {},
   "outputs": [
    {
     "name": "stdout",
     "output_type": "stream",
     "text": [
      "enter starting no12\n",
      "enter ending no34\n",
      "\n",
      "Prime Numbers between the given range:\n",
      "('the no is prime', 13)\n",
      "('the no is prime', 17)\n",
      "('the no is prime', 19)\n",
      "('the no is prime', 23)\n",
      "('the no is prime', 29)\n",
      "('the no is prime', 31)\n"
     ]
    }
   ],
   "source": [
    "# way to solve prime no in some range\n",
    "\n",
    "start = int(raw_input(\"enter starting no\"))\n",
    "end = int(raw_input(\"enter ending no\"))\n",
    "\n",
    "print(\"\\nPrime Numbers between the given range:\")\n",
    "\n",
    "for num in range(start,end+1):\n",
    "    for i in range(2,num):\n",
    "                \n",
    "        if (num%i)==0:\n",
    "                break\n",
    "    else:\n",
    "        print(\"the no is prime\",num)"
   ]
  },
  {
   "cell_type": "code",
   "execution_count": 2,
   "metadata": {},
   "outputs": [
    {
     "name": "stdout",
     "output_type": "stream",
     "text": [
      " no is prime\n"
     ]
    }
   ],
   "source": [
    "import math\n",
    "\n",
    "def is_prime(num):\n",
    "    '''\n",
    "    Better method of checking for primes. \n",
    "    '''\n",
    "    if num % 2 == 0 and num > 2: \n",
    "        return False\n",
    "    for i in range(3, int(math.sqrt(num)) + 1, 2):\n",
    "        if num % i == 0:\n",
    "            return False\n",
    "    return True\n",
    "\n",
    "result = is_prime(23)\n",
    "if result:\n",
    "    print \"no is prime\"\n",
    "else:\n",
    "    print \"no is not prime\""
   ]
  },
  {
   "cell_type": "code",
   "execution_count": 3,
   "metadata": {},
   "outputs": [
    {
     "name": "stdout",
     "output_type": "stream",
     "text": [
      "enter no to check whether no is prime or not237\n",
      "no is not prime\n"
     ]
    }
   ],
   "source": [
    "import math\n",
    "\n",
    "def is_prime(num):\n",
    "    '''\n",
    "    Better method of checking for primes. \n",
    "    '''\n",
    "    if num % 2 == 0 and num > 2: \n",
    "        return False\n",
    "    for i in range(3, int(math.sqrt(num)) + 1, 2):\n",
    "        if num % i == 0:\n",
    "            return False\n",
    "    return True\n",
    "\n",
    "result = is_prime(int(raw_input(\"enter no to check whether no is prime or not\")))\n",
    "if result:\n",
    "    print \"no is prime\"\n",
    "else:\n",
    "    print \"no is not prime\""
   ]
  },
  {
   "cell_type": "code",
   "execution_count": null,
   "metadata": {},
   "outputs": [],
   "source": []
  }
 ],
 "metadata": {
  "kernelspec": {
   "display_name": "Python 2",
   "language": "python",
   "name": "python2"
  },
  "language_info": {
   "codemirror_mode": {
    "name": "ipython",
    "version": 2
   },
   "file_extension": ".py",
   "mimetype": "text/x-python",
   "name": "python",
   "nbconvert_exporter": "python",
   "pygments_lexer": "ipython2",
   "version": "2.7.15"
  }
 },
 "nbformat": 4,
 "nbformat_minor": 2
}
