{
 "cells": [
  {
   "cell_type": "markdown",
   "metadata": {},
   "source": [
    "# L.C.M means least common multiple = The least common multiple (LCM) of 2 numbers is the smallest number that they both divide evenly into"
   ]
  },
  {
   "cell_type": "code",
   "execution_count": 14,
   "metadata": {},
   "outputs": [
    {
     "name": "stdout",
     "output_type": "stream",
     "text": [
      "enter 1st no:9\n",
      "enter 2nd no:7\n",
      "the lcm of 9 and 7 is 63\n"
     ]
    }
   ],
   "source": [
    "# 1st way to solve lcm (least common multiple ) of two numbers:\n",
    "\n",
    "no1 = int(raw_input(\"enter 1st no:\"))\n",
    "no2 = int(raw_input (\"enter 2nd no:\"))\n",
    "\n",
    "for lcm in range (1,(no1*no2)+1):\n",
    "    if (lcm % no1 == 0) and (lcm % no2 == 0):\n",
    "        print \"the lcm of {} and {} is {}\".format(no1,no2,lcm)\n",
    "        break\n",
    "else:\n",
    "    print \"the lcm of {} and {} is {}\".format(no1,no2,lcm)"
   ]
  },
  {
   "cell_type": "code",
   "execution_count": null,
   "metadata": {},
   "outputs": [],
   "source": []
  },
  {
   "cell_type": "code",
   "execution_count": 8,
   "metadata": {},
   "outputs": [
    {
     "name": "stdout",
     "output_type": "stream",
     "text": [
      "enter 1st no:7\n",
      "enter 2nd no:9\n",
      "the lcm of 7 and 9 is 63\n"
     ]
    }
   ],
   "source": [
    "# 1st way to sove whether two numbers is prime or not:\n",
    "\n",
    "no1 = int(raw_input(\"enter 1st no:\"))\n",
    "no2 = int(raw_input (\"enter 2nd no:\"))\n",
    "\n",
    "for lcm in range (1,(no1*no2)):\n",
    "    if (lcm % no1 == 0) and (lcm % no2 == 0):\n",
    "        print \"the lcm of {} and {} is {}\".format(no1,no2,lcm)\n",
    "        break\n",
    "else:\n",
    "    print \"the lcm of {} and {} is {}\".format(no1,no2,(no1 * no2))"
   ]
  },
  {
   "cell_type": "code",
   "execution_count": 10,
   "metadata": {},
   "outputs": [
    {
     "name": "stdout",
     "output_type": "stream",
     "text": [
      "enter 1st no:32\n",
      "enter 2nd no:45\n",
      "the lcm of 32 and 45 is 1440\n"
     ]
    }
   ],
   "source": [
    "# 2nd way to solve whether no is prime or not\n",
    "\"\"\"4 and 6 lcm is 12\n",
    "and smallest possiblity is never less than 6 so i will start my loop through 6 upto multiple of both numbers so my\n",
    "code become efficient\"\"\"\n",
    "\n",
    "\n",
    "no1 = int(raw_input(\"enter 1st no:\"))\n",
    "no2 = int(raw_input (\"enter 2nd no:\"))\n",
    "\n",
    "\n",
    "if no1 > no2:\n",
    "    for lcm in range (no1,(no1*no2)):\n",
    "        if (lcm % no1 == 0) and (lcm % no2 == 0):\n",
    "            print \"the lcm of {} and {} is {}\".format(no1,no2,lcm)\n",
    "            break\n",
    "    else:\n",
    "        print \"the lcm of {} and {} is {}\".format(no1,no2,(no1 * no2))\n",
    "        \n",
    "        \n",
    "else:\n",
    "    for lcm in range (no1,(no1*no2)):\n",
    "        if (lcm % no1 == 0) and (lcm % no2 == 0):\n",
    "            print \"the lcm of {} and {} is {}\".format(no1,no2,lcm)\n",
    "            break\n",
    "    else:\n",
    "        print \"the lcm of {} and {} is {}\".format(no1,no2,(no1 * no2))\n"
   ]
  },
  {
   "cell_type": "code",
   "execution_count": null,
   "metadata": {},
   "outputs": [],
   "source": []
  }
 ],
 "metadata": {
  "kernelspec": {
   "display_name": "Python 2",
   "language": "python",
   "name": "python2"
  },
  "language_info": {
   "codemirror_mode": {
    "name": "ipython",
    "version": 2
   },
   "file_extension": ".py",
   "mimetype": "text/x-python",
   "name": "python",
   "nbconvert_exporter": "python",
   "pygments_lexer": "ipython2",
   "version": "2.7.15"
  }
 },
 "nbformat": 4,
 "nbformat_minor": 2
}
