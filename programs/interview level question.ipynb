{
 "cells": [
  {
   "cell_type": "markdown",
   "metadata": {},
   "source": [
    "Given a list and a number find two numbers in the list that sums up to the number given? \n",
    "List a=[ 1,2,3 none, none] list b=[4,5,3] Output=[1,4,2,5,3,3] ? "
   ]
  },
  {
   "cell_type": "code",
   "execution_count": null,
   "metadata": {},
   "outputs": [],
   "source": [
    "l = [1,23,45,23,342,11,334,11]\n",
    "no = raw_input(\"enter the no to search \")\n",
    "\n",
    "c= 1\n",
    "for i in l:\n",
    "    for j in l[c:]:\n",
    "        if i + j == no:\n",
    "            print \"yes found\"\n",
    "            break\n",
    "    c+=1\n",
    "    \n",
    "else:\n",
    "    print \"sorry not found\""
   ]
  },
  {
   "cell_type": "markdown",
   "metadata": {},
   "source": [
    "\n"
   ]
  },
  {
   "cell_type": "code",
   "execution_count": 1,
   "metadata": {},
   "outputs": [
    {
     "name": "stdout",
     "output_type": "stream",
     "text": [
      "enter the no to search 23\n",
      "sorry not found\n"
     ]
    }
   ],
   "source": [
    "l = [1,23,45,23,342,11,334,11]\n",
    "no = raw_input(\"enter the no to search \")\n",
    "\n",
    "c= 1\n",
    "for i in l:\n",
    "    for j in l[c:]:\n",
    "        if i + j == no:\n",
    "            print \"yes found\"\n",
    "            break\n",
    "    c+=1\n",
    "    \n",
    "else:\n",
    "    print \"sorry not found\""
   ]
  },
  {
   "cell_type": "code",
   "execution_count": 8,
   "metadata": {},
   "outputs": [
    {
     "ename": "SyntaxError",
     "evalue": "invalid syntax (<ipython-input-8-3f2ddff0c33f>, line 13)",
     "output_type": "error",
     "traceback": [
      "\u001b[1;36m  File \u001b[1;32m\"<ipython-input-8-3f2ddff0c33f>\"\u001b[1;36m, line \u001b[1;32m13\u001b[0m\n\u001b[1;33m    else:\u001b[0m\n\u001b[1;37m       ^\u001b[0m\n\u001b[1;31mSyntaxError\u001b[0m\u001b[1;31m:\u001b[0m invalid syntax\n"
     ]
    }
   ],
   "source": [
    "l = [1,23,45,23,342,11,334,11]\n",
    "no = int(raw_input(\"enter the no to search \"))\n",
    "\n",
    "c= 1\n",
    "for i in l:\n",
    "    for j in l[c:]:\n",
    "        if  (i +j) == no:\n",
    "            print \"the i is \",i\n",
    "            print \"the j is \",j\n",
    "            print \"yes found\"\n",
    "            break\n",
    "    c+=1\n",
    "    \n"
   ]
  },
  {
   "cell_type": "code",
   "execution_count": 10,
   "metadata": {},
   "outputs": [
    {
     "name": "stdout",
     "output_type": "stream",
     "text": [
      "[1, 2, 3, None, None, 4, 5, 3, None, None]\n"
     ]
    }
   ],
   "source": [
    "l = [1,2,3,None,None]\n",
    "l_= [4,5,3,None,None]\n",
    "\n",
    "print l + l_"
   ]
  },
  {
   "cell_type": "code",
   "execution_count": null,
   "metadata": {},
   "outputs": [],
   "source": []
  },
  {
   "cell_type": "code",
   "execution_count": null,
   "metadata": {},
   "outputs": [],
   "source": []
  }
 ],
 "metadata": {
  "kernelspec": {
   "display_name": "Python 2",
   "language": "python",
   "name": "python2"
  },
  "language_info": {
   "codemirror_mode": {
    "name": "ipython",
    "version": 2
   },
   "file_extension": ".py",
   "mimetype": "text/x-python",
   "name": "python",
   "nbconvert_exporter": "python",
   "pygments_lexer": "ipython2",
   "version": "2.7.15"
  }
 },
 "nbformat": 4,
 "nbformat_minor": 2
}
