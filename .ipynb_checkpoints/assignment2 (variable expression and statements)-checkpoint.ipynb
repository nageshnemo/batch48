{
 "cells": [
  {
   "cell_type": "markdown",
   "metadata": {},
   "source": [
    "# Q-1.\n",
    "Take the input from the user for  (Total number of people, total number of buses, Number of seats for bus, adjust factor).\n",
    "  Based on four inputs------\n",
    "  Decide whether there is sufficient buses or not and give solution for how many extra buses required.\n"
   ]
  },
  {
   "cell_type": "code",
   "execution_count": 28,
   "metadata": {},
   "outputs": [
    {
     "name": "stdout",
     "output_type": "stream",
     "text": [
      "enter total no of people:34\n",
      "enter total no of buses:1\n",
      "enter no seats:6\n",
      "enter adjustment factor:3\n",
      "no of more buses required is 1\n"
     ]
    }
   ],
   "source": [
    "Total_no_of_people = input(\"enter total no of people:\")\n",
    "Total_no_of_buses = input(\"enter total no of buses:\")\n",
    "No_of_seats = input(\"enter no seats:\")\n",
    "adjust_factor = input(\"enter adjustment factor:\") \n",
    "extra_bus = 0\n",
    "No_of_seats = No_of_seats * Total_no_of_buses\n",
    "\n",
    "if Total_no_of_people > No_of_seats:\n",
    "    if (Total_no_of_people - No_of_seats) <= (adjust_factor * Total_no_of_buses):\n",
    "        print \"no more buses are required\"\n",
    "    else:\n",
    "        more_seats = (Total_no_of_people - No_of_seats) - (adjust_factor * Total_no_of_buses)\n",
    "        if more_seats > No_of_seats:\n",
    "            extra_bus+=1\n",
    "            print \" sorry no more spaces left !!!no of more buses required is\",extra_bus\n",
    "        else:\n",
    "            print \"sorry more buses are required\"\n",
    "else:\n",
    "    print \"all people get their seats ! no more buses\"\n",
    "    \n",
    "    \n",
    "    \n",
    "\n"
   ]
  },
  {
   "cell_type": "markdown",
   "metadata": {},
   "source": [
    "## Q-2. >\n",
    "take temperature from the user and convert celsius -> fahrenheit\n",
    "\n",
    "note ===formula [ fahrenheit = (celsius * 1.8) + 32 ]\n",
    " "
   ]
  },
  {
   "cell_type": "code",
   "execution_count": 12,
   "metadata": {},
   "outputs": [
    {
     "name": "stdout",
     "output_type": "stream",
     "text": [
      "enter celsius temperature34\n",
      "the 34 celsius is 93.2 fahrenheit\n"
     ]
    }
   ],
   "source": [
    "celsius_temperature = raw_input(\"enter  temperature in celsius\")\n",
    "fahrenheit_temperature = (float(celsius_temperature) * 1.8) + 32\n",
    "print \"the \"+celsius_temperature+\" celsius is\",fahrenheit_temperature,\"fahrenheit\""
   ]
  },
  {
   "cell_type": "markdown",
   "metadata": {},
   "source": [
    "# Q -3 \n",
    "take temperature from the user and convert  fahrenheit -> celsius"
   ]
  },
  {
   "cell_type": "code",
   "execution_count": 14,
   "metadata": {},
   "outputs": [
    {
     "name": "stdout",
     "output_type": "stream",
     "text": [
      "enter  temperature in fahrenheit93.2\n",
      "the 93.2 fahrenheit is 34.0 celsius\n"
     ]
    }
   ],
   "source": [
    "fahrenheit_temperature = raw_input(\"enter  temperature in fahrenheit\")\n",
    "celsius_temperature = (float(fahrenheit_temperature) - 32) / 1.8\n",
    "print \"the \"+fahrenheit_temperature+\" fahrenheit is\",celsius_temperature,\"celsius\""
   ]
  },
  {
   "cell_type": "markdown",
   "metadata": {},
   "source": [
    "## Q-4\n",
    "       find :\n",
    "    -> factorial of every no.\n",
    "    -> sum of four numbers\n",
    "    -> average of four nos\n",
    "    "
   ]
  },
  {
   "cell_type": "code",
   "execution_count": 10,
   "metadata": {},
   "outputs": [
    {
     "name": "stdout",
     "output_type": "stream",
     "text": [
      "enter no23.3\n",
      "enter no34.3\n",
      "enter no33\n",
      "enter no23.444\n",
      "the sum of four no is: 114.044\n",
      "the average of four no is: 28.511\n"
     ]
    }
   ],
   "source": [
    "n1 = input(\"enter no\")\n",
    "n2 = input(\"enter no\")\n",
    "n3 = input(\"enter no\")\n",
    "n4 = input(\"enter no\")\n",
    "print \"the sum of four no is:\",(n1+n2+n3+n4)\n",
    "print \"the average of four no is:\",(n1+n2+n3+n4)/4\n"
   ]
  },
  {
   "cell_type": "markdown",
   "metadata": {},
   "source": [
    "# Q -> 5\n",
    "name=\"Jayaram\"\n",
    "age=1.6\n",
    "height=3.5356234\n",
    "weight=10.343856783\n",
    "By using above inputs print the output\n",
    "\n",
    "Name:Jayaram, Age:1.6, Height:3.54, Weight:10.344\n",
    "\n",
    "Note: Use format specifiers(%s, %d, %f)\n",
    "\n"
   ]
  },
  {
   "cell_type": "code",
   "execution_count": 14,
   "metadata": {},
   "outputs": [
    {
     "name": "stdout",
     "output_type": "stream",
     "text": [
      "Name: jayaram,age:1.6,Height:3.54,Weight:10.344\n"
     ]
    }
   ],
   "source": [
    "name = \"jayaram\"\n",
    "age = 1.6\n",
    "height = 3.5356234\n",
    "weight = 10.343856783\n",
    "print \"Name: %s,age:%.1f,Height:%.2f,Weight:%.3f\"%(name,age,height,weight)"
   ]
  },
  {
   "cell_type": "markdown",
   "metadata": {},
   "source": [
    "## Q ->6 \n",
    "Take three small case letters from the user convert in to uppercase.\n"
   ]
  },
  {
   "cell_type": "code",
   "execution_count": 9,
   "metadata": {},
   "outputs": [
    {
     "name": "stdout",
     "output_type": "stream",
     "text": [
      "enter lowercase character a\n",
      "enter lowercase character b\n",
      "enter lowercase character c\n",
      "the changed uppercase letter is A\n",
      "the changed uppercase letter is B\n",
      "the changed uppercase letter is C\n"
     ]
    }
   ],
   "source": [
    "ch1 = raw_input(\"enter lowercase character \")\n",
    "ch2 = raw_input(\"enter lowercase character \")\n",
    "ch3 = raw_input(\"enter lowercase character \")\n",
    "ch1 = ord(ch1)\n",
    "ch2 = ord(ch2)\n",
    "ch3 = ord(ch3)\n",
    "print (\"the changed uppercase letter is %s\"%(chr(ch1-32)))\n",
    "print (\"the changed uppercase letter is %s\"%(chr(ch2-32)))\n",
    "print (\"the changed uppercase letter is %s\"%(chr(ch3-32)))"
   ]
  },
  {
   "cell_type": "markdown",
   "metadata": {},
   "source": [
    "# Q->  7\n",
    "          y=mx+b\n",
    "          All a,b,c,d are consider as (x1,x2,x3,x4)\n",
    "          m=1.23\n",
    "          b=0.045\n",
    "          find out y\n",
    "          y=m(x1+x2+x3+x4)+b"
   ]
  },
  {
   "cell_type": "code",
   "execution_count": 13,
   "metadata": {},
   "outputs": [
    {
     "name": "stdout",
     "output_type": "stream",
     "text": [
      "enter value of a12\n",
      "enter value of b14\n",
      "enter value of c2\n",
      "enter value of d2\n",
      "the value of y is: 36.945\n"
     ]
    }
   ],
   "source": [
    "X1 = input(\"enter value of a\")\n",
    "X2 = input(\"enter value of b\")\n",
    "X3 = input(\"enter value of c\")\n",
    "X4 = input(\"enter value of d\")\n",
    "b = 0.045\n",
    "m = 1.23\n",
    "y = m * (X1+X2+X3+X4) + b\n",
    "print \"the value of y is:\",y"
   ]
  },
  {
   "cell_type": "markdown",
   "metadata": {},
   "source": [
    "## Q-> 8. \n",
    "Take name, age, height from the user and print like below\n",
    "The details of the person: Name:name of the person, Age:age of the person, Height:height of the person\n",
    "Note: make sure that no space between : and a value and should be space after “COMA”\n"
   ]
  },
  {
   "cell_type": "code",
   "execution_count": 16,
   "metadata": {},
   "outputs": [
    {
     "name": "stdout",
     "output_type": "stream",
     "text": [
      "enter name of the person:nagesh singh rajput\n",
      "enter age of the person:19\n",
      "enter height of the person:23.55\n",
      "Name:nagesh singh rajput,Age:19,Height:23.550000\n"
     ]
    }
   ],
   "source": [
    "name = raw_input(\"enter name of the person:\")\n",
    "age = raw_input(\"enter age of the person:\")\n",
    "height = raw_input(\"enter height of the person:\")\n",
    "age = int(age)\n",
    "height = float(height)\n",
    "print \"Name:%s,Age:%d,Height:%f\"%(name,age,height)"
   ]
  },
  {
   "cell_type": "markdown",
   "metadata": {},
   "source": [
    "## Q ->9 \n",
    "Take the distance in km\n",
    "Show that in cm, meters, in milli meters, cents, feets\n"
   ]
  },
  {
   "cell_type": "code",
   "execution_count": 18,
   "metadata": {},
   "outputs": [
    {
     "name": "stdout",
     "output_type": "stream",
     "text": [
      "enter distances in km11\n",
      "conversion of km into meter is : 11000\n",
      "conversion of km into centimeter is : 1100000\n",
      "conversion of km into milli-meter is : 11000000\n",
      "conversion of km into feets is : 36089.240000\n"
     ]
    }
   ],
   "source": [
    "km = input(\"enter distances in km\")\n",
    "meter = km * 1000\n",
    "cm = km * 100000\n",
    "mm = km * 1000000\n",
    "feets = km * 3280.84\n",
    "print \"conversion of km into meter is : %d\"%meter\n",
    "print \"conversion of km into centimeter is : %d\"%cm\n",
    "print \"conversion of km into milli-meter is : %d\"%mm\n",
    "print \"conversion of km into feets is : %f\"%feets"
   ]
  },
  {
   "cell_type": "markdown",
   "metadata": {},
   "source": [
    "## Q-> 10\n",
    "Take the size of your hard disk in GB\n",
    "     \tShow that in MB, KB, TB, PB\n"
   ]
  },
  {
   "cell_type": "code",
   "execution_count": 19,
   "metadata": {},
   "outputs": [
    {
     "name": "stdout",
     "output_type": "stream",
     "text": [
      "enter your hard disk space in gb12345\n",
      "conversion of gb into mb is : 12641280.000000\n",
      "conversion of gb into tb is : 12.345000\n",
      "conversion of gb into kb is : 12944670720.000000\n",
      "conversion of gb into pb is : 0.000000\n"
     ]
    }
   ],
   "source": [
    "gb = input(\"enter your hard disk space in gb\")\n",
    "mb = gb * 1024\n",
    "tb = gb * 0.001\n",
    "kb = gb * (1024 * 1024)\n",
    "pb = gb / 1000000\n",
    "print \"conversion of gb into mb is : %f\"%mb\n",
    "print \"conversion of gb into tb is : %f\"%tb\n",
    "print \"conversion of gb into kb is : %f\"%kb\n",
    "print \"conversion of gb into pb is : %f\"%pb"
   ]
  },
  {
   "cell_type": "code",
   "execution_count": null,
   "metadata": {},
   "outputs": [],
   "source": []
  }
 ],
 "metadata": {
  "kernelspec": {
   "display_name": "Python 2",
   "language": "python",
   "name": "python2"
  },
  "language_info": {
   "codemirror_mode": {
    "name": "ipython",
    "version": 2
   },
   "file_extension": ".py",
   "mimetype": "text/x-python",
   "name": "python",
   "nbconvert_exporter": "python",
   "pygments_lexer": "ipython2",
   "version": "2.7.15"
  }
 },
 "nbformat": 4,
 "nbformat_minor": 2
}
