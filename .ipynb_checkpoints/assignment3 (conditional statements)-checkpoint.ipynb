{
 "cells": [
  {
   "cell_type": "markdown",
   "metadata": {},
   "source": [
    "Conditional statements\n",
    "\n",
    " Take number from the user decide whether it is even or odd.\n",
    "take number from the user decide whether it is positive number or negative number\n",
    "take a string from the user print the length. if the user not given anything then show an error message\n",
    "code to perform mathematical operations. take two numbers from the user: 1. add, 2. sub, 3. mul, 4.div, 5.quit\n",
    "118. show the menu:\n",
    "   \t\t 1. kids\n",
    "    \t\t2. Men's\n",
    "   \t\t 3. Women's\n",
    "    Show the corresponding message based on the selection. Mention error message if he enter >3.\n",
    "Take an age from the user: and mention that what he can do in india.\n",
    "\"\"\"\n",
    "Eligibility:\n",
    "    \t1. Theatre: 5\n",
    "    \t2. Voting system: 18\n",
    "    \t3. Marriage in india: 23\n",
    "    \t4. For govt jobs: 18\n",
    "   \t 5. For driving licence: 18\n",
    "   \t Enter an option:\n",
    "    \tEnter an age:\n",
    "\"\"\"\n",
    " write a program to chek given substring is there in actual string or not? (search should be case insensitive)\n",
    "Take three numbers from the user and decide which is big\n",
    " Take age and gender from the user and decide whether he is eligible for marriage in India or not. \n",
    "Age criteria: men age>22, women>18\n",
    "Take an age  and gender from the user: and mention that what he/she can do in india.\n",
    "\"\"\"\n",
    "Eligibility:\n",
    "   \t1. Theatre: 5 for men 7 for women\n",
    "    \t2. Voting system: 18 for men and women\n",
    "    \t3. Marriage in india: 23 for men and for women >28\n",
    "    \t4. For govt jobs: 18 for men and women\n",
    "   \t 5. For driving licence: 18 for men and women\n",
    "   \t Enter an option:\n",
    "    \tEnter an age:\n",
    "\"\"\"\n",
    "operating systems:\n",
    "\t1.windows\n",
    "\t2.android\n",
    "\t3.mac\n",
    "Enter an option:\n",
    "\n",
    "If the user enters 1 then show \"Goto first floor and buy windows laptop or mobile\"\n",
    "If the user enters 2 then show \"Goto second floor and buy adroid mobiles\"\n",
    "If the user enters 3 then show \"Goto third floor and buy mac laptop or iphones\"\n",
    "If the user enters other than 1 or 2 or 3 then show \"There is only three floors, please select 1 or 2 or 3\"\n"
   ]
  },
  {
   "cell_type": "code",
   "execution_count": 3,
   "metadata": {},
   "outputs": [
    {
     "name": "stdout",
     "output_type": "stream",
     "text": [
      "enter the number to check whether no is odd or even:25\n",
      "no 25 is odd \n"
     ]
    }
   ],
   "source": [
    "number = raw_input(\"enter the number to check whether no is odd or even:\")\n",
    "number = int(number)\n",
    "if (number % 2) == 0:\n",
    "    print \"number is even %d\"%(number)\n",
    "else:\n",
    "    print \"no %d is odd \"%(number)"
   ]
  },
  {
   "cell_type": "markdown",
   "metadata": {},
   "source": [
    "## Q-> 2 \n",
    "take number from the user decide whether it is positive number or negative number"
   ]
  },
  {
   "cell_type": "code",
   "execution_count": 7,
   "metadata": {},
   "outputs": [
    {
     "name": "stdout",
     "output_type": "stream",
     "text": [
      "enter the number to check whether no is positive or negative:0\n",
      "no is zero which is neither negative nor positve\n"
     ]
    }
   ],
   "source": [
    "number = raw_input(\"enter the number to check whether no is positive or negative:\")\n",
    "number = int(number)\n",
    "if number  > 0:\n",
    "    print \"number is positive %d\"%(number)\n",
    "elif number < 0:\n",
    "    print \"no %d is negative \"%(number)\n",
    "else:\n",
    "    print \"no is zero which is neither negative nor positve\""
   ]
  },
  {
   "cell_type": "markdown",
   "metadata": {},
   "source": [
    "## Q-> 3\n",
    "take a string from the user print the length\n",
    "if the user not given anything then show an error message"
   ]
  },
  {
   "cell_type": "code",
   "execution_count": 10,
   "metadata": {},
   "outputs": [
    {
     "name": "stdout",
     "output_type": "stream",
     "text": [
      "enter the string to print length:wwwwwwwwwwwwwwwww\n",
      "the length of string is 17\n"
     ]
    }
   ],
   "source": [
    "string = raw_input(\"enter the string to print length:\")\n",
    "\n",
    "print \"the length of string is %s\"%(len(string))\n"
   ]
  },
  {
   "cell_type": "markdown",
   "metadata": {},
   "source": [
    "## Q ->\n",
    "code to perform mathematical operations. \n",
    "take two numbers from the user: 1. add, 2. sub, 3. mul, 4.div, 5.quit"
   ]
  },
  {
   "cell_type": "code",
   "execution_count": null,
   "metadata": {},
   "outputs": [],
   "source": [
    "print(\"\\t1.add:\\n\\t2.sub\\n\\t3.mul\\n\\t4.div\\n\\tquit\")\n",
    "choice = input(\"enter your choice for above operations:\")\n",
    "if choice == 1:\n",
    "    number1 = input(\"enter 1st no\")\n",
    "    number2 = input(\"enter 2nd no\")\n",
    "    print \"the addition of two nos is %d\"%(number1 + number2)\n",
    "elif choice == 2:\n",
    "    number1 = input(\"enter 1st no\")\n",
    "    number2 = input(\"enter 2nd no\")\n",
    "    print \"the subtraction of two nos is %d\"%(number1 - number2)\n",
    "elif choice == 3:\n",
    "    number1 = input(\"enter 1st no\")\n",
    "    number2 = input(\"enter 2nd no\")\n",
    "    print \"the multiply of two nos is %d\"%(number1 * number2)\n",
    "elif choice == 4:\n",
    "    number1 = input(\"enter 1st no\")\n",
    "    number2 = input(\"enter 2nd no\")\n",
    "    print \"the division of two nos is %f\"%(number1 / number2)\n",
    "elif choice == 5:\n",
    "    exit()\n"
   ]
  },
  {
   "cell_type": "markdown",
   "metadata": {},
   "source": [
    "# Q ->\n",
    "Take an age from the user: and mention that what he can do in india.\n",
    "\"\"\"\n",
    "Eligibility:\n",
    "    \t1. Theatre: 5\n",
    "    \t2. Voting system: 18\n",
    "    \t3. Marriage in india: 23\n",
    "    \t4. For govt jobs: 18\n",
    "   \t 5. For driving licence: 18"
   ]
  },
  {
   "cell_type": "code",
   "execution_count": 22,
   "metadata": {},
   "outputs": [
    {
     "name": "stdout",
     "output_type": "stream",
     "text": [
      "eligiblity:\n",
      "1. Theatre: 5 for men and 7 for women\n",
      "2. Voting system: 18 for men and women\n",
      "3.Marriage in india: 23 in men and for women >21\n",
      "4. For govt jobs:(min:18)\n",
      "5. For driving licence: 18\n",
      "enter your option from above list3\n",
      "you choose 3\n",
      "Gender: \n",
      "\t 1.men\n",
      "\t2.women\n",
      "enter your gender either 1 or 22\n",
      "you choose 2\n",
      "enter your age44\n",
      "your age is 44\n",
      "you are eligible for marriage in india\n"
     ]
    }
   ],
   "source": [
    "print \"eligiblity:\\n1. Theatre: 5 for men and 7 for women\\n2. Voting system: 18 for men and women\\n3.\\\n",
    "Marriage in india: 23 in men and for women >21\\n4. For govt jobs:(min:18)\\n\\\n",
    "5. For driving licence: 18\"\n",
    "option = int(raw_input(\"enter your option from above list\"))\n",
    "print (\"you choose %d\"%option)\n",
    "print \"Gender: \\n\\t 1.men\\n\\t2.women\"\n",
    "gender = int(raw_input(\"enter your gender either 1 or 2\"))\n",
    "print (\"you choose %d\"%gender)\n",
    "age = int(raw_input(\"enter your age\"))\n",
    "print (\"your age is %d\"%age)\n",
    "if option == 1: \n",
    "    if gender == 1 and age >= 5:  \n",
    "        print \"you are eligible for theatre in india\"\n",
    "    else:\n",
    "        if  gender == 2 and age >= 7:\n",
    "            print \"you are eligible for theatre\"\n",
    "        else:\n",
    "            print \"you are taking wrong input\"\n",
    "\n",
    "    \n",
    "elif option == 2 : \n",
    "    if (gender == 1 or gender == 2) and age >= 18:  \n",
    "        print \"you are eligible for voting in india\"\n",
    "    else:\n",
    "        print \"you are taking wrong input\"\n",
    "\n",
    "    \n",
    "elif option == 3: \n",
    "    if (gender == 1 or gender == 2) and age >= 23:  \n",
    "        print \"you are eligible for marriage in india\"\n",
    "    else:\n",
    "        print \"you are taking wrong input\"\n",
    "\n",
    "elif option == 4: \n",
    "    if (gender == 1) and (age >= 18 and age <= 32): \n",
    "        print \"you are eligible for govt jobs in india\"\n",
    "    elif age >= 18 and age <= 34:\n",
    "            print \"you are eligible for govt jobs\"\n",
    "    else:\n",
    "        print \"you are taking wrong input\"\n",
    "\n",
    "elif option == 5: \n",
    "    if (gender == 1 or gender == 2) and (age >= 18 and age <=60):\n",
    "        print \"you are eligible for driving license in india\"\n",
    "    else:\n",
    "        print \"you are taking wrong input\"\n",
    "    \n",
    "else:\n",
    "    print \"you take wrong input\"\n",
    "\n",
    "\n",
    "\n",
    "    "
   ]
  },
  {
   "cell_type": "code",
   "execution_count": null,
   "metadata": {},
   "outputs": [],
   "source": [
    "age = input(\"enter your age\")\n",
    "gender = raw_input(\"enter your gender M/F\")\n",
    "if gender == 'M' and age >= 22:\n",
    "    print(\"fine! you are eligible for marriage\")\n",
    "else:\n",
    "    if age >= 18:\n",
    "        print \"fine you are eligible for marriage!\"\n",
    "print \"happy! marriage life\""
   ]
  },
  {
   "cell_type": "code",
   "execution_count": null,
   "metadata": {},
   "outputs": [],
   "source": [
    "# a,b,c take 3 input from user and check wheteher which  no is greater of all.\n",
    "\n",
    "a = input(\"enter 1st no\")\n",
    "b = input(\"enter 2nd no\")\n",
    "c = input(\"enter 3rd no\")\n",
    "if a>b:\n",
    "    if a>c:\n",
    "        print \"a is greater of 3nos\"\n",
    "    else:\n",
    "        print \"c is greater of 3nos\"\n",
    "else:\n",
    "    if b>c:\n",
    "        print \"b is greater of 3nos\"\n",
    "    else:\n",
    "        print \"c is greater of 3nos\"\n",
    "\n",
    "       "
   ]
  },
  {
   "cell_type": "code",
   "execution_count": null,
   "metadata": {},
   "outputs": [],
   "source": [
    "# using only if condition:\n",
    "print \" operating systems:\\n\\t1.windows\\n\\t2.android\\n\\t3.mac\"\n",
    "option = raw_input(\"enter your option as 1/2/3:\")\n",
    "if option == '1':\n",
    "    print \"go to first floor and buy windows laptop or mobile \"\n",
    "if option == '2':\n",
    "    print \"go to second floor and buy android mobiles \"\n",
    "if option == '3':\n",
    "    print \"go to third floor and buy iphones ipods or mac \"\n",
    "if option != '1' and option != '2' and option != '3':\n",
    "    print \"there is only three floors,please select 1,2,3 only\"\n",
    "print \"thankyou! for visiting\"\n",
    "\n"
   ]
  }
 ],
 "metadata": {
  "kernelspec": {
   "display_name": "Python 2",
   "language": "python",
   "name": "python2"
  },
  "language_info": {
   "codemirror_mode": {
    "name": "ipython",
    "version": 2
   },
   "file_extension": ".py",
   "mimetype": "text/x-python",
   "name": "python",
   "nbconvert_exporter": "python",
   "pygments_lexer": "ipython2",
   "version": "2.7.15"
  }
 },
 "nbformat": 4,
 "nbformat_minor": 2
}
