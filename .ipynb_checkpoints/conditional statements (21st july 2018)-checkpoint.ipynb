{
 "cells": [
  {
   "cell_type": "code",
   "execution_count": 2,
   "metadata": {},
   "outputs": [
    {
     "name": "stdout",
     "output_type": "stream",
     "text": [
      "enter a value23\n",
      "enter b value45\n",
      "False\n",
      "True\n",
      "b is big\n",
      "thankyou use me again\n"
     ]
    }
   ],
   "source": [
    "a = raw_input(\"enter a value\")\n",
    "b = raw_input(\"enter b value\")\n",
    "print \"a>b\",a>b\n",
    "print \"b>a\",b>a\n",
    "if a>b:\n",
    "    print \"a is big\"\n",
    "if b>a:\n",
    "    print \"b is big\"\n",
    "print \"thankyou use me again\""
   ]
  },
  {
   "cell_type": "code",
   "execution_count": 7,
   "metadata": {},
   "outputs": [
    {
     "name": "stdout",
     "output_type": "stream",
     "text": [
      "enter your age11\n",
      "sorry! you are not eligible for voting in INDIA\n",
      "thank you!\n"
     ]
    }
   ],
   "source": [
    "#take an age from the user and check whether user is eligible do vote or not\n",
    "a = input(\"enter your age\")\n",
    "if a >= 18:\n",
    "    print \"yes, you are eligible to do vote in INDIA\"\n",
    "if a < 18:\n",
    "    print \"sorry! you are not eligible for voting in INDIA\"\n",
    "    \n",
    "print \"thank you!\"\n"
   ]
  },
  {
   "cell_type": "code",
   "execution_count": 9,
   "metadata": {},
   "outputs": [
    {
     "name": "stdout",
     "output_type": "stream",
     "text": [
      "enter your age11\n",
      "sorry! you are not eligible for voting in INDIA\n",
      "thank you!\n"
     ]
    }
   ],
   "source": [
    "#take an age from the user and check whether user is eligible do vote or not\n",
    "a = raw_input(\"enter your age\")\n",
    "if int(a) >= 18:\n",
    "    print \"yes, you are eligible to do vote in INDIA\"\n",
    "if int(a) < 18:\n",
    "    print \"sorry! you are not eligible for voting in INDIA\"\n",
    "    \n",
    "print \"thank you!\"\n"
   ]
  },
  {
   "cell_type": "markdown",
   "metadata": {},
   "source": [
    "# using if else\n",
    "\n"
   ]
  },
  {
   "cell_type": "code",
   "execution_count": 10,
   "metadata": {},
   "outputs": [
    {
     "name": "stdout",
     "output_type": "stream",
     "text": [
      "enter your age45\n",
      "yes, you are eligible to do vote in INDIA\n",
      "thank you!\n"
     ]
    }
   ],
   "source": [
    "#take an age from the user and check whether user is eligible do vote or not\n",
    "a = input(\"enter your age\")age\n",
    "if a >= 18:\n",
    "    print \"yes, you are eligible to do vote in INDIA\"\n",
    "else:\n",
    "    print \"sorry! you are not eligible for voting in INDIA\"\n",
    "    \n",
    "print \"thank you!\"\n"
   ]
  },
  {
   "cell_type": "markdown",
   "metadata": {},
   "source": [
    "## string is always greater than integer\n"
   ]
  },
  {
   "cell_type": "code",
   "execution_count": 11,
   "metadata": {},
   "outputs": [
    {
     "data": {
      "text/plain": [
       "True"
      ]
     },
     "execution_count": 11,
     "metadata": {},
     "output_type": "execute_result"
    }
   ],
   "source": [
    "\"12\" > 12222222222222222245"
   ]
  },
  {
   "cell_type": "code",
   "execution_count": 12,
   "metadata": {},
   "outputs": [],
   "source": [
    "#you are running an marriage bureau site basis on the age give that user is eligible for marriage or not"
   ]
  },
  {
   "cell_type": "code",
   "execution_count": 35,
   "metadata": {},
   "outputs": [
    {
     "name": "stdout",
     "output_type": "stream",
     "text": [
      "enter your age34\n",
      "enter your gender M/FF\n",
      "fine you are eligible for marriage!\n",
      "happy! marriage life\n"
     ]
    }
   ],
   "source": [
    "age = input(\"enter your age\")\n",
    "gender = raw_input(\"enter your gender M/F\")\n",
    "if gender == 'M' and age >= 22:\n",
    "    print(\"fine! you are eligible for marriage\")\n",
    "else:\n",
    "    if age >= 18:\n",
    "        print \"fine you are eligible for marriage!\"\n",
    "print \"happy! marriage life\""
   ]
  },
  {
   "cell_type": "code",
   "execution_count": 14,
   "metadata": {},
   "outputs": [
    {
     "name": "stdout",
     "output_type": "stream",
     "text": [
      "enter 1st no12\n",
      "enter 2nd no13\n",
      "enter 3rd no14\n",
      "c is greater of 3nos\n"
     ]
    }
   ],
   "source": [
    "# a,b,c take 3 input from user and check wheteher which  no is greater of all.\n",
    "\n",
    "a = input(\"enter 1st no\")\n",
    "b = input(\"enter 2nd no\")\n",
    "c = input(\"enter 3rd no\")\n",
    "if a>b:\n",
    "    if a>c:\n",
    "        print \"a is greater of 3nos\"\n",
    "    else:\n",
    "        print \"c is greater of 3nos\"\n",
    "else:\n",
    "    if b>c:\n",
    "        print \"b is greater of 3nos\"\n",
    "    else:\n",
    "        print \"c is greater of 3nos\"\n"
   ]
  },
  {
   "cell_type": "code",
   "execution_count": 23,
   "metadata": {},
   "outputs": [
    {
     "name": "stdout",
     "output_type": "stream",
     "text": [
      "enter 1st no23\n",
      "enter 2nd no45\n",
      "enter 3rd no67\n",
      "c is big\n",
      "thank you!\n"
     ]
    }
   ],
   "source": [
    "#without using nested if else\n",
    "#==================================================================================================\n",
    "a = raw_input(\"enter 1st no\")\n",
    "b = raw_input(\"enter 2nd no\")\n",
    "c = raw_input(\"enter 3rd no\")\n",
    "a = int(a)\n",
    "b = int(b)\n",
    "c = int(c)\n",
    "if a>b and a>c:\n",
    "    print \"a is greater\"\n",
    "\n",
    "if b>a and b>c:\n",
    "    print \"b is big\"\n",
    "\n",
    "if c>a and c>b:\n",
    "    print \"c is big\"\n",
    "print \"thank you!\"\n"
   ]
  },
  {
   "cell_type": "code",
   "execution_count": 24,
   "metadata": {},
   "outputs": [
    {
     "name": "stdout",
     "output_type": "stream",
     "text": [
      "enter 1st no11\n",
      "enter 2nd no11\n",
      "enter 3rd no11\n",
      "all three nos are equal\n",
      "thank you!\n"
     ]
    }
   ],
   "source": [
    "# using elif else\n",
    "#==================================================================================================\n",
    "a = raw_input(\"enter 1st no\")\n",
    "b = raw_input(\"enter 2nd no\")\n",
    "c = raw_input(\"enter 3rd no\")\n",
    "a = int(a)\n",
    "b = int(b)\n",
    "c = int(c)\n",
    "if a>b and a>c:\n",
    "    print \"a is greater\"\n",
    "\n",
    "elif b>a and b>c:\n",
    "    print \"b is big\"\n",
    "\n",
    "elif c>a and c>b:\n",
    "    print \"c is big\"\n",
    "else:\n",
    "    print \"all three nos are equal\"\n",
    "\n",
    "print \"thank you!\"\n"
   ]
  },
  {
   "cell_type": "code",
   "execution_count": null,
   "metadata": {},
   "outputs": [],
   "source": [
    "#question\n",
    "age = input(\"enter your age\")\n",
    "\n",
    "if "
   ]
  },
  {
   "cell_type": "code",
   "execution_count": 33,
   "metadata": {},
   "outputs": [
    {
     "name": "stdout",
     "output_type": "stream",
     "text": [
      " operating systems:\n",
      "\t1.windows\n",
      "\t2.android\n",
      "\t3.mac\n",
      "enter your option as 1/2/3:2\n",
      "go to second floor and buy android mobiles \n",
      "thankyou! for visiting\n"
     ]
    }
   ],
   "source": [
    "#using elif\n",
    "\n",
    "print \" operating systems:\\n\\t1.windows\\n\\t2.android\\n\\t3.mac\"\n",
    "option = input(\"enter your option as 1/2/3:\")\n",
    "if option == 1:\n",
    "    print \"go to first floor and buy windows laptop or mobile \"\n",
    "elif option == 2:\n",
    "    print \"go to second floor and buy android mobiles \"\n",
    "elif option == 3:\n",
    "    print \"go to third floor and buy iphones ipods or mac \"\n",
    "else:\n",
    "    print \"there is only three floors,please select 1,2,3 only\"\n",
    "print \"thankyou! for visiting\"\n",
    "\n",
    "               "
   ]
  },
  {
   "cell_type": "code",
   "execution_count": 3,
   "metadata": {},
   "outputs": [
    {
     "name": "stdout",
     "output_type": "stream",
     "text": [
      " operating systems:\n",
      "\t1.windows\n",
      "\t2.android\n",
      "\t3.mac\n",
      "enter your option as 1/2/3:-1\n",
      "there is only three floors,please select 1,2,3 only\n",
      "thankyou! for visiting\n"
     ]
    }
   ],
   "source": [
    "# using only if condition:\n",
    "print \" operating systems:\\n\\t1.windows\\n\\t2.android\\n\\t3.mac\"\n",
    "option = raw_input(\"enter your option as 1/2/3:\")\n",
    "if option == '1':\n",
    "    print \"go to first floor and buy windows laptop or mobile \"\n",
    "elif option == '2':\n",
    "    print \"go to second floor and buy android mobiles \"\n",
    "elif option == '3':\n",
    "    print \"go to third floor and buy iphones ipods or mac \"\n",
    "else:\n",
    "    print \"there is only three floors,please select 1,2,3 only\"\n",
    "print \"thankyou! for visiting\"\n",
    "\n"
   ]
  },
  {
   "cell_type": "code",
   "execution_count": null,
   "metadata": {},
   "outputs": [],
   "source": []
  }
 ],
 "metadata": {
  "kernelspec": {
   "display_name": "Python 2",
   "language": "python",
   "name": "python2"
  },
  "language_info": {
   "codemirror_mode": {
    "name": "ipython",
    "version": 2
   },
   "file_extension": ".py",
   "mimetype": "text/x-python",
   "name": "python",
   "nbconvert_exporter": "python",
   "pygments_lexer": "ipython2",
   "version": "2.7.15"
  }
 },
 "nbformat": 4,
 "nbformat_minor": 2
}
