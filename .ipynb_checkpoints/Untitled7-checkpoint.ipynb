{
 "cells": [
  {
   "cell_type": "code",
   "execution_count": null,
   "metadata": {},
   "outputs": [],
   "source": [
    "\"\"\"\n",
    "DB interaction :\n",
    "1. insert\n",
    "2.updte \n",
    "3.delete \n",
    "4.select\n",
    "\n",
    "\n",
    "enter an option:\n",
    "if user enters 1 \n",
    "                    take the below info \n",
    "                    enter id\n",
    "                    enter name\n",
    "                    enter address\n",
    "                    and insert the record to DB with status = 1\n",
    "\n",
    "\n",
    "if user enters 2\n",
    "                    enter an id to update \n",
    "                    \n",
    "                    once you get the id from the user need to get the record from the DB and show it to the user .\n",
    "                    \n",
    "===============don't show status field to user in any output\n",
    "\n",
    "\n",
    "\n",
    "\n",
    "\n",
    "\n",
    "\n",
    "\n",
    "\n",
    "\n",
    "\n",
    "\"\"\""
   ]
  },
  {
   "cell_type": "code",
   "execution_count": null,
   "metadata": {},
   "outputs": [],
   "source": []
  }
 ],
 "metadata": {
  "kernelspec": {
   "display_name": "Python 2",
   "language": "python",
   "name": "python2"
  },
  "language_info": {
   "codemirror_mode": {
    "name": "ipython",
    "version": 2
   },
   "file_extension": ".py",
   "mimetype": "text/x-python",
   "name": "python",
   "nbconvert_exporter": "python",
   "pygments_lexer": "ipython2",
   "version": "2.7.15"
  }
 },
 "nbformat": 4,
 "nbformat_minor": 2
}
