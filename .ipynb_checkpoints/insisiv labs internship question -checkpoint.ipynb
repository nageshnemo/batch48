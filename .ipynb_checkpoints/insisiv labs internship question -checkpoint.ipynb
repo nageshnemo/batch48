{
 "cells": [
  {
   "cell_type": "code",
   "execution_count": 11,
   "metadata": {},
   "outputs": [
    {
     "name": "stdout",
     "output_type": "stream",
     "text": [
      "amamapapananfedcba\n",
      "18\n"
     ]
    }
   ],
   "source": [
    "str1 = \"abcdefnanapapamama\"\n",
    "str2 = str1[::-1]\n",
    "print (str2)\n",
    " \n",
    "print (len(str1))    \n",
    "    \n",
    "for i in range(len(str1)):\n",
    "       if str1[i] == str2[i]\n"
   ]
  },
  {
   "cell_type": "code",
   "execution_count": 5,
   "metadata": {},
   "outputs": [
    {
     "name": "stdout",
     "output_type": "stream",
     "text": [
      "abbbbadsfjkhwaaawjdfsk\n",
      "5\n",
      "18\n",
      "20\n",
      "19\n",
      "17\n",
      "21\n",
      "16\n",
      "word is  ['abbbba', 'waaaw', 'k']\n",
      "word length is [6, 5, 1]\n",
      "30\n"
     ]
    }
   ],
   "source": [
    "List=[x for x in input().lower()]               #abbbbbbbbbbafdjbd\n",
    "a=len(List)               # a = 8\n",
    "word=[]\n",
    "i=0\n",
    "while i<a:        # i = 0\n",
    "    for j in range(i+1,a):\n",
    "        if List[i]==List[j]:\n",
    "            print(j)\n",
    "            break\n",
    "    pall=[]\n",
    "    if List[i]==List[j]:\n",
    "        for k in range(i,j+1):\n",
    "            pall.append(List[k])\n",
    "        x=\"\".join(pall)\n",
    "        y=\"\".join(reversed(pall))\n",
    "        if x==y:\n",
    "            i=j+1\n",
    "            word.append(x)\n",
    "        else:\n",
    "            i+=1\n",
    "    else:\n",
    "        i+=1\n",
    "print(\"word is \",word)\n",
    "word_length=[len(x) for x in word]\n",
    "print(\"word length is\",word_length)\n",
    "word_length.sort()\n",
    "print(word_length[len(word_length)-1]*word_length[len(word_length)-2])\n"
   ]
  },
  {
   "cell_type": "code",
   "execution_count": 4,
   "metadata": {},
   "outputs": [
    {
     "name": "stdout",
     "output_type": "stream",
     "text": [
      "abbbbbbbbbba\n",
      "['a', 'b', 'b', 'b', 'b', 'b', 'b', 'b', 'b', 'b', 'b', 'a']\n",
      "12\n",
      "0\n",
      "11\n",
      "x is  abbbbbbbbbba\n",
      "y is  abbbbbbbbbba\n",
      "['abbbbbbbbbba']\n"
     ]
    }
   ],
   "source": [
    "list=[x for x in input().lower()]\n",
    "print(list)\n",
    "word = []\n",
    "a = len(list)\n",
    "print(a) \n",
    "i = 0\n",
    "while i < a:\n",
    "    for j in range(i+1,a):\n",
    "        if list[i] == list[j]:\n",
    "            print(i)\n",
    "            print(j)\n",
    "            break\n",
    "            \n",
    "    pall = []\n",
    "    if list[i]==list[j]:\n",
    "        for k in range(i,j+1):\n",
    "            pall.append(list[k])\n",
    "        x=\"\".join(pall)\n",
    "        y=\"\".join(reversed(pall))\n",
    "        print(\"x is \",x)\n",
    "        print(\"y is \",y)\n",
    "        if x==y:\n",
    "            word.append(x)\n",
    "            print(word)\n",
    "            break"
   ]
  },
  {
   "cell_type": "code",
   "execution_count": null,
   "metadata": {},
   "outputs": [],
   "source": []
  }
 ],
 "metadata": {
  "kernelspec": {
   "display_name": "Python 3",
   "language": "python",
   "name": "python3"
  },
  "language_info": {
   "codemirror_mode": {
    "name": "ipython",
    "version": 3
   },
   "file_extension": ".py",
   "mimetype": "text/x-python",
   "name": "python",
   "nbconvert_exporter": "python",
   "pygments_lexer": "ipython3",
   "version": "3.7.2"
  }
 },
 "nbformat": 4,
 "nbformat_minor": 2
}
