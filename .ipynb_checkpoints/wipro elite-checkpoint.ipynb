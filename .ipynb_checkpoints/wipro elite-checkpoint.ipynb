{
 "cells": [
  {
   "cell_type": "code",
   "execution_count": 6,
   "metadata": {},
   "outputs": [
    {
     "name": "stdout",
     "output_type": "stream",
     "text": [
      "28\n"
     ]
    }
   ],
   "source": [
    "\n",
    "def perfectNumberCheck(num):\n",
    "    \n",
    "    sum = 0 \n",
    "    for i in range(1,n):\n",
    "    \n",
    "\n",
    "        if n % i == 0:\n",
    "            sum+=i\n",
    "            \n",
    "    if sum == num :\n",
    "        return 1\n",
    "    else:\n",
    "        return 0\n",
    "            \n",
    "\n",
    "perfectNumberCheck(28)"
   ]
  },
  {
   "cell_type": "code",
   "execution_count": null,
   "metadata": {},
   "outputs": [],
   "source": []
  }
 ],
 "metadata": {
  "kernelspec": {
   "display_name": "Python 2",
   "language": "python",
   "name": "python2"
  },
  "language_info": {
   "codemirror_mode": {
    "name": "ipython",
    "version": 2
   },
   "file_extension": ".py",
   "mimetype": "text/x-python",
   "name": "python",
   "nbconvert_exporter": "python",
   "pygments_lexer": "ipython2",
   "version": "2.7.15"
  }
 },
 "nbformat": 4,
 "nbformat_minor": 2
}
