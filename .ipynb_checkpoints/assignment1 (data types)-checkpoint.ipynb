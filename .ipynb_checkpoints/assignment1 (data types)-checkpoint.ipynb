{
 "cells": [
  {
   "cell_type": "markdown",
   "metadata": {},
   "source": [
    "# int data type"
   ]
  },
  {
   "cell_type": "code",
   "execution_count": 9,
   "metadata": {},
   "outputs": [
    {
     "name": "stdout",
     "output_type": "stream",
     "text": [
      "a+b is: 12\n",
      "a-b is: 8\n",
      "a*b is: 20\n",
      "a/b is: 5\n",
      "a%b is: 0\n",
      "a**b is: 100\n",
      "\n",
      "\n",
      "a+b is: True\n",
      "a>=b is: True\n",
      "a==b is: False\n",
      "a!=b is: True\n",
      "a<b is: False\n",
      "a<=b is: False\n",
      "\n",
      "\n",
      "a|b is: 10\n",
      "a&b is: 2\n",
      "a^b is: 8\n",
      "\n",
      "\n"
     ]
    }
   ],
   "source": [
    "a = 10\n",
    "b = 2\n",
    "\n",
    "#arithmetic operations\n",
    "\n",
    "print \"a+b is:\",a+b    #addition     \n",
    "print \"a-b is:\",a-b    #subtraction\n",
    "print \"a*b is:\",a*b    #multiplication\n",
    "print \"a/b is:\",a/b    #divide\n",
    "print \"a%b is:\",a%b    #modulo operator\n",
    "print \"a**b is:\",a**b   #power of\n",
    "print (\"\\n\")\n",
    "\n",
    "#boolean operation \n",
    "\n",
    "print \"a+b is:\",a>b    #greater than\n",
    "print \"a>=b is:\",a>=b   #greater than equals\n",
    "print \"a==b is:\",a==b   #equals to\n",
    "print \"a!=b is:\",a!=b   #not equal to\n",
    "print \"a<b is:\",a<b    #smaller than \n",
    "print \"a<=b is:\",a<=b   #smaller than equal to\n",
    "print (\"\\n\")\n",
    "\n",
    "#bitwise operation\n",
    "\n",
    "print \"a|b is:\",a|b   #or operation\n",
    "print \"a&b is:\",a&b   #and operation\n",
    "print \"a^b is:\",a^b   #exor operation\n",
    "print (\"\\n\")\n",
    "\n",
    "\n",
    "\n",
    "\n",
    "#assignment operator\n"
   ]
  },
  {
   "cell_type": "markdown",
   "metadata": {},
   "source": [
    "# float data type"
   ]
  },
  {
   "cell_type": "code",
   "execution_count": 10,
   "metadata": {},
   "outputs": [
    {
     "name": "stdout",
     "output_type": "stream",
     "text": [
      "a+b is: 13.06\n",
      "a-b is: 7.54\n",
      "a*b is: 28.428\n",
      "a/b is: 3.73188405797\n",
      "a%b is: 2.02\n",
      "a**b is: 624.353772515\n",
      "\n",
      "\n",
      "a+b is: True\n",
      "a>=b is: True\n",
      "a==b is: False\n",
      "a!=b is: True\n",
      "a<b is: False\n",
      "a<=b is: False\n",
      "\n",
      "\n",
      "a|b is:"
     ]
    },
    {
     "ename": "TypeError",
     "evalue": "unsupported operand type(s) for |: 'float' and 'float'",
     "output_type": "error",
     "traceback": [
      "\u001b[1;31m---------------------------------------------------------------------------\u001b[0m",
      "\u001b[1;31mTypeError\u001b[0m                                 Traceback (most recent call last)",
      "\u001b[1;32m<ipython-input-10-ccfa75d8d675>\u001b[0m in \u001b[0;36m<module>\u001b[1;34m()\u001b[0m\n\u001b[0;32m     24\u001b[0m \u001b[1;31m#bitwise operation\u001b[0m\u001b[1;33m\u001b[0m\u001b[1;33m\u001b[0m\u001b[0m\n\u001b[0;32m     25\u001b[0m \u001b[1;33m\u001b[0m\u001b[0m\n\u001b[1;32m---> 26\u001b[1;33m \u001b[1;32mprint\u001b[0m \u001b[1;34m\"a|b is:\"\u001b[0m\u001b[1;33m,\u001b[0m\u001b[0ma\u001b[0m\u001b[1;33m|\u001b[0m\u001b[0mb\u001b[0m   \u001b[1;31m#or operation\u001b[0m\u001b[1;33m\u001b[0m\u001b[0m\n\u001b[0m\u001b[0;32m     27\u001b[0m \u001b[1;32mprint\u001b[0m \u001b[1;34m\"a&b is:\"\u001b[0m\u001b[1;33m,\u001b[0m\u001b[0ma\u001b[0m\u001b[1;33m&\u001b[0m\u001b[0mb\u001b[0m   \u001b[1;31m#and operation\u001b[0m\u001b[1;33m\u001b[0m\u001b[0m\n\u001b[0;32m     28\u001b[0m \u001b[1;32mprint\u001b[0m \u001b[1;34m\"a^b is:\"\u001b[0m\u001b[1;33m,\u001b[0m\u001b[0ma\u001b[0m\u001b[1;33m^\u001b[0m\u001b[0mb\u001b[0m   \u001b[1;31m#exor operation\u001b[0m\u001b[1;33m\u001b[0m\u001b[0m\n",
      "\u001b[1;31mTypeError\u001b[0m: unsupported operand type(s) for |: 'float' and 'float'"
     ]
    }
   ],
   "source": [
    "a = 10.3\n",
    "b = 2.76\n",
    "\n",
    "#arithmetic operations\n",
    "\n",
    "print \"a+b is:\",a+b    #addition     \n",
    "print \"a-b is:\",a-b    #subtraction\n",
    "print \"a*b is:\",a*b    #multiplication\n",
    "print \"a/b is:\",a/b    #divide\n",
    "print \"a%b is:\",a%b    #modulo operator\n",
    "print \"a**b is:\",a**b   #power of\n",
    "print (\"\\n\")\n",
    "\n",
    "#boolean operation \n",
    "\n",
    "print \"a+b is:\",a>b    #greater than\n",
    "print \"a>=b is:\",a>=b   #greater than equals\n",
    "print \"a==b is:\",a==b   #equals to\n",
    "print \"a!=b is:\",a!=b   #not equal to\n",
    "print \"a<b is:\",a<b    #smaller than \n",
    "print \"a<=b is:\",a<=b   #smaller than equal to\n",
    "print (\"\\n\")\n",
    "\n",
    "#bitwise operation  === float does not support bitwise operation\n",
    "\n",
    "print \"a|b is:\",a|b   #or operation\n",
    "print \"a&b is:\",a&b   #and operation\n",
    "print \"a^b is:\",a^b   #exor operation\n",
    "print (\"\\n\")\n",
    "\n",
    "\n",
    "\n",
    "\n"
   ]
  },
  {
   "cell_type": "markdown",
   "metadata": {},
   "source": [
    "# complex data type"
   ]
  },
  {
   "cell_type": "code",
   "execution_count": 21,
   "metadata": {},
   "outputs": [
    {
     "name": "stdout",
     "output_type": "stream",
     "text": [
      " a+b is: (12+1j)\n",
      "\n",
      "\n",
      "a+b is:"
     ]
    },
    {
     "ename": "TypeError",
     "evalue": "no ordering relation is defined for complex numbers",
     "output_type": "error",
     "traceback": [
      "\u001b[1;31m---------------------------------------------------------------------------\u001b[0m",
      "\u001b[1;31mTypeError\u001b[0m                                 Traceback (most recent call last)",
      "\u001b[1;32m<ipython-input-21-343f33bf0877>\u001b[0m in \u001b[0;36m<module>\u001b[1;34m()\u001b[0m\n\u001b[0;32m     14\u001b[0m \u001b[1;31m#boolean operation\u001b[0m\u001b[1;33m\u001b[0m\u001b[1;33m\u001b[0m\u001b[0m\n\u001b[0;32m     15\u001b[0m \u001b[1;33m\u001b[0m\u001b[0m\n\u001b[1;32m---> 16\u001b[1;33m \u001b[1;32mprint\u001b[0m \u001b[1;34m\"a+b is:\"\u001b[0m\u001b[1;33m,\u001b[0m\u001b[0ma\u001b[0m\u001b[1;33m>\u001b[0m\u001b[0mb\u001b[0m    \u001b[1;31m#greater than\u001b[0m\u001b[1;33m\u001b[0m\u001b[0m\n\u001b[0m\u001b[0;32m     17\u001b[0m \u001b[1;32mprint\u001b[0m \u001b[1;34m\"a>=b is:\"\u001b[0m\u001b[1;33m,\u001b[0m\u001b[0ma\u001b[0m\u001b[1;33m>=\u001b[0m\u001b[0mb\u001b[0m   \u001b[1;31m#greater than equals\u001b[0m\u001b[1;33m\u001b[0m\u001b[0m\n\u001b[0;32m     18\u001b[0m \u001b[1;32mprint\u001b[0m \u001b[1;34m\"a==b is:\"\u001b[0m\u001b[1;33m,\u001b[0m\u001b[0ma\u001b[0m\u001b[1;33m==\u001b[0m\u001b[0mb\u001b[0m   \u001b[1;31m#equals to\u001b[0m\u001b[1;33m\u001b[0m\u001b[0m\n",
      "\u001b[1;31mTypeError\u001b[0m: no ordering relation is defined for complex numbers"
     ]
    }
   ],
   "source": [
    "a = 10+1j\n",
    "b = 2+0j\n",
    "\n",
    "#arithmetic operations\n",
    "\n",
    "print \"a+b is:\",a+b    #addition     \n",
    "#print \"a-b is:\",a-b    #subtraction\n",
    "#print \"a*b is:\",a*b    #multiplication\n",
    "#print \"a/b is:\",a/b    #divide\n",
    "#print \"a%b is:\",a%b    #modulo operator\n",
    "#print \"a**b is:\",a**b   #power of\n",
    "print (\"\\n\")\n",
    "\n",
    "#boolean operation == complex data type doesnot support boolean operation\n",
    "\n",
    "print \"a+b is:\",a>b    #greater than\n",
    "print \"a>=b is:\",a>=b   #greater than equals\n",
    "print \"a==b is:\",a==b   #equals to\n",
    "print \"a!=b is:\",a!=b   #not equal to\n",
    "print \"a<b is:\",a<b    #smaller than \n",
    "print \"a<=b is:\",a<=b   #smaller than equal to\n",
    "print (\"\\n\")\n",
    "\n",
    "#bitwise operation == bitwise operation does not support bitwwise operation\n",
    "\n",
    "print \"a|b is:\",a|b   #or operation\n",
    "print \"a&b is:\",a&b   #and operation\n",
    "print \"a^b is:\",a^b   #exor operation\n",
    "print (\"\\n\")\n",
    "\n",
    "\n",
    "\n",
    "\n"
   ]
  },
  {
   "cell_type": "code",
   "execution_count": 20,
   "metadata": {},
   "outputs": [
    {
     "name": "stdout",
     "output_type": "stream",
     "text": [
      " a+b is: nageshrajput\n",
      "\n",
      "\n",
      "a+b is: False\n",
      "a>=b is: False\n",
      "a==b is: False\n",
      "a!=b is: True\n",
      "a<b is: True\n",
      "a<=b is: True\n",
      "\n",
      "\n",
      "a|b is:"
     ]
    },
    {
     "ename": "TypeError",
     "evalue": "unsupported operand type(s) for |: 'str' and 'str'",
     "output_type": "error",
     "traceback": [
      "\u001b[1;31m---------------------------------------------------------------------------\u001b[0m",
      "\u001b[1;31mTypeError\u001b[0m                                 Traceback (most recent call last)",
      "\u001b[1;32m<ipython-input-20-4b17362ef8f7>\u001b[0m in \u001b[0;36m<module>\u001b[1;34m()\u001b[0m\n\u001b[0;32m     27\u001b[0m \u001b[1;31m#bitwise operation\u001b[0m\u001b[1;33m\u001b[0m\u001b[1;33m\u001b[0m\u001b[0m\n\u001b[0;32m     28\u001b[0m \u001b[1;33m\u001b[0m\u001b[0m\n\u001b[1;32m---> 29\u001b[1;33m \u001b[1;32mprint\u001b[0m \u001b[1;34m\"a|b is:\"\u001b[0m\u001b[1;33m,\u001b[0m\u001b[0ma\u001b[0m\u001b[1;33m|\u001b[0m\u001b[0mb\u001b[0m   \u001b[1;31m#or operation\u001b[0m\u001b[1;33m\u001b[0m\u001b[0m\n\u001b[0m\u001b[0;32m     30\u001b[0m \u001b[1;32mprint\u001b[0m \u001b[1;34m\"a&b is:\"\u001b[0m\u001b[1;33m,\u001b[0m\u001b[0ma\u001b[0m\u001b[1;33m&\u001b[0m\u001b[0mb\u001b[0m   \u001b[1;31m#and operation\u001b[0m\u001b[1;33m\u001b[0m\u001b[0m\n\u001b[0;32m     31\u001b[0m \u001b[1;32mprint\u001b[0m \u001b[1;34m\"a^b is:\"\u001b[0m\u001b[1;33m,\u001b[0m\u001b[0ma\u001b[0m\u001b[1;33m^\u001b[0m\u001b[0mb\u001b[0m   \u001b[1;31m#exor operation\u001b[0m\u001b[1;33m\u001b[0m\u001b[0m\n",
      "\u001b[1;31mTypeError\u001b[0m: unsupported operand type(s) for |: 'str' and 'str'"
     ]
    }
   ],
   "source": [
    "##string data type-----------------------------------------------------------------------------\n",
    "#---------------------------------------------------------------------------------------------------------\n",
    "\n",
    "a = \"nagesh\"\n",
    "b = \"rajput\"\n",
    "\n",
    "#arithmetic operations===string only supports addition which is basically called as concatenation\n",
    "\n",
    "print \"a+b is:\",a+b    #addition     \n",
    "#print \"a-b is:\",a-b    #subtraction\n",
    "#print \"a*b is:\",a*b    #multiplication\n",
    "#print \"a/b is:\",a/b    #divide\n",
    "#print \"a%b is:\",a%b    #modulo operator\n",
    "#print \"a**b is:\",a**b   #power of\n",
    "print (\"\\n\")\n",
    "\n",
    "#boolean operation == string supports boolean operation\n",
    "\n",
    "print \"a+b is:\",a>b    #greater than\n",
    "print \"a>=b is:\",a>=b   #greater than equals\n",
    "print \"a==b is:\",a==b   #equals to\n",
    "print \"a!=b is:\",a!=b   #not equal to\n",
    "print \"a<b is:\",a<b    #smaller than \n",
    "print \"a<=b is:\",a<=b   #smaller than equal to\n",
    "print (\"\\n\")\n",
    "\n",
    "#bitwise operation\n",
    "\n",
    "print \"a|b is:\",a|b   #or operation\n",
    "print \"a&b is:\",a&b   #and operation\n",
    "print \"a^b is:\",a^b   #exor operation\n",
    "print (\"\\n\")\n",
    "\n",
    "\n",
    "\n",
    "\n"
   ]
  },
  {
   "cell_type": "code",
   "execution_count": 22,
   "metadata": {},
   "outputs": [
    {
     "name": "stdout",
     "output_type": "stream",
     "text": [
      " a+b is: [10, 76.65, 'rajput', 2, 67.0, 'nagesh']\n",
      "\n",
      "\n",
      "a+b is: True\n",
      "a>=b is: True\n",
      "a==b is: False\n",
      "a!=b is: True\n",
      "a<b is: False\n",
      "a<=b is: False\n",
      "\n",
      "\n",
      "a|b is:"
     ]
    },
    {
     "ename": "TypeError",
     "evalue": "unsupported operand type(s) for |: 'list' and 'list'",
     "output_type": "error",
     "traceback": [
      "\u001b[1;31m---------------------------------------------------------------------------\u001b[0m",
      "\u001b[1;31mTypeError\u001b[0m                                 Traceback (most recent call last)",
      "\u001b[1;32m<ipython-input-22-79661e7b70c6>\u001b[0m in \u001b[0;36m<module>\u001b[1;34m()\u001b[0m\n\u001b[0;32m     26\u001b[0m \u001b[1;31m#bitwise operation\u001b[0m\u001b[1;33m\u001b[0m\u001b[1;33m\u001b[0m\u001b[0m\n\u001b[0;32m     27\u001b[0m \u001b[1;33m\u001b[0m\u001b[0m\n\u001b[1;32m---> 28\u001b[1;33m \u001b[1;32mprint\u001b[0m \u001b[1;34m\"a|b is:\"\u001b[0m\u001b[1;33m,\u001b[0m\u001b[0ma\u001b[0m\u001b[1;33m|\u001b[0m\u001b[0mb\u001b[0m   \u001b[1;31m#or operation\u001b[0m\u001b[1;33m\u001b[0m\u001b[0m\n\u001b[0m\u001b[0;32m     29\u001b[0m \u001b[1;32mprint\u001b[0m \u001b[1;34m\"a&b is:\"\u001b[0m\u001b[1;33m,\u001b[0m\u001b[0ma\u001b[0m\u001b[1;33m&\u001b[0m\u001b[0mb\u001b[0m   \u001b[1;31m#and operation\u001b[0m\u001b[1;33m\u001b[0m\u001b[0m\n\u001b[0;32m     30\u001b[0m \u001b[1;32mprint\u001b[0m \u001b[1;34m\"a^b is:\"\u001b[0m\u001b[1;33m,\u001b[0m\u001b[0ma\u001b[0m\u001b[1;33m^\u001b[0m\u001b[0mb\u001b[0m   \u001b[1;31m#exor operation\u001b[0m\u001b[1;33m\u001b[0m\u001b[0m\n",
      "\u001b[1;31mTypeError\u001b[0m: unsupported operand type(s) for |: 'list' and 'list'"
     ]
    }
   ],
   "source": [
    "##list data type------------------------------------------------------------------------------------------\n",
    "#==========================================================================================================\n",
    "a = [10,34.02,\"nagesh\"]\n",
    "b = [2,65.7878,\"rajput\"]\n",
    "\n",
    "#arithmetic operations======list only support addition that is concatenation operation\n",
    "\n",
    "print \"a+b is:\",a+b    #addition     \n",
    "#print \"a-b is:\",a-b    #subtraction\n",
    "#print \"a*b is:\",a*b    #multiplication\n",
    "#print \"a/b is:\",a/b    #divide\n",
    "#print \"a%b is:\",a%b    #modulo operator\n",
    "#print \"a**b is:\",a**b   #power of\n",
    "print (\"\\n\")\n",
    "\n",
    "#boolean operation =======list supports boolean operation\n",
    "\n",
    "print \"a+b is:\",a>b    #greater than\n",
    "print \"a>=b is:\",a>=b   #greater than equals\n",
    "print \"a==b is:\",a==b   #equals to\n",
    "print \"a!=b is:\",a!=b   #not equal to\n",
    "print \"a<b is:\",a<b    #smaller than \n",
    "print \"a<=b is:\",a<=b   #smaller than equal to\n",
    "print (\"\\n\")\n",
    "\n",
    "#bitwise operation =====list doesnot support bitwise operation\n",
    "\n",
    "print \"a|b is:\",a|b   #or operation\n",
    "print \"a&b is:\",a&b   #and operation\n",
    "print \"a^b is:\",a^b   #exor operation\n",
    "print (\"\\n\")\n",
    "\n",
    "\n",
    "\n",
    "\n"
   ]
  },
  {
   "cell_type": "markdown",
   "metadata": {},
   "source": [
    "# tuples data type"
   ]
  },
  {
   "cell_type": "code",
   "execution_count": 24,
   "metadata": {},
   "outputs": [
    {
     "name": "stdout",
     "output_type": "stream",
     "text": [
      " a+b is: (10.8, 76, 77, 34, 67, 77.87)\n",
      "\n",
      "\n",
      "a+b is: False\n",
      "a>=b is: False\n",
      "a==b is: False\n",
      "a!=b is: True\n",
      "a<b is: True\n",
      "a<=b is: True\n",
      "\n",
      "\n",
      "a|b is:"
     ]
    },
    {
     "ename": "TypeError",
     "evalue": "unsupported operand type(s) for |: 'tuple' and 'tuple'",
     "output_type": "error",
     "traceback": [
      "\u001b[1;31m---------------------------------------------------------------------------\u001b[0m",
      "\u001b[1;31mTypeError\u001b[0m                                 Traceback (most recent call last)",
      "\u001b[1;32m<ipython-input-24-a039def8a973>\u001b[0m in \u001b[0;36m<module>\u001b[1;34m()\u001b[0m\n\u001b[0;32m     24\u001b[0m \u001b[1;31m#bitwise operation === tuples does not support bitwise operation\u001b[0m\u001b[1;33m\u001b[0m\u001b[1;33m\u001b[0m\u001b[0m\n\u001b[0;32m     25\u001b[0m \u001b[1;33m\u001b[0m\u001b[0m\n\u001b[1;32m---> 26\u001b[1;33m \u001b[1;32mprint\u001b[0m \u001b[1;34m\"a|b is:\"\u001b[0m\u001b[1;33m,\u001b[0m\u001b[0ma\u001b[0m\u001b[1;33m|\u001b[0m\u001b[0mb\u001b[0m   \u001b[1;31m#or operation\u001b[0m\u001b[1;33m\u001b[0m\u001b[0m\n\u001b[0m\u001b[0;32m     27\u001b[0m \u001b[1;32mprint\u001b[0m \u001b[1;34m\"a&b is:\"\u001b[0m\u001b[1;33m,\u001b[0m\u001b[0ma\u001b[0m\u001b[1;33m&\u001b[0m\u001b[0mb\u001b[0m   \u001b[1;31m#and operation\u001b[0m\u001b[1;33m\u001b[0m\u001b[0m\n\u001b[0;32m     28\u001b[0m \u001b[1;32mprint\u001b[0m \u001b[1;34m\"a^b is:\"\u001b[0m\u001b[1;33m,\u001b[0m\u001b[0ma\u001b[0m\u001b[1;33m^\u001b[0m\u001b[0mb\u001b[0m   \u001b[1;31m#exor operation\u001b[0m\u001b[1;33m\u001b[0m\u001b[0m\n",
      "\u001b[1;31mTypeError\u001b[0m: unsupported operand type(s) for |: 'tuple' and 'tuple'"
     ]
    }
   ],
   "source": [
    "a = (10.8,76,77)\n",
    "b = (34,67,77.87)\n",
    "\n",
    "#arithmetic operations=====tuples only support addition that is concatenation\n",
    "\n",
    "print \"a+b is:\",a+b    #addition    \n",
    "#print \"a-b is:\",a-b    #subtraction\n",
    "#print \"a*b is:\",a*b    #multiplication\n",
    "#print \"a/b is:\",a/b    #divide\n",
    "#print \"a%b is:\",a%b    #modulo operator\n",
    "#print \"a**b is:\",a**b   #power of\n",
    "print (\"\\n\")\n",
    "\n",
    "#boolean operation tuples supports boolean operation\n",
    "\n",
    "print \"a>b is:\",a>b    #greater than\n",
    "print \"a>=b is:\",a>=b   #greater than equals\n",
    "print \"a==b is:\",a==b   #equals to\n",
    "print \"a!=b is:\",a!=b   #not equal to\n",
    "print \"a<b is:\",a<b    #smaller than \n",
    "print \"a<=b is:\",a<=b   #smaller than equal to\n",
    "print (\"\\n\")\n",
    "\n",
    "#bitwise operation === tuples does not support bitwise operation\n",
    "\n",
    "print \"a|b is:\",a|b   #or operation\n",
    "print \"a&b is:\",a&b   #and operation\n",
    "print \"a^b is:\",a^b   #exor operation\n",
    "print (\"\\n\")\n",
    "\n",
    "\n",
    "\n",
    "\n"
   ]
  },
  {
   "cell_type": "markdown",
   "metadata": {},
   "source": [
    "# sets data type"
   ]
  },
  {
   "cell_type": "code",
   "execution_count": 25,
   "metadata": {},
   "outputs": [
    {
     "name": "stdout",
     "output_type": "stream",
     "text": [
      " a+b is:"
     ]
    },
    {
     "ename": "TypeError",
     "evalue": "unsupported operand type(s) for +: 'set' and 'set'",
     "output_type": "error",
     "traceback": [
      "\u001b[1;31m---------------------------------------------------------------------------\u001b[0m",
      "\u001b[1;31mTypeError\u001b[0m                                 Traceback (most recent call last)",
      "\u001b[1;32m<ipython-input-25-ff7ca93b2325>\u001b[0m in \u001b[0;36m<module>\u001b[1;34m()\u001b[0m\n\u001b[0;32m      3\u001b[0m \u001b[1;31m#arithmetic operations=====sets only support addition that is concatenation\u001b[0m\u001b[1;33m\u001b[0m\u001b[1;33m\u001b[0m\u001b[0m\n\u001b[0;32m      4\u001b[0m \u001b[1;33m\u001b[0m\u001b[0m\n\u001b[1;32m----> 5\u001b[1;33m \u001b[1;32mprint\u001b[0m \u001b[1;34m\"a+b is:\"\u001b[0m\u001b[1;33m,\u001b[0m\u001b[0ma\u001b[0m\u001b[1;33m+\u001b[0m\u001b[0mb\u001b[0m    \u001b[1;31m#addition\u001b[0m\u001b[1;33m\u001b[0m\u001b[0m\n\u001b[0m\u001b[0;32m      6\u001b[0m \u001b[1;31m#print \"a-b is:\",a-b    #subtraction\u001b[0m\u001b[1;33m\u001b[0m\u001b[1;33m\u001b[0m\u001b[0m\n\u001b[0;32m      7\u001b[0m \u001b[1;31m#print \"a*b is:\",a*b    #multiplication\u001b[0m\u001b[1;33m\u001b[0m\u001b[1;33m\u001b[0m\u001b[0m\n",
      "\u001b[1;31mTypeError\u001b[0m: unsupported operand type(s) for +: 'set' and 'set'"
     ]
    }
   ],
   "source": [
    "a={1,2,3,4,5,6,7}\n",
    "b={8,9,76,5,6}\n",
    "#arithmetic operations=====sets only support addition that is concatenation\n",
    "\n",
    "print \"a+b is:\",a+b    #addition    \n",
    "#print \"a-b is:\",a-b    #subtraction\n",
    "#print \"a*b is:\",a*b    #multiplication\n",
    "#print \"a/b is:\",a/b    #divide\n",
    "#print \"a%b is:\",a%b    #modulo operator\n",
    "#print \"a**b is:\",a**b   #power of\n",
    "print (\"\\n\")\n",
    "\n",
    "#boolean operation==== sets supports boolean operation\n",
    "\n",
    "print \"a>b is:\",a>b    #greater than\n",
    "print \"a>=b is:\",a>=b   #greater than equals\n",
    "print \"a==b is:\",a==b   #equals to\n",
    "print \"a!=b is:\",a!=b   #not equal to\n",
    "print \"a<b is:\",a<b    #smaller than \n",
    "print \"a<=b is:\",a<=b   #smaller than equal to\n",
    "print (\"\\n\")\n",
    "\n",
    "#bitwise operation === sets does not support bitwise operation\n",
    "\n",
    "print \"a|b is:\",a|b   #or operation\n",
    "print \"a&b is:\",a&b   #and operation\n",
    "print \"a^b is:\",a^b   #exor operation\n",
    "print (\"\\n\")\n",
    "\n",
    "\n",
    "\n"
   ]
  },
  {
   "cell_type": "code",
   "execution_count": null,
   "metadata": {},
   "outputs": [],
   "source": []
  }
 ],
 "metadata": {
  "kernelspec": {
   "display_name": "Python 2",
   "language": "python",
   "name": "python2"
  },
  "language_info": {
   "codemirror_mode": {
    "name": "ipython",
    "version": 2
   },
   "file_extension": ".py",
   "mimetype": "text/x-python",
   "name": "python",
   "nbconvert_exporter": "python",
   "pygments_lexer": "ipython2",
   "version": "2.7.15"
  }
 },
 "nbformat": 4,
 "nbformat_minor": 2
}
