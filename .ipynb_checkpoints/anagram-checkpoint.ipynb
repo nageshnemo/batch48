{
 "cells": [
  {
   "attachments": {},
   "cell_type": "markdown",
   "metadata": {},
   "source": [
    "#  Anagram number = Two words are said to be anagrams of each other if the letters of one word can be rearranged to form the other word.\n"
   ]
  },
  {
   "cell_type": "code",
   "execution_count": 8,
   "metadata": {},
   "outputs": [
    {
     "name": "stdout",
     "output_type": "stream",
     "text": [
      "['a', 'b', 'c', 'd']\n",
      "dcba\n"
     ]
    }
   ],
   "source": [
    "s = \"dcba\"\n",
    "print sorted(s)\n"
   ]
  },
  {
   "cell_type": "code",
   "execution_count": 25,
   "metadata": {},
   "outputs": [
    {
     "name": "stdout",
     "output_type": "stream",
     "text": [
      "enter 1st word :kaanknak\n",
      "enter 2nd  word :sbaibibscb\n",
      "no is not a anagram that is word1: kaanknak and word2: sbaibibscb\n"
     ]
    }
   ],
   "source": [
    "word1 = raw_input(\"enter 1st word :\")\n",
    "word2 = raw_input(\"enter 2nd  word :\")\n",
    "\n",
    "order = len(word1)\n",
    "word3 = sorted(word1)\n",
    "word4 = sorted(word2)\n",
    "\n",
    "\n",
    "for i in range(0,order,1):\n",
    "    if word3[i] == word4[i]:\n",
    "        continue\n",
    "    else:\n",
    "        print \"no is not a anagram that is word1: {} and word2: {}\".format(word1,word2)\n",
    "        break\n",
    "else:\n",
    "    print\"no is anagram that is word1: {} and word2: {}\".format(word1,word2)"
   ]
  },
  {
   "cell_type": "code",
   "execution_count": 11,
   "metadata": {},
   "outputs": [],
   "source": [
    "order = len(\"naga\")"
   ]
  },
  {
   "cell_type": "code",
   "execution_count": 12,
   "metadata": {},
   "outputs": [
    {
     "data": {
      "text/plain": [
       "4"
      ]
     },
     "execution_count": 12,
     "metadata": {},
     "output_type": "execute_result"
    }
   ],
   "source": [
    "order\n"
   ]
  },
  {
   "cell_type": "code",
   "execution_count": 18,
   "metadata": {},
   "outputs": [
    {
     "name": "stdout",
     "output_type": "stream",
     "text": [
      "0\n",
      "1\n",
      "2\n",
      "3\n",
      "4\n",
      "5\n",
      "6\n",
      "7\n",
      "8\n",
      "9\n"
     ]
    }
   ],
   "source": [
    "for i in range(0,10):\n",
    "    print i"
   ]
  },
  {
   "cell_type": "code",
   "execution_count": 27,
   "metadata": {},
   "outputs": [
    {
     "name": "stdout",
     "output_type": "stream",
     "text": [
      "['Hello', 'this', 'Is', 'an', 'Example', 'With', 'cased', 'letters']\n",
      "The sorted words are:\n",
      "Example\n",
      "Hello\n",
      "Is\n",
      "With\n",
      "an\n",
      "cased\n",
      "letters\n",
      "this\n"
     ]
    }
   ],
   "source": [
    "#programs to sort words in alphabetical order\n",
    "\n",
    "my_str = \"Hello this Is an Example With cased letters\"\n",
    "\n",
    "\n",
    "\n",
    "words = my_str.split()\n",
    "\n",
    "print words\n",
    "words.sort()\n",
    "\n",
    "\n",
    "\n",
    "print(\"The sorted words are:\")\n",
    "for word in words:\n",
    "    print(word)"
   ]
  },
  {
   "cell_type": "code",
   "execution_count": null,
   "metadata": {},
   "outputs": [],
   "source": []
  }
 ],
 "metadata": {
  "kernelspec": {
   "display_name": "Python 2",
   "language": "python",
   "name": "python2"
  },
  "language_info": {
   "codemirror_mode": {
    "name": "ipython",
    "version": 2
   },
   "file_extension": ".py",
   "mimetype": "text/x-python",
   "name": "python",
   "nbconvert_exporter": "python",
   "pygments_lexer": "ipython2",
   "version": "2.7.15"
  }
 },
 "nbformat": 4,
 "nbformat_minor": 2
}
