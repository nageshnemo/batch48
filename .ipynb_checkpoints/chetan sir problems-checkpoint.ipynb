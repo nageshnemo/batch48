{
 "cells": [
  {
   "cell_type": "code",
   "execution_count": 28,
   "metadata": {},
   "outputs": [
    {
     "name": "stdout",
     "output_type": "stream",
     "text": [
      "after iteration [2, 34, 22, 4, 45, 454, 6787]\n",
      "after iteration [2, 22, 4, 34, 45, 454, 6787]\n",
      "after iteration [2, 4, 22, 34, 45, 454, 6787]\n",
      "after iteration [2, 4, 22, 34, 45, 454, 6787]\n",
      "after iteration [2, 4, 22, 34, 45, 454, 6787]\n",
      "after iteration [2, 4, 22, 34, 45, 454, 6787]\n",
      "\n",
      "\n",
      "\n",
      "the sorted values are [2, 4, 22, 34, 45, 454, 6787]\n"
     ]
    }
   ],
   "source": [
    "# bubble sort\n",
    "\n",
    "def Bubble_Sort(list2):\n",
    "    \n",
    "    for j in range(len(list2)-1):\n",
    "        for i in range(len(list2)-1):\n",
    "        \n",
    "            if list2[i] > list2[i+1]:\n",
    "                temp = list2[i]\n",
    "                list2[i] = list2[i+1]\n",
    "                list2[i+1] = temp \n",
    "        print \"after iteration\",list2\n",
    "                \n",
    "    print \"\\n\\n\\nthe sorted values are\",list2\n",
    "        \n",
    "list1 = [2,45,34,22,4,6787,454]        \n",
    "Bubble_Sort(list1)"
   ]
  },
  {
   "cell_type": "code",
   "execution_count": 40,
   "metadata": {},
   "outputs": [
    {
     "name": "stdout",
     "output_type": "stream",
     "text": [
      "enter values to sort separated by comma12,34,5677,899,67545,45\n",
      "['12', '34', '5677', '899', '67545', '45']\n",
      "12\n",
      "34\n",
      "5677\n",
      "899\n",
      "67545\n",
      "45\n",
      "[12, 34, 5677, 899, 67545, 45]\n",
      "[12, 34, 45, 899, 5677, 67545]\n"
     ]
    }
   ],
   "source": [
    "# bubble sort\n",
    "\n",
    "def Bubble_Sort(list2):\n",
    "    \n",
    "    for j in range(len(list2)-1):\n",
    "        for i in range(len(list2)-1):\n",
    "        \n",
    "            if list2[i] > list2[i+1]:\n",
    "                temp = list2[i]\n",
    "                list2[i] = list2[i+1]\n",
    "                list2[i+1] = temp  \n",
    "                \n",
    "                \n",
    "    print list2\n",
    "                \n",
    "    \n",
    "        \n",
    "\n",
    "list1 = (raw_input(\"enter values to sort separated by comma\").split(\",\"))\n",
    "print list1\n",
    "\n",
    "list3 = []\n",
    "for k in list1:\n",
    "    print k\n",
    "    list3.append(int(k))\n",
    "\n",
    "\n",
    "print list3\n",
    "\n",
    "Bubble_Sort(list3)"
   ]
  },
  {
   "cell_type": "code",
   "execution_count": 30,
   "metadata": {},
   "outputs": [
    {
     "name": "stdout",
     "output_type": "stream",
     "text": [
      "[12, 34, 56, 67, 565, 767887]\n"
     ]
    }
   ],
   "source": [
    "# bubble sort\n",
    "\n",
    "def Bubble_Sort(list2):\n",
    "    \n",
    "    for j in range(len(list2)-1):\n",
    "        for i in range(len(list2)-1):\n",
    "        \n",
    "            if list2[i] > list2[i+1]:\n",
    "                temp = list2[i]\n",
    "                list2[i] = list2[i+1]\n",
    "                list2[i+1] = temp  \n",
    "                \n",
    "                \n",
    "    print list2\n",
    "                \n",
    "    \n",
    "        \n",
    "\n",
    "list1=[12,34,56,565,67,767887]\n",
    "\n",
    "\n",
    "\n",
    "Bubble_Sort(list1)"
   ]
  },
  {
   "cell_type": "markdown",
   "metadata": {},
   "source": [
    "# palindrome string\n"
   ]
  },
  {
   "cell_type": "code",
   "execution_count": 17,
   "metadata": {},
   "outputs": [
    {
     "name": "stdout",
     "output_type": "stream",
     "text": [
      "enter any string to check whether given string is palindrome or not!waaaaaaaaaaaaaw\n",
      "the given input is palindrome: waaaaaaaaaaaaaw\n"
     ]
    }
   ],
   "source": [
    "str1 = raw_input(\"enter any string to check whether given string is palindrome or not!\")\n",
    "str2 = str1[::-1]\n",
    "\n",
    "\n",
    "if str1 == str2:\n",
    "    print \"the given input is palindrome:\",str1\n",
    "    \n",
    "else:\n",
    "    print \"sorry string is not a palindrome\""
   ]
  },
  {
   "cell_type": "code",
   "execution_count": null,
   "metadata": {},
   "outputs": [],
   "source": []
  }
 ],
 "metadata": {
  "kernelspec": {
   "display_name": "Python 2",
   "language": "python",
   "name": "python2"
  },
  "language_info": {
   "codemirror_mode": {
    "name": "ipython",
    "version": 2
   },
   "file_extension": ".py",
   "mimetype": "text/x-python",
   "name": "python",
   "nbconvert_exporter": "python",
   "pygments_lexer": "ipython2",
   "version": "2.7.15"
  }
 },
 "nbformat": 4,
 "nbformat_minor": 2
}
