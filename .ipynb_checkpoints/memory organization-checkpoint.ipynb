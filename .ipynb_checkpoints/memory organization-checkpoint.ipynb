{
 "cells": [
  {
   "cell_type": "code",
   "execution_count": 1,
   "metadata": {},
   "outputs": [
    {
     "name": "stdout",
     "output_type": "stream",
     "text": [
      "1000 109284400\n",
      "2000 109284520\n",
      "1000 109284400\n"
     ]
    }
   ],
   "source": [
    "a = 1000\n",
    "b = 2000\n",
    "c = a\n",
    "print a , id(a)\n",
    "print b , id(b)\n",
    "print c , id(c)\n",
    "\n",
    "\n",
    "\n"
   ]
  },
  {
   "cell_type": "markdown",
   "metadata": {},
   "source": [
    "# if we reassign another value to a then the reference of a is lost and now a is reference to new object with some new id and rc "
   ]
  },
  {
   "cell_type": "code",
   "execution_count": 2,
   "metadata": {},
   "outputs": [
    {
     "data": {
      "text/plain": [
       "4000"
      ]
     },
     "execution_count": 2,
     "metadata": {},
     "output_type": "execute_result"
    }
   ],
   "source": [
    "a = 4000\n",
    "a"
   ]
  },
  {
   "cell_type": "code",
   "execution_count": 3,
   "metadata": {},
   "outputs": [],
   "source": [
    "c = 5000 \n",
    "d = 1000"
   ]
  },
  {
   "cell_type": "code",
   "execution_count": 4,
   "metadata": {},
   "outputs": [
    {
     "name": "stdout",
     "output_type": "stream",
     "text": [
      "5000\n",
      "1000\n"
     ]
    }
   ],
   "source": [
    "print c\n",
    "print d"
   ]
  },
  {
   "cell_type": "raw",
   "metadata": {},
   "source": [
    "#-------garbage collector removes an unused objects from memory---------------"
   ]
  },
  {
   "cell_type": "code",
   "execution_count": 5,
   "metadata": {},
   "outputs": [],
   "source": [
    "s1 = \"python program\"\n",
    "s2 = \"c program\"\n",
    "s3 = s1\n",
    "s4 = \"python program\""
   ]
  },
  {
   "cell_type": "code",
   "execution_count": 6,
   "metadata": {},
   "outputs": [
    {
     "data": {
      "text/plain": [
       "'python program'"
      ]
     },
     "execution_count": 6,
     "metadata": {},
     "output_type": "execute_result"
    }
   ],
   "source": [
    "s1"
   ]
  },
  {
   "cell_type": "code",
   "execution_count": 7,
   "metadata": {},
   "outputs": [
    {
     "data": {
      "text/plain": [
       "'c program'"
      ]
     },
     "execution_count": 7,
     "metadata": {},
     "output_type": "execute_result"
    }
   ],
   "source": [
    "s2"
   ]
  },
  {
   "cell_type": "code",
   "execution_count": 8,
   "metadata": {},
   "outputs": [
    {
     "data": {
      "text/plain": [
       "'python program'"
      ]
     },
     "execution_count": 8,
     "metadata": {},
     "output_type": "execute_result"
    }
   ],
   "source": [
    "s3\n"
   ]
  },
  {
   "cell_type": "code",
   "execution_count": 9,
   "metadata": {},
   "outputs": [
    {
     "data": {
      "text/plain": [
       "'python program'"
      ]
     },
     "execution_count": 9,
     "metadata": {},
     "output_type": "execute_result"
    }
   ],
   "source": [
    "s4"
   ]
  },
  {
   "cell_type": "markdown",
   "metadata": {},
   "source": [
    "# stack have references \n",
    "\n",
    "\n",
    "#heap stores objects"
   ]
  },
  {
   "cell_type": "code",
   "execution_count": 10,
   "metadata": {},
   "outputs": [
    {
     "name": "stdout",
     "output_type": "stream",
     "text": [
      "p 84681592\n",
      "p 84681592\n",
      "p 84681592\n",
      "p 84681592\n"
     ]
    }
   ],
   "source": [
    "print s1[0],id(s1[0])\n",
    "print s2[2],id(s2[2])\n",
    "print s4[0],id(s4[0])\n",
    "print s3[0],id(s3[0])"
   ]
  },
  {
   "cell_type": "markdown",
   "metadata": {},
   "source": [
    "# they all have the same references because they are refering to the same"
   ]
  },
  {
   "cell_type": "code",
   "execution_count": 1,
   "metadata": {},
   "outputs": [
    {
     "ename": "NameError",
     "evalue": "name 'true' is not defined",
     "output_type": "error",
     "traceback": [
      "\u001b[1;31m---------------------------------------------------------------------------\u001b[0m",
      "\u001b[1;31mNameError\u001b[0m                                 Traceback (most recent call last)",
      "\u001b[1;32m<ipython-input-1-c6db1c5587d8>\u001b[0m in \u001b[0;36m<module>\u001b[1;34m()\u001b[0m\n\u001b[0;32m      3\u001b[0m \u001b[0mc\u001b[0m \u001b[1;33m=\u001b[0m \u001b[1;36m1\u001b[0m\u001b[1;33m+\u001b[0m\u001b[1;36m2j\u001b[0m\u001b[1;33m\u001b[0m\u001b[0m\n\u001b[0;32m      4\u001b[0m \u001b[0md\u001b[0m \u001b[1;33m=\u001b[0m \u001b[1;34m\"str1\"\u001b[0m\u001b[1;33m\u001b[0m\u001b[0m\n\u001b[1;32m----> 5\u001b[1;33m \u001b[0me\u001b[0m \u001b[1;33m=\u001b[0m \u001b[0mtrue\u001b[0m\u001b[1;33m\u001b[0m\u001b[0m\n\u001b[0m\u001b[0;32m      6\u001b[0m \u001b[0mf\u001b[0m \u001b[1;33m=\u001b[0m \u001b[0mfalse\u001b[0m\u001b[1;33m\u001b[0m\u001b[0m\n\u001b[0;32m      7\u001b[0m \u001b[0mg\u001b[0m \u001b[1;33m=\u001b[0m \u001b[0mnone\u001b[0m\u001b[1;33m\u001b[0m\u001b[0m\n",
      "\u001b[1;31mNameError\u001b[0m: name 'true' is not defined"
     ]
    }
   ],
   "source": [
    "    a = 1000\n",
    "    b = 12.34\n",
    "    c = 1+2j\n",
    "    d = \"str1\"\n",
    "    e = True \n",
    "    f = false\n",
    "    g = none\n",
    "    \n",
    "    h = [1,2,3,\"str1\",12.34,1+2j,[10,20,30]]\n",
    "    h = [1,2,3,\"str1\",12.34,1+2j,[10,20,30]]\n",
    "    j = {1,2,3,4,5,6,7,}\n",
    "   # k = {1:2,\"name\":\"anil\",1:2:3:4,(1,2,3,4):\"tuple\"}\n",
    "    import nummpy as np\n",
    "    import pandas as pd\n",
    "    ar1 = np.array([1,2,3,4,5,6])\n",
    "    df = pd.DataFrame([{\"id\":1,\"name\":\"anil\"},{\"id\":2,\"name\":\"rajesh\"}])\n",
    "    \n",
    "    \n",
    "    print (a),type(a)\n",
    "    print (b),type(b)\n",
    "    print (c),type(c)\n",
    "    print (d),type(d)\n",
    "    print (e),type(e)\n",
    "    print (f),type(f)\n",
    "    print (g),type(g)\n",
    "    print (h),type(h)\n",
    "    print (i),type(i)\n",
    "    print (j),type(j)\n",
    "  #  print (k),type(k)\n",
    "    print ar1,type(ar1)\n",
    "    print df,type(df)\n",
    "    \n",
    "    "
   ]
  },
  {
   "cell_type": "code",
   "execution_count": 17,
   "metadata": {},
   "outputs": [
    {
     "name": "stdout",
     "output_type": "stream",
     "text": [
      "a= 10 <type 'int'>\n",
      "b= 8 <type 'int'>\n",
      "c= 16 <type 'int'>\n",
      "d= 8 <type 'int'>\n",
      "e= 21 <type 'int'>\n"
     ]
    }
   ],
   "source": [
    "a = 10\n",
    "b = 010    # 0 is the preix of octal;\n",
    "c = 0x10    # x is the hexadecima\n",
    "d = 0o10     # o is the octal\n",
    "e = 0b010101  # b is binary\n",
    "print \"a=\",a ,type(a)\n",
    "print\"b=\", b ,type(b)\n",
    "print \"c=\",c ,type(c)\n",
    "print\"d=\", d ,type(d)\n",
    "print \"e=\",e,type(e)"
   ]
  },
  {
   "cell_type": "code",
   "execution_count": null,
   "metadata": {},
   "outputs": [],
   "source": [
    "a = 1000\n",
    "b = 2000\n",
    "\n",
    "# arithmetic operation\n",
    "print a+b\n",
    "print a-b\n",
    "print a*b\n",
    "print a/b\n"
   ]
  }
 ],
 "metadata": {
  "kernelspec": {
   "display_name": "Python 2",
   "language": "python",
   "name": "python2"
  },
  "language_info": {
   "codemirror_mode": {
    "name": "ipython",
    "version": 2
   },
   "file_extension": ".py",
   "mimetype": "text/x-python",
   "name": "python",
   "nbconvert_exporter": "python",
   "pygments_lexer": "ipython2",
   "version": "2.7.15"
  }
 },
 "nbformat": 4,
 "nbformat_minor": 2
}
