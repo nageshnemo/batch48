{
 "cells": [
  {
   "cell_type": "code",
   "execution_count": 7,
   "metadata": {},
   "outputs": [
    {
     "name": "stdout",
     "output_type": "stream",
     "text": [
      "3\n",
      "4\n",
      "6\n",
      "8\n"
     ]
    }
   ],
   "source": [
    "\n",
    "def prime_generator(n):\n",
    "    counter = 0\n",
    "    start = 1\n",
    "        \n",
    "    while start >=1:\n",
    "        if counter == 4:\n",
    "            break\n",
    "        count = 0\n",
    "        for y in range(1,start+1):      \n",
    "    \n",
    "            if start % y == 0:\n",
    "                count+=1\n",
    "                                  \n",
    "        if count ==2:\n",
    "            start +=1\n",
    "            counter +=1\n",
    "            yield start\n",
    "        else:\n",
    "            start +=1\n",
    "            \n",
    "            \n",
    "            \n",
    "            \n",
    "res = prime_generator(4)\n",
    "p1 = res.next()\n",
    "print p1\n",
    "p2 = res.next()\n",
    "print p2\n",
    "p3 = res.next()\n",
    "print p3\n",
    "p4 = res.next()\n",
    "print p4\n"
   ]
  },
  {
   "cell_type": "code",
   "execution_count": null,
   "metadata": {},
   "outputs": [],
   "source": []
  }
 ],
 "metadata": {
  "kernelspec": {
   "display_name": "Python 2",
   "language": "python",
   "name": "python2"
  },
  "language_info": {
   "codemirror_mode": {
    "name": "ipython",
    "version": 2
   },
   "file_extension": ".py",
   "mimetype": "text/x-python",
   "name": "python",
   "nbconvert_exporter": "python",
   "pygments_lexer": "ipython2",
   "version": "2.7.15"
  }
 },
 "nbformat": 4,
 "nbformat_minor": 2
}
