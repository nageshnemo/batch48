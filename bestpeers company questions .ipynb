{
 "cells": [
  {
   "cell_type": "code",
   "execution_count": null,
   "metadata": {},
   "outputs": [],
   "source": []
  },
  {
   "cell_type": "code",
   "execution_count": 30,
   "metadata": {},
   "outputs": [
    {
     "name": "stdout",
     "output_type": "stream",
     "text": [
      "12,23,14,1,32\n",
      "['12', '23', '14', '1', '32']\n",
      "82\n"
     ]
    }
   ],
   "source": [
    "#q1==write a program to input string of comma separated numbers, process that string and find sum of all the nos \n",
    "# dont use any predefined fn for converting string to no(integer)\n",
    "\n",
    "str1 = raw_input()\n",
    "str2 = str1.split(\",\")\n",
    "\n",
    "print str2\n",
    "l = []\n",
    "for i in str2:\n",
    "    temp = 0\n",
    "    for j in i:\n",
    "        temp = temp * 10 + ord(j) - ord(\"0\")\n",
    "    l.append(temp)\n",
    "sum = 0\n",
    "for i in l:\n",
    "    sum += i\n",
    "    \n",
    "    \n",
    "print sum"
   ]
  },
  {
   "cell_type": "code",
   "execution_count": 8,
   "metadata": {},
   "outputs": [
    {
     "name": "stdout",
     "output_type": "stream",
     "text": [
      "example input =12345\n",
      "transformed string  ['one', 'two', 'three', 'four', 'five']\n",
      "sorted string  ['five', 'four', 'one', 'three', 'two']\n",
      "output =  54132\n"
     ]
    }
   ],
   "source": [
    "#q2== write a program to input no, process that no and convert each digit to respective word. arrange every word to\n",
    "# ascending order and then generate new no according to ascending word of digits.you can use predefined fn only for\n",
    "# comparison of string\n",
    "\"\"\"\n",
    "Example input = 12345\n",
    "transformed string = \"one\",\"two\",\"three\",\"four\",\"five\"\n",
    "sorted strings= \"five\",\"four\",\"one\",\"three\",\"two\"\n",
    "output = 54321\n",
    "\n",
    "\n",
    "\n",
    "\"\"\"\n",
    "\n",
    "dict1 = {\"1\":\"one\",\"2\":\"two\",\"3\":\"three\",\"4\":\"four\",\"5\":\"five\"}\n",
    "dict2 = {\"one\":\"1\",\"two\":\"2\",\"three\":\"3\",\"four\":\"4\",\"five\":\"5\"}\n",
    "example_input = raw_input(\"example input =\")\n",
    "l = []\n",
    "for i in example_input:\n",
    "     l.append(dict1[i])\n",
    "print \"transformed string \",l\n",
    "\n",
    "print \"sorted string \",sorted(dict1.values())\n",
    "\n",
    "sorted1 = sorted(dict1.values())\n",
    "\n",
    "s=\"\"\n",
    "for i in sorted1:\n",
    "    s=s+dict2[i]\n",
    "\n",
    "    \n",
    "print \"output = \",s\n",
    "\n",
    "    \n",
    "\n",
    "   \n"
   ]
  },
  {
   "cell_type": "code",
   "execution_count": 41,
   "metadata": {},
   "outputs": [
    {
     "name": "stdout",
     "output_type": "stream",
     "text": [
      "*    * \n",
      " *  *  \n",
      "  *   \n",
      " *  *  \n",
      "*    * \n"
     ]
    }
   ],
   "source": [
    "\"\"\"\n",
    "*   *\n",
    " * * \n",
    "  *\n",
    " * *\n",
    "*   *\n",
    "\n",
    "according to user input print this pattern in diagonal form\n",
    "\"\"\"\n",
    "\n",
    "for i in range(1,6):\n",
    "    for j in range(1,6):\n",
    "        if j == i or j == 6-i:\n",
    "            print \"*\",\n",
    "        else:\n",
    "            print \"\",\n",
    "            \n",
    "    print \"\"\n"
   ]
  },
  {
   "cell_type": "code",
   "execution_count": 72,
   "metadata": {},
   "outputs": [
    {
     "name": "stdout",
     "output_type": "stream",
     "text": [
      "4\n",
      "[123]\n",
      "[123, 195, 234, 345]\n"
     ]
    }
   ],
   "source": [
    "l = [345,123,195,234]\n",
    "print \"example input\",l\n",
    "print len(l)\n",
    "mid = len(l)/2-1\n",
    "l1=[]\n",
    "l1.append(l[mid])\n",
    "print l1\n",
    "\n",
    "for i in l:\n",
    "    if i == l[mid]:\n",
    "        pass\n",
    "    else:\n",
    "        l1.append(i)\n",
    "        \n",
    "        \n",
    "print sorted(l1)\n",
    "    "
   ]
  },
  {
   "cell_type": "code",
   "execution_count": null,
   "metadata": {},
   "outputs": [],
   "source": [
    "# i am not able to get the answer of 3rd quest and output too\n",
    "# so what i have to do is i want to increase my skill "
   ]
  }
 ],
 "metadata": {
  "kernelspec": {
   "display_name": "Python 2",
   "language": "python",
   "name": "python2"
  },
  "language_info": {
   "codemirror_mode": {
    "name": "ipython",
    "version": 2
   },
   "file_extension": ".py",
   "mimetype": "text/x-python",
   "name": "python",
   "nbconvert_exporter": "python",
   "pygments_lexer": "ipython2",
   "version": "2.7.15"
  }
 },
 "nbformat": 4,
 "nbformat_minor": 2
}
