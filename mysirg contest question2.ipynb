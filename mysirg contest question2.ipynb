{
 "cells": [
  {
   "cell_type": "code",
   "execution_count": null,
   "metadata": {},
   "outputs": [],
   "source": [
    "\n",
    "def prime_generator(n):\n",
    "    start = 1\n",
    "    counter=0\n",
    "    while start >=1:\n",
    "        count = 0\n",
    "        for y in range(1,start+1):      \n",
    "    \n",
    "            if start % y == 0:\n",
    "                count+=1\n",
    "        if counter == n:\n",
    "            break\n",
    "            if count ==2:\n",
    "                counter+=1\n",
    "                yield start\n",
    "                start+=1\n",
    "            else:\n",
    "                start +=1\n",
    "\n",
    "\n",
    "                \n",
    "res = prime_generator(4)\n",
    "print res.next()\n",
    "res1 = prime_generator(4)\n",
    "print res1.next()\n",
    "res2 = prime_generator(4)\n",
    "print res2.next()\n",
    "\n",
    "            \n",
    "            \n",
    "            \n"
   ]
  },
  {
   "cell_type": "code",
   "execution_count": 1,
   "metadata": {},
   "outputs": [
    {
     "name": "stdout",
     "output_type": "stream",
     "text": [
      "211\n",
      "27\n",
      "212\n"
     ]
    }
   ],
   "source": [
    "def fun():\n",
    "    yield 211\n",
    "    yield 27\n",
    "    yield 212\n",
    "    yield 234\n",
    "    yield 34\n",
    "    \n",
    "    \n",
    "res = fun()\n",
    "print res.next()\n",
    "res1 = fun()\n",
    "print res.next()\n",
    "res1 = fun()\n",
    "print res.next()"
   ]
  },
  {
   "cell_type": "code",
   "execution_count": 30,
   "metadata": {},
   "outputs": [
    {
     "name": "stdout",
     "output_type": "stream",
     "text": [
      "2\n",
      "3\n",
      "5\n",
      "7\n"
     ]
    }
   ],
   "source": [
    "def prime_generator(n):\n",
    "    start = 0\n",
    "    counter = 0\n",
    "    while start >=0:\n",
    "        start+=1\n",
    "        count = 0\n",
    "        for y in range(1,start+1):      \n",
    "    \n",
    "            if start % y == 0:\n",
    "                count+=1\n",
    "                \n",
    "        if counter==n:\n",
    "            break\n",
    "            \n",
    "        if count ==2:\n",
    "            counter+=1\n",
    "            yield start\n",
    "    \n",
    "    \n",
    "    \n",
    "res = prime_generator(4)\n",
    "\n",
    "for i in res:\n",
    "    print i"
   ]
  },
  {
   "cell_type": "code",
   "execution_count": 22,
   "metadata": {},
   "outputs": [
    {
     "name": "stdout",
     "output_type": "stream",
     "text": [
      "0\n",
      "0\n"
     ]
    }
   ],
   "source": [
    "def hey():\n",
    "    for i in range(4):\n",
    "        yield i\n",
    "        \n",
    "        \n",
    "res = hey()\n",
    "print res.next()\n",
    "res1 = hey()\n",
    "print res1.next()"
   ]
  },
  {
   "cell_type": "code",
   "execution_count": null,
   "metadata": {},
   "outputs": [],
   "source": []
  }
 ],
 "metadata": {
  "kernelspec": {
   "display_name": "Python 2",
   "language": "python",
   "name": "python2"
  },
  "language_info": {
   "codemirror_mode": {
    "name": "ipython",
    "version": 2
   },
   "file_extension": ".py",
   "mimetype": "text/x-python",
   "name": "python",
   "nbconvert_exporter": "python",
   "pygments_lexer": "ipython2",
   "version": "2.7.15"
  }
 },
 "nbformat": 4,
 "nbformat_minor": 2
}
