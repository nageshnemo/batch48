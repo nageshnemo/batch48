{
 "cells": [
  {
   "cell_type": "code",
   "execution_count": 1,
   "metadata": {},
   "outputs": [
    {
     "name": "stdout",
     "output_type": "stream",
     "text": [
      "enter a value:12\n",
      "enter b value:34\n",
      "12 <type 'str'>\n",
      "34 <type 'int'>\n"
     ]
    }
   ],
   "source": [
    "a = raw_input(\"enter a value:\")\n",
    "b = input(\"enter b value:\")\n",
    "print a ,type(a)\n",
    "print b ,type(b)\n"
   ]
  },
  {
   "cell_type": "code",
   "execution_count": 3,
   "metadata": {},
   "outputs": [
    {
     "name": "stdout",
     "output_type": "stream",
     "text": [
      "enter a value:\"nagesh\"\n",
      "enter b value:\"rajan\"\n",
      "\"nagesh\" <type 'str'>\n",
      "rajan <type 'str'>\n"
     ]
    }
   ],
   "source": [
    "a = raw_input(\"enter a value:\")\n",
    "b = input(\"enter b value:\")\n",
    "print a ,type(a)\n",
    "print b ,type(b)\n"
   ]
  },
  {
   "cell_type": "code",
   "execution_count": 4,
   "metadata": {},
   "outputs": [
    {
     "name": "stdout",
     "output_type": "stream",
     "text": [
      "enter a value:23.45\n",
      "enter b value:34.6780\n",
      "23.45 <type 'str'>\n",
      "34.678 <type 'float'>\n"
     ]
    }
   ],
   "source": [
    "a = raw_input(\"enter a value:\")\n",
    "b = input(\"enter b value:\")\n",
    "print a ,type(a)\n",
    "print b ,type(b)\n"
   ]
  },
  {
   "cell_type": "code",
   "execution_count": 5,
   "metadata": {},
   "outputs": [
    {
     "name": "stdout",
     "output_type": "stream",
     "text": [
      "enter a value:[2,4,56]\n",
      "enter b value:[89,87,76,777777]\n",
      "[2,4,56] <type 'str'>\n",
      "[89, 87, 76, 777777] <type 'list'>\n"
     ]
    }
   ],
   "source": [
    "a = raw_input(\"enter a value:\")\n",
    "b = input(\"enter b value:\")\n",
    "print a ,type(a)\n",
    "print b ,type(b)\n"
   ]
  },
  {
   "cell_type": "code",
   "execution_count": 8,
   "metadata": {},
   "outputs": [
    {
     "name": "stdout",
     "output_type": "stream",
     "text": [
      "enter a value:{'k1':298}\n",
      "enter b value:{'k1':298}\n",
      "{'k1':298} <type 'str'>\n",
      "{'k1': 298} <type 'dict'>\n"
     ]
    }
   ],
   "source": [
    "a = raw_input(\"enter a value:\")\n",
    "b = input(\"enter b value:\")\n",
    "print a ,type(a)\n",
    "print b ,type(b)\n"
   ]
  },
  {
   "cell_type": "markdown",
   "metadata": {},
   "source": [
    "# raw_input () function returns only string type what we will give to him but the input() function returns the data type of what we will give"
   ]
  },
  {
   "cell_type": "markdown",
   "metadata": {},
   "source": [
    "## In python 3.7 we don't have raw_input() but we have input() function  which returns only string type instead of what we will giving input to that function "
   ]
  },
  {
   "cell_type": "code",
   "execution_count": 9,
   "metadata": {},
   "outputs": [
    {
     "name": "stdout",
     "output_type": "stream",
     "text": [
      "enter a value23\n",
      "23\n"
     ]
    },
    {
     "data": {
      "text/plain": [
       "int"
      ]
     },
     "execution_count": 9,
     "metadata": {},
     "output_type": "execute_result"
    }
   ],
   "source": [
    "a = input(\"enter a value\")\n",
    "print a\n"
   ]
  },
  {
   "cell_type": "code",
   "execution_count": null,
   "metadata": {},
   "outputs": [],
   "source": []
  }
 ],
 "metadata": {
  "kernelspec": {
   "display_name": "Python 2",
   "language": "python",
   "name": "python2"
  },
  "language_info": {
   "codemirror_mode": {
    "name": "ipython",
    "version": 2
   },
   "file_extension": ".py",
   "mimetype": "text/x-python",
   "name": "python",
   "nbconvert_exporter": "python",
   "pygments_lexer": "ipython2",
   "version": "2.7.15"
  }
 },
 "nbformat": 4,
 "nbformat_minor": 2
}
